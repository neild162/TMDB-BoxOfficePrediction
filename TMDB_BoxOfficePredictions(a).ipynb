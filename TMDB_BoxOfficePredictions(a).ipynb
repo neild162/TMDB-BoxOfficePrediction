{
  "nbformat": 4,
  "nbformat_minor": 0,
  "metadata": {
    "colab": {
      "name": "TMDB-BoxOfficePredictions(a).ipynb",
      "provenance": [],
      "collapsed_sections": []
    },
    "kernelspec": {
      "name": "python3",
      "display_name": "Python 3"
    },
    "language_info": {
      "name": "python"
    }
  },
  "cells": [
    {
      "cell_type": "code",
      "metadata": {
        "id": "eyEYqfPu3BwB"
      },
      "source": [
        "import numpy as np\n",
        "import matplotlib.pyplot as plt\n",
        "import pandas as pd\n",
        "import seaborn as sns"
      ],
      "execution_count": null,
      "outputs": []
    },
    {
      "cell_type": "code",
      "metadata": {
        "id": "weEkV5JC4E06"
      },
      "source": [
        "import csv\n",
        "trainset=pd.read_csv('train.csv')\n",
        "testset=pd.read_csv('test.csv')\n"
      ],
      "execution_count": null,
      "outputs": []
    },
    {
      "cell_type": "code",
      "metadata": {
        "colab": {
          "base_uri": "https://localhost:8080/",
          "height": 618
        },
        "id": "lsEmGyoM6M_5",
        "outputId": "51682735-5d1f-416f-b389-f5abac64aa66"
      },
      "source": [
        "trainset.head()"
      ],
      "execution_count": null,
      "outputs": [
        {
          "output_type": "execute_result",
          "data": {
            "text/html": [
              "<div>\n",
              "<style scoped>\n",
              "    .dataframe tbody tr th:only-of-type {\n",
              "        vertical-align: middle;\n",
              "    }\n",
              "\n",
              "    .dataframe tbody tr th {\n",
              "        vertical-align: top;\n",
              "    }\n",
              "\n",
              "    .dataframe thead th {\n",
              "        text-align: right;\n",
              "    }\n",
              "</style>\n",
              "<table border=\"1\" class=\"dataframe\">\n",
              "  <thead>\n",
              "    <tr style=\"text-align: right;\">\n",
              "      <th></th>\n",
              "      <th>id</th>\n",
              "      <th>belongs_to_collection</th>\n",
              "      <th>budget</th>\n",
              "      <th>genres</th>\n",
              "      <th>homepage</th>\n",
              "      <th>imdb_id</th>\n",
              "      <th>original_language</th>\n",
              "      <th>original_title</th>\n",
              "      <th>overview</th>\n",
              "      <th>popularity</th>\n",
              "      <th>poster_path</th>\n",
              "      <th>production_companies</th>\n",
              "      <th>production_countries</th>\n",
              "      <th>release_date</th>\n",
              "      <th>runtime</th>\n",
              "      <th>spoken_languages</th>\n",
              "      <th>status</th>\n",
              "      <th>tagline</th>\n",
              "      <th>title</th>\n",
              "      <th>Keywords</th>\n",
              "      <th>cast</th>\n",
              "      <th>crew</th>\n",
              "      <th>revenue</th>\n",
              "    </tr>\n",
              "  </thead>\n",
              "  <tbody>\n",
              "    <tr>\n",
              "      <th>0</th>\n",
              "      <td>1</td>\n",
              "      <td>[{'id': 313576, 'name': 'Hot Tub Time Machine ...</td>\n",
              "      <td>14000000</td>\n",
              "      <td>[{'id': 35, 'name': 'Comedy'}]</td>\n",
              "      <td>NaN</td>\n",
              "      <td>tt2637294</td>\n",
              "      <td>en</td>\n",
              "      <td>Hot Tub Time Machine 2</td>\n",
              "      <td>When Lou, who has become the \"father of the In...</td>\n",
              "      <td>6.575393</td>\n",
              "      <td>/tQtWuwvMf0hCc2QR2tkolwl7c3c.jpg</td>\n",
              "      <td>[{'name': 'Paramount Pictures', 'id': 4}, {'na...</td>\n",
              "      <td>[{'iso_3166_1': 'US', 'name': 'United States o...</td>\n",
              "      <td>2/20/15</td>\n",
              "      <td>93.0</td>\n",
              "      <td>[{'iso_639_1': 'en', 'name': 'English'}]</td>\n",
              "      <td>Released</td>\n",
              "      <td>The Laws of Space and Time are About to be Vio...</td>\n",
              "      <td>Hot Tub Time Machine 2</td>\n",
              "      <td>[{'id': 4379, 'name': 'time travel'}, {'id': 9...</td>\n",
              "      <td>[{'cast_id': 4, 'character': 'Lou', 'credit_id...</td>\n",
              "      <td>[{'credit_id': '59ac067c92514107af02c8c8', 'de...</td>\n",
              "      <td>12314651</td>\n",
              "    </tr>\n",
              "    <tr>\n",
              "      <th>1</th>\n",
              "      <td>2</td>\n",
              "      <td>[{'id': 107674, 'name': 'The Princess Diaries ...</td>\n",
              "      <td>40000000</td>\n",
              "      <td>[{'id': 35, 'name': 'Comedy'}, {'id': 18, 'nam...</td>\n",
              "      <td>NaN</td>\n",
              "      <td>tt0368933</td>\n",
              "      <td>en</td>\n",
              "      <td>The Princess Diaries 2: Royal Engagement</td>\n",
              "      <td>Mia Thermopolis is now a college graduate and ...</td>\n",
              "      <td>8.248895</td>\n",
              "      <td>/w9Z7A0GHEhIp7etpj0vyKOeU1Wx.jpg</td>\n",
              "      <td>[{'name': 'Walt Disney Pictures', 'id': 2}]</td>\n",
              "      <td>[{'iso_3166_1': 'US', 'name': 'United States o...</td>\n",
              "      <td>8/6/04</td>\n",
              "      <td>113.0</td>\n",
              "      <td>[{'iso_639_1': 'en', 'name': 'English'}]</td>\n",
              "      <td>Released</td>\n",
              "      <td>It can take a lifetime to find true love; she'...</td>\n",
              "      <td>The Princess Diaries 2: Royal Engagement</td>\n",
              "      <td>[{'id': 2505, 'name': 'coronation'}, {'id': 42...</td>\n",
              "      <td>[{'cast_id': 1, 'character': 'Mia Thermopolis'...</td>\n",
              "      <td>[{'credit_id': '52fe43fe9251416c7502563d', 'de...</td>\n",
              "      <td>95149435</td>\n",
              "    </tr>\n",
              "    <tr>\n",
              "      <th>2</th>\n",
              "      <td>3</td>\n",
              "      <td>NaN</td>\n",
              "      <td>3300000</td>\n",
              "      <td>[{'id': 18, 'name': 'Drama'}]</td>\n",
              "      <td>http://sonyclassics.com/whiplash/</td>\n",
              "      <td>tt2582802</td>\n",
              "      <td>en</td>\n",
              "      <td>Whiplash</td>\n",
              "      <td>Under the direction of a ruthless instructor, ...</td>\n",
              "      <td>64.299990</td>\n",
              "      <td>/lIv1QinFqz4dlp5U4lQ6HaiskOZ.jpg</td>\n",
              "      <td>[{'name': 'Bold Films', 'id': 2266}, {'name': ...</td>\n",
              "      <td>[{'iso_3166_1': 'US', 'name': 'United States o...</td>\n",
              "      <td>10/10/14</td>\n",
              "      <td>105.0</td>\n",
              "      <td>[{'iso_639_1': 'en', 'name': 'English'}]</td>\n",
              "      <td>Released</td>\n",
              "      <td>The road to greatness can take you to the edge.</td>\n",
              "      <td>Whiplash</td>\n",
              "      <td>[{'id': 1416, 'name': 'jazz'}, {'id': 1523, 'n...</td>\n",
              "      <td>[{'cast_id': 5, 'character': 'Andrew Neimann',...</td>\n",
              "      <td>[{'credit_id': '54d5356ec3a3683ba0000039', 'de...</td>\n",
              "      <td>13092000</td>\n",
              "    </tr>\n",
              "    <tr>\n",
              "      <th>3</th>\n",
              "      <td>4</td>\n",
              "      <td>NaN</td>\n",
              "      <td>1200000</td>\n",
              "      <td>[{'id': 53, 'name': 'Thriller'}, {'id': 18, 'n...</td>\n",
              "      <td>http://kahaanithefilm.com/</td>\n",
              "      <td>tt1821480</td>\n",
              "      <td>hi</td>\n",
              "      <td>Kahaani</td>\n",
              "      <td>Vidya Bagchi (Vidya Balan) arrives in Kolkata ...</td>\n",
              "      <td>3.174936</td>\n",
              "      <td>/aTXRaPrWSinhcmCrcfJK17urp3F.jpg</td>\n",
              "      <td>NaN</td>\n",
              "      <td>[{'iso_3166_1': 'IN', 'name': 'India'}]</td>\n",
              "      <td>3/9/12</td>\n",
              "      <td>122.0</td>\n",
              "      <td>[{'iso_639_1': 'en', 'name': 'English'}, {'iso...</td>\n",
              "      <td>Released</td>\n",
              "      <td>NaN</td>\n",
              "      <td>Kahaani</td>\n",
              "      <td>[{'id': 10092, 'name': 'mystery'}, {'id': 1054...</td>\n",
              "      <td>[{'cast_id': 1, 'character': 'Vidya Bagchi', '...</td>\n",
              "      <td>[{'credit_id': '52fe48779251416c9108d6eb', 'de...</td>\n",
              "      <td>16000000</td>\n",
              "    </tr>\n",
              "    <tr>\n",
              "      <th>4</th>\n",
              "      <td>5</td>\n",
              "      <td>NaN</td>\n",
              "      <td>0</td>\n",
              "      <td>[{'id': 28, 'name': 'Action'}, {'id': 53, 'nam...</td>\n",
              "      <td>NaN</td>\n",
              "      <td>tt1380152</td>\n",
              "      <td>ko</td>\n",
              "      <td>마린보이</td>\n",
              "      <td>Marine Boy is the story of a former national s...</td>\n",
              "      <td>1.148070</td>\n",
              "      <td>/m22s7zvkVFDU9ir56PiiqIEWFdT.jpg</td>\n",
              "      <td>NaN</td>\n",
              "      <td>[{'iso_3166_1': 'KR', 'name': 'South Korea'}]</td>\n",
              "      <td>2/5/09</td>\n",
              "      <td>118.0</td>\n",
              "      <td>[{'iso_639_1': 'ko', 'name': '한국어/조선말'}]</td>\n",
              "      <td>Released</td>\n",
              "      <td>NaN</td>\n",
              "      <td>Marine Boy</td>\n",
              "      <td>NaN</td>\n",
              "      <td>[{'cast_id': 3, 'character': 'Chun-soo', 'cred...</td>\n",
              "      <td>[{'credit_id': '52fe464b9251416c75073b43', 'de...</td>\n",
              "      <td>3923970</td>\n",
              "    </tr>\n",
              "  </tbody>\n",
              "</table>\n",
              "</div>"
            ],
            "text/plain": [
              "   id  ...   revenue\n",
              "0   1  ...  12314651\n",
              "1   2  ...  95149435\n",
              "2   3  ...  13092000\n",
              "3   4  ...  16000000\n",
              "4   5  ...   3923970\n",
              "\n",
              "[5 rows x 23 columns]"
            ]
          },
          "metadata": {
            "tags": []
          },
          "execution_count": 3
        }
      ]
    },
    {
      "cell_type": "code",
      "metadata": {
        "colab": {
          "base_uri": "https://localhost:8080/"
        },
        "id": "gsBiiVit6S1e",
        "outputId": "7ba78529-fec9-428c-eeb2-3e239369338e"
      },
      "source": [
        "trainset.shape"
      ],
      "execution_count": null,
      "outputs": [
        {
          "output_type": "execute_result",
          "data": {
            "text/plain": [
              "(3000, 23)"
            ]
          },
          "metadata": {
            "tags": []
          },
          "execution_count": 4
        }
      ]
    },
    {
      "cell_type": "code",
      "metadata": {
        "colab": {
          "base_uri": "https://localhost:8080/"
        },
        "id": "8EJIm_eK6YwE",
        "outputId": "411405c4-19dc-42e5-ef2b-9da470c148ea"
      },
      "source": [
        "testset.shape"
      ],
      "execution_count": null,
      "outputs": [
        {
          "output_type": "execute_result",
          "data": {
            "text/plain": [
              "(4398, 22)"
            ]
          },
          "metadata": {
            "tags": []
          },
          "execution_count": 5
        }
      ]
    },
    {
      "cell_type": "markdown",
      "metadata": {
        "id": "q6XuSQbo6dga"
      },
      "source": [
        "Removing id,overview,poster_path,tagline,imdb_id columns"
      ]
    },
    {
      "cell_type": "code",
      "metadata": {
        "id": "24_Y5lvA7a-p"
      },
      "source": [
        "trainset.drop(['id','overview','poster_path','tagline','imdb_id'], axis = 1,inplace=True)\n",
        "testset.drop(['id','overview','poster_path','tagline','imdb_id'], axis = 1,inplace=True)"
      ],
      "execution_count": null,
      "outputs": []
    },
    {
      "cell_type": "code",
      "metadata": {
        "colab": {
          "base_uri": "https://localhost:8080/",
          "height": 517
        },
        "id": "EmvqdB1Z70ku",
        "outputId": "8a423c69-e02a-4d8f-8e86-94c9a86c542a"
      },
      "source": [
        "trainset.head()"
      ],
      "execution_count": null,
      "outputs": [
        {
          "output_type": "execute_result",
          "data": {
            "text/html": [
              "<div>\n",
              "<style scoped>\n",
              "    .dataframe tbody tr th:only-of-type {\n",
              "        vertical-align: middle;\n",
              "    }\n",
              "\n",
              "    .dataframe tbody tr th {\n",
              "        vertical-align: top;\n",
              "    }\n",
              "\n",
              "    .dataframe thead th {\n",
              "        text-align: right;\n",
              "    }\n",
              "</style>\n",
              "<table border=\"1\" class=\"dataframe\">\n",
              "  <thead>\n",
              "    <tr style=\"text-align: right;\">\n",
              "      <th></th>\n",
              "      <th>belongs_to_collection</th>\n",
              "      <th>budget</th>\n",
              "      <th>genres</th>\n",
              "      <th>homepage</th>\n",
              "      <th>original_language</th>\n",
              "      <th>original_title</th>\n",
              "      <th>popularity</th>\n",
              "      <th>production_companies</th>\n",
              "      <th>production_countries</th>\n",
              "      <th>release_date</th>\n",
              "      <th>runtime</th>\n",
              "      <th>spoken_languages</th>\n",
              "      <th>status</th>\n",
              "      <th>title</th>\n",
              "      <th>Keywords</th>\n",
              "      <th>cast</th>\n",
              "      <th>crew</th>\n",
              "      <th>revenue</th>\n",
              "    </tr>\n",
              "  </thead>\n",
              "  <tbody>\n",
              "    <tr>\n",
              "      <th>0</th>\n",
              "      <td>[{'id': 313576, 'name': 'Hot Tub Time Machine ...</td>\n",
              "      <td>14000000</td>\n",
              "      <td>[{'id': 35, 'name': 'Comedy'}]</td>\n",
              "      <td>NaN</td>\n",
              "      <td>en</td>\n",
              "      <td>Hot Tub Time Machine 2</td>\n",
              "      <td>6.575393</td>\n",
              "      <td>[{'name': 'Paramount Pictures', 'id': 4}, {'na...</td>\n",
              "      <td>[{'iso_3166_1': 'US', 'name': 'United States o...</td>\n",
              "      <td>2/20/15</td>\n",
              "      <td>93.0</td>\n",
              "      <td>[{'iso_639_1': 'en', 'name': 'English'}]</td>\n",
              "      <td>Released</td>\n",
              "      <td>Hot Tub Time Machine 2</td>\n",
              "      <td>[{'id': 4379, 'name': 'time travel'}, {'id': 9...</td>\n",
              "      <td>[{'cast_id': 4, 'character': 'Lou', 'credit_id...</td>\n",
              "      <td>[{'credit_id': '59ac067c92514107af02c8c8', 'de...</td>\n",
              "      <td>12314651</td>\n",
              "    </tr>\n",
              "    <tr>\n",
              "      <th>1</th>\n",
              "      <td>[{'id': 107674, 'name': 'The Princess Diaries ...</td>\n",
              "      <td>40000000</td>\n",
              "      <td>[{'id': 35, 'name': 'Comedy'}, {'id': 18, 'nam...</td>\n",
              "      <td>NaN</td>\n",
              "      <td>en</td>\n",
              "      <td>The Princess Diaries 2: Royal Engagement</td>\n",
              "      <td>8.248895</td>\n",
              "      <td>[{'name': 'Walt Disney Pictures', 'id': 2}]</td>\n",
              "      <td>[{'iso_3166_1': 'US', 'name': 'United States o...</td>\n",
              "      <td>8/6/04</td>\n",
              "      <td>113.0</td>\n",
              "      <td>[{'iso_639_1': 'en', 'name': 'English'}]</td>\n",
              "      <td>Released</td>\n",
              "      <td>The Princess Diaries 2: Royal Engagement</td>\n",
              "      <td>[{'id': 2505, 'name': 'coronation'}, {'id': 42...</td>\n",
              "      <td>[{'cast_id': 1, 'character': 'Mia Thermopolis'...</td>\n",
              "      <td>[{'credit_id': '52fe43fe9251416c7502563d', 'de...</td>\n",
              "      <td>95149435</td>\n",
              "    </tr>\n",
              "    <tr>\n",
              "      <th>2</th>\n",
              "      <td>NaN</td>\n",
              "      <td>3300000</td>\n",
              "      <td>[{'id': 18, 'name': 'Drama'}]</td>\n",
              "      <td>http://sonyclassics.com/whiplash/</td>\n",
              "      <td>en</td>\n",
              "      <td>Whiplash</td>\n",
              "      <td>64.299990</td>\n",
              "      <td>[{'name': 'Bold Films', 'id': 2266}, {'name': ...</td>\n",
              "      <td>[{'iso_3166_1': 'US', 'name': 'United States o...</td>\n",
              "      <td>10/10/14</td>\n",
              "      <td>105.0</td>\n",
              "      <td>[{'iso_639_1': 'en', 'name': 'English'}]</td>\n",
              "      <td>Released</td>\n",
              "      <td>Whiplash</td>\n",
              "      <td>[{'id': 1416, 'name': 'jazz'}, {'id': 1523, 'n...</td>\n",
              "      <td>[{'cast_id': 5, 'character': 'Andrew Neimann',...</td>\n",
              "      <td>[{'credit_id': '54d5356ec3a3683ba0000039', 'de...</td>\n",
              "      <td>13092000</td>\n",
              "    </tr>\n",
              "    <tr>\n",
              "      <th>3</th>\n",
              "      <td>NaN</td>\n",
              "      <td>1200000</td>\n",
              "      <td>[{'id': 53, 'name': 'Thriller'}, {'id': 18, 'n...</td>\n",
              "      <td>http://kahaanithefilm.com/</td>\n",
              "      <td>hi</td>\n",
              "      <td>Kahaani</td>\n",
              "      <td>3.174936</td>\n",
              "      <td>NaN</td>\n",
              "      <td>[{'iso_3166_1': 'IN', 'name': 'India'}]</td>\n",
              "      <td>3/9/12</td>\n",
              "      <td>122.0</td>\n",
              "      <td>[{'iso_639_1': 'en', 'name': 'English'}, {'iso...</td>\n",
              "      <td>Released</td>\n",
              "      <td>Kahaani</td>\n",
              "      <td>[{'id': 10092, 'name': 'mystery'}, {'id': 1054...</td>\n",
              "      <td>[{'cast_id': 1, 'character': 'Vidya Bagchi', '...</td>\n",
              "      <td>[{'credit_id': '52fe48779251416c9108d6eb', 'de...</td>\n",
              "      <td>16000000</td>\n",
              "    </tr>\n",
              "    <tr>\n",
              "      <th>4</th>\n",
              "      <td>NaN</td>\n",
              "      <td>0</td>\n",
              "      <td>[{'id': 28, 'name': 'Action'}, {'id': 53, 'nam...</td>\n",
              "      <td>NaN</td>\n",
              "      <td>ko</td>\n",
              "      <td>마린보이</td>\n",
              "      <td>1.148070</td>\n",
              "      <td>NaN</td>\n",
              "      <td>[{'iso_3166_1': 'KR', 'name': 'South Korea'}]</td>\n",
              "      <td>2/5/09</td>\n",
              "      <td>118.0</td>\n",
              "      <td>[{'iso_639_1': 'ko', 'name': '한국어/조선말'}]</td>\n",
              "      <td>Released</td>\n",
              "      <td>Marine Boy</td>\n",
              "      <td>NaN</td>\n",
              "      <td>[{'cast_id': 3, 'character': 'Chun-soo', 'cred...</td>\n",
              "      <td>[{'credit_id': '52fe464b9251416c75073b43', 'de...</td>\n",
              "      <td>3923970</td>\n",
              "    </tr>\n",
              "  </tbody>\n",
              "</table>\n",
              "</div>"
            ],
            "text/plain": [
              "                               belongs_to_collection  ...   revenue\n",
              "0  [{'id': 313576, 'name': 'Hot Tub Time Machine ...  ...  12314651\n",
              "1  [{'id': 107674, 'name': 'The Princess Diaries ...  ...  95149435\n",
              "2                                                NaN  ...  13092000\n",
              "3                                                NaN  ...  16000000\n",
              "4                                                NaN  ...   3923970\n",
              "\n",
              "[5 rows x 18 columns]"
            ]
          },
          "metadata": {
            "tags": []
          },
          "execution_count": 7
        }
      ]
    },
    {
      "cell_type": "code",
      "metadata": {
        "colab": {
          "base_uri": "https://localhost:8080/"
        },
        "id": "Seh_xid-8xIt",
        "outputId": "5085fb3f-6f30-4f25-8cc5-e4c04ed501e7"
      },
      "source": [
        "trainset.isnull().sum()"
      ],
      "execution_count": null,
      "outputs": [
        {
          "output_type": "execute_result",
          "data": {
            "text/plain": [
              "belongs_to_collection    2396\n",
              "budget                      0\n",
              "genres                      7\n",
              "homepage                 2054\n",
              "original_language           0\n",
              "original_title              0\n",
              "popularity                  0\n",
              "production_companies      156\n",
              "production_countries       55\n",
              "release_date                0\n",
              "runtime                     2\n",
              "spoken_languages           20\n",
              "status                      0\n",
              "title                       0\n",
              "Keywords                  276\n",
              "cast                       13\n",
              "crew                       16\n",
              "revenue                     0\n",
              "dtype: int64"
            ]
          },
          "metadata": {
            "tags": []
          },
          "execution_count": 8
        }
      ]
    },
    {
      "cell_type": "markdown",
      "metadata": {
        "id": "tP34WIW3A3B7"
      },
      "source": [
        "belongs_to_collection column"
      ]
    },
    {
      "cell_type": "code",
      "metadata": {
        "id": "hPd5nGR0A10j"
      },
      "source": [
        "#checking how many collections does it belong to\n",
        "def get_dict(s):\n",
        "    try:\n",
        "        d = eval(s)   #Python's eval() allows you to evaluate arbitrary Python expressions from a string-based or compiled-code-based input\n",
        "    except:\n",
        "        d = {}\n",
        "    return d  "
      ],
      "execution_count": null,
      "outputs": []
    },
    {
      "cell_type": "code",
      "metadata": {
        "colab": {
          "base_uri": "https://localhost:8080/"
        },
        "id": "ZiXfOqVEBJoU",
        "outputId": "65bf5d82-b5aa-4548-bf6c-78d67757a69b"
      },
      "source": [
        "j = 0\n",
        "for i in trainset['belongs_to_collection']:\n",
        "    d = get_dict(i)\n",
        "    if d != {}:\n",
        "        trainset['belongs_to_collection'][j] = len(d)\n",
        "    else:\n",
        "         trainset['belongs_to_collection'][j] = 0\n",
        "    j += 1 "
      ],
      "execution_count": null,
      "outputs": [
        {
          "output_type": "stream",
          "text": [
            "/usr/local/lib/python3.7/dist-packages/ipykernel_launcher.py:5: SettingWithCopyWarning: \n",
            "A value is trying to be set on a copy of a slice from a DataFrame\n",
            "\n",
            "See the caveats in the documentation: https://pandas.pydata.org/pandas-docs/stable/user_guide/indexing.html#returning-a-view-versus-a-copy\n",
            "  \"\"\"\n",
            "/usr/local/lib/python3.7/dist-packages/ipykernel_launcher.py:7: SettingWithCopyWarning: \n",
            "A value is trying to be set on a copy of a slice from a DataFrame\n",
            "\n",
            "See the caveats in the documentation: https://pandas.pydata.org/pandas-docs/stable/user_guide/indexing.html#returning-a-view-versus-a-copy\n",
            "  import sys\n"
          ],
          "name": "stderr"
        }
      ]
    },
    {
      "cell_type": "code",
      "metadata": {
        "colab": {
          "base_uri": "https://localhost:8080/"
        },
        "id": "qvTPmnIqBR5a",
        "outputId": "3d7c0909-b1f4-464c-e4df-cc9d141f9efe"
      },
      "source": [
        "j = 0\n",
        "for i in testset['belongs_to_collection']:\n",
        "    d = get_dict(i)\n",
        "    if d != {}:\n",
        "        testset['belongs_to_collection'][j] = len(d)\n",
        "    else:\n",
        "         testset['belongs_to_collection'][j] = 0\n",
        "    j += 1 "
      ],
      "execution_count": null,
      "outputs": [
        {
          "output_type": "stream",
          "text": [
            "/usr/local/lib/python3.7/dist-packages/ipykernel_launcher.py:5: SettingWithCopyWarning: \n",
            "A value is trying to be set on a copy of a slice from a DataFrame\n",
            "\n",
            "See the caveats in the documentation: https://pandas.pydata.org/pandas-docs/stable/user_guide/indexing.html#returning-a-view-versus-a-copy\n",
            "  \"\"\"\n",
            "/usr/local/lib/python3.7/dist-packages/ipykernel_launcher.py:7: SettingWithCopyWarning: \n",
            "A value is trying to be set on a copy of a slice from a DataFrame\n",
            "\n",
            "See the caveats in the documentation: https://pandas.pydata.org/pandas-docs/stable/user_guide/indexing.html#returning-a-view-versus-a-copy\n",
            "  import sys\n"
          ],
          "name": "stderr"
        }
      ]
    },
    {
      "cell_type": "code",
      "metadata": {
        "id": "64EMXLtsJ0OA"
      },
      "source": [
        "trainset = trainset.rename(columns={'belongs_to_collection': 'belongs_to_how_many_coll'})\n",
        "testset = testset.rename(columns={'belongs_to_collection': 'belongs_to_how_many_coll'})"
      ],
      "execution_count": null,
      "outputs": []
    },
    {
      "cell_type": "code",
      "metadata": {
        "colab": {
          "base_uri": "https://localhost:8080/",
          "height": 517
        },
        "id": "dCO8S6kmBWfb",
        "outputId": "aa5ab6b4-343e-4a69-9803-05c923227f6f"
      },
      "source": [
        "trainset.head()"
      ],
      "execution_count": null,
      "outputs": [
        {
          "output_type": "execute_result",
          "data": {
            "text/html": [
              "<div>\n",
              "<style scoped>\n",
              "    .dataframe tbody tr th:only-of-type {\n",
              "        vertical-align: middle;\n",
              "    }\n",
              "\n",
              "    .dataframe tbody tr th {\n",
              "        vertical-align: top;\n",
              "    }\n",
              "\n",
              "    .dataframe thead th {\n",
              "        text-align: right;\n",
              "    }\n",
              "</style>\n",
              "<table border=\"1\" class=\"dataframe\">\n",
              "  <thead>\n",
              "    <tr style=\"text-align: right;\">\n",
              "      <th></th>\n",
              "      <th>belongs_to_how_many_coll</th>\n",
              "      <th>budget</th>\n",
              "      <th>genres</th>\n",
              "      <th>homepage</th>\n",
              "      <th>original_language</th>\n",
              "      <th>original_title</th>\n",
              "      <th>popularity</th>\n",
              "      <th>production_companies</th>\n",
              "      <th>production_countries</th>\n",
              "      <th>release_date</th>\n",
              "      <th>runtime</th>\n",
              "      <th>spoken_languages</th>\n",
              "      <th>status</th>\n",
              "      <th>title</th>\n",
              "      <th>Keywords</th>\n",
              "      <th>cast</th>\n",
              "      <th>crew</th>\n",
              "      <th>revenue</th>\n",
              "    </tr>\n",
              "  </thead>\n",
              "  <tbody>\n",
              "    <tr>\n",
              "      <th>0</th>\n",
              "      <td>1</td>\n",
              "      <td>14000000</td>\n",
              "      <td>[{'id': 35, 'name': 'Comedy'}]</td>\n",
              "      <td>NaN</td>\n",
              "      <td>en</td>\n",
              "      <td>Hot Tub Time Machine 2</td>\n",
              "      <td>6.575393</td>\n",
              "      <td>[{'name': 'Paramount Pictures', 'id': 4}, {'na...</td>\n",
              "      <td>[{'iso_3166_1': 'US', 'name': 'United States o...</td>\n",
              "      <td>2/20/15</td>\n",
              "      <td>93.0</td>\n",
              "      <td>[{'iso_639_1': 'en', 'name': 'English'}]</td>\n",
              "      <td>Released</td>\n",
              "      <td>Hot Tub Time Machine 2</td>\n",
              "      <td>[{'id': 4379, 'name': 'time travel'}, {'id': 9...</td>\n",
              "      <td>[{'cast_id': 4, 'character': 'Lou', 'credit_id...</td>\n",
              "      <td>[{'credit_id': '59ac067c92514107af02c8c8', 'de...</td>\n",
              "      <td>12314651</td>\n",
              "    </tr>\n",
              "    <tr>\n",
              "      <th>1</th>\n",
              "      <td>1</td>\n",
              "      <td>40000000</td>\n",
              "      <td>[{'id': 35, 'name': 'Comedy'}, {'id': 18, 'nam...</td>\n",
              "      <td>NaN</td>\n",
              "      <td>en</td>\n",
              "      <td>The Princess Diaries 2: Royal Engagement</td>\n",
              "      <td>8.248895</td>\n",
              "      <td>[{'name': 'Walt Disney Pictures', 'id': 2}]</td>\n",
              "      <td>[{'iso_3166_1': 'US', 'name': 'United States o...</td>\n",
              "      <td>8/6/04</td>\n",
              "      <td>113.0</td>\n",
              "      <td>[{'iso_639_1': 'en', 'name': 'English'}]</td>\n",
              "      <td>Released</td>\n",
              "      <td>The Princess Diaries 2: Royal Engagement</td>\n",
              "      <td>[{'id': 2505, 'name': 'coronation'}, {'id': 42...</td>\n",
              "      <td>[{'cast_id': 1, 'character': 'Mia Thermopolis'...</td>\n",
              "      <td>[{'credit_id': '52fe43fe9251416c7502563d', 'de...</td>\n",
              "      <td>95149435</td>\n",
              "    </tr>\n",
              "    <tr>\n",
              "      <th>2</th>\n",
              "      <td>0</td>\n",
              "      <td>3300000</td>\n",
              "      <td>[{'id': 18, 'name': 'Drama'}]</td>\n",
              "      <td>http://sonyclassics.com/whiplash/</td>\n",
              "      <td>en</td>\n",
              "      <td>Whiplash</td>\n",
              "      <td>64.299990</td>\n",
              "      <td>[{'name': 'Bold Films', 'id': 2266}, {'name': ...</td>\n",
              "      <td>[{'iso_3166_1': 'US', 'name': 'United States o...</td>\n",
              "      <td>10/10/14</td>\n",
              "      <td>105.0</td>\n",
              "      <td>[{'iso_639_1': 'en', 'name': 'English'}]</td>\n",
              "      <td>Released</td>\n",
              "      <td>Whiplash</td>\n",
              "      <td>[{'id': 1416, 'name': 'jazz'}, {'id': 1523, 'n...</td>\n",
              "      <td>[{'cast_id': 5, 'character': 'Andrew Neimann',...</td>\n",
              "      <td>[{'credit_id': '54d5356ec3a3683ba0000039', 'de...</td>\n",
              "      <td>13092000</td>\n",
              "    </tr>\n",
              "    <tr>\n",
              "      <th>3</th>\n",
              "      <td>0</td>\n",
              "      <td>1200000</td>\n",
              "      <td>[{'id': 53, 'name': 'Thriller'}, {'id': 18, 'n...</td>\n",
              "      <td>http://kahaanithefilm.com/</td>\n",
              "      <td>hi</td>\n",
              "      <td>Kahaani</td>\n",
              "      <td>3.174936</td>\n",
              "      <td>NaN</td>\n",
              "      <td>[{'iso_3166_1': 'IN', 'name': 'India'}]</td>\n",
              "      <td>3/9/12</td>\n",
              "      <td>122.0</td>\n",
              "      <td>[{'iso_639_1': 'en', 'name': 'English'}, {'iso...</td>\n",
              "      <td>Released</td>\n",
              "      <td>Kahaani</td>\n",
              "      <td>[{'id': 10092, 'name': 'mystery'}, {'id': 1054...</td>\n",
              "      <td>[{'cast_id': 1, 'character': 'Vidya Bagchi', '...</td>\n",
              "      <td>[{'credit_id': '52fe48779251416c9108d6eb', 'de...</td>\n",
              "      <td>16000000</td>\n",
              "    </tr>\n",
              "    <tr>\n",
              "      <th>4</th>\n",
              "      <td>0</td>\n",
              "      <td>0</td>\n",
              "      <td>[{'id': 28, 'name': 'Action'}, {'id': 53, 'nam...</td>\n",
              "      <td>NaN</td>\n",
              "      <td>ko</td>\n",
              "      <td>마린보이</td>\n",
              "      <td>1.148070</td>\n",
              "      <td>NaN</td>\n",
              "      <td>[{'iso_3166_1': 'KR', 'name': 'South Korea'}]</td>\n",
              "      <td>2/5/09</td>\n",
              "      <td>118.0</td>\n",
              "      <td>[{'iso_639_1': 'ko', 'name': '한국어/조선말'}]</td>\n",
              "      <td>Released</td>\n",
              "      <td>Marine Boy</td>\n",
              "      <td>NaN</td>\n",
              "      <td>[{'cast_id': 3, 'character': 'Chun-soo', 'cred...</td>\n",
              "      <td>[{'credit_id': '52fe464b9251416c75073b43', 'de...</td>\n",
              "      <td>3923970</td>\n",
              "    </tr>\n",
              "  </tbody>\n",
              "</table>\n",
              "</div>"
            ],
            "text/plain": [
              "  belongs_to_how_many_coll  ...   revenue\n",
              "0                        1  ...  12314651\n",
              "1                        1  ...  95149435\n",
              "2                        0  ...  13092000\n",
              "3                        0  ...  16000000\n",
              "4                        0  ...   3923970\n",
              "\n",
              "[5 rows x 18 columns]"
            ]
          },
          "metadata": {
            "tags": []
          },
          "execution_count": 13
        }
      ]
    },
    {
      "cell_type": "markdown",
      "metadata": {
        "id": "i-sszoFb9jjv"
      },
      "source": [
        "Budget Column"
      ]
    },
    {
      "cell_type": "code",
      "metadata": {
        "colab": {
          "base_uri": "https://localhost:8080/"
        },
        "id": "1qUOrl3-9iz5",
        "outputId": "c5823393-2bdf-48d7-8324-3448ad2fd562"
      },
      "source": [
        "trainset['budget']=trainset['budget'].replace(np.NaN,trainset['budget'].mean())\n",
        "testset['budget']=testset['budget'].replace(np.NaN,testset['budget'].mean())\n",
        "trainset.isnull().sum()"
      ],
      "execution_count": null,
      "outputs": [
        {
          "output_type": "execute_result",
          "data": {
            "text/plain": [
              "belongs_to_how_many_coll       0\n",
              "budget                         0\n",
              "genres                         7\n",
              "homepage                    2054\n",
              "original_language              0\n",
              "original_title                 0\n",
              "popularity                     0\n",
              "production_companies         156\n",
              "production_countries          55\n",
              "release_date                   0\n",
              "runtime                        2\n",
              "spoken_languages              20\n",
              "status                         0\n",
              "title                          0\n",
              "Keywords                     276\n",
              "cast                          13\n",
              "crew                          16\n",
              "revenue                        0\n",
              "dtype: int64"
            ]
          },
          "metadata": {
            "tags": []
          },
          "execution_count": 14
        }
      ]
    },
    {
      "cell_type": "code",
      "metadata": {
        "colab": {
          "base_uri": "https://localhost:8080/"
        },
        "id": "sV9M7OtYBfzG",
        "outputId": "e7c42acb-78e8-4023-dafc-83f1a8bb9269"
      },
      "source": [
        "trainset.value_counts('budget')"
      ],
      "execution_count": null,
      "outputs": [
        {
          "output_type": "execute_result",
          "data": {
            "text/plain": [
              "budget\n",
              "0           812\n",
              "15000000     72\n",
              "25000000     71\n",
              "40000000     71\n",
              "5000000      68\n",
              "           ... \n",
              "6600000       1\n",
              "6300000       1\n",
              "6244087       1\n",
              "6200000       1\n",
              "6788000       1\n",
              "Length: 406, dtype: int64"
            ]
          },
          "metadata": {
            "tags": []
          },
          "execution_count": 15
        }
      ]
    },
    {
      "cell_type": "code",
      "metadata": {
        "id": "zmoI_eouBz8j"
      },
      "source": [
        "#budget cannot be 0, so replacing all places where budget is 0, with the mean\n",
        "#trainset['budget'] = trainset['budget'].replace(['0'],trainset['budget'].mean())\n",
        "#testset['budget'] = testset['budget'].replace(['0'],testset['budget'].mean())\n",
        "trainset['budget']=trainset['budget'].replace(to_replace = 0, value =trainset['budget'].mean()) \n",
        "testset['budget']=testset['budget'].replace(to_replace = 0, value =testset['budget'].mean())"
      ],
      "execution_count": null,
      "outputs": []
    },
    {
      "cell_type": "code",
      "metadata": {
        "colab": {
          "base_uri": "https://localhost:8080/"
        },
        "id": "zvfWdPf6CXvd",
        "outputId": "934a9233-dc48-46b0-a6de-7e4fb17a4dbf"
      },
      "source": [
        "trainset.value_counts('budget')"
      ],
      "execution_count": null,
      "outputs": [
        {
          "output_type": "execute_result",
          "data": {
            "text/plain": [
              "budget\n",
              "22531334.11    812\n",
              "15000000.00     72\n",
              "40000000.00     71\n",
              "25000000.00     71\n",
              "5000000.00      68\n",
              "              ... \n",
              "6600000.00       1\n",
              "6300000.00       1\n",
              "6244087.00       1\n",
              "6200000.00       1\n",
              "6843500.00       1\n",
              "Length: 406, dtype: int64"
            ]
          },
          "metadata": {
            "tags": []
          },
          "execution_count": 17
        }
      ]
    },
    {
      "cell_type": "markdown",
      "metadata": {
        "id": "meVGy9Um9_Cm"
      },
      "source": [
        "genres column"
      ]
    },
    {
      "cell_type": "code",
      "metadata": {
        "colab": {
          "base_uri": "https://localhost:8080/"
        },
        "id": "60vgzPMc-Af3",
        "outputId": "25ec8347-ed4a-466b-ec56-da3bd6ad92fe"
      },
      "source": [
        "j = 0\n",
        "for i in trainset['genres']:\n",
        "    d = get_dict(i)\n",
        "    if d != {}:\n",
        "        trainset['genres'][j] = d[0]['id'] \n",
        "    else:\n",
        "         trainset['genres'][j] = np.NaN\n",
        "    j += 1    "
      ],
      "execution_count": null,
      "outputs": [
        {
          "output_type": "stream",
          "text": [
            "/usr/local/lib/python3.7/dist-packages/ipykernel_launcher.py:5: SettingWithCopyWarning: \n",
            "A value is trying to be set on a copy of a slice from a DataFrame\n",
            "\n",
            "See the caveats in the documentation: https://pandas.pydata.org/pandas-docs/stable/user_guide/indexing.html#returning-a-view-versus-a-copy\n",
            "  \"\"\"\n",
            "/usr/local/lib/python3.7/dist-packages/ipykernel_launcher.py:7: SettingWithCopyWarning: \n",
            "A value is trying to be set on a copy of a slice from a DataFrame\n",
            "\n",
            "See the caveats in the documentation: https://pandas.pydata.org/pandas-docs/stable/user_guide/indexing.html#returning-a-view-versus-a-copy\n",
            "  import sys\n"
          ],
          "name": "stderr"
        }
      ]
    },
    {
      "cell_type": "code",
      "metadata": {
        "colab": {
          "base_uri": "https://localhost:8080/",
          "height": 484
        },
        "id": "B8dZlFG0AHat",
        "outputId": "bc1da9ce-6133-47ce-9929-b20f675fb253"
      },
      "source": [
        "trainset.head()"
      ],
      "execution_count": null,
      "outputs": [
        {
          "output_type": "execute_result",
          "data": {
            "text/html": [
              "<div>\n",
              "<style scoped>\n",
              "    .dataframe tbody tr th:only-of-type {\n",
              "        vertical-align: middle;\n",
              "    }\n",
              "\n",
              "    .dataframe tbody tr th {\n",
              "        vertical-align: top;\n",
              "    }\n",
              "\n",
              "    .dataframe thead th {\n",
              "        text-align: right;\n",
              "    }\n",
              "</style>\n",
              "<table border=\"1\" class=\"dataframe\">\n",
              "  <thead>\n",
              "    <tr style=\"text-align: right;\">\n",
              "      <th></th>\n",
              "      <th>belongs_to_how_many_coll</th>\n",
              "      <th>budget</th>\n",
              "      <th>genres</th>\n",
              "      <th>homepage</th>\n",
              "      <th>original_language</th>\n",
              "      <th>original_title</th>\n",
              "      <th>popularity</th>\n",
              "      <th>production_companies</th>\n",
              "      <th>production_countries</th>\n",
              "      <th>release_date</th>\n",
              "      <th>runtime</th>\n",
              "      <th>spoken_languages</th>\n",
              "      <th>status</th>\n",
              "      <th>title</th>\n",
              "      <th>Keywords</th>\n",
              "      <th>cast</th>\n",
              "      <th>crew</th>\n",
              "      <th>revenue</th>\n",
              "    </tr>\n",
              "  </thead>\n",
              "  <tbody>\n",
              "    <tr>\n",
              "      <th>0</th>\n",
              "      <td>1</td>\n",
              "      <td>14000000.00</td>\n",
              "      <td>35</td>\n",
              "      <td>NaN</td>\n",
              "      <td>en</td>\n",
              "      <td>Hot Tub Time Machine 2</td>\n",
              "      <td>6.575393</td>\n",
              "      <td>[{'name': 'Paramount Pictures', 'id': 4}, {'na...</td>\n",
              "      <td>[{'iso_3166_1': 'US', 'name': 'United States o...</td>\n",
              "      <td>2/20/15</td>\n",
              "      <td>93.0</td>\n",
              "      <td>[{'iso_639_1': 'en', 'name': 'English'}]</td>\n",
              "      <td>Released</td>\n",
              "      <td>Hot Tub Time Machine 2</td>\n",
              "      <td>[{'id': 4379, 'name': 'time travel'}, {'id': 9...</td>\n",
              "      <td>[{'cast_id': 4, 'character': 'Lou', 'credit_id...</td>\n",
              "      <td>[{'credit_id': '59ac067c92514107af02c8c8', 'de...</td>\n",
              "      <td>12314651</td>\n",
              "    </tr>\n",
              "    <tr>\n",
              "      <th>1</th>\n",
              "      <td>1</td>\n",
              "      <td>40000000.00</td>\n",
              "      <td>35</td>\n",
              "      <td>NaN</td>\n",
              "      <td>en</td>\n",
              "      <td>The Princess Diaries 2: Royal Engagement</td>\n",
              "      <td>8.248895</td>\n",
              "      <td>[{'name': 'Walt Disney Pictures', 'id': 2}]</td>\n",
              "      <td>[{'iso_3166_1': 'US', 'name': 'United States o...</td>\n",
              "      <td>8/6/04</td>\n",
              "      <td>113.0</td>\n",
              "      <td>[{'iso_639_1': 'en', 'name': 'English'}]</td>\n",
              "      <td>Released</td>\n",
              "      <td>The Princess Diaries 2: Royal Engagement</td>\n",
              "      <td>[{'id': 2505, 'name': 'coronation'}, {'id': 42...</td>\n",
              "      <td>[{'cast_id': 1, 'character': 'Mia Thermopolis'...</td>\n",
              "      <td>[{'credit_id': '52fe43fe9251416c7502563d', 'de...</td>\n",
              "      <td>95149435</td>\n",
              "    </tr>\n",
              "    <tr>\n",
              "      <th>2</th>\n",
              "      <td>0</td>\n",
              "      <td>3300000.00</td>\n",
              "      <td>18</td>\n",
              "      <td>http://sonyclassics.com/whiplash/</td>\n",
              "      <td>en</td>\n",
              "      <td>Whiplash</td>\n",
              "      <td>64.299990</td>\n",
              "      <td>[{'name': 'Bold Films', 'id': 2266}, {'name': ...</td>\n",
              "      <td>[{'iso_3166_1': 'US', 'name': 'United States o...</td>\n",
              "      <td>10/10/14</td>\n",
              "      <td>105.0</td>\n",
              "      <td>[{'iso_639_1': 'en', 'name': 'English'}]</td>\n",
              "      <td>Released</td>\n",
              "      <td>Whiplash</td>\n",
              "      <td>[{'id': 1416, 'name': 'jazz'}, {'id': 1523, 'n...</td>\n",
              "      <td>[{'cast_id': 5, 'character': 'Andrew Neimann',...</td>\n",
              "      <td>[{'credit_id': '54d5356ec3a3683ba0000039', 'de...</td>\n",
              "      <td>13092000</td>\n",
              "    </tr>\n",
              "    <tr>\n",
              "      <th>3</th>\n",
              "      <td>0</td>\n",
              "      <td>1200000.00</td>\n",
              "      <td>53</td>\n",
              "      <td>http://kahaanithefilm.com/</td>\n",
              "      <td>hi</td>\n",
              "      <td>Kahaani</td>\n",
              "      <td>3.174936</td>\n",
              "      <td>NaN</td>\n",
              "      <td>[{'iso_3166_1': 'IN', 'name': 'India'}]</td>\n",
              "      <td>3/9/12</td>\n",
              "      <td>122.0</td>\n",
              "      <td>[{'iso_639_1': 'en', 'name': 'English'}, {'iso...</td>\n",
              "      <td>Released</td>\n",
              "      <td>Kahaani</td>\n",
              "      <td>[{'id': 10092, 'name': 'mystery'}, {'id': 1054...</td>\n",
              "      <td>[{'cast_id': 1, 'character': 'Vidya Bagchi', '...</td>\n",
              "      <td>[{'credit_id': '52fe48779251416c9108d6eb', 'de...</td>\n",
              "      <td>16000000</td>\n",
              "    </tr>\n",
              "    <tr>\n",
              "      <th>4</th>\n",
              "      <td>0</td>\n",
              "      <td>22531334.11</td>\n",
              "      <td>28</td>\n",
              "      <td>NaN</td>\n",
              "      <td>ko</td>\n",
              "      <td>마린보이</td>\n",
              "      <td>1.148070</td>\n",
              "      <td>NaN</td>\n",
              "      <td>[{'iso_3166_1': 'KR', 'name': 'South Korea'}]</td>\n",
              "      <td>2/5/09</td>\n",
              "      <td>118.0</td>\n",
              "      <td>[{'iso_639_1': 'ko', 'name': '한국어/조선말'}]</td>\n",
              "      <td>Released</td>\n",
              "      <td>Marine Boy</td>\n",
              "      <td>NaN</td>\n",
              "      <td>[{'cast_id': 3, 'character': 'Chun-soo', 'cred...</td>\n",
              "      <td>[{'credit_id': '52fe464b9251416c75073b43', 'de...</td>\n",
              "      <td>3923970</td>\n",
              "    </tr>\n",
              "  </tbody>\n",
              "</table>\n",
              "</div>"
            ],
            "text/plain": [
              "  belongs_to_how_many_coll  ...   revenue\n",
              "0                        1  ...  12314651\n",
              "1                        1  ...  95149435\n",
              "2                        0  ...  13092000\n",
              "3                        0  ...  16000000\n",
              "4                        0  ...   3923970\n",
              "\n",
              "[5 rows x 18 columns]"
            ]
          },
          "metadata": {
            "tags": []
          },
          "execution_count": 19
        }
      ]
    },
    {
      "cell_type": "code",
      "metadata": {
        "colab": {
          "base_uri": "https://localhost:8080/"
        },
        "id": "R_r35Wk2ANMZ",
        "outputId": "ddf915c9-9036-40df-bc73-3e5feaf93770"
      },
      "source": [
        "j = 0\n",
        "for i in testset['genres']:\n",
        "    d = get_dict(i)\n",
        "    if d != {}:\n",
        "        testset['genres'][j] = d[0]['id'] \n",
        "    else:\n",
        "         testset['genres'][j] = np.NaN\n",
        "    j += 1  "
      ],
      "execution_count": null,
      "outputs": [
        {
          "output_type": "stream",
          "text": [
            "/usr/local/lib/python3.7/dist-packages/ipykernel_launcher.py:5: SettingWithCopyWarning: \n",
            "A value is trying to be set on a copy of a slice from a DataFrame\n",
            "\n",
            "See the caveats in the documentation: https://pandas.pydata.org/pandas-docs/stable/user_guide/indexing.html#returning-a-view-versus-a-copy\n",
            "  \"\"\"\n",
            "/usr/local/lib/python3.7/dist-packages/ipykernel_launcher.py:7: SettingWithCopyWarning: \n",
            "A value is trying to be set on a copy of a slice from a DataFrame\n",
            "\n",
            "See the caveats in the documentation: https://pandas.pydata.org/pandas-docs/stable/user_guide/indexing.html#returning-a-view-versus-a-copy\n",
            "  import sys\n"
          ],
          "name": "stderr"
        }
      ]
    },
    {
      "cell_type": "code",
      "metadata": {
        "colab": {
          "base_uri": "https://localhost:8080/"
        },
        "id": "EukzfUPxAtH8",
        "outputId": "263d8e32-e3be-4a03-a7f2-4ab652d11ad4"
      },
      "source": [
        "trainset['genres'] = trainset['genres'].fillna(trainset['genres'].mode()[0])\n",
        "testset['genres'] = testset['genres'].fillna(testset['genres'].mode()[0])\n",
        "trainset.isnull().sum()"
      ],
      "execution_count": null,
      "outputs": [
        {
          "output_type": "execute_result",
          "data": {
            "text/plain": [
              "belongs_to_how_many_coll       0\n",
              "budget                         0\n",
              "genres                         0\n",
              "homepage                    2054\n",
              "original_language              0\n",
              "original_title                 0\n",
              "popularity                     0\n",
              "production_companies         156\n",
              "production_countries          55\n",
              "release_date                   0\n",
              "runtime                        2\n",
              "spoken_languages              20\n",
              "status                         0\n",
              "title                          0\n",
              "Keywords                     276\n",
              "cast                          13\n",
              "crew                          16\n",
              "revenue                        0\n",
              "dtype: int64"
            ]
          },
          "metadata": {
            "tags": []
          },
          "execution_count": 21
        }
      ]
    },
    {
      "cell_type": "markdown",
      "metadata": {
        "id": "gvxLsutwBROQ"
      },
      "source": [
        "homepage column"
      ]
    },
    {
      "cell_type": "code",
      "metadata": {
        "colab": {
          "base_uri": "https://localhost:8080/"
        },
        "id": "vZrse5NbBS6d",
        "outputId": "95cbeca2-f00e-4916-9ba6-62161296d7c2"
      },
      "source": [
        "#has a homepage or not\n",
        "j = 0\n",
        "for i in trainset['homepage']:\n",
        "    \n",
        "    if str(trainset['homepage'][j]) == 'nan':\n",
        "       trainset['homepage'][j]=0\n",
        "    else:\n",
        "       trainset['homepage'][j]=1  \n",
        "    j += 1"
      ],
      "execution_count": null,
      "outputs": [
        {
          "output_type": "stream",
          "text": [
            "/usr/local/lib/python3.7/dist-packages/ipykernel_launcher.py:6: SettingWithCopyWarning: \n",
            "A value is trying to be set on a copy of a slice from a DataFrame\n",
            "\n",
            "See the caveats in the documentation: https://pandas.pydata.org/pandas-docs/stable/user_guide/indexing.html#returning-a-view-versus-a-copy\n",
            "  \n",
            "/usr/local/lib/python3.7/dist-packages/ipykernel_launcher.py:8: SettingWithCopyWarning: \n",
            "A value is trying to be set on a copy of a slice from a DataFrame\n",
            "\n",
            "See the caveats in the documentation: https://pandas.pydata.org/pandas-docs/stable/user_guide/indexing.html#returning-a-view-versus-a-copy\n",
            "  \n"
          ],
          "name": "stderr"
        }
      ]
    },
    {
      "cell_type": "code",
      "metadata": {
        "colab": {
          "base_uri": "https://localhost:8080/",
          "height": 484
        },
        "id": "qW1l901oDUwg",
        "outputId": "467b9053-2cee-41a8-8f83-6fa924239466"
      },
      "source": [
        "trainset.head()"
      ],
      "execution_count": null,
      "outputs": [
        {
          "output_type": "execute_result",
          "data": {
            "text/html": [
              "<div>\n",
              "<style scoped>\n",
              "    .dataframe tbody tr th:only-of-type {\n",
              "        vertical-align: middle;\n",
              "    }\n",
              "\n",
              "    .dataframe tbody tr th {\n",
              "        vertical-align: top;\n",
              "    }\n",
              "\n",
              "    .dataframe thead th {\n",
              "        text-align: right;\n",
              "    }\n",
              "</style>\n",
              "<table border=\"1\" class=\"dataframe\">\n",
              "  <thead>\n",
              "    <tr style=\"text-align: right;\">\n",
              "      <th></th>\n",
              "      <th>belongs_to_how_many_coll</th>\n",
              "      <th>budget</th>\n",
              "      <th>genres</th>\n",
              "      <th>homepage</th>\n",
              "      <th>original_language</th>\n",
              "      <th>original_title</th>\n",
              "      <th>popularity</th>\n",
              "      <th>production_companies</th>\n",
              "      <th>production_countries</th>\n",
              "      <th>release_date</th>\n",
              "      <th>runtime</th>\n",
              "      <th>spoken_languages</th>\n",
              "      <th>status</th>\n",
              "      <th>title</th>\n",
              "      <th>Keywords</th>\n",
              "      <th>cast</th>\n",
              "      <th>crew</th>\n",
              "      <th>revenue</th>\n",
              "    </tr>\n",
              "  </thead>\n",
              "  <tbody>\n",
              "    <tr>\n",
              "      <th>0</th>\n",
              "      <td>1</td>\n",
              "      <td>14000000.00</td>\n",
              "      <td>35</td>\n",
              "      <td>0</td>\n",
              "      <td>en</td>\n",
              "      <td>Hot Tub Time Machine 2</td>\n",
              "      <td>6.575393</td>\n",
              "      <td>[{'name': 'Paramount Pictures', 'id': 4}, {'na...</td>\n",
              "      <td>[{'iso_3166_1': 'US', 'name': 'United States o...</td>\n",
              "      <td>2/20/15</td>\n",
              "      <td>93.0</td>\n",
              "      <td>[{'iso_639_1': 'en', 'name': 'English'}]</td>\n",
              "      <td>Released</td>\n",
              "      <td>Hot Tub Time Machine 2</td>\n",
              "      <td>[{'id': 4379, 'name': 'time travel'}, {'id': 9...</td>\n",
              "      <td>[{'cast_id': 4, 'character': 'Lou', 'credit_id...</td>\n",
              "      <td>[{'credit_id': '59ac067c92514107af02c8c8', 'de...</td>\n",
              "      <td>12314651</td>\n",
              "    </tr>\n",
              "    <tr>\n",
              "      <th>1</th>\n",
              "      <td>1</td>\n",
              "      <td>40000000.00</td>\n",
              "      <td>35</td>\n",
              "      <td>0</td>\n",
              "      <td>en</td>\n",
              "      <td>The Princess Diaries 2: Royal Engagement</td>\n",
              "      <td>8.248895</td>\n",
              "      <td>[{'name': 'Walt Disney Pictures', 'id': 2}]</td>\n",
              "      <td>[{'iso_3166_1': 'US', 'name': 'United States o...</td>\n",
              "      <td>8/6/04</td>\n",
              "      <td>113.0</td>\n",
              "      <td>[{'iso_639_1': 'en', 'name': 'English'}]</td>\n",
              "      <td>Released</td>\n",
              "      <td>The Princess Diaries 2: Royal Engagement</td>\n",
              "      <td>[{'id': 2505, 'name': 'coronation'}, {'id': 42...</td>\n",
              "      <td>[{'cast_id': 1, 'character': 'Mia Thermopolis'...</td>\n",
              "      <td>[{'credit_id': '52fe43fe9251416c7502563d', 'de...</td>\n",
              "      <td>95149435</td>\n",
              "    </tr>\n",
              "    <tr>\n",
              "      <th>2</th>\n",
              "      <td>0</td>\n",
              "      <td>3300000.00</td>\n",
              "      <td>18</td>\n",
              "      <td>1</td>\n",
              "      <td>en</td>\n",
              "      <td>Whiplash</td>\n",
              "      <td>64.299990</td>\n",
              "      <td>[{'name': 'Bold Films', 'id': 2266}, {'name': ...</td>\n",
              "      <td>[{'iso_3166_1': 'US', 'name': 'United States o...</td>\n",
              "      <td>10/10/14</td>\n",
              "      <td>105.0</td>\n",
              "      <td>[{'iso_639_1': 'en', 'name': 'English'}]</td>\n",
              "      <td>Released</td>\n",
              "      <td>Whiplash</td>\n",
              "      <td>[{'id': 1416, 'name': 'jazz'}, {'id': 1523, 'n...</td>\n",
              "      <td>[{'cast_id': 5, 'character': 'Andrew Neimann',...</td>\n",
              "      <td>[{'credit_id': '54d5356ec3a3683ba0000039', 'de...</td>\n",
              "      <td>13092000</td>\n",
              "    </tr>\n",
              "    <tr>\n",
              "      <th>3</th>\n",
              "      <td>0</td>\n",
              "      <td>1200000.00</td>\n",
              "      <td>53</td>\n",
              "      <td>1</td>\n",
              "      <td>hi</td>\n",
              "      <td>Kahaani</td>\n",
              "      <td>3.174936</td>\n",
              "      <td>NaN</td>\n",
              "      <td>[{'iso_3166_1': 'IN', 'name': 'India'}]</td>\n",
              "      <td>3/9/12</td>\n",
              "      <td>122.0</td>\n",
              "      <td>[{'iso_639_1': 'en', 'name': 'English'}, {'iso...</td>\n",
              "      <td>Released</td>\n",
              "      <td>Kahaani</td>\n",
              "      <td>[{'id': 10092, 'name': 'mystery'}, {'id': 1054...</td>\n",
              "      <td>[{'cast_id': 1, 'character': 'Vidya Bagchi', '...</td>\n",
              "      <td>[{'credit_id': '52fe48779251416c9108d6eb', 'de...</td>\n",
              "      <td>16000000</td>\n",
              "    </tr>\n",
              "    <tr>\n",
              "      <th>4</th>\n",
              "      <td>0</td>\n",
              "      <td>22531334.11</td>\n",
              "      <td>28</td>\n",
              "      <td>0</td>\n",
              "      <td>ko</td>\n",
              "      <td>마린보이</td>\n",
              "      <td>1.148070</td>\n",
              "      <td>NaN</td>\n",
              "      <td>[{'iso_3166_1': 'KR', 'name': 'South Korea'}]</td>\n",
              "      <td>2/5/09</td>\n",
              "      <td>118.0</td>\n",
              "      <td>[{'iso_639_1': 'ko', 'name': '한국어/조선말'}]</td>\n",
              "      <td>Released</td>\n",
              "      <td>Marine Boy</td>\n",
              "      <td>NaN</td>\n",
              "      <td>[{'cast_id': 3, 'character': 'Chun-soo', 'cred...</td>\n",
              "      <td>[{'credit_id': '52fe464b9251416c75073b43', 'de...</td>\n",
              "      <td>3923970</td>\n",
              "    </tr>\n",
              "  </tbody>\n",
              "</table>\n",
              "</div>"
            ],
            "text/plain": [
              "  belongs_to_how_many_coll  ...   revenue\n",
              "0                        1  ...  12314651\n",
              "1                        1  ...  95149435\n",
              "2                        0  ...  13092000\n",
              "3                        0  ...  16000000\n",
              "4                        0  ...   3923970\n",
              "\n",
              "[5 rows x 18 columns]"
            ]
          },
          "metadata": {
            "tags": []
          },
          "execution_count": 23
        }
      ]
    },
    {
      "cell_type": "code",
      "metadata": {
        "colab": {
          "base_uri": "https://localhost:8080/"
        },
        "id": "4vqDS8gMFxOm",
        "outputId": "4074e561-3df6-4f1b-cea2-2cf66ead8b4d"
      },
      "source": [
        "j = 0\n",
        "for i in testset['homepage']:\n",
        "    \n",
        "    if str(testset['homepage'][j]) == 'nan':\n",
        "       testset['homepage'][j]=0\n",
        "    else:\n",
        "       testset['homepage'][j]=1  \n",
        "    j += 1"
      ],
      "execution_count": null,
      "outputs": [
        {
          "output_type": "stream",
          "text": [
            "/usr/local/lib/python3.7/dist-packages/ipykernel_launcher.py:7: SettingWithCopyWarning: \n",
            "A value is trying to be set on a copy of a slice from a DataFrame\n",
            "\n",
            "See the caveats in the documentation: https://pandas.pydata.org/pandas-docs/stable/user_guide/indexing.html#returning-a-view-versus-a-copy\n",
            "  import sys\n",
            "/usr/local/lib/python3.7/dist-packages/ipykernel_launcher.py:5: SettingWithCopyWarning: \n",
            "A value is trying to be set on a copy of a slice from a DataFrame\n",
            "\n",
            "See the caveats in the documentation: https://pandas.pydata.org/pandas-docs/stable/user_guide/indexing.html#returning-a-view-versus-a-copy\n",
            "  \"\"\"\n"
          ],
          "name": "stderr"
        }
      ]
    },
    {
      "cell_type": "code",
      "metadata": {
        "id": "_SLBflX6KEmA"
      },
      "source": [
        "trainset = trainset.rename(columns={'homepage': 'has_homepage'})\n",
        "testset = testset.rename(columns={'homepage': 'has_homepage'})"
      ],
      "execution_count": null,
      "outputs": []
    },
    {
      "cell_type": "code",
      "metadata": {
        "colab": {
          "base_uri": "https://localhost:8080/"
        },
        "id": "rl0fgxL1HJdG",
        "outputId": "6f6459c8-9fd7-4c14-fa9c-5fd7e4ccdeff"
      },
      "source": [
        "trainset.isnull().sum()"
      ],
      "execution_count": null,
      "outputs": [
        {
          "output_type": "execute_result",
          "data": {
            "text/plain": [
              "belongs_to_how_many_coll      0\n",
              "budget                        0\n",
              "genres                        0\n",
              "has_homepage                  0\n",
              "original_language             0\n",
              "original_title                0\n",
              "popularity                    0\n",
              "production_companies        156\n",
              "production_countries         55\n",
              "release_date                  0\n",
              "runtime                       2\n",
              "spoken_languages             20\n",
              "status                        0\n",
              "title                         0\n",
              "Keywords                    276\n",
              "cast                         13\n",
              "crew                         16\n",
              "revenue                       0\n",
              "dtype: int64"
            ]
          },
          "metadata": {
            "tags": []
          },
          "execution_count": 26
        }
      ]
    },
    {
      "cell_type": "code",
      "metadata": {
        "colab": {
          "base_uri": "https://localhost:8080/",
          "height": 401
        },
        "id": "SUim8ETFcq1F",
        "outputId": "97590a8c-c59d-4326-dd9a-8d6bcec203f5"
      },
      "source": [
        "sns.catplot(x='has_homepage', y='revenue', data=trainset)"
      ],
      "execution_count": null,
      "outputs": [
        {
          "output_type": "execute_result",
          "data": {
            "text/plain": [
              "<seaborn.axisgrid.FacetGrid at 0x7f8b43418f90>"
            ]
          },
          "metadata": {
            "tags": []
          },
          "execution_count": 27
        },
        {
          "output_type": "display_data",
          "data": {
            "image/png": "[encoded data removed]",
            "text/plain": [
              "<Figure size 360x360 with 1 Axes>"
            ]
          },
          "metadata": {
            "tags": [],
            "needs_background": "light"
          }
        }
      ]
    },
    {
      "cell_type": "markdown",
      "metadata": {
        "id": "nrUc91nmGACx"
      },
      "source": [
        "original language column"
      ]
    },
    {
      "cell_type": "code",
      "metadata": {
        "colab": {
          "base_uri": "https://localhost:8080/"
        },
        "id": "C6Wn6mIMGEhV",
        "outputId": "e71559ef-3f7e-4ff9-eef8-a971df37d4a1"
      },
      "source": [
        "trainset.value_counts('original_language')"
      ],
      "execution_count": null,
      "outputs": [
        {
          "output_type": "execute_result",
          "data": {
            "text/plain": [
              "original_language\n",
              "en    2575\n",
              "fr      78\n",
              "ru      47\n",
              "es      43\n",
              "hi      42\n",
              "ja      37\n",
              "it      24\n",
              "ko      20\n",
              "cn      20\n",
              "zh      19\n",
              "de      18\n",
              "ta      16\n",
              "sv       8\n",
              "pt       6\n",
              "nl       6\n",
              "fa       5\n",
              "da       5\n",
              "ro       4\n",
              "hu       3\n",
              "tr       3\n",
              "ml       2\n",
              "pl       2\n",
              "fi       2\n",
              "no       2\n",
              "te       2\n",
              "cs       1\n",
              "el       1\n",
              "ur       1\n",
              "bn       1\n",
              "he       1\n",
              "id       1\n",
              "sr       1\n",
              "vi       1\n",
              "mr       1\n",
              "nb       1\n",
              "ar       1\n",
              "dtype: int64"
            ]
          },
          "metadata": {
            "tags": []
          },
          "execution_count": 28
        }
      ]
    },
    {
      "cell_type": "code",
      "metadata": {
        "colab": {
          "base_uri": "https://localhost:8080/"
        },
        "id": "5qfZ_JNyGaXS",
        "outputId": "2cbd5d18-aeed-4c50-afd4-a92e353f45d3"
      },
      "source": [
        "#if en, then 1 otherwise 0\n",
        "j = 0\n",
        "for i in trainset['original_language']:\n",
        "    \n",
        "    if str(trainset['original_language'][j]) == 'en':\n",
        "       trainset['original_language'][j]=1\n",
        "    else:\n",
        "       trainset['original_language'][j]=0 \n",
        "    j += 1"
      ],
      "execution_count": null,
      "outputs": [
        {
          "output_type": "stream",
          "text": [
            "/usr/local/lib/python3.7/dist-packages/ipykernel_launcher.py:6: SettingWithCopyWarning: \n",
            "A value is trying to be set on a copy of a slice from a DataFrame\n",
            "\n",
            "See the caveats in the documentation: https://pandas.pydata.org/pandas-docs/stable/user_guide/indexing.html#returning-a-view-versus-a-copy\n",
            "  \n",
            "/usr/local/lib/python3.7/dist-packages/ipykernel_launcher.py:8: SettingWithCopyWarning: \n",
            "A value is trying to be set on a copy of a slice from a DataFrame\n",
            "\n",
            "See the caveats in the documentation: https://pandas.pydata.org/pandas-docs/stable/user_guide/indexing.html#returning-a-view-versus-a-copy\n",
            "  \n"
          ],
          "name": "stderr"
        }
      ]
    },
    {
      "cell_type": "code",
      "metadata": {
        "colab": {
          "base_uri": "https://localhost:8080/"
        },
        "id": "I0f8XnXUGudl",
        "outputId": "6af7bcf0-89a1-4124-8707-8f198960f9d5"
      },
      "source": [
        "j = 0\n",
        "for i in testset['original_language']:\n",
        "    \n",
        "    if str(testset['original_language'][j]) == 'en':\n",
        "       testset['original_language'][j]=1\n",
        "    else:\n",
        "       testset['original_language'][j]=0 \n",
        "    j += 1"
      ],
      "execution_count": null,
      "outputs": [
        {
          "output_type": "stream",
          "text": [
            "/usr/local/lib/python3.7/dist-packages/ipykernel_launcher.py:7: SettingWithCopyWarning: \n",
            "A value is trying to be set on a copy of a slice from a DataFrame\n",
            "\n",
            "See the caveats in the documentation: https://pandas.pydata.org/pandas-docs/stable/user_guide/indexing.html#returning-a-view-versus-a-copy\n",
            "  import sys\n",
            "/usr/local/lib/python3.7/dist-packages/ipykernel_launcher.py:5: SettingWithCopyWarning: \n",
            "A value is trying to be set on a copy of a slice from a DataFrame\n",
            "\n",
            "See the caveats in the documentation: https://pandas.pydata.org/pandas-docs/stable/user_guide/indexing.html#returning-a-view-versus-a-copy\n",
            "  \"\"\"\n"
          ],
          "name": "stderr"
        }
      ]
    },
    {
      "cell_type": "code",
      "metadata": {
        "id": "lOfg4jozKRRE"
      },
      "source": [
        "trainset = trainset.rename(columns={'original_language': 'is_en_original_language'})\n",
        "testset = testset.rename(columns={'original_language': 'is_en_original_language'})"
      ],
      "execution_count": null,
      "outputs": []
    },
    {
      "cell_type": "code",
      "metadata": {
        "colab": {
          "base_uri": "https://localhost:8080/",
          "height": 484
        },
        "id": "hHLdNKS1G0G_",
        "outputId": "73cd2973-16d0-4b74-8b58-df4574d3faaf"
      },
      "source": [
        "trainset.head()"
      ],
      "execution_count": null,
      "outputs": [
        {
          "output_type": "execute_result",
          "data": {
            "text/html": [
              "<div>\n",
              "<style scoped>\n",
              "    .dataframe tbody tr th:only-of-type {\n",
              "        vertical-align: middle;\n",
              "    }\n",
              "\n",
              "    .dataframe tbody tr th {\n",
              "        vertical-align: top;\n",
              "    }\n",
              "\n",
              "    .dataframe thead th {\n",
              "        text-align: right;\n",
              "    }\n",
              "</style>\n",
              "<table border=\"1\" class=\"dataframe\">\n",
              "  <thead>\n",
              "    <tr style=\"text-align: right;\">\n",
              "      <th></th>\n",
              "      <th>belongs_to_how_many_coll</th>\n",
              "      <th>budget</th>\n",
              "      <th>genres</th>\n",
              "      <th>has_homepage</th>\n",
              "      <th>is_en_original_language</th>\n",
              "      <th>original_title</th>\n",
              "      <th>popularity</th>\n",
              "      <th>production_companies</th>\n",
              "      <th>production_countries</th>\n",
              "      <th>release_date</th>\n",
              "      <th>runtime</th>\n",
              "      <th>spoken_languages</th>\n",
              "      <th>status</th>\n",
              "      <th>title</th>\n",
              "      <th>Keywords</th>\n",
              "      <th>cast</th>\n",
              "      <th>crew</th>\n",
              "      <th>revenue</th>\n",
              "    </tr>\n",
              "  </thead>\n",
              "  <tbody>\n",
              "    <tr>\n",
              "      <th>0</th>\n",
              "      <td>1</td>\n",
              "      <td>14000000.00</td>\n",
              "      <td>35</td>\n",
              "      <td>0</td>\n",
              "      <td>1</td>\n",
              "      <td>Hot Tub Time Machine 2</td>\n",
              "      <td>6.575393</td>\n",
              "      <td>[{'name': 'Paramount Pictures', 'id': 4}, {'na...</td>\n",
              "      <td>[{'iso_3166_1': 'US', 'name': 'United States o...</td>\n",
              "      <td>2/20/15</td>\n",
              "      <td>93.0</td>\n",
              "      <td>[{'iso_639_1': 'en', 'name': 'English'}]</td>\n",
              "      <td>Released</td>\n",
              "      <td>Hot Tub Time Machine 2</td>\n",
              "      <td>[{'id': 4379, 'name': 'time travel'}, {'id': 9...</td>\n",
              "      <td>[{'cast_id': 4, 'character': 'Lou', 'credit_id...</td>\n",
              "      <td>[{'credit_id': '59ac067c92514107af02c8c8', 'de...</td>\n",
              "      <td>12314651</td>\n",
              "    </tr>\n",
              "    <tr>\n",
              "      <th>1</th>\n",
              "      <td>1</td>\n",
              "      <td>40000000.00</td>\n",
              "      <td>35</td>\n",
              "      <td>0</td>\n",
              "      <td>1</td>\n",
              "      <td>The Princess Diaries 2: Royal Engagement</td>\n",
              "      <td>8.248895</td>\n",
              "      <td>[{'name': 'Walt Disney Pictures', 'id': 2}]</td>\n",
              "      <td>[{'iso_3166_1': 'US', 'name': 'United States o...</td>\n",
              "      <td>8/6/04</td>\n",
              "      <td>113.0</td>\n",
              "      <td>[{'iso_639_1': 'en', 'name': 'English'}]</td>\n",
              "      <td>Released</td>\n",
              "      <td>The Princess Diaries 2: Royal Engagement</td>\n",
              "      <td>[{'id': 2505, 'name': 'coronation'}, {'id': 42...</td>\n",
              "      <td>[{'cast_id': 1, 'character': 'Mia Thermopolis'...</td>\n",
              "      <td>[{'credit_id': '52fe43fe9251416c7502563d', 'de...</td>\n",
              "      <td>95149435</td>\n",
              "    </tr>\n",
              "    <tr>\n",
              "      <th>2</th>\n",
              "      <td>0</td>\n",
              "      <td>3300000.00</td>\n",
              "      <td>18</td>\n",
              "      <td>1</td>\n",
              "      <td>1</td>\n",
              "      <td>Whiplash</td>\n",
              "      <td>64.299990</td>\n",
              "      <td>[{'name': 'Bold Films', 'id': 2266}, {'name': ...</td>\n",
              "      <td>[{'iso_3166_1': 'US', 'name': 'United States o...</td>\n",
              "      <td>10/10/14</td>\n",
              "      <td>105.0</td>\n",
              "      <td>[{'iso_639_1': 'en', 'name': 'English'}]</td>\n",
              "      <td>Released</td>\n",
              "      <td>Whiplash</td>\n",
              "      <td>[{'id': 1416, 'name': 'jazz'}, {'id': 1523, 'n...</td>\n",
              "      <td>[{'cast_id': 5, 'character': 'Andrew Neimann',...</td>\n",
              "      <td>[{'credit_id': '54d5356ec3a3683ba0000039', 'de...</td>\n",
              "      <td>13092000</td>\n",
              "    </tr>\n",
              "    <tr>\n",
              "      <th>3</th>\n",
              "      <td>0</td>\n",
              "      <td>1200000.00</td>\n",
              "      <td>53</td>\n",
              "      <td>1</td>\n",
              "      <td>0</td>\n",
              "      <td>Kahaani</td>\n",
              "      <td>3.174936</td>\n",
              "      <td>NaN</td>\n",
              "      <td>[{'iso_3166_1': 'IN', 'name': 'India'}]</td>\n",
              "      <td>3/9/12</td>\n",
              "      <td>122.0</td>\n",
              "      <td>[{'iso_639_1': 'en', 'name': 'English'}, {'iso...</td>\n",
              "      <td>Released</td>\n",
              "      <td>Kahaani</td>\n",
              "      <td>[{'id': 10092, 'name': 'mystery'}, {'id': 1054...</td>\n",
              "      <td>[{'cast_id': 1, 'character': 'Vidya Bagchi', '...</td>\n",
              "      <td>[{'credit_id': '52fe48779251416c9108d6eb', 'de...</td>\n",
              "      <td>16000000</td>\n",
              "    </tr>\n",
              "    <tr>\n",
              "      <th>4</th>\n",
              "      <td>0</td>\n",
              "      <td>22531334.11</td>\n",
              "      <td>28</td>\n",
              "      <td>0</td>\n",
              "      <td>0</td>\n",
              "      <td>마린보이</td>\n",
              "      <td>1.148070</td>\n",
              "      <td>NaN</td>\n",
              "      <td>[{'iso_3166_1': 'KR', 'name': 'South Korea'}]</td>\n",
              "      <td>2/5/09</td>\n",
              "      <td>118.0</td>\n",
              "      <td>[{'iso_639_1': 'ko', 'name': '한국어/조선말'}]</td>\n",
              "      <td>Released</td>\n",
              "      <td>Marine Boy</td>\n",
              "      <td>NaN</td>\n",
              "      <td>[{'cast_id': 3, 'character': 'Chun-soo', 'cred...</td>\n",
              "      <td>[{'credit_id': '52fe464b9251416c75073b43', 'de...</td>\n",
              "      <td>3923970</td>\n",
              "    </tr>\n",
              "  </tbody>\n",
              "</table>\n",
              "</div>"
            ],
            "text/plain": [
              "  belongs_to_how_many_coll  ...   revenue\n",
              "0                        1  ...  12314651\n",
              "1                        1  ...  95149435\n",
              "2                        0  ...  13092000\n",
              "3                        0  ...  16000000\n",
              "4                        0  ...   3923970\n",
              "\n",
              "[5 rows x 18 columns]"
            ]
          },
          "metadata": {
            "tags": []
          },
          "execution_count": 32
        }
      ]
    },
    {
      "cell_type": "markdown",
      "metadata": {
        "id": "0RdvIQfKHUeX"
      },
      "source": [
        "original title column"
      ]
    },
    {
      "cell_type": "code",
      "metadata": {
        "id": "bYD3g8lYHTjK"
      },
      "source": [
        "trainset.drop(['original_title'], axis=1, inplace=True)\n",
        "testset.drop(['original_title'], axis=1, inplace=True)"
      ],
      "execution_count": null,
      "outputs": []
    },
    {
      "cell_type": "markdown",
      "metadata": {
        "id": "92w_J9PtHZ0N"
      },
      "source": [
        "Production_companies column"
      ]
    },
    {
      "cell_type": "code",
      "metadata": {
        "colab": {
          "base_uri": "https://localhost:8080/"
        },
        "id": "s9aHRNdoHr5u",
        "outputId": "9e448da5-20d3-4eb1-e594-ae2b68b791c5"
      },
      "source": [
        "#number of production companies\n",
        "j = 0\n",
        "for i in trainset['production_companies']:\n",
        "    d = get_dict(i)\n",
        "    if d != {}:\n",
        "        trainset['production_companies'][j] = len(d)\n",
        "    else:\n",
        "         trainset['production_companies'][j] = 0\n",
        "    j += 1 \n",
        " "
      ],
      "execution_count": null,
      "outputs": [
        {
          "output_type": "stream",
          "text": [
            "/usr/local/lib/python3.7/dist-packages/ipykernel_launcher.py:6: SettingWithCopyWarning: \n",
            "A value is trying to be set on a copy of a slice from a DataFrame\n",
            "\n",
            "See the caveats in the documentation: https://pandas.pydata.org/pandas-docs/stable/user_guide/indexing.html#returning-a-view-versus-a-copy\n",
            "  \n",
            "/usr/local/lib/python3.7/dist-packages/ipykernel_launcher.py:8: SettingWithCopyWarning: \n",
            "A value is trying to be set on a copy of a slice from a DataFrame\n",
            "\n",
            "See the caveats in the documentation: https://pandas.pydata.org/pandas-docs/stable/user_guide/indexing.html#returning-a-view-versus-a-copy\n",
            "  \n"
          ],
          "name": "stderr"
        }
      ]
    },
    {
      "cell_type": "code",
      "metadata": {
        "colab": {
          "base_uri": "https://localhost:8080/"
        },
        "id": "JPRD-FC6IzSV",
        "outputId": "abe3b181-3b32-4f96-fff6-5d43d79930cf"
      },
      "source": [
        "j = 0\n",
        "for i in testset['production_companies']:\n",
        "    d = get_dict(i)\n",
        "    if d != {}:\n",
        "        testset['production_companies'][j] = len(d)\n",
        "    else:\n",
        "         testset['production_companies'][j] = 0\n",
        "    j += 1  "
      ],
      "execution_count": null,
      "outputs": [
        {
          "output_type": "stream",
          "text": [
            "/usr/local/lib/python3.7/dist-packages/ipykernel_launcher.py:7: SettingWithCopyWarning: \n",
            "A value is trying to be set on a copy of a slice from a DataFrame\n",
            "\n",
            "See the caveats in the documentation: https://pandas.pydata.org/pandas-docs/stable/user_guide/indexing.html#returning-a-view-versus-a-copy\n",
            "  import sys\n",
            "/usr/local/lib/python3.7/dist-packages/ipykernel_launcher.py:5: SettingWithCopyWarning: \n",
            "A value is trying to be set on a copy of a slice from a DataFrame\n",
            "\n",
            "See the caveats in the documentation: https://pandas.pydata.org/pandas-docs/stable/user_guide/indexing.html#returning-a-view-versus-a-copy\n",
            "  \"\"\"\n"
          ],
          "name": "stderr"
        }
      ]
    },
    {
      "cell_type": "code",
      "metadata": {
        "colab": {
          "base_uri": "https://localhost:8080/",
          "height": 484
        },
        "id": "BYPZ-miPI4OL",
        "outputId": "2e334fcb-7c82-4f8c-b55e-4eba18aecd3a"
      },
      "source": [
        "trainset.head()"
      ],
      "execution_count": null,
      "outputs": [
        {
          "output_type": "execute_result",
          "data": {
            "text/html": [
              "<div>\n",
              "<style scoped>\n",
              "    .dataframe tbody tr th:only-of-type {\n",
              "        vertical-align: middle;\n",
              "    }\n",
              "\n",
              "    .dataframe tbody tr th {\n",
              "        vertical-align: top;\n",
              "    }\n",
              "\n",
              "    .dataframe thead th {\n",
              "        text-align: right;\n",
              "    }\n",
              "</style>\n",
              "<table border=\"1\" class=\"dataframe\">\n",
              "  <thead>\n",
              "    <tr style=\"text-align: right;\">\n",
              "      <th></th>\n",
              "      <th>belongs_to_how_many_coll</th>\n",
              "      <th>budget</th>\n",
              "      <th>genres</th>\n",
              "      <th>has_homepage</th>\n",
              "      <th>is_en_original_language</th>\n",
              "      <th>popularity</th>\n",
              "      <th>production_companies</th>\n",
              "      <th>production_countries</th>\n",
              "      <th>release_date</th>\n",
              "      <th>runtime</th>\n",
              "      <th>spoken_languages</th>\n",
              "      <th>status</th>\n",
              "      <th>title</th>\n",
              "      <th>Keywords</th>\n",
              "      <th>cast</th>\n",
              "      <th>crew</th>\n",
              "      <th>revenue</th>\n",
              "    </tr>\n",
              "  </thead>\n",
              "  <tbody>\n",
              "    <tr>\n",
              "      <th>0</th>\n",
              "      <td>1</td>\n",
              "      <td>14000000.00</td>\n",
              "      <td>35</td>\n",
              "      <td>0</td>\n",
              "      <td>1</td>\n",
              "      <td>6.575393</td>\n",
              "      <td>3</td>\n",
              "      <td>[{'iso_3166_1': 'US', 'name': 'United States o...</td>\n",
              "      <td>2/20/15</td>\n",
              "      <td>93.0</td>\n",
              "      <td>[{'iso_639_1': 'en', 'name': 'English'}]</td>\n",
              "      <td>Released</td>\n",
              "      <td>Hot Tub Time Machine 2</td>\n",
              "      <td>[{'id': 4379, 'name': 'time travel'}, {'id': 9...</td>\n",
              "      <td>[{'cast_id': 4, 'character': 'Lou', 'credit_id...</td>\n",
              "      <td>[{'credit_id': '59ac067c92514107af02c8c8', 'de...</td>\n",
              "      <td>12314651</td>\n",
              "    </tr>\n",
              "    <tr>\n",
              "      <th>1</th>\n",
              "      <td>1</td>\n",
              "      <td>40000000.00</td>\n",
              "      <td>35</td>\n",
              "      <td>0</td>\n",
              "      <td>1</td>\n",
              "      <td>8.248895</td>\n",
              "      <td>1</td>\n",
              "      <td>[{'iso_3166_1': 'US', 'name': 'United States o...</td>\n",
              "      <td>8/6/04</td>\n",
              "      <td>113.0</td>\n",
              "      <td>[{'iso_639_1': 'en', 'name': 'English'}]</td>\n",
              "      <td>Released</td>\n",
              "      <td>The Princess Diaries 2: Royal Engagement</td>\n",
              "      <td>[{'id': 2505, 'name': 'coronation'}, {'id': 42...</td>\n",
              "      <td>[{'cast_id': 1, 'character': 'Mia Thermopolis'...</td>\n",
              "      <td>[{'credit_id': '52fe43fe9251416c7502563d', 'de...</td>\n",
              "      <td>95149435</td>\n",
              "    </tr>\n",
              "    <tr>\n",
              "      <th>2</th>\n",
              "      <td>0</td>\n",
              "      <td>3300000.00</td>\n",
              "      <td>18</td>\n",
              "      <td>1</td>\n",
              "      <td>1</td>\n",
              "      <td>64.299990</td>\n",
              "      <td>3</td>\n",
              "      <td>[{'iso_3166_1': 'US', 'name': 'United States o...</td>\n",
              "      <td>10/10/14</td>\n",
              "      <td>105.0</td>\n",
              "      <td>[{'iso_639_1': 'en', 'name': 'English'}]</td>\n",
              "      <td>Released</td>\n",
              "      <td>Whiplash</td>\n",
              "      <td>[{'id': 1416, 'name': 'jazz'}, {'id': 1523, 'n...</td>\n",
              "      <td>[{'cast_id': 5, 'character': 'Andrew Neimann',...</td>\n",
              "      <td>[{'credit_id': '54d5356ec3a3683ba0000039', 'de...</td>\n",
              "      <td>13092000</td>\n",
              "    </tr>\n",
              "    <tr>\n",
              "      <th>3</th>\n",
              "      <td>0</td>\n",
              "      <td>1200000.00</td>\n",
              "      <td>53</td>\n",
              "      <td>1</td>\n",
              "      <td>0</td>\n",
              "      <td>3.174936</td>\n",
              "      <td>0</td>\n",
              "      <td>[{'iso_3166_1': 'IN', 'name': 'India'}]</td>\n",
              "      <td>3/9/12</td>\n",
              "      <td>122.0</td>\n",
              "      <td>[{'iso_639_1': 'en', 'name': 'English'}, {'iso...</td>\n",
              "      <td>Released</td>\n",
              "      <td>Kahaani</td>\n",
              "      <td>[{'id': 10092, 'name': 'mystery'}, {'id': 1054...</td>\n",
              "      <td>[{'cast_id': 1, 'character': 'Vidya Bagchi', '...</td>\n",
              "      <td>[{'credit_id': '52fe48779251416c9108d6eb', 'de...</td>\n",
              "      <td>16000000</td>\n",
              "    </tr>\n",
              "    <tr>\n",
              "      <th>4</th>\n",
              "      <td>0</td>\n",
              "      <td>22531334.11</td>\n",
              "      <td>28</td>\n",
              "      <td>0</td>\n",
              "      <td>0</td>\n",
              "      <td>1.148070</td>\n",
              "      <td>0</td>\n",
              "      <td>[{'iso_3166_1': 'KR', 'name': 'South Korea'}]</td>\n",
              "      <td>2/5/09</td>\n",
              "      <td>118.0</td>\n",
              "      <td>[{'iso_639_1': 'ko', 'name': '한국어/조선말'}]</td>\n",
              "      <td>Released</td>\n",
              "      <td>Marine Boy</td>\n",
              "      <td>NaN</td>\n",
              "      <td>[{'cast_id': 3, 'character': 'Chun-soo', 'cred...</td>\n",
              "      <td>[{'credit_id': '52fe464b9251416c75073b43', 'de...</td>\n",
              "      <td>3923970</td>\n",
              "    </tr>\n",
              "  </tbody>\n",
              "</table>\n",
              "</div>"
            ],
            "text/plain": [
              "  belongs_to_how_many_coll  ...   revenue\n",
              "0                        1  ...  12314651\n",
              "1                        1  ...  95149435\n",
              "2                        0  ...  13092000\n",
              "3                        0  ...  16000000\n",
              "4                        0  ...   3923970\n",
              "\n",
              "[5 rows x 17 columns]"
            ]
          },
          "metadata": {
            "tags": []
          },
          "execution_count": 36
        }
      ]
    },
    {
      "cell_type": "markdown",
      "metadata": {
        "id": "KuqzLcAHJt4L"
      },
      "source": [
        "production_countries column"
      ]
    },
    {
      "cell_type": "code",
      "metadata": {
        "id": "f0SO1tkSEytR"
      },
      "source": [
        "#create is_USA column\n",
        "is_USA_prod_country = pd.DataFrame(columns=['is_USA_prod_country'])\n",
        "trainset = pd.concat([trainset, is_USA_prod_country], axis=1)\n",
        "testset = pd.concat([testset, is_USA_prod_country], axis=1)"
      ],
      "execution_count": null,
      "outputs": []
    },
    {
      "cell_type": "code",
      "metadata": {
        "colab": {
          "base_uri": "https://localhost:8080/"
        },
        "id": "Bz7s4Y5uFCWk",
        "outputId": "2be58995-1b2b-453a-cd03-826caf6f6611"
      },
      "source": [
        "j = 0\n",
        "for i in trainset['production_countries']:\n",
        "    d = get_dict(i)\n",
        "    if d != {}:\n",
        "      if d[0]['iso_3166_1']=='US':\n",
        "       trainset['is_USA_prod_country'][j] = 1 \n",
        "      else:\n",
        "       trainset['is_USA_prod_country'][j]=0\n",
        "       \n",
        "    else:\n",
        "       trainset['is_USA_prod_country'][j]=0\n",
        "    j += 1"
      ],
      "execution_count": null,
      "outputs": [
        {
          "output_type": "stream",
          "text": [
            "/usr/local/lib/python3.7/dist-packages/ipykernel_launcher.py:6: SettingWithCopyWarning: \n",
            "A value is trying to be set on a copy of a slice from a DataFrame\n",
            "\n",
            "See the caveats in the documentation: https://pandas.pydata.org/pandas-docs/stable/user_guide/indexing.html#returning-a-view-versus-a-copy\n",
            "  \n",
            "/usr/local/lib/python3.7/dist-packages/ipykernel_launcher.py:8: SettingWithCopyWarning: \n",
            "A value is trying to be set on a copy of a slice from a DataFrame\n",
            "\n",
            "See the caveats in the documentation: https://pandas.pydata.org/pandas-docs/stable/user_guide/indexing.html#returning-a-view-versus-a-copy\n",
            "  \n",
            "/usr/local/lib/python3.7/dist-packages/ipykernel_launcher.py:11: SettingWithCopyWarning: \n",
            "A value is trying to be set on a copy of a slice from a DataFrame\n",
            "\n",
            "See the caveats in the documentation: https://pandas.pydata.org/pandas-docs/stable/user_guide/indexing.html#returning-a-view-versus-a-copy\n",
            "  # This is added back by InteractiveShellApp.init_path()\n"
          ],
          "name": "stderr"
        }
      ]
    },
    {
      "cell_type": "code",
      "metadata": {
        "colab": {
          "base_uri": "https://localhost:8080/"
        },
        "id": "JIxlJdtmGPoK",
        "outputId": "4f3ae67f-c35b-4ba3-fb32-dc933d4e38c4"
      },
      "source": [
        "j = 0\n",
        "for i in testset['production_countries']:\n",
        "    d = get_dict(i)\n",
        "    if d != {}:\n",
        "      if d[0]['iso_3166_1']=='US':\n",
        "       testset['is_USA_prod_country'][j] = 1 \n",
        "      else:\n",
        "       testset['is_USA_prod_country'][j]=0\n",
        "       \n",
        "    else:\n",
        "       testset['is_USA_prod_country'][j]=0\n",
        "    j += 1"
      ],
      "execution_count": null,
      "outputs": [
        {
          "output_type": "stream",
          "text": [
            "/usr/local/lib/python3.7/dist-packages/ipykernel_launcher.py:8: SettingWithCopyWarning: \n",
            "A value is trying to be set on a copy of a slice from a DataFrame\n",
            "\n",
            "See the caveats in the documentation: https://pandas.pydata.org/pandas-docs/stable/user_guide/indexing.html#returning-a-view-versus-a-copy\n",
            "  \n",
            "/usr/local/lib/python3.7/dist-packages/ipykernel_launcher.py:6: SettingWithCopyWarning: \n",
            "A value is trying to be set on a copy of a slice from a DataFrame\n",
            "\n",
            "See the caveats in the documentation: https://pandas.pydata.org/pandas-docs/stable/user_guide/indexing.html#returning-a-view-versus-a-copy\n",
            "  \n",
            "/usr/local/lib/python3.7/dist-packages/ipykernel_launcher.py:11: SettingWithCopyWarning: \n",
            "A value is trying to be set on a copy of a slice from a DataFrame\n",
            "\n",
            "See the caveats in the documentation: https://pandas.pydata.org/pandas-docs/stable/user_guide/indexing.html#returning-a-view-versus-a-copy\n",
            "  # This is added back by InteractiveShellApp.init_path()\n"
          ],
          "name": "stderr"
        }
      ]
    },
    {
      "cell_type": "code",
      "metadata": {
        "colab": {
          "base_uri": "https://localhost:8080/",
          "height": 484
        },
        "id": "vzfFVeFsGUT9",
        "outputId": "4b7b02e4-18ed-49f1-88c2-0a496880a732"
      },
      "source": [
        "trainset.head()"
      ],
      "execution_count": null,
      "outputs": [
        {
          "output_type": "execute_result",
          "data": {
            "text/html": [
              "<div>\n",
              "<style scoped>\n",
              "    .dataframe tbody tr th:only-of-type {\n",
              "        vertical-align: middle;\n",
              "    }\n",
              "\n",
              "    .dataframe tbody tr th {\n",
              "        vertical-align: top;\n",
              "    }\n",
              "\n",
              "    .dataframe thead th {\n",
              "        text-align: right;\n",
              "    }\n",
              "</style>\n",
              "<table border=\"1\" class=\"dataframe\">\n",
              "  <thead>\n",
              "    <tr style=\"text-align: right;\">\n",
              "      <th></th>\n",
              "      <th>belongs_to_how_many_coll</th>\n",
              "      <th>budget</th>\n",
              "      <th>genres</th>\n",
              "      <th>has_homepage</th>\n",
              "      <th>is_en_original_language</th>\n",
              "      <th>popularity</th>\n",
              "      <th>production_companies</th>\n",
              "      <th>production_countries</th>\n",
              "      <th>release_date</th>\n",
              "      <th>runtime</th>\n",
              "      <th>spoken_languages</th>\n",
              "      <th>status</th>\n",
              "      <th>title</th>\n",
              "      <th>Keywords</th>\n",
              "      <th>cast</th>\n",
              "      <th>crew</th>\n",
              "      <th>revenue</th>\n",
              "      <th>is_USA_prod_country</th>\n",
              "    </tr>\n",
              "  </thead>\n",
              "  <tbody>\n",
              "    <tr>\n",
              "      <th>0</th>\n",
              "      <td>1</td>\n",
              "      <td>14000000.00</td>\n",
              "      <td>35</td>\n",
              "      <td>0</td>\n",
              "      <td>1</td>\n",
              "      <td>6.575393</td>\n",
              "      <td>3</td>\n",
              "      <td>[{'iso_3166_1': 'US', 'name': 'United States o...</td>\n",
              "      <td>2/20/15</td>\n",
              "      <td>93.0</td>\n",
              "      <td>[{'iso_639_1': 'en', 'name': 'English'}]</td>\n",
              "      <td>Released</td>\n",
              "      <td>Hot Tub Time Machine 2</td>\n",
              "      <td>[{'id': 4379, 'name': 'time travel'}, {'id': 9...</td>\n",
              "      <td>[{'cast_id': 4, 'character': 'Lou', 'credit_id...</td>\n",
              "      <td>[{'credit_id': '59ac067c92514107af02c8c8', 'de...</td>\n",
              "      <td>12314651</td>\n",
              "      <td>1</td>\n",
              "    </tr>\n",
              "    <tr>\n",
              "      <th>1</th>\n",
              "      <td>1</td>\n",
              "      <td>40000000.00</td>\n",
              "      <td>35</td>\n",
              "      <td>0</td>\n",
              "      <td>1</td>\n",
              "      <td>8.248895</td>\n",
              "      <td>1</td>\n",
              "      <td>[{'iso_3166_1': 'US', 'name': 'United States o...</td>\n",
              "      <td>8/6/04</td>\n",
              "      <td>113.0</td>\n",
              "      <td>[{'iso_639_1': 'en', 'name': 'English'}]</td>\n",
              "      <td>Released</td>\n",
              "      <td>The Princess Diaries 2: Royal Engagement</td>\n",
              "      <td>[{'id': 2505, 'name': 'coronation'}, {'id': 42...</td>\n",
              "      <td>[{'cast_id': 1, 'character': 'Mia Thermopolis'...</td>\n",
              "      <td>[{'credit_id': '52fe43fe9251416c7502563d', 'de...</td>\n",
              "      <td>95149435</td>\n",
              "      <td>1</td>\n",
              "    </tr>\n",
              "    <tr>\n",
              "      <th>2</th>\n",
              "      <td>0</td>\n",
              "      <td>3300000.00</td>\n",
              "      <td>18</td>\n",
              "      <td>1</td>\n",
              "      <td>1</td>\n",
              "      <td>64.299990</td>\n",
              "      <td>3</td>\n",
              "      <td>[{'iso_3166_1': 'US', 'name': 'United States o...</td>\n",
              "      <td>10/10/14</td>\n",
              "      <td>105.0</td>\n",
              "      <td>[{'iso_639_1': 'en', 'name': 'English'}]</td>\n",
              "      <td>Released</td>\n",
              "      <td>Whiplash</td>\n",
              "      <td>[{'id': 1416, 'name': 'jazz'}, {'id': 1523, 'n...</td>\n",
              "      <td>[{'cast_id': 5, 'character': 'Andrew Neimann',...</td>\n",
              "      <td>[{'credit_id': '54d5356ec3a3683ba0000039', 'de...</td>\n",
              "      <td>13092000</td>\n",
              "      <td>1</td>\n",
              "    </tr>\n",
              "    <tr>\n",
              "      <th>3</th>\n",
              "      <td>0</td>\n",
              "      <td>1200000.00</td>\n",
              "      <td>53</td>\n",
              "      <td>1</td>\n",
              "      <td>0</td>\n",
              "      <td>3.174936</td>\n",
              "      <td>0</td>\n",
              "      <td>[{'iso_3166_1': 'IN', 'name': 'India'}]</td>\n",
              "      <td>3/9/12</td>\n",
              "      <td>122.0</td>\n",
              "      <td>[{'iso_639_1': 'en', 'name': 'English'}, {'iso...</td>\n",
              "      <td>Released</td>\n",
              "      <td>Kahaani</td>\n",
              "      <td>[{'id': 10092, 'name': 'mystery'}, {'id': 1054...</td>\n",
              "      <td>[{'cast_id': 1, 'character': 'Vidya Bagchi', '...</td>\n",
              "      <td>[{'credit_id': '52fe48779251416c9108d6eb', 'de...</td>\n",
              "      <td>16000000</td>\n",
              "      <td>0</td>\n",
              "    </tr>\n",
              "    <tr>\n",
              "      <th>4</th>\n",
              "      <td>0</td>\n",
              "      <td>22531334.11</td>\n",
              "      <td>28</td>\n",
              "      <td>0</td>\n",
              "      <td>0</td>\n",
              "      <td>1.148070</td>\n",
              "      <td>0</td>\n",
              "      <td>[{'iso_3166_1': 'KR', 'name': 'South Korea'}]</td>\n",
              "      <td>2/5/09</td>\n",
              "      <td>118.0</td>\n",
              "      <td>[{'iso_639_1': 'ko', 'name': '한국어/조선말'}]</td>\n",
              "      <td>Released</td>\n",
              "      <td>Marine Boy</td>\n",
              "      <td>NaN</td>\n",
              "      <td>[{'cast_id': 3, 'character': 'Chun-soo', 'cred...</td>\n",
              "      <td>[{'credit_id': '52fe464b9251416c75073b43', 'de...</td>\n",
              "      <td>3923970</td>\n",
              "      <td>0</td>\n",
              "    </tr>\n",
              "  </tbody>\n",
              "</table>\n",
              "</div>"
            ],
            "text/plain": [
              "  belongs_to_how_many_coll       budget  ...   revenue is_USA_prod_country\n",
              "0                        1  14000000.00  ...  12314651                   1\n",
              "1                        1  40000000.00  ...  95149435                   1\n",
              "2                        0   3300000.00  ...  13092000                   1\n",
              "3                        0   1200000.00  ...  16000000                   0\n",
              "4                        0  22531334.11  ...   3923970                   0\n",
              "\n",
              "[5 rows x 18 columns]"
            ]
          },
          "metadata": {
            "tags": []
          },
          "execution_count": 40
        }
      ]
    },
    {
      "cell_type": "code",
      "metadata": {
        "colab": {
          "base_uri": "https://localhost:8080/"
        },
        "id": "r7c63H1YJwM0",
        "outputId": "2dd2fcff-e336-4001-8eb3-23322b8b5a35"
      },
      "source": [
        "#number of production countries\n",
        "j = 0\n",
        "for i in trainset['production_countries']:\n",
        "    d = get_dict(i)\n",
        "    if d != {}:\n",
        "        trainset['production_countries'][j] = len(d)\n",
        "    else:\n",
        "         trainset['production_countries'][j] = 0\n",
        "    j += 1  "
      ],
      "execution_count": null,
      "outputs": [
        {
          "output_type": "stream",
          "text": [
            "/usr/local/lib/python3.7/dist-packages/ipykernel_launcher.py:6: SettingWithCopyWarning: \n",
            "A value is trying to be set on a copy of a slice from a DataFrame\n",
            "\n",
            "See the caveats in the documentation: https://pandas.pydata.org/pandas-docs/stable/user_guide/indexing.html#returning-a-view-versus-a-copy\n",
            "  \n",
            "/usr/local/lib/python3.7/dist-packages/ipykernel_launcher.py:8: SettingWithCopyWarning: \n",
            "A value is trying to be set on a copy of a slice from a DataFrame\n",
            "\n",
            "See the caveats in the documentation: https://pandas.pydata.org/pandas-docs/stable/user_guide/indexing.html#returning-a-view-versus-a-copy\n",
            "  \n"
          ],
          "name": "stderr"
        }
      ]
    },
    {
      "cell_type": "code",
      "metadata": {
        "colab": {
          "base_uri": "https://localhost:8080/"
        },
        "id": "tcE9NNd3J3ay",
        "outputId": "5e0f74cd-5881-44cc-8192-f95ba16a64ab"
      },
      "source": [
        "j = 0\n",
        "for i in testset['production_countries']:\n",
        "    d = get_dict(i)\n",
        "    if d != {}:\n",
        "        testset['production_countries'][j] = len(d)\n",
        "    else:\n",
        "         testset['production_countries'][j] = 0\n",
        "    j += 1  "
      ],
      "execution_count": null,
      "outputs": [
        {
          "output_type": "stream",
          "text": [
            "/usr/local/lib/python3.7/dist-packages/ipykernel_launcher.py:5: SettingWithCopyWarning: \n",
            "A value is trying to be set on a copy of a slice from a DataFrame\n",
            "\n",
            "See the caveats in the documentation: https://pandas.pydata.org/pandas-docs/stable/user_guide/indexing.html#returning-a-view-versus-a-copy\n",
            "  \"\"\"\n",
            "/usr/local/lib/python3.7/dist-packages/ipykernel_launcher.py:7: SettingWithCopyWarning: \n",
            "A value is trying to be set on a copy of a slice from a DataFrame\n",
            "\n",
            "See the caveats in the documentation: https://pandas.pydata.org/pandas-docs/stable/user_guide/indexing.html#returning-a-view-versus-a-copy\n",
            "  import sys\n"
          ],
          "name": "stderr"
        }
      ]
    },
    {
      "cell_type": "code",
      "metadata": {
        "colab": {
          "base_uri": "https://localhost:8080/",
          "height": 484
        },
        "id": "lJA0bDGHKAaA",
        "outputId": "949f6274-4672-4e25-c7ec-dddb3762fb62"
      },
      "source": [
        "trainset.head()"
      ],
      "execution_count": null,
      "outputs": [
        {
          "output_type": "execute_result",
          "data": {
            "text/html": [
              "<div>\n",
              "<style scoped>\n",
              "    .dataframe tbody tr th:only-of-type {\n",
              "        vertical-align: middle;\n",
              "    }\n",
              "\n",
              "    .dataframe tbody tr th {\n",
              "        vertical-align: top;\n",
              "    }\n",
              "\n",
              "    .dataframe thead th {\n",
              "        text-align: right;\n",
              "    }\n",
              "</style>\n",
              "<table border=\"1\" class=\"dataframe\">\n",
              "  <thead>\n",
              "    <tr style=\"text-align: right;\">\n",
              "      <th></th>\n",
              "      <th>belongs_to_how_many_coll</th>\n",
              "      <th>budget</th>\n",
              "      <th>genres</th>\n",
              "      <th>has_homepage</th>\n",
              "      <th>is_en_original_language</th>\n",
              "      <th>popularity</th>\n",
              "      <th>production_companies</th>\n",
              "      <th>production_countries</th>\n",
              "      <th>release_date</th>\n",
              "      <th>runtime</th>\n",
              "      <th>spoken_languages</th>\n",
              "      <th>status</th>\n",
              "      <th>title</th>\n",
              "      <th>Keywords</th>\n",
              "      <th>cast</th>\n",
              "      <th>crew</th>\n",
              "      <th>revenue</th>\n",
              "      <th>is_USA_prod_country</th>\n",
              "    </tr>\n",
              "  </thead>\n",
              "  <tbody>\n",
              "    <tr>\n",
              "      <th>0</th>\n",
              "      <td>1</td>\n",
              "      <td>14000000.00</td>\n",
              "      <td>35</td>\n",
              "      <td>0</td>\n",
              "      <td>1</td>\n",
              "      <td>6.575393</td>\n",
              "      <td>3</td>\n",
              "      <td>1</td>\n",
              "      <td>2/20/15</td>\n",
              "      <td>93.0</td>\n",
              "      <td>[{'iso_639_1': 'en', 'name': 'English'}]</td>\n",
              "      <td>Released</td>\n",
              "      <td>Hot Tub Time Machine 2</td>\n",
              "      <td>[{'id': 4379, 'name': 'time travel'}, {'id': 9...</td>\n",
              "      <td>[{'cast_id': 4, 'character': 'Lou', 'credit_id...</td>\n",
              "      <td>[{'credit_id': '59ac067c92514107af02c8c8', 'de...</td>\n",
              "      <td>12314651</td>\n",
              "      <td>1</td>\n",
              "    </tr>\n",
              "    <tr>\n",
              "      <th>1</th>\n",
              "      <td>1</td>\n",
              "      <td>40000000.00</td>\n",
              "      <td>35</td>\n",
              "      <td>0</td>\n",
              "      <td>1</td>\n",
              "      <td>8.248895</td>\n",
              "      <td>1</td>\n",
              "      <td>1</td>\n",
              "      <td>8/6/04</td>\n",
              "      <td>113.0</td>\n",
              "      <td>[{'iso_639_1': 'en', 'name': 'English'}]</td>\n",
              "      <td>Released</td>\n",
              "      <td>The Princess Diaries 2: Royal Engagement</td>\n",
              "      <td>[{'id': 2505, 'name': 'coronation'}, {'id': 42...</td>\n",
              "      <td>[{'cast_id': 1, 'character': 'Mia Thermopolis'...</td>\n",
              "      <td>[{'credit_id': '52fe43fe9251416c7502563d', 'de...</td>\n",
              "      <td>95149435</td>\n",
              "      <td>1</td>\n",
              "    </tr>\n",
              "    <tr>\n",
              "      <th>2</th>\n",
              "      <td>0</td>\n",
              "      <td>3300000.00</td>\n",
              "      <td>18</td>\n",
              "      <td>1</td>\n",
              "      <td>1</td>\n",
              "      <td>64.299990</td>\n",
              "      <td>3</td>\n",
              "      <td>1</td>\n",
              "      <td>10/10/14</td>\n",
              "      <td>105.0</td>\n",
              "      <td>[{'iso_639_1': 'en', 'name': 'English'}]</td>\n",
              "      <td>Released</td>\n",
              "      <td>Whiplash</td>\n",
              "      <td>[{'id': 1416, 'name': 'jazz'}, {'id': 1523, 'n...</td>\n",
              "      <td>[{'cast_id': 5, 'character': 'Andrew Neimann',...</td>\n",
              "      <td>[{'credit_id': '54d5356ec3a3683ba0000039', 'de...</td>\n",
              "      <td>13092000</td>\n",
              "      <td>1</td>\n",
              "    </tr>\n",
              "    <tr>\n",
              "      <th>3</th>\n",
              "      <td>0</td>\n",
              "      <td>1200000.00</td>\n",
              "      <td>53</td>\n",
              "      <td>1</td>\n",
              "      <td>0</td>\n",
              "      <td>3.174936</td>\n",
              "      <td>0</td>\n",
              "      <td>1</td>\n",
              "      <td>3/9/12</td>\n",
              "      <td>122.0</td>\n",
              "      <td>[{'iso_639_1': 'en', 'name': 'English'}, {'iso...</td>\n",
              "      <td>Released</td>\n",
              "      <td>Kahaani</td>\n",
              "      <td>[{'id': 10092, 'name': 'mystery'}, {'id': 1054...</td>\n",
              "      <td>[{'cast_id': 1, 'character': 'Vidya Bagchi', '...</td>\n",
              "      <td>[{'credit_id': '52fe48779251416c9108d6eb', 'de...</td>\n",
              "      <td>16000000</td>\n",
              "      <td>0</td>\n",
              "    </tr>\n",
              "    <tr>\n",
              "      <th>4</th>\n",
              "      <td>0</td>\n",
              "      <td>22531334.11</td>\n",
              "      <td>28</td>\n",
              "      <td>0</td>\n",
              "      <td>0</td>\n",
              "      <td>1.148070</td>\n",
              "      <td>0</td>\n",
              "      <td>1</td>\n",
              "      <td>2/5/09</td>\n",
              "      <td>118.0</td>\n",
              "      <td>[{'iso_639_1': 'ko', 'name': '한국어/조선말'}]</td>\n",
              "      <td>Released</td>\n",
              "      <td>Marine Boy</td>\n",
              "      <td>NaN</td>\n",
              "      <td>[{'cast_id': 3, 'character': 'Chun-soo', 'cred...</td>\n",
              "      <td>[{'credit_id': '52fe464b9251416c75073b43', 'de...</td>\n",
              "      <td>3923970</td>\n",
              "      <td>0</td>\n",
              "    </tr>\n",
              "  </tbody>\n",
              "</table>\n",
              "</div>"
            ],
            "text/plain": [
              "  belongs_to_how_many_coll       budget  ...   revenue is_USA_prod_country\n",
              "0                        1  14000000.00  ...  12314651                   1\n",
              "1                        1  40000000.00  ...  95149435                   1\n",
              "2                        0   3300000.00  ...  13092000                   1\n",
              "3                        0   1200000.00  ...  16000000                   0\n",
              "4                        0  22531334.11  ...   3923970                   0\n",
              "\n",
              "[5 rows x 18 columns]"
            ]
          },
          "metadata": {
            "tags": []
          },
          "execution_count": 43
        }
      ]
    },
    {
      "cell_type": "markdown",
      "metadata": {
        "id": "Syxc8fnsLM5g"
      },
      "source": [
        "release_date column"
      ]
    },
    {
      "cell_type": "code",
      "metadata": {
        "colab": {
          "base_uri": "https://localhost:8080/"
        },
        "id": "u0RkuFQqYdQc",
        "outputId": "dafb79e5-2497-4cc7-c3f5-a73321e1a853"
      },
      "source": [
        "testset.isnull().sum()"
      ],
      "execution_count": null,
      "outputs": [
        {
          "output_type": "execute_result",
          "data": {
            "text/plain": [
              "belongs_to_how_many_coll      0\n",
              "budget                        0\n",
              "genres                        0\n",
              "has_homepage                  0\n",
              "is_en_original_language       0\n",
              "popularity                    0\n",
              "production_companies          0\n",
              "production_countries          0\n",
              "release_date                  1\n",
              "runtime                       4\n",
              "spoken_languages             42\n",
              "status                        2\n",
              "title                         3\n",
              "Keywords                    393\n",
              "cast                         13\n",
              "crew                         22\n",
              "is_USA_prod_country           0\n",
              "dtype: int64"
            ]
          },
          "metadata": {
            "tags": []
          },
          "execution_count": 44
        }
      ]
    },
    {
      "cell_type": "code",
      "metadata": {
        "colab": {
          "base_uri": "https://localhost:8080/"
        },
        "id": "J3_WYnZTZbbe",
        "outputId": "bb4a10ee-afad-4ffa-d0ac-3fd7dfd527e8"
      },
      "source": [
        "testset.value_counts('release_date')"
      ],
      "execution_count": null,
      "outputs": [
        {
          "output_type": "execute_result",
          "data": {
            "text/plain": [
              "release_date\n",
              "9/9/11     7\n",
              "2/6/09     6\n",
              "9/10/14    5\n",
              "9/10/10    5\n",
              "9/9/05     5\n",
              "          ..\n",
              "5/26/13    1\n",
              "5/26/11    1\n",
              "5/26/10    1\n",
              "5/26/00    1\n",
              "1/1/00     1\n",
              "Length: 3289, dtype: int64"
            ]
          },
          "metadata": {
            "tags": []
          },
          "execution_count": 45
        }
      ]
    },
    {
      "cell_type": "code",
      "metadata": {
        "id": "Ced6Osw9Zgiy"
      },
      "source": [
        "testset['release_date'] = testset['release_date'].fillna(testset['release_date'].mode()[0])"
      ],
      "execution_count": null,
      "outputs": []
    },
    {
      "cell_type": "code",
      "metadata": {
        "colab": {
          "base_uri": "https://localhost:8080/",
          "height": 484
        },
        "id": "bSMA8yivLPM9",
        "outputId": "efbe4b93-c6be-45f6-f4ac-59d0b816d1d8"
      },
      "source": [
        "trainset['release_year']=trainset['release_date'].astype('str').transform(lambda x: int(x.split(\"/\")[-1])).astype(int)\n",
        "testset['release_year']=testset['release_date'].astype('str').transform(lambda x: int(x.split(\"/\")[-1])).astype(int)\n",
        "trainset.head()"
      ],
      "execution_count": null,
      "outputs": [
        {
          "output_type": "execute_result",
          "data": {
            "text/html": [
              "<div>\n",
              "<style scoped>\n",
              "    .dataframe tbody tr th:only-of-type {\n",
              "        vertical-align: middle;\n",
              "    }\n",
              "\n",
              "    .dataframe tbody tr th {\n",
              "        vertical-align: top;\n",
              "    }\n",
              "\n",
              "    .dataframe thead th {\n",
              "        text-align: right;\n",
              "    }\n",
              "</style>\n",
              "<table border=\"1\" class=\"dataframe\">\n",
              "  <thead>\n",
              "    <tr style=\"text-align: right;\">\n",
              "      <th></th>\n",
              "      <th>belongs_to_how_many_coll</th>\n",
              "      <th>budget</th>\n",
              "      <th>genres</th>\n",
              "      <th>has_homepage</th>\n",
              "      <th>is_en_original_language</th>\n",
              "      <th>popularity</th>\n",
              "      <th>production_companies</th>\n",
              "      <th>production_countries</th>\n",
              "      <th>release_date</th>\n",
              "      <th>runtime</th>\n",
              "      <th>spoken_languages</th>\n",
              "      <th>status</th>\n",
              "      <th>title</th>\n",
              "      <th>Keywords</th>\n",
              "      <th>cast</th>\n",
              "      <th>crew</th>\n",
              "      <th>revenue</th>\n",
              "      <th>is_USA_prod_country</th>\n",
              "      <th>release_year</th>\n",
              "    </tr>\n",
              "  </thead>\n",
              "  <tbody>\n",
              "    <tr>\n",
              "      <th>0</th>\n",
              "      <td>1</td>\n",
              "      <td>14000000.00</td>\n",
              "      <td>35</td>\n",
              "      <td>0</td>\n",
              "      <td>1</td>\n",
              "      <td>6.575393</td>\n",
              "      <td>3</td>\n",
              "      <td>1</td>\n",
              "      <td>2/20/15</td>\n",
              "      <td>93.0</td>\n",
              "      <td>[{'iso_639_1': 'en', 'name': 'English'}]</td>\n",
              "      <td>Released</td>\n",
              "      <td>Hot Tub Time Machine 2</td>\n",
              "      <td>[{'id': 4379, 'name': 'time travel'}, {'id': 9...</td>\n",
              "      <td>[{'cast_id': 4, 'character': 'Lou', 'credit_id...</td>\n",
              "      <td>[{'credit_id': '59ac067c92514107af02c8c8', 'de...</td>\n",
              "      <td>12314651</td>\n",
              "      <td>1</td>\n",
              "      <td>15</td>\n",
              "    </tr>\n",
              "    <tr>\n",
              "      <th>1</th>\n",
              "      <td>1</td>\n",
              "      <td>40000000.00</td>\n",
              "      <td>35</td>\n",
              "      <td>0</td>\n",
              "      <td>1</td>\n",
              "      <td>8.248895</td>\n",
              "      <td>1</td>\n",
              "      <td>1</td>\n",
              "      <td>8/6/04</td>\n",
              "      <td>113.0</td>\n",
              "      <td>[{'iso_639_1': 'en', 'name': 'English'}]</td>\n",
              "      <td>Released</td>\n",
              "      <td>The Princess Diaries 2: Royal Engagement</td>\n",
              "      <td>[{'id': 2505, 'name': 'coronation'}, {'id': 42...</td>\n",
              "      <td>[{'cast_id': 1, 'character': 'Mia Thermopolis'...</td>\n",
              "      <td>[{'credit_id': '52fe43fe9251416c7502563d', 'de...</td>\n",
              "      <td>95149435</td>\n",
              "      <td>1</td>\n",
              "      <td>4</td>\n",
              "    </tr>\n",
              "    <tr>\n",
              "      <th>2</th>\n",
              "      <td>0</td>\n",
              "      <td>3300000.00</td>\n",
              "      <td>18</td>\n",
              "      <td>1</td>\n",
              "      <td>1</td>\n",
              "      <td>64.299990</td>\n",
              "      <td>3</td>\n",
              "      <td>1</td>\n",
              "      <td>10/10/14</td>\n",
              "      <td>105.0</td>\n",
              "      <td>[{'iso_639_1': 'en', 'name': 'English'}]</td>\n",
              "      <td>Released</td>\n",
              "      <td>Whiplash</td>\n",
              "      <td>[{'id': 1416, 'name': 'jazz'}, {'id': 1523, 'n...</td>\n",
              "      <td>[{'cast_id': 5, 'character': 'Andrew Neimann',...</td>\n",
              "      <td>[{'credit_id': '54d5356ec3a3683ba0000039', 'de...</td>\n",
              "      <td>13092000</td>\n",
              "      <td>1</td>\n",
              "      <td>14</td>\n",
              "    </tr>\n",
              "    <tr>\n",
              "      <th>3</th>\n",
              "      <td>0</td>\n",
              "      <td>1200000.00</td>\n",
              "      <td>53</td>\n",
              "      <td>1</td>\n",
              "      <td>0</td>\n",
              "      <td>3.174936</td>\n",
              "      <td>0</td>\n",
              "      <td>1</td>\n",
              "      <td>3/9/12</td>\n",
              "      <td>122.0</td>\n",
              "      <td>[{'iso_639_1': 'en', 'name': 'English'}, {'iso...</td>\n",
              "      <td>Released</td>\n",
              "      <td>Kahaani</td>\n",
              "      <td>[{'id': 10092, 'name': 'mystery'}, {'id': 1054...</td>\n",
              "      <td>[{'cast_id': 1, 'character': 'Vidya Bagchi', '...</td>\n",
              "      <td>[{'credit_id': '52fe48779251416c9108d6eb', 'de...</td>\n",
              "      <td>16000000</td>\n",
              "      <td>0</td>\n",
              "      <td>12</td>\n",
              "    </tr>\n",
              "    <tr>\n",
              "      <th>4</th>\n",
              "      <td>0</td>\n",
              "      <td>22531334.11</td>\n",
              "      <td>28</td>\n",
              "      <td>0</td>\n",
              "      <td>0</td>\n",
              "      <td>1.148070</td>\n",
              "      <td>0</td>\n",
              "      <td>1</td>\n",
              "      <td>2/5/09</td>\n",
              "      <td>118.0</td>\n",
              "      <td>[{'iso_639_1': 'ko', 'name': '한국어/조선말'}]</td>\n",
              "      <td>Released</td>\n",
              "      <td>Marine Boy</td>\n",
              "      <td>NaN</td>\n",
              "      <td>[{'cast_id': 3, 'character': 'Chun-soo', 'cred...</td>\n",
              "      <td>[{'credit_id': '52fe464b9251416c75073b43', 'de...</td>\n",
              "      <td>3923970</td>\n",
              "      <td>0</td>\n",
              "      <td>9</td>\n",
              "    </tr>\n",
              "  </tbody>\n",
              "</table>\n",
              "</div>"
            ],
            "text/plain": [
              "  belongs_to_how_many_coll       budget  ...  is_USA_prod_country release_year\n",
              "0                        1  14000000.00  ...                    1           15\n",
              "1                        1  40000000.00  ...                    1            4\n",
              "2                        0   3300000.00  ...                    1           14\n",
              "3                        0   1200000.00  ...                    0           12\n",
              "4                        0  22531334.11  ...                    0            9\n",
              "\n",
              "[5 rows x 19 columns]"
            ]
          },
          "metadata": {
            "tags": []
          },
          "execution_count": 47
        }
      ]
    },
    {
      "cell_type": "code",
      "metadata": {
        "colab": {
          "base_uri": "https://localhost:8080/",
          "height": 484
        },
        "id": "v-JcWi8BHh-a",
        "outputId": "ccffa712-ff1e-4347-b70f-1d3e6f58810e"
      },
      "source": [
        "trainset['release_month']=trainset['release_date'].astype('str').transform(lambda x: int(x.split(\"/\")[-0])).astype(int)\n",
        "testset['release_month']=testset['release_date'].astype('str').transform(lambda x: int(x.split(\"/\")[-0])).astype(int)\n",
        "trainset.head()"
      ],
      "execution_count": null,
      "outputs": [
        {
          "output_type": "execute_result",
          "data": {
            "text/html": [
              "<div>\n",
              "<style scoped>\n",
              "    .dataframe tbody tr th:only-of-type {\n",
              "        vertical-align: middle;\n",
              "    }\n",
              "\n",
              "    .dataframe tbody tr th {\n",
              "        vertical-align: top;\n",
              "    }\n",
              "\n",
              "    .dataframe thead th {\n",
              "        text-align: right;\n",
              "    }\n",
              "</style>\n",
              "<table border=\"1\" class=\"dataframe\">\n",
              "  <thead>\n",
              "    <tr style=\"text-align: right;\">\n",
              "      <th></th>\n",
              "      <th>belongs_to_how_many_coll</th>\n",
              "      <th>budget</th>\n",
              "      <th>genres</th>\n",
              "      <th>has_homepage</th>\n",
              "      <th>is_en_original_language</th>\n",
              "      <th>popularity</th>\n",
              "      <th>production_companies</th>\n",
              "      <th>production_countries</th>\n",
              "      <th>release_date</th>\n",
              "      <th>runtime</th>\n",
              "      <th>spoken_languages</th>\n",
              "      <th>status</th>\n",
              "      <th>title</th>\n",
              "      <th>Keywords</th>\n",
              "      <th>cast</th>\n",
              "      <th>crew</th>\n",
              "      <th>revenue</th>\n",
              "      <th>is_USA_prod_country</th>\n",
              "      <th>release_year</th>\n",
              "      <th>release_month</th>\n",
              "    </tr>\n",
              "  </thead>\n",
              "  <tbody>\n",
              "    <tr>\n",
              "      <th>0</th>\n",
              "      <td>1</td>\n",
              "      <td>14000000.00</td>\n",
              "      <td>35</td>\n",
              "      <td>0</td>\n",
              "      <td>1</td>\n",
              "      <td>6.575393</td>\n",
              "      <td>3</td>\n",
              "      <td>1</td>\n",
              "      <td>2/20/15</td>\n",
              "      <td>93.0</td>\n",
              "      <td>[{'iso_639_1': 'en', 'name': 'English'}]</td>\n",
              "      <td>Released</td>\n",
              "      <td>Hot Tub Time Machine 2</td>\n",
              "      <td>[{'id': 4379, 'name': 'time travel'}, {'id': 9...</td>\n",
              "      <td>[{'cast_id': 4, 'character': 'Lou', 'credit_id...</td>\n",
              "      <td>[{'credit_id': '59ac067c92514107af02c8c8', 'de...</td>\n",
              "      <td>12314651</td>\n",
              "      <td>1</td>\n",
              "      <td>15</td>\n",
              "      <td>2</td>\n",
              "    </tr>\n",
              "    <tr>\n",
              "      <th>1</th>\n",
              "      <td>1</td>\n",
              "      <td>40000000.00</td>\n",
              "      <td>35</td>\n",
              "      <td>0</td>\n",
              "      <td>1</td>\n",
              "      <td>8.248895</td>\n",
              "      <td>1</td>\n",
              "      <td>1</td>\n",
              "      <td>8/6/04</td>\n",
              "      <td>113.0</td>\n",
              "      <td>[{'iso_639_1': 'en', 'name': 'English'}]</td>\n",
              "      <td>Released</td>\n",
              "      <td>The Princess Diaries 2: Royal Engagement</td>\n",
              "      <td>[{'id': 2505, 'name': 'coronation'}, {'id': 42...</td>\n",
              "      <td>[{'cast_id': 1, 'character': 'Mia Thermopolis'...</td>\n",
              "      <td>[{'credit_id': '52fe43fe9251416c7502563d', 'de...</td>\n",
              "      <td>95149435</td>\n",
              "      <td>1</td>\n",
              "      <td>4</td>\n",
              "      <td>8</td>\n",
              "    </tr>\n",
              "    <tr>\n",
              "      <th>2</th>\n",
              "      <td>0</td>\n",
              "      <td>3300000.00</td>\n",
              "      <td>18</td>\n",
              "      <td>1</td>\n",
              "      <td>1</td>\n",
              "      <td>64.299990</td>\n",
              "      <td>3</td>\n",
              "      <td>1</td>\n",
              "      <td>10/10/14</td>\n",
              "      <td>105.0</td>\n",
              "      <td>[{'iso_639_1': 'en', 'name': 'English'}]</td>\n",
              "      <td>Released</td>\n",
              "      <td>Whiplash</td>\n",
              "      <td>[{'id': 1416, 'name': 'jazz'}, {'id': 1523, 'n...</td>\n",
              "      <td>[{'cast_id': 5, 'character': 'Andrew Neimann',...</td>\n",
              "      <td>[{'credit_id': '54d5356ec3a3683ba0000039', 'de...</td>\n",
              "      <td>13092000</td>\n",
              "      <td>1</td>\n",
              "      <td>14</td>\n",
              "      <td>10</td>\n",
              "    </tr>\n",
              "    <tr>\n",
              "      <th>3</th>\n",
              "      <td>0</td>\n",
              "      <td>1200000.00</td>\n",
              "      <td>53</td>\n",
              "      <td>1</td>\n",
              "      <td>0</td>\n",
              "      <td>3.174936</td>\n",
              "      <td>0</td>\n",
              "      <td>1</td>\n",
              "      <td>3/9/12</td>\n",
              "      <td>122.0</td>\n",
              "      <td>[{'iso_639_1': 'en', 'name': 'English'}, {'iso...</td>\n",
              "      <td>Released</td>\n",
              "      <td>Kahaani</td>\n",
              "      <td>[{'id': 10092, 'name': 'mystery'}, {'id': 1054...</td>\n",
              "      <td>[{'cast_id': 1, 'character': 'Vidya Bagchi', '...</td>\n",
              "      <td>[{'credit_id': '52fe48779251416c9108d6eb', 'de...</td>\n",
              "      <td>16000000</td>\n",
              "      <td>0</td>\n",
              "      <td>12</td>\n",
              "      <td>3</td>\n",
              "    </tr>\n",
              "    <tr>\n",
              "      <th>4</th>\n",
              "      <td>0</td>\n",
              "      <td>22531334.11</td>\n",
              "      <td>28</td>\n",
              "      <td>0</td>\n",
              "      <td>0</td>\n",
              "      <td>1.148070</td>\n",
              "      <td>0</td>\n",
              "      <td>1</td>\n",
              "      <td>2/5/09</td>\n",
              "      <td>118.0</td>\n",
              "      <td>[{'iso_639_1': 'ko', 'name': '한국어/조선말'}]</td>\n",
              "      <td>Released</td>\n",
              "      <td>Marine Boy</td>\n",
              "      <td>NaN</td>\n",
              "      <td>[{'cast_id': 3, 'character': 'Chun-soo', 'cred...</td>\n",
              "      <td>[{'credit_id': '52fe464b9251416c75073b43', 'de...</td>\n",
              "      <td>3923970</td>\n",
              "      <td>0</td>\n",
              "      <td>9</td>\n",
              "      <td>2</td>\n",
              "    </tr>\n",
              "  </tbody>\n",
              "</table>\n",
              "</div>"
            ],
            "text/plain": [
              "  belongs_to_how_many_coll       budget  ...  release_year release_month\n",
              "0                        1  14000000.00  ...            15             2\n",
              "1                        1  40000000.00  ...             4             8\n",
              "2                        0   3300000.00  ...            14            10\n",
              "3                        0   1200000.00  ...            12             3\n",
              "4                        0  22531334.11  ...             9             2\n",
              "\n",
              "[5 rows x 20 columns]"
            ]
          },
          "metadata": {
            "tags": []
          },
          "execution_count": 48
        }
      ]
    },
    {
      "cell_type": "code",
      "metadata": {
        "colab": {
          "base_uri": "https://localhost:8080/",
          "height": 484
        },
        "id": "mR24HbgdcWM0",
        "outputId": "d5c8229e-717c-40a4-ef9a-7c30ea576589"
      },
      "source": [
        "trainset.drop(['release_date'], axis = 1,inplace=True)\n",
        "testset.drop(['release_date'], axis = 1,inplace=True)\n",
        "trainset.head()"
      ],
      "execution_count": null,
      "outputs": [
        {
          "output_type": "execute_result",
          "data": {
            "text/html": [
              "<div>\n",
              "<style scoped>\n",
              "    .dataframe tbody tr th:only-of-type {\n",
              "        vertical-align: middle;\n",
              "    }\n",
              "\n",
              "    .dataframe tbody tr th {\n",
              "        vertical-align: top;\n",
              "    }\n",
              "\n",
              "    .dataframe thead th {\n",
              "        text-align: right;\n",
              "    }\n",
              "</style>\n",
              "<table border=\"1\" class=\"dataframe\">\n",
              "  <thead>\n",
              "    <tr style=\"text-align: right;\">\n",
              "      <th></th>\n",
              "      <th>belongs_to_how_many_coll</th>\n",
              "      <th>budget</th>\n",
              "      <th>genres</th>\n",
              "      <th>has_homepage</th>\n",
              "      <th>is_en_original_language</th>\n",
              "      <th>popularity</th>\n",
              "      <th>production_companies</th>\n",
              "      <th>production_countries</th>\n",
              "      <th>runtime</th>\n",
              "      <th>spoken_languages</th>\n",
              "      <th>status</th>\n",
              "      <th>title</th>\n",
              "      <th>Keywords</th>\n",
              "      <th>cast</th>\n",
              "      <th>crew</th>\n",
              "      <th>revenue</th>\n",
              "      <th>is_USA_prod_country</th>\n",
              "      <th>release_year</th>\n",
              "      <th>release_month</th>\n",
              "    </tr>\n",
              "  </thead>\n",
              "  <tbody>\n",
              "    <tr>\n",
              "      <th>0</th>\n",
              "      <td>1</td>\n",
              "      <td>14000000.00</td>\n",
              "      <td>35</td>\n",
              "      <td>0</td>\n",
              "      <td>1</td>\n",
              "      <td>6.575393</td>\n",
              "      <td>3</td>\n",
              "      <td>1</td>\n",
              "      <td>93.0</td>\n",
              "      <td>[{'iso_639_1': 'en', 'name': 'English'}]</td>\n",
              "      <td>Released</td>\n",
              "      <td>Hot Tub Time Machine 2</td>\n",
              "      <td>[{'id': 4379, 'name': 'time travel'}, {'id': 9...</td>\n",
              "      <td>[{'cast_id': 4, 'character': 'Lou', 'credit_id...</td>\n",
              "      <td>[{'credit_id': '59ac067c92514107af02c8c8', 'de...</td>\n",
              "      <td>12314651</td>\n",
              "      <td>1</td>\n",
              "      <td>15</td>\n",
              "      <td>2</td>\n",
              "    </tr>\n",
              "    <tr>\n",
              "      <th>1</th>\n",
              "      <td>1</td>\n",
              "      <td>40000000.00</td>\n",
              "      <td>35</td>\n",
              "      <td>0</td>\n",
              "      <td>1</td>\n",
              "      <td>8.248895</td>\n",
              "      <td>1</td>\n",
              "      <td>1</td>\n",
              "      <td>113.0</td>\n",
              "      <td>[{'iso_639_1': 'en', 'name': 'English'}]</td>\n",
              "      <td>Released</td>\n",
              "      <td>The Princess Diaries 2: Royal Engagement</td>\n",
              "      <td>[{'id': 2505, 'name': 'coronation'}, {'id': 42...</td>\n",
              "      <td>[{'cast_id': 1, 'character': 'Mia Thermopolis'...</td>\n",
              "      <td>[{'credit_id': '52fe43fe9251416c7502563d', 'de...</td>\n",
              "      <td>95149435</td>\n",
              "      <td>1</td>\n",
              "      <td>4</td>\n",
              "      <td>8</td>\n",
              "    </tr>\n",
              "    <tr>\n",
              "      <th>2</th>\n",
              "      <td>0</td>\n",
              "      <td>3300000.00</td>\n",
              "      <td>18</td>\n",
              "      <td>1</td>\n",
              "      <td>1</td>\n",
              "      <td>64.299990</td>\n",
              "      <td>3</td>\n",
              "      <td>1</td>\n",
              "      <td>105.0</td>\n",
              "      <td>[{'iso_639_1': 'en', 'name': 'English'}]</td>\n",
              "      <td>Released</td>\n",
              "      <td>Whiplash</td>\n",
              "      <td>[{'id': 1416, 'name': 'jazz'}, {'id': 1523, 'n...</td>\n",
              "      <td>[{'cast_id': 5, 'character': 'Andrew Neimann',...</td>\n",
              "      <td>[{'credit_id': '54d5356ec3a3683ba0000039', 'de...</td>\n",
              "      <td>13092000</td>\n",
              "      <td>1</td>\n",
              "      <td>14</td>\n",
              "      <td>10</td>\n",
              "    </tr>\n",
              "    <tr>\n",
              "      <th>3</th>\n",
              "      <td>0</td>\n",
              "      <td>1200000.00</td>\n",
              "      <td>53</td>\n",
              "      <td>1</td>\n",
              "      <td>0</td>\n",
              "      <td>3.174936</td>\n",
              "      <td>0</td>\n",
              "      <td>1</td>\n",
              "      <td>122.0</td>\n",
              "      <td>[{'iso_639_1': 'en', 'name': 'English'}, {'iso...</td>\n",
              "      <td>Released</td>\n",
              "      <td>Kahaani</td>\n",
              "      <td>[{'id': 10092, 'name': 'mystery'}, {'id': 1054...</td>\n",
              "      <td>[{'cast_id': 1, 'character': 'Vidya Bagchi', '...</td>\n",
              "      <td>[{'credit_id': '52fe48779251416c9108d6eb', 'de...</td>\n",
              "      <td>16000000</td>\n",
              "      <td>0</td>\n",
              "      <td>12</td>\n",
              "      <td>3</td>\n",
              "    </tr>\n",
              "    <tr>\n",
              "      <th>4</th>\n",
              "      <td>0</td>\n",
              "      <td>22531334.11</td>\n",
              "      <td>28</td>\n",
              "      <td>0</td>\n",
              "      <td>0</td>\n",
              "      <td>1.148070</td>\n",
              "      <td>0</td>\n",
              "      <td>1</td>\n",
              "      <td>118.0</td>\n",
              "      <td>[{'iso_639_1': 'ko', 'name': '한국어/조선말'}]</td>\n",
              "      <td>Released</td>\n",
              "      <td>Marine Boy</td>\n",
              "      <td>NaN</td>\n",
              "      <td>[{'cast_id': 3, 'character': 'Chun-soo', 'cred...</td>\n",
              "      <td>[{'credit_id': '52fe464b9251416c75073b43', 'de...</td>\n",
              "      <td>3923970</td>\n",
              "      <td>0</td>\n",
              "      <td>9</td>\n",
              "      <td>2</td>\n",
              "    </tr>\n",
              "  </tbody>\n",
              "</table>\n",
              "</div>"
            ],
            "text/plain": [
              "  belongs_to_how_many_coll       budget  ...  release_year release_month\n",
              "0                        1  14000000.00  ...            15             2\n",
              "1                        1  40000000.00  ...             4             8\n",
              "2                        0   3300000.00  ...            14            10\n",
              "3                        0   1200000.00  ...            12             3\n",
              "4                        0  22531334.11  ...             9             2\n",
              "\n",
              "[5 rows x 19 columns]"
            ]
          },
          "metadata": {
            "tags": []
          },
          "execution_count": 49
        }
      ]
    },
    {
      "cell_type": "markdown",
      "metadata": {
        "id": "aYcCDsePdk5h"
      },
      "source": [
        "runtime column"
      ]
    },
    {
      "cell_type": "code",
      "metadata": {
        "id": "D3ZuohUmdmi9"
      },
      "source": [
        "trainset['runtime']=trainset['runtime'].replace(np.NaN,trainset['runtime'].mean())\n",
        "testset['runtime']=testset['runtime'].replace(np.NaN,testset['runtime'].mean())"
      ],
      "execution_count": null,
      "outputs": []
    },
    {
      "cell_type": "markdown",
      "metadata": {
        "id": "NlPFQ9GVd7Ox"
      },
      "source": [
        "spoken_languages column"
      ]
    },
    {
      "cell_type": "code",
      "metadata": {
        "id": "EIdYmqZDgj1z"
      },
      "source": [
        "number_of_spoken_languages = pd.DataFrame(columns=['number_of_spoken_languages'])\n",
        "trainset = pd.concat([trainset, number_of_spoken_languages], axis=1)\n",
        "testset = pd.concat([testset, number_of_spoken_languages], axis=1)"
      ],
      "execution_count": null,
      "outputs": []
    },
    {
      "cell_type": "code",
      "metadata": {
        "colab": {
          "base_uri": "https://localhost:8080/"
        },
        "id": "V7PBvxHRe-Ms",
        "outputId": "f4458b95-08cd-4fe8-c3f2-5bf677927e7c"
      },
      "source": [
        "j = 0\n",
        "for i in trainset['spoken_languages']:\n",
        "    d = get_dict(i)\n",
        "    if d != {}:\n",
        "        trainset['number_of_spoken_languages'][j] = len(d)\n",
        "    else:\n",
        "         trainset['number_of_spoken_languages'][j] = 0\n",
        "    j += 1  "
      ],
      "execution_count": null,
      "outputs": [
        {
          "output_type": "stream",
          "text": [
            "/usr/local/lib/python3.7/dist-packages/ipykernel_launcher.py:5: SettingWithCopyWarning: \n",
            "A value is trying to be set on a copy of a slice from a DataFrame\n",
            "\n",
            "See the caveats in the documentation: https://pandas.pydata.org/pandas-docs/stable/user_guide/indexing.html#returning-a-view-versus-a-copy\n",
            "  \"\"\"\n",
            "/usr/local/lib/python3.7/dist-packages/ipykernel_launcher.py:7: SettingWithCopyWarning: \n",
            "A value is trying to be set on a copy of a slice from a DataFrame\n",
            "\n",
            "See the caveats in the documentation: https://pandas.pydata.org/pandas-docs/stable/user_guide/indexing.html#returning-a-view-versus-a-copy\n",
            "  import sys\n"
          ],
          "name": "stderr"
        }
      ]
    },
    {
      "cell_type": "code",
      "metadata": {
        "colab": {
          "base_uri": "https://localhost:8080/"
        },
        "id": "R0OyGqGufMPS",
        "outputId": "6d17f033-42a8-4d89-8861-c0c696430e61"
      },
      "source": [
        "j = 0\n",
        "for i in testset['spoken_languages']:\n",
        "    d = get_dict(i)\n",
        "    if d != {}:\n",
        "        testset['number_of_spoken_languages'][j] = len(d)\n",
        "    else:\n",
        "         testset['number_of_spoken_languages'][j] = 0\n",
        "    j += 1  "
      ],
      "execution_count": null,
      "outputs": [
        {
          "output_type": "stream",
          "text": [
            "/usr/local/lib/python3.7/dist-packages/ipykernel_launcher.py:5: SettingWithCopyWarning: \n",
            "A value is trying to be set on a copy of a slice from a DataFrame\n",
            "\n",
            "See the caveats in the documentation: https://pandas.pydata.org/pandas-docs/stable/user_guide/indexing.html#returning-a-view-versus-a-copy\n",
            "  \"\"\"\n",
            "/usr/local/lib/python3.7/dist-packages/ipykernel_launcher.py:7: SettingWithCopyWarning: \n",
            "A value is trying to be set on a copy of a slice from a DataFrame\n",
            "\n",
            "See the caveats in the documentation: https://pandas.pydata.org/pandas-docs/stable/user_guide/indexing.html#returning-a-view-versus-a-copy\n",
            "  import sys\n"
          ],
          "name": "stderr"
        }
      ]
    },
    {
      "cell_type": "code",
      "metadata": {
        "colab": {
          "base_uri": "https://localhost:8080/",
          "height": 484
        },
        "id": "oQOUIK7wg0Gc",
        "outputId": "0f18b08b-7f5c-4e85-c0d2-f6a90b9e9e9a"
      },
      "source": [
        "trainset.head()"
      ],
      "execution_count": null,
      "outputs": [
        {
          "output_type": "execute_result",
          "data": {
            "text/html": [
              "<div>\n",
              "<style scoped>\n",
              "    .dataframe tbody tr th:only-of-type {\n",
              "        vertical-align: middle;\n",
              "    }\n",
              "\n",
              "    .dataframe tbody tr th {\n",
              "        vertical-align: top;\n",
              "    }\n",
              "\n",
              "    .dataframe thead th {\n",
              "        text-align: right;\n",
              "    }\n",
              "</style>\n",
              "<table border=\"1\" class=\"dataframe\">\n",
              "  <thead>\n",
              "    <tr style=\"text-align: right;\">\n",
              "      <th></th>\n",
              "      <th>belongs_to_how_many_coll</th>\n",
              "      <th>budget</th>\n",
              "      <th>genres</th>\n",
              "      <th>has_homepage</th>\n",
              "      <th>is_en_original_language</th>\n",
              "      <th>popularity</th>\n",
              "      <th>production_companies</th>\n",
              "      <th>production_countries</th>\n",
              "      <th>runtime</th>\n",
              "      <th>spoken_languages</th>\n",
              "      <th>status</th>\n",
              "      <th>title</th>\n",
              "      <th>Keywords</th>\n",
              "      <th>cast</th>\n",
              "      <th>crew</th>\n",
              "      <th>revenue</th>\n",
              "      <th>is_USA_prod_country</th>\n",
              "      <th>release_year</th>\n",
              "      <th>release_month</th>\n",
              "      <th>number_of_spoken_languages</th>\n",
              "    </tr>\n",
              "  </thead>\n",
              "  <tbody>\n",
              "    <tr>\n",
              "      <th>0</th>\n",
              "      <td>1</td>\n",
              "      <td>14000000.00</td>\n",
              "      <td>35</td>\n",
              "      <td>0</td>\n",
              "      <td>1</td>\n",
              "      <td>6.575393</td>\n",
              "      <td>3</td>\n",
              "      <td>1</td>\n",
              "      <td>93.0</td>\n",
              "      <td>[{'iso_639_1': 'en', 'name': 'English'}]</td>\n",
              "      <td>Released</td>\n",
              "      <td>Hot Tub Time Machine 2</td>\n",
              "      <td>[{'id': 4379, 'name': 'time travel'}, {'id': 9...</td>\n",
              "      <td>[{'cast_id': 4, 'character': 'Lou', 'credit_id...</td>\n",
              "      <td>[{'credit_id': '59ac067c92514107af02c8c8', 'de...</td>\n",
              "      <td>12314651</td>\n",
              "      <td>1</td>\n",
              "      <td>15</td>\n",
              "      <td>2</td>\n",
              "      <td>1</td>\n",
              "    </tr>\n",
              "    <tr>\n",
              "      <th>1</th>\n",
              "      <td>1</td>\n",
              "      <td>40000000.00</td>\n",
              "      <td>35</td>\n",
              "      <td>0</td>\n",
              "      <td>1</td>\n",
              "      <td>8.248895</td>\n",
              "      <td>1</td>\n",
              "      <td>1</td>\n",
              "      <td>113.0</td>\n",
              "      <td>[{'iso_639_1': 'en', 'name': 'English'}]</td>\n",
              "      <td>Released</td>\n",
              "      <td>The Princess Diaries 2: Royal Engagement</td>\n",
              "      <td>[{'id': 2505, 'name': 'coronation'}, {'id': 42...</td>\n",
              "      <td>[{'cast_id': 1, 'character': 'Mia Thermopolis'...</td>\n",
              "      <td>[{'credit_id': '52fe43fe9251416c7502563d', 'de...</td>\n",
              "      <td>95149435</td>\n",
              "      <td>1</td>\n",
              "      <td>4</td>\n",
              "      <td>8</td>\n",
              "      <td>1</td>\n",
              "    </tr>\n",
              "    <tr>\n",
              "      <th>2</th>\n",
              "      <td>0</td>\n",
              "      <td>3300000.00</td>\n",
              "      <td>18</td>\n",
              "      <td>1</td>\n",
              "      <td>1</td>\n",
              "      <td>64.299990</td>\n",
              "      <td>3</td>\n",
              "      <td>1</td>\n",
              "      <td>105.0</td>\n",
              "      <td>[{'iso_639_1': 'en', 'name': 'English'}]</td>\n",
              "      <td>Released</td>\n",
              "      <td>Whiplash</td>\n",
              "      <td>[{'id': 1416, 'name': 'jazz'}, {'id': 1523, 'n...</td>\n",
              "      <td>[{'cast_id': 5, 'character': 'Andrew Neimann',...</td>\n",
              "      <td>[{'credit_id': '54d5356ec3a3683ba0000039', 'de...</td>\n",
              "      <td>13092000</td>\n",
              "      <td>1</td>\n",
              "      <td>14</td>\n",
              "      <td>10</td>\n",
              "      <td>1</td>\n",
              "    </tr>\n",
              "    <tr>\n",
              "      <th>3</th>\n",
              "      <td>0</td>\n",
              "      <td>1200000.00</td>\n",
              "      <td>53</td>\n",
              "      <td>1</td>\n",
              "      <td>0</td>\n",
              "      <td>3.174936</td>\n",
              "      <td>0</td>\n",
              "      <td>1</td>\n",
              "      <td>122.0</td>\n",
              "      <td>[{'iso_639_1': 'en', 'name': 'English'}, {'iso...</td>\n",
              "      <td>Released</td>\n",
              "      <td>Kahaani</td>\n",
              "      <td>[{'id': 10092, 'name': 'mystery'}, {'id': 1054...</td>\n",
              "      <td>[{'cast_id': 1, 'character': 'Vidya Bagchi', '...</td>\n",
              "      <td>[{'credit_id': '52fe48779251416c9108d6eb', 'de...</td>\n",
              "      <td>16000000</td>\n",
              "      <td>0</td>\n",
              "      <td>12</td>\n",
              "      <td>3</td>\n",
              "      <td>2</td>\n",
              "    </tr>\n",
              "    <tr>\n",
              "      <th>4</th>\n",
              "      <td>0</td>\n",
              "      <td>22531334.11</td>\n",
              "      <td>28</td>\n",
              "      <td>0</td>\n",
              "      <td>0</td>\n",
              "      <td>1.148070</td>\n",
              "      <td>0</td>\n",
              "      <td>1</td>\n",
              "      <td>118.0</td>\n",
              "      <td>[{'iso_639_1': 'ko', 'name': '한국어/조선말'}]</td>\n",
              "      <td>Released</td>\n",
              "      <td>Marine Boy</td>\n",
              "      <td>NaN</td>\n",
              "      <td>[{'cast_id': 3, 'character': 'Chun-soo', 'cred...</td>\n",
              "      <td>[{'credit_id': '52fe464b9251416c75073b43', 'de...</td>\n",
              "      <td>3923970</td>\n",
              "      <td>0</td>\n",
              "      <td>9</td>\n",
              "      <td>2</td>\n",
              "      <td>1</td>\n",
              "    </tr>\n",
              "  </tbody>\n",
              "</table>\n",
              "</div>"
            ],
            "text/plain": [
              "  belongs_to_how_many_coll  ...  number_of_spoken_languages\n",
              "0                        1  ...                           1\n",
              "1                        1  ...                           1\n",
              "2                        0  ...                           1\n",
              "3                        0  ...                           2\n",
              "4                        0  ...                           1\n",
              "\n",
              "[5 rows x 20 columns]"
            ]
          },
          "metadata": {
            "tags": []
          },
          "execution_count": 54
        }
      ]
    },
    {
      "cell_type": "code",
      "metadata": {
        "colab": {
          "base_uri": "https://localhost:8080/"
        },
        "id": "2b85w8Fag_XT",
        "outputId": "e757c61a-6328-4685-b802-ae922feba083"
      },
      "source": [
        "j = 0\n",
        "for i in trainset['spoken_languages']:\n",
        "    d = get_dict(i)\n",
        "    if d != {}:\n",
        "     if d[0]['iso_639_1']=='en':\n",
        "        trainset['spoken_languages'][j]=1\n",
        "       \n",
        "     else:\n",
        "        trainset['spoken_languages'][j]=0\n",
        "    else:\n",
        "        trainset['spoken_languages'][j]=0  \n",
        "    j += 1\n",
        "\n",
        "\n"
      ],
      "execution_count": null,
      "outputs": [
        {
          "output_type": "stream",
          "text": [
            "/usr/local/lib/python3.7/dist-packages/ipykernel_launcher.py:6: SettingWithCopyWarning: \n",
            "A value is trying to be set on a copy of a slice from a DataFrame\n",
            "\n",
            "See the caveats in the documentation: https://pandas.pydata.org/pandas-docs/stable/user_guide/indexing.html#returning-a-view-versus-a-copy\n",
            "  \n",
            "/usr/local/lib/python3.7/dist-packages/ipykernel_launcher.py:9: SettingWithCopyWarning: \n",
            "A value is trying to be set on a copy of a slice from a DataFrame\n",
            "\n",
            "See the caveats in the documentation: https://pandas.pydata.org/pandas-docs/stable/user_guide/indexing.html#returning-a-view-versus-a-copy\n",
            "  if __name__ == '__main__':\n",
            "/usr/local/lib/python3.7/dist-packages/ipykernel_launcher.py:11: SettingWithCopyWarning: \n",
            "A value is trying to be set on a copy of a slice from a DataFrame\n",
            "\n",
            "See the caveats in the documentation: https://pandas.pydata.org/pandas-docs/stable/user_guide/indexing.html#returning-a-view-versus-a-copy\n",
            "  # This is added back by InteractiveShellApp.init_path()\n"
          ],
          "name": "stderr"
        }
      ]
    },
    {
      "cell_type": "code",
      "metadata": {
        "colab": {
          "base_uri": "https://localhost:8080/"
        },
        "id": "Cs5gXf2BhMuP",
        "outputId": "d732591e-fa86-4001-daa5-57c6c27e854d"
      },
      "source": [
        "j = 0\n",
        "for i in testset['spoken_languages']:\n",
        "    d = get_dict(i)\n",
        "    if d != {}:\n",
        "     if d[0]['iso_639_1']=='en':\n",
        "        testset['spoken_languages'][j]=1\n",
        "       \n",
        "     else:\n",
        "        testset['spoken_languages'][j]=0\n",
        "    else:\n",
        "        testset['spoken_languages'][j]=0  \n",
        "    j += 1\n",
        "\n",
        "   "
      ],
      "execution_count": null,
      "outputs": [
        {
          "output_type": "stream",
          "text": [
            "/usr/local/lib/python3.7/dist-packages/ipykernel_launcher.py:6: SettingWithCopyWarning: \n",
            "A value is trying to be set on a copy of a slice from a DataFrame\n",
            "\n",
            "See the caveats in the documentation: https://pandas.pydata.org/pandas-docs/stable/user_guide/indexing.html#returning-a-view-versus-a-copy\n",
            "  \n",
            "/usr/local/lib/python3.7/dist-packages/ipykernel_launcher.py:9: SettingWithCopyWarning: \n",
            "A value is trying to be set on a copy of a slice from a DataFrame\n",
            "\n",
            "See the caveats in the documentation: https://pandas.pydata.org/pandas-docs/stable/user_guide/indexing.html#returning-a-view-versus-a-copy\n",
            "  if __name__ == '__main__':\n",
            "/usr/local/lib/python3.7/dist-packages/ipykernel_launcher.py:11: SettingWithCopyWarning: \n",
            "A value is trying to be set on a copy of a slice from a DataFrame\n",
            "\n",
            "See the caveats in the documentation: https://pandas.pydata.org/pandas-docs/stable/user_guide/indexing.html#returning-a-view-versus-a-copy\n",
            "  # This is added back by InteractiveShellApp.init_path()\n"
          ],
          "name": "stderr"
        }
      ]
    },
    {
      "cell_type": "code",
      "metadata": {
        "id": "6Klca1ayJMZS"
      },
      "source": [
        "trainset = trainset.rename(columns={'spoken_languages': 'is_en_spoken'})\n",
        "testset = testset.rename(columns={'spoken_languages': 'is_en_spoken'})"
      ],
      "execution_count": null,
      "outputs": []
    },
    {
      "cell_type": "code",
      "metadata": {
        "colab": {
          "base_uri": "https://localhost:8080/",
          "height": 484
        },
        "id": "RtpzGl67hTkz",
        "outputId": "f476fbbd-ea2f-48cf-803a-0ea7961dc560"
      },
      "source": [
        "trainset.head()"
      ],
      "execution_count": null,
      "outputs": [
        {
          "output_type": "execute_result",
          "data": {
            "text/html": [
              "<div>\n",
              "<style scoped>\n",
              "    .dataframe tbody tr th:only-of-type {\n",
              "        vertical-align: middle;\n",
              "    }\n",
              "\n",
              "    .dataframe tbody tr th {\n",
              "        vertical-align: top;\n",
              "    }\n",
              "\n",
              "    .dataframe thead th {\n",
              "        text-align: right;\n",
              "    }\n",
              "</style>\n",
              "<table border=\"1\" class=\"dataframe\">\n",
              "  <thead>\n",
              "    <tr style=\"text-align: right;\">\n",
              "      <th></th>\n",
              "      <th>belongs_to_how_many_coll</th>\n",
              "      <th>budget</th>\n",
              "      <th>genres</th>\n",
              "      <th>has_homepage</th>\n",
              "      <th>is_en_original_language</th>\n",
              "      <th>popularity</th>\n",
              "      <th>production_companies</th>\n",
              "      <th>production_countries</th>\n",
              "      <th>runtime</th>\n",
              "      <th>is_en_spoken</th>\n",
              "      <th>status</th>\n",
              "      <th>title</th>\n",
              "      <th>Keywords</th>\n",
              "      <th>cast</th>\n",
              "      <th>crew</th>\n",
              "      <th>revenue</th>\n",
              "      <th>is_USA_prod_country</th>\n",
              "      <th>release_year</th>\n",
              "      <th>release_month</th>\n",
              "      <th>number_of_spoken_languages</th>\n",
              "    </tr>\n",
              "  </thead>\n",
              "  <tbody>\n",
              "    <tr>\n",
              "      <th>0</th>\n",
              "      <td>1</td>\n",
              "      <td>14000000.00</td>\n",
              "      <td>35</td>\n",
              "      <td>0</td>\n",
              "      <td>1</td>\n",
              "      <td>6.575393</td>\n",
              "      <td>3</td>\n",
              "      <td>1</td>\n",
              "      <td>93.0</td>\n",
              "      <td>1</td>\n",
              "      <td>Released</td>\n",
              "      <td>Hot Tub Time Machine 2</td>\n",
              "      <td>[{'id': 4379, 'name': 'time travel'}, {'id': 9...</td>\n",
              "      <td>[{'cast_id': 4, 'character': 'Lou', 'credit_id...</td>\n",
              "      <td>[{'credit_id': '59ac067c92514107af02c8c8', 'de...</td>\n",
              "      <td>12314651</td>\n",
              "      <td>1</td>\n",
              "      <td>15</td>\n",
              "      <td>2</td>\n",
              "      <td>1</td>\n",
              "    </tr>\n",
              "    <tr>\n",
              "      <th>1</th>\n",
              "      <td>1</td>\n",
              "      <td>40000000.00</td>\n",
              "      <td>35</td>\n",
              "      <td>0</td>\n",
              "      <td>1</td>\n",
              "      <td>8.248895</td>\n",
              "      <td>1</td>\n",
              "      <td>1</td>\n",
              "      <td>113.0</td>\n",
              "      <td>1</td>\n",
              "      <td>Released</td>\n",
              "      <td>The Princess Diaries 2: Royal Engagement</td>\n",
              "      <td>[{'id': 2505, 'name': 'coronation'}, {'id': 42...</td>\n",
              "      <td>[{'cast_id': 1, 'character': 'Mia Thermopolis'...</td>\n",
              "      <td>[{'credit_id': '52fe43fe9251416c7502563d', 'de...</td>\n",
              "      <td>95149435</td>\n",
              "      <td>1</td>\n",
              "      <td>4</td>\n",
              "      <td>8</td>\n",
              "      <td>1</td>\n",
              "    </tr>\n",
              "    <tr>\n",
              "      <th>2</th>\n",
              "      <td>0</td>\n",
              "      <td>3300000.00</td>\n",
              "      <td>18</td>\n",
              "      <td>1</td>\n",
              "      <td>1</td>\n",
              "      <td>64.299990</td>\n",
              "      <td>3</td>\n",
              "      <td>1</td>\n",
              "      <td>105.0</td>\n",
              "      <td>1</td>\n",
              "      <td>Released</td>\n",
              "      <td>Whiplash</td>\n",
              "      <td>[{'id': 1416, 'name': 'jazz'}, {'id': 1523, 'n...</td>\n",
              "      <td>[{'cast_id': 5, 'character': 'Andrew Neimann',...</td>\n",
              "      <td>[{'credit_id': '54d5356ec3a3683ba0000039', 'de...</td>\n",
              "      <td>13092000</td>\n",
              "      <td>1</td>\n",
              "      <td>14</td>\n",
              "      <td>10</td>\n",
              "      <td>1</td>\n",
              "    </tr>\n",
              "    <tr>\n",
              "      <th>3</th>\n",
              "      <td>0</td>\n",
              "      <td>1200000.00</td>\n",
              "      <td>53</td>\n",
              "      <td>1</td>\n",
              "      <td>0</td>\n",
              "      <td>3.174936</td>\n",
              "      <td>0</td>\n",
              "      <td>1</td>\n",
              "      <td>122.0</td>\n",
              "      <td>1</td>\n",
              "      <td>Released</td>\n",
              "      <td>Kahaani</td>\n",
              "      <td>[{'id': 10092, 'name': 'mystery'}, {'id': 1054...</td>\n",
              "      <td>[{'cast_id': 1, 'character': 'Vidya Bagchi', '...</td>\n",
              "      <td>[{'credit_id': '52fe48779251416c9108d6eb', 'de...</td>\n",
              "      <td>16000000</td>\n",
              "      <td>0</td>\n",
              "      <td>12</td>\n",
              "      <td>3</td>\n",
              "      <td>2</td>\n",
              "    </tr>\n",
              "    <tr>\n",
              "      <th>4</th>\n",
              "      <td>0</td>\n",
              "      <td>22531334.11</td>\n",
              "      <td>28</td>\n",
              "      <td>0</td>\n",
              "      <td>0</td>\n",
              "      <td>1.148070</td>\n",
              "      <td>0</td>\n",
              "      <td>1</td>\n",
              "      <td>118.0</td>\n",
              "      <td>0</td>\n",
              "      <td>Released</td>\n",
              "      <td>Marine Boy</td>\n",
              "      <td>NaN</td>\n",
              "      <td>[{'cast_id': 3, 'character': 'Chun-soo', 'cred...</td>\n",
              "      <td>[{'credit_id': '52fe464b9251416c75073b43', 'de...</td>\n",
              "      <td>3923970</td>\n",
              "      <td>0</td>\n",
              "      <td>9</td>\n",
              "      <td>2</td>\n",
              "      <td>1</td>\n",
              "    </tr>\n",
              "  </tbody>\n",
              "</table>\n",
              "</div>"
            ],
            "text/plain": [
              "  belongs_to_how_many_coll  ...  number_of_spoken_languages\n",
              "0                        1  ...                           1\n",
              "1                        1  ...                           1\n",
              "2                        0  ...                           1\n",
              "3                        0  ...                           2\n",
              "4                        0  ...                           1\n",
              "\n",
              "[5 rows x 20 columns]"
            ]
          },
          "metadata": {
            "tags": []
          },
          "execution_count": 58
        }
      ]
    },
    {
      "cell_type": "code",
      "metadata": {
        "colab": {
          "base_uri": "https://localhost:8080/"
        },
        "id": "TolF00E7lAlD",
        "outputId": "ec634423-c534-4e12-adc1-05cc939e2a99"
      },
      "source": [
        "trainset.value_counts('is_en_spoken')"
      ],
      "execution_count": null,
      "outputs": [
        {
          "output_type": "execute_result",
          "data": {
            "text/plain": [
              "is_en_spoken\n",
              "1    2375\n",
              "0     625\n",
              "dtype: int64"
            ]
          },
          "metadata": {
            "tags": []
          },
          "execution_count": 59
        }
      ]
    },
    {
      "cell_type": "markdown",
      "metadata": {
        "id": "YNbYy8Hsls2r"
      },
      "source": [
        "status column"
      ]
    },
    {
      "cell_type": "code",
      "metadata": {
        "colab": {
          "base_uri": "https://localhost:8080/"
        },
        "id": "sqQ1ysmPlz0s",
        "outputId": "2cb1990b-e8f1-4078-e017-33229142f41d"
      },
      "source": [
        "trainset.isnull().sum()"
      ],
      "execution_count": null,
      "outputs": [
        {
          "output_type": "execute_result",
          "data": {
            "text/plain": [
              "belongs_to_how_many_coll        0\n",
              "budget                          0\n",
              "genres                          0\n",
              "has_homepage                    0\n",
              "is_en_original_language         0\n",
              "popularity                      0\n",
              "production_companies            0\n",
              "production_countries            0\n",
              "runtime                         0\n",
              "is_en_spoken                    0\n",
              "status                          0\n",
              "title                           0\n",
              "Keywords                      276\n",
              "cast                           13\n",
              "crew                           16\n",
              "revenue                         0\n",
              "is_USA_prod_country             0\n",
              "release_year                    0\n",
              "release_month                   0\n",
              "number_of_spoken_languages      0\n",
              "dtype: int64"
            ]
          },
          "metadata": {
            "tags": []
          },
          "execution_count": 60
        }
      ]
    },
    {
      "cell_type": "code",
      "metadata": {
        "colab": {
          "base_uri": "https://localhost:8080/"
        },
        "id": "tI1cXMbAl3TH",
        "outputId": "f9a01514-57ec-4a64-c6f9-0cd9324fc64c"
      },
      "source": [
        "testset.isnull().sum()"
      ],
      "execution_count": null,
      "outputs": [
        {
          "output_type": "execute_result",
          "data": {
            "text/plain": [
              "belongs_to_how_many_coll        0\n",
              "budget                          0\n",
              "genres                          0\n",
              "has_homepage                    0\n",
              "is_en_original_language         0\n",
              "popularity                      0\n",
              "production_companies            0\n",
              "production_countries            0\n",
              "runtime                         0\n",
              "is_en_spoken                    0\n",
              "status                          2\n",
              "title                           3\n",
              "Keywords                      393\n",
              "cast                           13\n",
              "crew                           22\n",
              "is_USA_prod_country             0\n",
              "release_year                    0\n",
              "release_month                   0\n",
              "number_of_spoken_languages      0\n",
              "dtype: int64"
            ]
          },
          "metadata": {
            "tags": []
          },
          "execution_count": 61
        }
      ]
    },
    {
      "cell_type": "code",
      "metadata": {
        "colab": {
          "base_uri": "https://localhost:8080/"
        },
        "id": "vlMNInLel-L3",
        "outputId": "209ab763-f190-418a-927f-a7e790e5096d"
      },
      "source": [
        "testset['status'] = testset['status'].fillna(testset['status'].mode()[0])  \n",
        "testset.isnull().sum()"
      ],
      "execution_count": null,
      "outputs": [
        {
          "output_type": "execute_result",
          "data": {
            "text/plain": [
              "belongs_to_how_many_coll        0\n",
              "budget                          0\n",
              "genres                          0\n",
              "has_homepage                    0\n",
              "is_en_original_language         0\n",
              "popularity                      0\n",
              "production_companies            0\n",
              "production_countries            0\n",
              "runtime                         0\n",
              "is_en_spoken                    0\n",
              "status                          0\n",
              "title                           3\n",
              "Keywords                      393\n",
              "cast                           13\n",
              "crew                           22\n",
              "is_USA_prod_country             0\n",
              "release_year                    0\n",
              "release_month                   0\n",
              "number_of_spoken_languages      0\n",
              "dtype: int64"
            ]
          },
          "metadata": {
            "tags": []
          },
          "execution_count": 62
        }
      ]
    },
    {
      "cell_type": "code",
      "metadata": {
        "colab": {
          "base_uri": "https://localhost:8080/",
          "height": 484
        },
        "id": "yakOsumMmSYP",
        "outputId": "a2e08ebe-6432-4282-81ae-cb96d058a922"
      },
      "source": [
        "from sklearn.preprocessing import LabelEncoder\n",
        "trainset['status'] = LabelEncoder().fit_transform(trainset['status'])\n",
        "testset['status'] = LabelEncoder().fit_transform(testset['status'])\n",
        "trainset.head()"
      ],
      "execution_count": null,
      "outputs": [
        {
          "output_type": "execute_result",
          "data": {
            "text/html": [
              "<div>\n",
              "<style scoped>\n",
              "    .dataframe tbody tr th:only-of-type {\n",
              "        vertical-align: middle;\n",
              "    }\n",
              "\n",
              "    .dataframe tbody tr th {\n",
              "        vertical-align: top;\n",
              "    }\n",
              "\n",
              "    .dataframe thead th {\n",
              "        text-align: right;\n",
              "    }\n",
              "</style>\n",
              "<table border=\"1\" class=\"dataframe\">\n",
              "  <thead>\n",
              "    <tr style=\"text-align: right;\">\n",
              "      <th></th>\n",
              "      <th>belongs_to_how_many_coll</th>\n",
              "      <th>budget</th>\n",
              "      <th>genres</th>\n",
              "      <th>has_homepage</th>\n",
              "      <th>is_en_original_language</th>\n",
              "      <th>popularity</th>\n",
              "      <th>production_companies</th>\n",
              "      <th>production_countries</th>\n",
              "      <th>runtime</th>\n",
              "      <th>is_en_spoken</th>\n",
              "      <th>status</th>\n",
              "      <th>title</th>\n",
              "      <th>Keywords</th>\n",
              "      <th>cast</th>\n",
              "      <th>crew</th>\n",
              "      <th>revenue</th>\n",
              "      <th>is_USA_prod_country</th>\n",
              "      <th>release_year</th>\n",
              "      <th>release_month</th>\n",
              "      <th>number_of_spoken_languages</th>\n",
              "    </tr>\n",
              "  </thead>\n",
              "  <tbody>\n",
              "    <tr>\n",
              "      <th>0</th>\n",
              "      <td>1</td>\n",
              "      <td>14000000.00</td>\n",
              "      <td>35</td>\n",
              "      <td>0</td>\n",
              "      <td>1</td>\n",
              "      <td>6.575393</td>\n",
              "      <td>3</td>\n",
              "      <td>1</td>\n",
              "      <td>93.0</td>\n",
              "      <td>1</td>\n",
              "      <td>0</td>\n",
              "      <td>Hot Tub Time Machine 2</td>\n",
              "      <td>[{'id': 4379, 'name': 'time travel'}, {'id': 9...</td>\n",
              "      <td>[{'cast_id': 4, 'character': 'Lou', 'credit_id...</td>\n",
              "      <td>[{'credit_id': '59ac067c92514107af02c8c8', 'de...</td>\n",
              "      <td>12314651</td>\n",
              "      <td>1</td>\n",
              "      <td>15</td>\n",
              "      <td>2</td>\n",
              "      <td>1</td>\n",
              "    </tr>\n",
              "    <tr>\n",
              "      <th>1</th>\n",
              "      <td>1</td>\n",
              "      <td>40000000.00</td>\n",
              "      <td>35</td>\n",
              "      <td>0</td>\n",
              "      <td>1</td>\n",
              "      <td>8.248895</td>\n",
              "      <td>1</td>\n",
              "      <td>1</td>\n",
              "      <td>113.0</td>\n",
              "      <td>1</td>\n",
              "      <td>0</td>\n",
              "      <td>The Princess Diaries 2: Royal Engagement</td>\n",
              "      <td>[{'id': 2505, 'name': 'coronation'}, {'id': 42...</td>\n",
              "      <td>[{'cast_id': 1, 'character': 'Mia Thermopolis'...</td>\n",
              "      <td>[{'credit_id': '52fe43fe9251416c7502563d', 'de...</td>\n",
              "      <td>95149435</td>\n",
              "      <td>1</td>\n",
              "      <td>4</td>\n",
              "      <td>8</td>\n",
              "      <td>1</td>\n",
              "    </tr>\n",
              "    <tr>\n",
              "      <th>2</th>\n",
              "      <td>0</td>\n",
              "      <td>3300000.00</td>\n",
              "      <td>18</td>\n",
              "      <td>1</td>\n",
              "      <td>1</td>\n",
              "      <td>64.299990</td>\n",
              "      <td>3</td>\n",
              "      <td>1</td>\n",
              "      <td>105.0</td>\n",
              "      <td>1</td>\n",
              "      <td>0</td>\n",
              "      <td>Whiplash</td>\n",
              "      <td>[{'id': 1416, 'name': 'jazz'}, {'id': 1523, 'n...</td>\n",
              "      <td>[{'cast_id': 5, 'character': 'Andrew Neimann',...</td>\n",
              "      <td>[{'credit_id': '54d5356ec3a3683ba0000039', 'de...</td>\n",
              "      <td>13092000</td>\n",
              "      <td>1</td>\n",
              "      <td>14</td>\n",
              "      <td>10</td>\n",
              "      <td>1</td>\n",
              "    </tr>\n",
              "    <tr>\n",
              "      <th>3</th>\n",
              "      <td>0</td>\n",
              "      <td>1200000.00</td>\n",
              "      <td>53</td>\n",
              "      <td>1</td>\n",
              "      <td>0</td>\n",
              "      <td>3.174936</td>\n",
              "      <td>0</td>\n",
              "      <td>1</td>\n",
              "      <td>122.0</td>\n",
              "      <td>1</td>\n",
              "      <td>0</td>\n",
              "      <td>Kahaani</td>\n",
              "      <td>[{'id': 10092, 'name': 'mystery'}, {'id': 1054...</td>\n",
              "      <td>[{'cast_id': 1, 'character': 'Vidya Bagchi', '...</td>\n",
              "      <td>[{'credit_id': '52fe48779251416c9108d6eb', 'de...</td>\n",
              "      <td>16000000</td>\n",
              "      <td>0</td>\n",
              "      <td>12</td>\n",
              "      <td>3</td>\n",
              "      <td>2</td>\n",
              "    </tr>\n",
              "    <tr>\n",
              "      <th>4</th>\n",
              "      <td>0</td>\n",
              "      <td>22531334.11</td>\n",
              "      <td>28</td>\n",
              "      <td>0</td>\n",
              "      <td>0</td>\n",
              "      <td>1.148070</td>\n",
              "      <td>0</td>\n",
              "      <td>1</td>\n",
              "      <td>118.0</td>\n",
              "      <td>0</td>\n",
              "      <td>0</td>\n",
              "      <td>Marine Boy</td>\n",
              "      <td>NaN</td>\n",
              "      <td>[{'cast_id': 3, 'character': 'Chun-soo', 'cred...</td>\n",
              "      <td>[{'credit_id': '52fe464b9251416c75073b43', 'de...</td>\n",
              "      <td>3923970</td>\n",
              "      <td>0</td>\n",
              "      <td>9</td>\n",
              "      <td>2</td>\n",
              "      <td>1</td>\n",
              "    </tr>\n",
              "  </tbody>\n",
              "</table>\n",
              "</div>"
            ],
            "text/plain": [
              "  belongs_to_how_many_coll  ...  number_of_spoken_languages\n",
              "0                        1  ...                           1\n",
              "1                        1  ...                           1\n",
              "2                        0  ...                           1\n",
              "3                        0  ...                           2\n",
              "4                        0  ...                           1\n",
              "\n",
              "[5 rows x 20 columns]"
            ]
          },
          "metadata": {
            "tags": []
          },
          "execution_count": 63
        }
      ]
    },
    {
      "cell_type": "markdown",
      "metadata": {
        "id": "dMnYgyuCmiUF"
      },
      "source": [
        "Dropping title column"
      ]
    },
    {
      "cell_type": "code",
      "metadata": {
        "id": "3CFsPXn_mkgO"
      },
      "source": [
        "trainset.drop(['title'], axis = 1,inplace=True)"
      ],
      "execution_count": null,
      "outputs": []
    },
    {
      "cell_type": "code",
      "metadata": {
        "id": "Kt7MX5Ybm3vH"
      },
      "source": [
        "testset.drop(['title'], axis = 1,inplace=True)"
      ],
      "execution_count": null,
      "outputs": []
    },
    {
      "cell_type": "code",
      "metadata": {
        "colab": {
          "base_uri": "https://localhost:8080/",
          "height": 467
        },
        "id": "AjeL6EJDnsBR",
        "outputId": "31b9ef07-256c-45d9-bc23-2f2118206fb0"
      },
      "source": [
        "trainset.head()"
      ],
      "execution_count": null,
      "outputs": [
        {
          "output_type": "execute_result",
          "data": {
            "text/html": [
              "<div>\n",
              "<style scoped>\n",
              "    .dataframe tbody tr th:only-of-type {\n",
              "        vertical-align: middle;\n",
              "    }\n",
              "\n",
              "    .dataframe tbody tr th {\n",
              "        vertical-align: top;\n",
              "    }\n",
              "\n",
              "    .dataframe thead th {\n",
              "        text-align: right;\n",
              "    }\n",
              "</style>\n",
              "<table border=\"1\" class=\"dataframe\">\n",
              "  <thead>\n",
              "    <tr style=\"text-align: right;\">\n",
              "      <th></th>\n",
              "      <th>belongs_to_how_many_coll</th>\n",
              "      <th>budget</th>\n",
              "      <th>genres</th>\n",
              "      <th>has_homepage</th>\n",
              "      <th>is_en_original_language</th>\n",
              "      <th>popularity</th>\n",
              "      <th>production_companies</th>\n",
              "      <th>production_countries</th>\n",
              "      <th>runtime</th>\n",
              "      <th>is_en_spoken</th>\n",
              "      <th>status</th>\n",
              "      <th>Keywords</th>\n",
              "      <th>cast</th>\n",
              "      <th>crew</th>\n",
              "      <th>revenue</th>\n",
              "      <th>is_USA_prod_country</th>\n",
              "      <th>release_year</th>\n",
              "      <th>release_month</th>\n",
              "      <th>number_of_spoken_languages</th>\n",
              "    </tr>\n",
              "  </thead>\n",
              "  <tbody>\n",
              "    <tr>\n",
              "      <th>0</th>\n",
              "      <td>1</td>\n",
              "      <td>14000000.00</td>\n",
              "      <td>35</td>\n",
              "      <td>0</td>\n",
              "      <td>1</td>\n",
              "      <td>6.575393</td>\n",
              "      <td>3</td>\n",
              "      <td>1</td>\n",
              "      <td>93.0</td>\n",
              "      <td>1</td>\n",
              "      <td>0</td>\n",
              "      <td>[{'id': 4379, 'name': 'time travel'}, {'id': 9...</td>\n",
              "      <td>[{'cast_id': 4, 'character': 'Lou', 'credit_id...</td>\n",
              "      <td>[{'credit_id': '59ac067c92514107af02c8c8', 'de...</td>\n",
              "      <td>12314651</td>\n",
              "      <td>1</td>\n",
              "      <td>15</td>\n",
              "      <td>2</td>\n",
              "      <td>1</td>\n",
              "    </tr>\n",
              "    <tr>\n",
              "      <th>1</th>\n",
              "      <td>1</td>\n",
              "      <td>40000000.00</td>\n",
              "      <td>35</td>\n",
              "      <td>0</td>\n",
              "      <td>1</td>\n",
              "      <td>8.248895</td>\n",
              "      <td>1</td>\n",
              "      <td>1</td>\n",
              "      <td>113.0</td>\n",
              "      <td>1</td>\n",
              "      <td>0</td>\n",
              "      <td>[{'id': 2505, 'name': 'coronation'}, {'id': 42...</td>\n",
              "      <td>[{'cast_id': 1, 'character': 'Mia Thermopolis'...</td>\n",
              "      <td>[{'credit_id': '52fe43fe9251416c7502563d', 'de...</td>\n",
              "      <td>95149435</td>\n",
              "      <td>1</td>\n",
              "      <td>4</td>\n",
              "      <td>8</td>\n",
              "      <td>1</td>\n",
              "    </tr>\n",
              "    <tr>\n",
              "      <th>2</th>\n",
              "      <td>0</td>\n",
              "      <td>3300000.00</td>\n",
              "      <td>18</td>\n",
              "      <td>1</td>\n",
              "      <td>1</td>\n",
              "      <td>64.299990</td>\n",
              "      <td>3</td>\n",
              "      <td>1</td>\n",
              "      <td>105.0</td>\n",
              "      <td>1</td>\n",
              "      <td>0</td>\n",
              "      <td>[{'id': 1416, 'name': 'jazz'}, {'id': 1523, 'n...</td>\n",
              "      <td>[{'cast_id': 5, 'character': 'Andrew Neimann',...</td>\n",
              "      <td>[{'credit_id': '54d5356ec3a3683ba0000039', 'de...</td>\n",
              "      <td>13092000</td>\n",
              "      <td>1</td>\n",
              "      <td>14</td>\n",
              "      <td>10</td>\n",
              "      <td>1</td>\n",
              "    </tr>\n",
              "    <tr>\n",
              "      <th>3</th>\n",
              "      <td>0</td>\n",
              "      <td>1200000.00</td>\n",
              "      <td>53</td>\n",
              "      <td>1</td>\n",
              "      <td>0</td>\n",
              "      <td>3.174936</td>\n",
              "      <td>0</td>\n",
              "      <td>1</td>\n",
              "      <td>122.0</td>\n",
              "      <td>1</td>\n",
              "      <td>0</td>\n",
              "      <td>[{'id': 10092, 'name': 'mystery'}, {'id': 1054...</td>\n",
              "      <td>[{'cast_id': 1, 'character': 'Vidya Bagchi', '...</td>\n",
              "      <td>[{'credit_id': '52fe48779251416c9108d6eb', 'de...</td>\n",
              "      <td>16000000</td>\n",
              "      <td>0</td>\n",
              "      <td>12</td>\n",
              "      <td>3</td>\n",
              "      <td>2</td>\n",
              "    </tr>\n",
              "    <tr>\n",
              "      <th>4</th>\n",
              "      <td>0</td>\n",
              "      <td>22531334.11</td>\n",
              "      <td>28</td>\n",
              "      <td>0</td>\n",
              "      <td>0</td>\n",
              "      <td>1.148070</td>\n",
              "      <td>0</td>\n",
              "      <td>1</td>\n",
              "      <td>118.0</td>\n",
              "      <td>0</td>\n",
              "      <td>0</td>\n",
              "      <td>NaN</td>\n",
              "      <td>[{'cast_id': 3, 'character': 'Chun-soo', 'cred...</td>\n",
              "      <td>[{'credit_id': '52fe464b9251416c75073b43', 'de...</td>\n",
              "      <td>3923970</td>\n",
              "      <td>0</td>\n",
              "      <td>9</td>\n",
              "      <td>2</td>\n",
              "      <td>1</td>\n",
              "    </tr>\n",
              "  </tbody>\n",
              "</table>\n",
              "</div>"
            ],
            "text/plain": [
              "  belongs_to_how_many_coll  ...  number_of_spoken_languages\n",
              "0                        1  ...                           1\n",
              "1                        1  ...                           1\n",
              "2                        0  ...                           1\n",
              "3                        0  ...                           2\n",
              "4                        0  ...                           1\n",
              "\n",
              "[5 rows x 19 columns]"
            ]
          },
          "metadata": {
            "tags": []
          },
          "execution_count": 66
        }
      ]
    },
    {
      "cell_type": "markdown",
      "metadata": {
        "id": "DTsa-3JaquoJ"
      },
      "source": [
        "Drop Keywords column"
      ]
    },
    {
      "cell_type": "code",
      "metadata": {
        "id": "H5BX66vaqw01"
      },
      "source": [
        "trainset.drop(['Keywords'], axis = 1,inplace=True)\n",
        "testset.drop(['Keywords'], axis = 1,inplace=True)"
      ],
      "execution_count": null,
      "outputs": []
    },
    {
      "cell_type": "markdown",
      "metadata": {
        "id": "Eve-wQV_q-B5"
      },
      "source": [
        "cast column"
      ]
    },
    {
      "cell_type": "code",
      "metadata": {
        "colab": {
          "base_uri": "https://localhost:8080/"
        },
        "id": "mCwFEX3OrCwz",
        "outputId": "0d32538f-3019-4264-fc09-ab980c37b4f5"
      },
      "source": [
        "#getting number of cast members\n",
        "j = 0\n",
        "for i in trainset['cast']:\n",
        "    d = get_dict(i)\n",
        "    if d != {}:\n",
        "        trainset['cast'][j] = len(d)\n",
        "    else:\n",
        "         trainset['cast'][j] = 0\n",
        "    j += 1  "
      ],
      "execution_count": null,
      "outputs": [
        {
          "output_type": "stream",
          "text": [
            "/usr/local/lib/python3.7/dist-packages/ipykernel_launcher.py:6: SettingWithCopyWarning: \n",
            "A value is trying to be set on a copy of a slice from a DataFrame\n",
            "\n",
            "See the caveats in the documentation: https://pandas.pydata.org/pandas-docs/stable/user_guide/indexing.html#returning-a-view-versus-a-copy\n",
            "  \n",
            "/usr/local/lib/python3.7/dist-packages/ipykernel_launcher.py:8: SettingWithCopyWarning: \n",
            "A value is trying to be set on a copy of a slice from a DataFrame\n",
            "\n",
            "See the caveats in the documentation: https://pandas.pydata.org/pandas-docs/stable/user_guide/indexing.html#returning-a-view-versus-a-copy\n",
            "  \n"
          ],
          "name": "stderr"
        }
      ]
    },
    {
      "cell_type": "code",
      "metadata": {
        "colab": {
          "base_uri": "https://localhost:8080/"
        },
        "id": "TegSpipcrZiX",
        "outputId": "e4c4df08-9c5b-4bfd-8fbc-2eee7a923eb7"
      },
      "source": [
        "j = 0\n",
        "for i in testset['cast']:\n",
        "    d = get_dict(i)\n",
        "    if d != {}:\n",
        "        testset['cast'][j] = len(d)\n",
        "    else:\n",
        "         testset['cast'][j] = 0\n",
        "    j += 1  "
      ],
      "execution_count": null,
      "outputs": [
        {
          "output_type": "stream",
          "text": [
            "/usr/local/lib/python3.7/dist-packages/ipykernel_launcher.py:5: SettingWithCopyWarning: \n",
            "A value is trying to be set on a copy of a slice from a DataFrame\n",
            "\n",
            "See the caveats in the documentation: https://pandas.pydata.org/pandas-docs/stable/user_guide/indexing.html#returning-a-view-versus-a-copy\n",
            "  \"\"\"\n",
            "/usr/local/lib/python3.7/dist-packages/ipykernel_launcher.py:7: SettingWithCopyWarning: \n",
            "A value is trying to be set on a copy of a slice from a DataFrame\n",
            "\n",
            "See the caveats in the documentation: https://pandas.pydata.org/pandas-docs/stable/user_guide/indexing.html#returning-a-view-versus-a-copy\n",
            "  import sys\n"
          ],
          "name": "stderr"
        }
      ]
    },
    {
      "cell_type": "code",
      "metadata": {
        "colab": {
          "base_uri": "https://localhost:8080/",
          "height": 383
        },
        "id": "Kkb_ZC0jreLK",
        "outputId": "2fcb2ff5-0627-482d-aab2-df0c40321c50"
      },
      "source": [
        "trainset.head()"
      ],
      "execution_count": null,
      "outputs": [
        {
          "output_type": "execute_result",
          "data": {
            "text/html": [
              "<div>\n",
              "<style scoped>\n",
              "    .dataframe tbody tr th:only-of-type {\n",
              "        vertical-align: middle;\n",
              "    }\n",
              "\n",
              "    .dataframe tbody tr th {\n",
              "        vertical-align: top;\n",
              "    }\n",
              "\n",
              "    .dataframe thead th {\n",
              "        text-align: right;\n",
              "    }\n",
              "</style>\n",
              "<table border=\"1\" class=\"dataframe\">\n",
              "  <thead>\n",
              "    <tr style=\"text-align: right;\">\n",
              "      <th></th>\n",
              "      <th>belongs_to_how_many_coll</th>\n",
              "      <th>budget</th>\n",
              "      <th>genres</th>\n",
              "      <th>has_homepage</th>\n",
              "      <th>is_en_original_language</th>\n",
              "      <th>popularity</th>\n",
              "      <th>production_companies</th>\n",
              "      <th>production_countries</th>\n",
              "      <th>runtime</th>\n",
              "      <th>is_en_spoken</th>\n",
              "      <th>status</th>\n",
              "      <th>cast</th>\n",
              "      <th>crew</th>\n",
              "      <th>revenue</th>\n",
              "      <th>is_USA_prod_country</th>\n",
              "      <th>release_year</th>\n",
              "      <th>release_month</th>\n",
              "      <th>number_of_spoken_languages</th>\n",
              "    </tr>\n",
              "  </thead>\n",
              "  <tbody>\n",
              "    <tr>\n",
              "      <th>0</th>\n",
              "      <td>1</td>\n",
              "      <td>14000000.00</td>\n",
              "      <td>35</td>\n",
              "      <td>0</td>\n",
              "      <td>1</td>\n",
              "      <td>6.575393</td>\n",
              "      <td>3</td>\n",
              "      <td>1</td>\n",
              "      <td>93.0</td>\n",
              "      <td>1</td>\n",
              "      <td>0</td>\n",
              "      <td>24</td>\n",
              "      <td>[{'credit_id': '59ac067c92514107af02c8c8', 'de...</td>\n",
              "      <td>12314651</td>\n",
              "      <td>1</td>\n",
              "      <td>15</td>\n",
              "      <td>2</td>\n",
              "      <td>1</td>\n",
              "    </tr>\n",
              "    <tr>\n",
              "      <th>1</th>\n",
              "      <td>1</td>\n",
              "      <td>40000000.00</td>\n",
              "      <td>35</td>\n",
              "      <td>0</td>\n",
              "      <td>1</td>\n",
              "      <td>8.248895</td>\n",
              "      <td>1</td>\n",
              "      <td>1</td>\n",
              "      <td>113.0</td>\n",
              "      <td>1</td>\n",
              "      <td>0</td>\n",
              "      <td>20</td>\n",
              "      <td>[{'credit_id': '52fe43fe9251416c7502563d', 'de...</td>\n",
              "      <td>95149435</td>\n",
              "      <td>1</td>\n",
              "      <td>4</td>\n",
              "      <td>8</td>\n",
              "      <td>1</td>\n",
              "    </tr>\n",
              "    <tr>\n",
              "      <th>2</th>\n",
              "      <td>0</td>\n",
              "      <td>3300000.00</td>\n",
              "      <td>18</td>\n",
              "      <td>1</td>\n",
              "      <td>1</td>\n",
              "      <td>64.299990</td>\n",
              "      <td>3</td>\n",
              "      <td>1</td>\n",
              "      <td>105.0</td>\n",
              "      <td>1</td>\n",
              "      <td>0</td>\n",
              "      <td>51</td>\n",
              "      <td>[{'credit_id': '54d5356ec3a3683ba0000039', 'de...</td>\n",
              "      <td>13092000</td>\n",
              "      <td>1</td>\n",
              "      <td>14</td>\n",
              "      <td>10</td>\n",
              "      <td>1</td>\n",
              "    </tr>\n",
              "    <tr>\n",
              "      <th>3</th>\n",
              "      <td>0</td>\n",
              "      <td>1200000.00</td>\n",
              "      <td>53</td>\n",
              "      <td>1</td>\n",
              "      <td>0</td>\n",
              "      <td>3.174936</td>\n",
              "      <td>0</td>\n",
              "      <td>1</td>\n",
              "      <td>122.0</td>\n",
              "      <td>1</td>\n",
              "      <td>0</td>\n",
              "      <td>7</td>\n",
              "      <td>[{'credit_id': '52fe48779251416c9108d6eb', 'de...</td>\n",
              "      <td>16000000</td>\n",
              "      <td>0</td>\n",
              "      <td>12</td>\n",
              "      <td>3</td>\n",
              "      <td>2</td>\n",
              "    </tr>\n",
              "    <tr>\n",
              "      <th>4</th>\n",
              "      <td>0</td>\n",
              "      <td>22531334.11</td>\n",
              "      <td>28</td>\n",
              "      <td>0</td>\n",
              "      <td>0</td>\n",
              "      <td>1.148070</td>\n",
              "      <td>0</td>\n",
              "      <td>1</td>\n",
              "      <td>118.0</td>\n",
              "      <td>0</td>\n",
              "      <td>0</td>\n",
              "      <td>4</td>\n",
              "      <td>[{'credit_id': '52fe464b9251416c75073b43', 'de...</td>\n",
              "      <td>3923970</td>\n",
              "      <td>0</td>\n",
              "      <td>9</td>\n",
              "      <td>2</td>\n",
              "      <td>1</td>\n",
              "    </tr>\n",
              "  </tbody>\n",
              "</table>\n",
              "</div>"
            ],
            "text/plain": [
              "  belongs_to_how_many_coll  ...  number_of_spoken_languages\n",
              "0                        1  ...                           1\n",
              "1                        1  ...                           1\n",
              "2                        0  ...                           1\n",
              "3                        0  ...                           2\n",
              "4                        0  ...                           1\n",
              "\n",
              "[5 rows x 18 columns]"
            ]
          },
          "metadata": {
            "tags": []
          },
          "execution_count": 70
        }
      ]
    },
    {
      "cell_type": "markdown",
      "metadata": {
        "id": "5USyqAJwroY2"
      },
      "source": [
        "crew column"
      ]
    },
    {
      "cell_type": "code",
      "metadata": {
        "colab": {
          "base_uri": "https://localhost:8080/"
        },
        "id": "VWL7GZIErpZV",
        "outputId": "be4c62db-6a4c-49e1-fc24-2020d73d33ef"
      },
      "source": [
        "#getting number of crew\n",
        "j = 0\n",
        "for i in trainset['crew']:\n",
        "    d = get_dict(i)\n",
        "    if d != {}:\n",
        "        trainset['crew'][j] = len(d)\n",
        "    else:\n",
        "         trainset['crew'][j] = 0\n",
        "    j += 1  "
      ],
      "execution_count": null,
      "outputs": [
        {
          "output_type": "stream",
          "text": [
            "/usr/local/lib/python3.7/dist-packages/ipykernel_launcher.py:6: SettingWithCopyWarning: \n",
            "A value is trying to be set on a copy of a slice from a DataFrame\n",
            "\n",
            "See the caveats in the documentation: https://pandas.pydata.org/pandas-docs/stable/user_guide/indexing.html#returning-a-view-versus-a-copy\n",
            "  \n",
            "/usr/local/lib/python3.7/dist-packages/ipykernel_launcher.py:8: SettingWithCopyWarning: \n",
            "A value is trying to be set on a copy of a slice from a DataFrame\n",
            "\n",
            "See the caveats in the documentation: https://pandas.pydata.org/pandas-docs/stable/user_guide/indexing.html#returning-a-view-versus-a-copy\n",
            "  \n"
          ],
          "name": "stderr"
        }
      ]
    },
    {
      "cell_type": "code",
      "metadata": {
        "colab": {
          "base_uri": "https://localhost:8080/"
        },
        "id": "bWaI1VdYrrei",
        "outputId": "1e866f3c-cfe7-48ed-d056-e7b738ebf246"
      },
      "source": [
        "j = 0\n",
        "for i in testset['crew']:\n",
        "    d = get_dict(i)\n",
        "    if d != {}:\n",
        "        testset['crew'][j] = len(d)\n",
        "    else:\n",
        "         testset['crew'][j] = 0\n",
        "    j += 1 "
      ],
      "execution_count": null,
      "outputs": [
        {
          "output_type": "stream",
          "text": [
            "/usr/local/lib/python3.7/dist-packages/ipykernel_launcher.py:5: SettingWithCopyWarning: \n",
            "A value is trying to be set on a copy of a slice from a DataFrame\n",
            "\n",
            "See the caveats in the documentation: https://pandas.pydata.org/pandas-docs/stable/user_guide/indexing.html#returning-a-view-versus-a-copy\n",
            "  \"\"\"\n",
            "/usr/local/lib/python3.7/dist-packages/ipykernel_launcher.py:7: SettingWithCopyWarning: \n",
            "A value is trying to be set on a copy of a slice from a DataFrame\n",
            "\n",
            "See the caveats in the documentation: https://pandas.pydata.org/pandas-docs/stable/user_guide/indexing.html#returning-a-view-versus-a-copy\n",
            "  import sys\n"
          ],
          "name": "stderr"
        }
      ]
    },
    {
      "cell_type": "code",
      "metadata": {
        "colab": {
          "base_uri": "https://localhost:8080/",
          "height": 214
        },
        "id": "9XBB_1jHsM1K",
        "outputId": "0b1f4d1d-f950-4f93-9b56-a6c97fca4d51"
      },
      "source": [
        "trainset.head()"
      ],
      "execution_count": null,
      "outputs": [
        {
          "output_type": "execute_result",
          "data": {
            "text/html": [
              "<div>\n",
              "<style scoped>\n",
              "    .dataframe tbody tr th:only-of-type {\n",
              "        vertical-align: middle;\n",
              "    }\n",
              "\n",
              "    .dataframe tbody tr th {\n",
              "        vertical-align: top;\n",
              "    }\n",
              "\n",
              "    .dataframe thead th {\n",
              "        text-align: right;\n",
              "    }\n",
              "</style>\n",
              "<table border=\"1\" class=\"dataframe\">\n",
              "  <thead>\n",
              "    <tr style=\"text-align: right;\">\n",
              "      <th></th>\n",
              "      <th>belongs_to_how_many_coll</th>\n",
              "      <th>budget</th>\n",
              "      <th>genres</th>\n",
              "      <th>has_homepage</th>\n",
              "      <th>is_en_original_language</th>\n",
              "      <th>popularity</th>\n",
              "      <th>production_companies</th>\n",
              "      <th>production_countries</th>\n",
              "      <th>runtime</th>\n",
              "      <th>is_en_spoken</th>\n",
              "      <th>status</th>\n",
              "      <th>cast</th>\n",
              "      <th>crew</th>\n",
              "      <th>revenue</th>\n",
              "      <th>is_USA_prod_country</th>\n",
              "      <th>release_year</th>\n",
              "      <th>release_month</th>\n",
              "      <th>number_of_spoken_languages</th>\n",
              "    </tr>\n",
              "  </thead>\n",
              "  <tbody>\n",
              "    <tr>\n",
              "      <th>0</th>\n",
              "      <td>1</td>\n",
              "      <td>14000000.00</td>\n",
              "      <td>35</td>\n",
              "      <td>0</td>\n",
              "      <td>1</td>\n",
              "      <td>6.575393</td>\n",
              "      <td>3</td>\n",
              "      <td>1</td>\n",
              "      <td>93.0</td>\n",
              "      <td>1</td>\n",
              "      <td>0</td>\n",
              "      <td>24</td>\n",
              "      <td>72</td>\n",
              "      <td>12314651</td>\n",
              "      <td>1</td>\n",
              "      <td>15</td>\n",
              "      <td>2</td>\n",
              "      <td>1</td>\n",
              "    </tr>\n",
              "    <tr>\n",
              "      <th>1</th>\n",
              "      <td>1</td>\n",
              "      <td>40000000.00</td>\n",
              "      <td>35</td>\n",
              "      <td>0</td>\n",
              "      <td>1</td>\n",
              "      <td>8.248895</td>\n",
              "      <td>1</td>\n",
              "      <td>1</td>\n",
              "      <td>113.0</td>\n",
              "      <td>1</td>\n",
              "      <td>0</td>\n",
              "      <td>20</td>\n",
              "      <td>9</td>\n",
              "      <td>95149435</td>\n",
              "      <td>1</td>\n",
              "      <td>4</td>\n",
              "      <td>8</td>\n",
              "      <td>1</td>\n",
              "    </tr>\n",
              "    <tr>\n",
              "      <th>2</th>\n",
              "      <td>0</td>\n",
              "      <td>3300000.00</td>\n",
              "      <td>18</td>\n",
              "      <td>1</td>\n",
              "      <td>1</td>\n",
              "      <td>64.299990</td>\n",
              "      <td>3</td>\n",
              "      <td>1</td>\n",
              "      <td>105.0</td>\n",
              "      <td>1</td>\n",
              "      <td>0</td>\n",
              "      <td>51</td>\n",
              "      <td>64</td>\n",
              "      <td>13092000</td>\n",
              "      <td>1</td>\n",
              "      <td>14</td>\n",
              "      <td>10</td>\n",
              "      <td>1</td>\n",
              "    </tr>\n",
              "    <tr>\n",
              "      <th>3</th>\n",
              "      <td>0</td>\n",
              "      <td>1200000.00</td>\n",
              "      <td>53</td>\n",
              "      <td>1</td>\n",
              "      <td>0</td>\n",
              "      <td>3.174936</td>\n",
              "      <td>0</td>\n",
              "      <td>1</td>\n",
              "      <td>122.0</td>\n",
              "      <td>1</td>\n",
              "      <td>0</td>\n",
              "      <td>7</td>\n",
              "      <td>3</td>\n",
              "      <td>16000000</td>\n",
              "      <td>0</td>\n",
              "      <td>12</td>\n",
              "      <td>3</td>\n",
              "      <td>2</td>\n",
              "    </tr>\n",
              "    <tr>\n",
              "      <th>4</th>\n",
              "      <td>0</td>\n",
              "      <td>22531334.11</td>\n",
              "      <td>28</td>\n",
              "      <td>0</td>\n",
              "      <td>0</td>\n",
              "      <td>1.148070</td>\n",
              "      <td>0</td>\n",
              "      <td>1</td>\n",
              "      <td>118.0</td>\n",
              "      <td>0</td>\n",
              "      <td>0</td>\n",
              "      <td>4</td>\n",
              "      <td>2</td>\n",
              "      <td>3923970</td>\n",
              "      <td>0</td>\n",
              "      <td>9</td>\n",
              "      <td>2</td>\n",
              "      <td>1</td>\n",
              "    </tr>\n",
              "  </tbody>\n",
              "</table>\n",
              "</div>"
            ],
            "text/plain": [
              "  belongs_to_how_many_coll  ...  number_of_spoken_languages\n",
              "0                        1  ...                           1\n",
              "1                        1  ...                           1\n",
              "2                        0  ...                           1\n",
              "3                        0  ...                           2\n",
              "4                        0  ...                           1\n",
              "\n",
              "[5 rows x 18 columns]"
            ]
          },
          "metadata": {
            "tags": []
          },
          "execution_count": 73
        }
      ]
    },
    {
      "cell_type": "code",
      "metadata": {
        "colab": {
          "base_uri": "https://localhost:8080/"
        },
        "id": "GSLuGNfStl_X",
        "outputId": "939ade32-5a35-474f-febc-74a5efe4b46d"
      },
      "source": [
        "testset.isnull().sum()"
      ],
      "execution_count": null,
      "outputs": [
        {
          "output_type": "execute_result",
          "data": {
            "text/plain": [
              "belongs_to_how_many_coll      0\n",
              "budget                        0\n",
              "genres                        0\n",
              "has_homepage                  0\n",
              "is_en_original_language       0\n",
              "popularity                    0\n",
              "production_companies          0\n",
              "production_countries          0\n",
              "runtime                       0\n",
              "is_en_spoken                  0\n",
              "status                        0\n",
              "cast                          0\n",
              "crew                          0\n",
              "is_USA_prod_country           0\n",
              "release_year                  0\n",
              "release_month                 0\n",
              "number_of_spoken_languages    0\n",
              "dtype: int64"
            ]
          },
          "metadata": {
            "tags": []
          },
          "execution_count": 74
        }
      ]
    },
    {
      "cell_type": "code",
      "metadata": {
        "colab": {
          "base_uri": "https://localhost:8080/"
        },
        "id": "Jeyn5AzgtnWS",
        "outputId": "7d11ec57-a436-4881-9018-eeb7b63c21e4"
      },
      "source": [
        "trainset.isnull().sum()"
      ],
      "execution_count": null,
      "outputs": [
        {
          "output_type": "execute_result",
          "data": {
            "text/plain": [
              "belongs_to_how_many_coll      0\n",
              "budget                        0\n",
              "genres                        0\n",
              "has_homepage                  0\n",
              "is_en_original_language       0\n",
              "popularity                    0\n",
              "production_companies          0\n",
              "production_countries          0\n",
              "runtime                       0\n",
              "is_en_spoken                  0\n",
              "status                        0\n",
              "cast                          0\n",
              "crew                          0\n",
              "revenue                       0\n",
              "is_USA_prod_country           0\n",
              "release_year                  0\n",
              "release_month                 0\n",
              "number_of_spoken_languages    0\n",
              "dtype: int64"
            ]
          },
          "metadata": {
            "tags": []
          },
          "execution_count": 75
        }
      ]
    },
    {
      "cell_type": "markdown",
      "metadata": {
        "id": "-NdKJ7a2sTHD"
      },
      "source": [
        "Getting X_train and y_train"
      ]
    },
    {
      "cell_type": "code",
      "metadata": {
        "colab": {
          "base_uri": "https://localhost:8080/"
        },
        "id": "WOwh98lRsR_g",
        "outputId": "eed822b8-f3c5-4e1b-b3cb-cc4698aae407"
      },
      "source": [
        "trainset.columns.get_loc('revenue')"
      ],
      "execution_count": null,
      "outputs": [
        {
          "output_type": "execute_result",
          "data": {
            "text/plain": [
              "13"
            ]
          },
          "metadata": {
            "tags": []
          },
          "execution_count": 76
        }
      ]
    },
    {
      "cell_type": "code",
      "metadata": {
        "colab": {
          "base_uri": "https://localhost:8080/"
        },
        "id": "v4w_lBgpss0Z",
        "outputId": "65258f06-72e6-45b6-914a-90010adcb26d"
      },
      "source": [
        "trainset.shape"
      ],
      "execution_count": null,
      "outputs": [
        {
          "output_type": "execute_result",
          "data": {
            "text/plain": [
              "(3000, 18)"
            ]
          },
          "metadata": {
            "tags": []
          },
          "execution_count": 77
        }
      ]
    },
    {
      "cell_type": "code",
      "metadata": {
        "colab": {
          "base_uri": "https://localhost:8080/"
        },
        "id": "mQHWvk_lsvD-",
        "outputId": "5773f5f1-ad90-425c-8670-856b52c2c7aa"
      },
      "source": [
        "X = trainset.iloc[:, 0:19]\n",
        "X_train=X.drop(columns=['revenue'])\n",
        "X_train.shape"
      ],
      "execution_count": null,
      "outputs": [
        {
          "output_type": "execute_result",
          "data": {
            "text/plain": [
              "(3000, 17)"
            ]
          },
          "metadata": {
            "tags": []
          },
          "execution_count": 78
        }
      ]
    },
    {
      "cell_type": "code",
      "metadata": {
        "colab": {
          "base_uri": "https://localhost:8080/"
        },
        "id": "M_pjqs7Js9W2",
        "outputId": "33b9d69e-c321-4535-99de-414178f799b3"
      },
      "source": [
        "testset.shape"
      ],
      "execution_count": null,
      "outputs": [
        {
          "output_type": "execute_result",
          "data": {
            "text/plain": [
              "(4398, 17)"
            ]
          },
          "metadata": {
            "tags": []
          },
          "execution_count": 79
        }
      ]
    },
    {
      "cell_type": "code",
      "metadata": {
        "colab": {
          "base_uri": "https://localhost:8080/"
        },
        "id": "Jt5ovyv9tEBX",
        "outputId": "dafacef1-551b-4219-e156-acf1d4c9a679"
      },
      "source": [
        "y_train=trainset.iloc[:, 13]\n",
        "print(y_train)"
      ],
      "execution_count": null,
      "outputs": [
        {
          "output_type": "stream",
          "text": [
            "0        12314651\n",
            "1        95149435\n",
            "2        13092000\n",
            "3        16000000\n",
            "4         3923970\n",
            "          ...    \n",
            "2995      1596687\n",
            "2996       180590\n",
            "2997     89456761\n",
            "2998    171963386\n",
            "2999     82087155\n",
            "Name: revenue, Length: 3000, dtype: int64\n"
          ],
          "name": "stdout"
        }
      ]
    },
    {
      "cell_type": "markdown",
      "metadata": {
        "id": "UoivK0iztH6j"
      },
      "source": [
        "Checking feature importance"
      ]
    },
    {
      "cell_type": "code",
      "metadata": {
        "colab": {
          "base_uri": "https://localhost:8080/",
          "height": 265
        },
        "id": "uWvlR1Y-tNLY",
        "outputId": "06cbdd53-1887-4ddf-e229-6a38f1da1385"
      },
      "source": [
        "from sklearn.ensemble import ExtraTreesRegressor\n",
        "import matplotlib.pyplot as plt\n",
        "model = ExtraTreesRegressor()\n",
        "model.fit(X_train,y_train)\n",
        "feat_importances = pd.Series(model.feature_importances_, index=X_train.columns)\n",
        "feat_importances.nlargest(18).plot(kind='barh')\n",
        "plt.show()"
      ],
      "execution_count": null,
      "outputs": [
        {
          "output_type": "display_data",
          "data": {
            "image/png": "[encoded data removed]",
            "text/plain": [
              "<Figure size 432x288 with 1 Axes>"
            ]
          },
          "metadata": {
            "tags": [],
            "needs_background": "light"
          }
        }
      ]
    },
    {
      "cell_type": "markdown",
      "metadata": {
        "id": "yzmgGoUpN5TT"
      },
      "source": [
        "RFR"
      ]
    },
    {
      "cell_type": "code",
      "metadata": {
        "colab": {
          "base_uri": "https://localhost:8080/"
        },
        "id": "LihfK_jKOBcq",
        "outputId": "23c1d624-9251-4c66-8bf0-f87ad39f3bb7"
      },
      "source": [
        "from sklearn.ensemble import RandomForestRegressor\n",
        "regressor1=RandomForestRegressor()\n",
        "\n",
        "regressor1.fit(X_train, y_train)"
      ],
      "execution_count": null,
      "outputs": [
        {
          "output_type": "execute_result",
          "data": {
            "text/plain": [
              "RandomForestRegressor(bootstrap=True, ccp_alpha=0.0, criterion='mse',\n",
              "                      max_depth=None, max_features='auto', max_leaf_nodes=None,\n",
              "                      max_samples=None, min_impurity_decrease=0.0,\n",
              "                      min_impurity_split=None, min_samples_leaf=1,\n",
              "                      min_samples_split=2, min_weight_fraction_leaf=0.0,\n",
              "                      n_estimators=100, n_jobs=None, oob_score=False,\n",
              "                      random_state=None, verbose=0, warm_start=False)"
            ]
          },
          "metadata": {
            "tags": []
          },
          "execution_count": 82
        }
      ]
    },
    {
      "cell_type": "code",
      "metadata": {
        "id": "MIoX9Rl6OFWR"
      },
      "source": [
        "y_pred1=regressor1.predict(testset)\n",
        "result_data1 = pd.read_csv(\"sample_submission.csv\")\n",
        "output = pd.DataFrame({'id': result_data1.id, 'revenue': y_pred1})\n",
        "output.to_csv('my_submissionA.csv', index=False)"
      ],
      "execution_count": null,
      "outputs": []
    },
    {
      "cell_type": "markdown",
      "metadata": {
        "id": "-OoeaDfoOpho"
      },
      "source": [
        "SVR"
      ]
    },
    {
      "cell_type": "code",
      "metadata": {
        "colab": {
          "base_uri": "https://localhost:8080/"
        },
        "id": "rBOkmJrwOqSC",
        "outputId": "2b91e0ae-e7e9-4c24-95ac-132821acbc10"
      },
      "source": [
        "from sklearn.svm import SVR\n",
        "regressor2=SVR(kernel='rbf')\n",
        "regressor2.fit(X_train,y_train)"
      ],
      "execution_count": null,
      "outputs": [
        {
          "output_type": "execute_result",
          "data": {
            "text/plain": [
              "SVR(C=1.0, cache_size=200, coef0=0.0, degree=3, epsilon=0.1, gamma='scale',\n",
              "    kernel='rbf', max_iter=-1, shrinking=True, tol=0.001, verbose=False)"
            ]
          },
          "metadata": {
            "tags": []
          },
          "execution_count": 84
        }
      ]
    },
    {
      "cell_type": "code",
      "metadata": {
        "id": "MHncLAndOzsF"
      },
      "source": [
        "y_pred2=regressor2.predict(testset)\n",
        "result_data2 = pd.read_csv(\"sample_submission.csv\")\n",
        "output = pd.DataFrame({'id': result_data2.id, 'revenue': y_pred2})\n",
        "output.to_csv('my_submissionB.csv', index=False)"
      ],
      "execution_count": null,
      "outputs": []
    },
    {
      "cell_type": "markdown",
      "metadata": {
        "id": "1c0FL02jPYey"
      },
      "source": [
        "catboost"
      ]
    },
    {
      "cell_type": "code",
      "metadata": {
        "colab": {
          "base_uri": "https://localhost:8080/"
        },
        "id": "kQQNYij8PZuq",
        "outputId": "d5649f86-6417-46ba-968a-6cc28d047ba7"
      },
      "source": [
        "!pip install catboost"
      ],
      "execution_count": null,
      "outputs": [
        {
          "output_type": "stream",
          "text": [
            "Requirement already satisfied: catboost in /usr/local/lib/python3.7/dist-packages (0.24.4)\n",
            "Requirement already satisfied: graphviz in /usr/local/lib/python3.7/dist-packages (from catboost) (0.10.1)\n",
            "Requirement already satisfied: pandas>=0.24.0 in /usr/local/lib/python3.7/dist-packages (from catboost) (1.1.5)\n",
            "Requirement already satisfied: numpy>=1.16.0 in /usr/local/lib/python3.7/dist-packages (from catboost) (1.19.5)\n",
            "Requirement already satisfied: six in /usr/local/lib/python3.7/dist-packages (from catboost) (1.15.0)\n",
            "Requirement already satisfied: matplotlib in /usr/local/lib/python3.7/dist-packages (from catboost) (3.2.2)\n",
            "Requirement already satisfied: plotly in /usr/local/lib/python3.7/dist-packages (from catboost) (4.4.1)\n",
            "Requirement already satisfied: scipy in /usr/local/lib/python3.7/dist-packages (from catboost) (1.4.1)\n",
            "Requirement already satisfied: python-dateutil>=2.7.3 in /usr/local/lib/python3.7/dist-packages (from pandas>=0.24.0->catboost) (2.8.1)\n",
            "Requirement already satisfied: pytz>=2017.2 in /usr/local/lib/python3.7/dist-packages (from pandas>=0.24.0->catboost) (2018.9)\n",
            "Requirement already satisfied: kiwisolver>=1.0.1 in /usr/local/lib/python3.7/dist-packages (from matplotlib->catboost) (1.3.1)\n",
            "Requirement already satisfied: pyparsing!=2.0.4,!=2.1.2,!=2.1.6,>=2.0.1 in /usr/local/lib/python3.7/dist-packages (from matplotlib->catboost) (2.4.7)\n",
            "Requirement already satisfied: cycler>=0.10 in /usr/local/lib/python3.7/dist-packages (from matplotlib->catboost) (0.10.0)\n",
            "Requirement already satisfied: retrying>=1.3.3 in /usr/local/lib/python3.7/dist-packages (from plotly->catboost) (1.3.3)\n"
          ],
          "name": "stdout"
        }
      ]
    },
    {
      "cell_type": "code",
      "metadata": {
        "colab": {
          "base_uri": "https://localhost:8080/"
        },
        "id": "WED9P5aIPgUy",
        "outputId": "2b0b9c43-de88-414f-85b6-ff31b4beae86"
      },
      "source": [
        "from numpy import mean\n",
        "from numpy import std\n",
        "from catboost import CatBoostRegressor\n",
        "best_grid = CatBoostRegressor()\n",
        "best_grid.fit(X_train, y_train)\n",
        "round(best_grid.score(X_train, y_train), 2)"
      ],
      "execution_count": null,
      "outputs": [
        {
          "output_type": "stream",
          "text": [
            "Learning rate set to 0.04746\n",
            "0:\tlearn: 134149353.3990327\ttotal: 50.1ms\tremaining: 50s\n",
            "1:\tlearn: 130560246.1909094\ttotal: 52.7ms\tremaining: 26.3s\n",
            "2:\tlearn: 127448811.2881670\ttotal: 55.3ms\tremaining: 18.4s\n",
            "3:\tlearn: 124822671.1612775\ttotal: 57.7ms\tremaining: 14.4s\n",
            "4:\tlearn: 121788061.4574624\ttotal: 60.1ms\tremaining: 12s\n",
            "5:\tlearn: 118982591.8740588\ttotal: 65.3ms\tremaining: 10.8s\n",
            "6:\tlearn: 116279462.2307398\ttotal: 67.7ms\tremaining: 9.6s\n",
            "7:\tlearn: 113684334.8072620\ttotal: 70ms\tremaining: 8.68s\n",
            "8:\tlearn: 111309456.3176849\ttotal: 72.3ms\tremaining: 7.96s\n",
            "9:\tlearn: 109034330.8770985\ttotal: 74.6ms\tremaining: 7.39s\n",
            "10:\tlearn: 106888416.1957307\ttotal: 76.9ms\tremaining: 6.91s\n",
            "11:\tlearn: 104756400.2471948\ttotal: 79.3ms\tremaining: 6.53s\n",
            "12:\tlearn: 102924835.3346407\ttotal: 81.5ms\tremaining: 6.18s\n",
            "13:\tlearn: 100971393.7975153\ttotal: 83.9ms\tremaining: 5.91s\n",
            "14:\tlearn: 99210771.3017179\ttotal: 86.3ms\tremaining: 5.66s\n",
            "15:\tlearn: 97493674.2261971\ttotal: 89ms\tremaining: 5.47s\n",
            "16:\tlearn: 95925307.4990224\ttotal: 91.6ms\tremaining: 5.3s\n",
            "17:\tlearn: 94553462.6685292\ttotal: 94ms\tremaining: 5.13s\n",
            "18:\tlearn: 93043034.6122343\ttotal: 96.2ms\tremaining: 4.97s\n",
            "19:\tlearn: 91755072.6692054\ttotal: 98.6ms\tremaining: 4.83s\n",
            "20:\tlearn: 90422876.1615004\ttotal: 101ms\tremaining: 4.7s\n",
            "21:\tlearn: 89156031.6955880\ttotal: 103ms\tremaining: 4.58s\n",
            "22:\tlearn: 87929940.2542555\ttotal: 106ms\tremaining: 4.48s\n",
            "23:\tlearn: 86700176.8694078\ttotal: 109ms\tremaining: 4.42s\n",
            "24:\tlearn: 85677909.2830458\ttotal: 111ms\tremaining: 4.34s\n",
            "25:\tlearn: 84667115.8995506\ttotal: 115ms\tremaining: 4.29s\n",
            "26:\tlearn: 83719539.1096435\ttotal: 117ms\tremaining: 4.21s\n",
            "27:\tlearn: 82876780.2569980\ttotal: 120ms\tremaining: 4.15s\n",
            "28:\tlearn: 82097171.1885473\ttotal: 122ms\tremaining: 4.1s\n",
            "29:\tlearn: 81282149.3380105\ttotal: 125ms\tremaining: 4.03s\n",
            "30:\tlearn: 80399899.4759902\ttotal: 128ms\tremaining: 4s\n",
            "31:\tlearn: 79736523.9685248\ttotal: 130ms\tremaining: 3.94s\n",
            "32:\tlearn: 78929874.8257385\ttotal: 132ms\tremaining: 3.88s\n",
            "33:\tlearn: 78182363.5048806\ttotal: 135ms\tremaining: 3.82s\n",
            "34:\tlearn: 77456861.2634150\ttotal: 137ms\tremaining: 3.78s\n",
            "35:\tlearn: 76773355.4530219\ttotal: 140ms\tremaining: 3.75s\n",
            "36:\tlearn: 76094450.8432519\ttotal: 143ms\tremaining: 3.71s\n",
            "37:\tlearn: 75456765.2633750\ttotal: 145ms\tremaining: 3.67s\n",
            "38:\tlearn: 74909396.4283912\ttotal: 147ms\tremaining: 3.63s\n",
            "39:\tlearn: 74237790.5396145\ttotal: 150ms\tremaining: 3.59s\n",
            "40:\tlearn: 73700447.9072529\ttotal: 152ms\tremaining: 3.55s\n",
            "41:\tlearn: 73188599.8732436\ttotal: 154ms\tremaining: 3.52s\n",
            "42:\tlearn: 72701001.4375967\ttotal: 156ms\tremaining: 3.48s\n",
            "43:\tlearn: 72303036.6719395\ttotal: 159ms\tremaining: 3.46s\n",
            "44:\tlearn: 71886145.9338721\ttotal: 162ms\tremaining: 3.43s\n",
            "45:\tlearn: 71452400.3995293\ttotal: 164ms\tremaining: 3.4s\n",
            "46:\tlearn: 71014444.9194319\ttotal: 166ms\tremaining: 3.37s\n",
            "47:\tlearn: 70526979.2269257\ttotal: 168ms\tremaining: 3.34s\n",
            "48:\tlearn: 70139952.2052398\ttotal: 171ms\tremaining: 3.31s\n",
            "49:\tlearn: 69827087.0219574\ttotal: 173ms\tremaining: 3.28s\n",
            "50:\tlearn: 69455637.0325883\ttotal: 175ms\tremaining: 3.26s\n",
            "51:\tlearn: 69112495.7138039\ttotal: 177ms\tremaining: 3.23s\n",
            "52:\tlearn: 68789486.7401585\ttotal: 180ms\tremaining: 3.21s\n",
            "53:\tlearn: 68431052.1781393\ttotal: 182ms\tremaining: 3.18s\n",
            "54:\tlearn: 68096639.9018455\ttotal: 184ms\tremaining: 3.16s\n",
            "55:\tlearn: 67792096.6913421\ttotal: 186ms\tremaining: 3.14s\n",
            "56:\tlearn: 67421241.0558277\ttotal: 192ms\tremaining: 3.18s\n",
            "57:\tlearn: 67141023.0685475\ttotal: 196ms\tremaining: 3.19s\n",
            "58:\tlearn: 66869133.6412714\ttotal: 199ms\tremaining: 3.18s\n",
            "59:\tlearn: 66591711.8014978\ttotal: 202ms\tremaining: 3.16s\n",
            "60:\tlearn: 66311492.9652147\ttotal: 205ms\tremaining: 3.15s\n",
            "61:\tlearn: 66027653.7794633\ttotal: 207ms\tremaining: 3.13s\n",
            "62:\tlearn: 65759430.1717996\ttotal: 209ms\tremaining: 3.11s\n",
            "63:\tlearn: 65543461.8264443\ttotal: 212ms\tremaining: 3.1s\n",
            "64:\tlearn: 65295237.7960452\ttotal: 214ms\tremaining: 3.08s\n",
            "65:\tlearn: 65094714.7579230\ttotal: 216ms\tremaining: 3.06s\n",
            "66:\tlearn: 64915813.4235360\ttotal: 219ms\tremaining: 3.05s\n",
            "67:\tlearn: 64700832.4882277\ttotal: 221ms\tremaining: 3.03s\n",
            "68:\tlearn: 64577686.2371354\ttotal: 224ms\tremaining: 3.02s\n",
            "69:\tlearn: 64437630.2013177\ttotal: 227ms\tremaining: 3.01s\n",
            "70:\tlearn: 64208245.1512469\ttotal: 229ms\tremaining: 3s\n",
            "71:\tlearn: 64024007.4652237\ttotal: 231ms\tremaining: 2.98s\n",
            "72:\tlearn: 63820154.3052660\ttotal: 234ms\tremaining: 2.97s\n",
            "73:\tlearn: 63696978.3245172\ttotal: 236ms\tremaining: 2.96s\n",
            "74:\tlearn: 63516120.0401191\ttotal: 238ms\tremaining: 2.94s\n",
            "75:\tlearn: 63315816.8800213\ttotal: 241ms\tremaining: 2.93s\n",
            "76:\tlearn: 63187522.1689533\ttotal: 243ms\tremaining: 2.91s\n",
            "77:\tlearn: 62974707.7034259\ttotal: 245ms\tremaining: 2.9s\n",
            "78:\tlearn: 62801265.0639618\ttotal: 247ms\tremaining: 2.88s\n",
            "79:\tlearn: 62681867.5095570\ttotal: 250ms\tremaining: 2.87s\n",
            "80:\tlearn: 62570620.5899773\ttotal: 252ms\tremaining: 2.86s\n",
            "81:\tlearn: 62527097.8979129\ttotal: 254ms\tremaining: 2.84s\n",
            "82:\tlearn: 62386092.0751810\ttotal: 257ms\tremaining: 2.83s\n",
            "83:\tlearn: 62256180.7072373\ttotal: 259ms\tremaining: 2.82s\n",
            "84:\tlearn: 62176324.8431839\ttotal: 261ms\tremaining: 2.81s\n",
            "85:\tlearn: 62139407.6214289\ttotal: 264ms\tremaining: 2.8s\n",
            "86:\tlearn: 62050044.6217709\ttotal: 266ms\tremaining: 2.79s\n",
            "87:\tlearn: 61991597.8233792\ttotal: 268ms\tremaining: 2.78s\n",
            "88:\tlearn: 61812520.0498721\ttotal: 270ms\tremaining: 2.77s\n",
            "89:\tlearn: 61676125.6164764\ttotal: 273ms\tremaining: 2.76s\n",
            "90:\tlearn: 61603699.7643922\ttotal: 275ms\tremaining: 2.75s\n",
            "91:\tlearn: 61581684.6578686\ttotal: 277ms\tremaining: 2.73s\n",
            "92:\tlearn: 61513612.4203501\ttotal: 279ms\tremaining: 2.72s\n",
            "93:\tlearn: 61378009.9470679\ttotal: 281ms\tremaining: 2.71s\n",
            "94:\tlearn: 61258661.3349607\ttotal: 284ms\tremaining: 2.71s\n",
            "95:\tlearn: 61249995.4997636\ttotal: 285ms\tremaining: 2.68s\n",
            "96:\tlearn: 61155673.6744144\ttotal: 287ms\tremaining: 2.67s\n",
            "97:\tlearn: 61118265.4483820\ttotal: 290ms\tremaining: 2.67s\n",
            "98:\tlearn: 61085996.8484574\ttotal: 292ms\tremaining: 2.66s\n",
            "99:\tlearn: 61001999.6968125\ttotal: 295ms\tremaining: 2.65s\n",
            "100:\tlearn: 60937095.7201033\ttotal: 297ms\tremaining: 2.64s\n",
            "101:\tlearn: 60927090.6583839\ttotal: 300ms\tremaining: 2.64s\n",
            "102:\tlearn: 60786411.2384943\ttotal: 305ms\tremaining: 2.66s\n",
            "103:\tlearn: 60733353.8751134\ttotal: 309ms\tremaining: 2.66s\n",
            "104:\tlearn: 60660743.8645461\ttotal: 314ms\tremaining: 2.67s\n",
            "105:\tlearn: 60577320.7764540\ttotal: 316ms\tremaining: 2.67s\n",
            "106:\tlearn: 60502530.7490824\ttotal: 318ms\tremaining: 2.65s\n",
            "107:\tlearn: 60389925.4894093\ttotal: 320ms\tremaining: 2.65s\n",
            "108:\tlearn: 60237272.0122425\ttotal: 323ms\tremaining: 2.64s\n",
            "109:\tlearn: 60075870.2932999\ttotal: 325ms\tremaining: 2.63s\n",
            "110:\tlearn: 59926586.0980215\ttotal: 327ms\tremaining: 2.62s\n",
            "111:\tlearn: 59789636.5878664\ttotal: 329ms\tremaining: 2.61s\n",
            "112:\tlearn: 59747374.5160727\ttotal: 331ms\tremaining: 2.6s\n",
            "113:\tlearn: 59711546.5385480\ttotal: 334ms\tremaining: 2.6s\n",
            "114:\tlearn: 59696208.2896767\ttotal: 337ms\tremaining: 2.6s\n",
            "115:\tlearn: 59641332.0185264\ttotal: 340ms\tremaining: 2.59s\n",
            "116:\tlearn: 59573449.5217611\ttotal: 342ms\tremaining: 2.58s\n",
            "117:\tlearn: 59434511.3195479\ttotal: 344ms\tremaining: 2.57s\n",
            "118:\tlearn: 59333352.7153869\ttotal: 346ms\tremaining: 2.56s\n",
            "119:\tlearn: 59304726.5713536\ttotal: 348ms\tremaining: 2.56s\n",
            "120:\tlearn: 59262455.8125050\ttotal: 351ms\tremaining: 2.55s\n",
            "121:\tlearn: 59145742.7030742\ttotal: 355ms\tremaining: 2.56s\n",
            "122:\tlearn: 59027269.3709996\ttotal: 358ms\tremaining: 2.55s\n",
            "123:\tlearn: 58949990.8943557\ttotal: 361ms\tremaining: 2.55s\n",
            "124:\tlearn: 58915039.9714323\ttotal: 363ms\tremaining: 2.54s\n",
            "125:\tlearn: 58903417.4184612\ttotal: 365ms\tremaining: 2.53s\n",
            "126:\tlearn: 58797911.4163271\ttotal: 367ms\tremaining: 2.52s\n",
            "127:\tlearn: 58753566.3665209\ttotal: 372ms\tremaining: 2.54s\n",
            "128:\tlearn: 58711761.6597036\ttotal: 375ms\tremaining: 2.53s\n",
            "129:\tlearn: 58669218.9727380\ttotal: 379ms\tremaining: 2.54s\n",
            "130:\tlearn: 58573661.8096446\ttotal: 384ms\tremaining: 2.55s\n",
            "131:\tlearn: 58458387.1906152\ttotal: 389ms\tremaining: 2.56s\n",
            "132:\tlearn: 58429364.0184344\ttotal: 394ms\tremaining: 2.57s\n",
            "133:\tlearn: 58408193.5320387\ttotal: 397ms\tremaining: 2.56s\n",
            "134:\tlearn: 58367951.0525776\ttotal: 399ms\tremaining: 2.56s\n",
            "135:\tlearn: 58321085.6171203\ttotal: 401ms\tremaining: 2.55s\n",
            "136:\tlearn: 58183737.7053233\ttotal: 403ms\tremaining: 2.54s\n",
            "137:\tlearn: 58175929.2739736\ttotal: 406ms\tremaining: 2.53s\n",
            "138:\tlearn: 58012073.8847822\ttotal: 408ms\tremaining: 2.53s\n",
            "139:\tlearn: 57920533.5813157\ttotal: 410ms\tremaining: 2.52s\n",
            "140:\tlearn: 57877409.0910471\ttotal: 412ms\tremaining: 2.51s\n",
            "141:\tlearn: 57754221.6385466\ttotal: 414ms\tremaining: 2.5s\n",
            "142:\tlearn: 57656925.8440900\ttotal: 417ms\tremaining: 2.5s\n",
            "143:\tlearn: 57609232.8226378\ttotal: 419ms\tremaining: 2.49s\n",
            "144:\tlearn: 57547960.3123382\ttotal: 421ms\tremaining: 2.48s\n",
            "145:\tlearn: 57428506.9790844\ttotal: 424ms\tremaining: 2.48s\n",
            "146:\tlearn: 57344838.1322307\ttotal: 426ms\tremaining: 2.47s\n",
            "147:\tlearn: 57254396.1599769\ttotal: 428ms\tremaining: 2.46s\n",
            "148:\tlearn: 57222841.9765221\ttotal: 430ms\tremaining: 2.46s\n",
            "149:\tlearn: 57173196.5116509\ttotal: 433ms\tremaining: 2.45s\n",
            "150:\tlearn: 57117984.5291605\ttotal: 435ms\tremaining: 2.44s\n",
            "151:\tlearn: 57016622.6354053\ttotal: 437ms\tremaining: 2.44s\n",
            "152:\tlearn: 56940083.3235512\ttotal: 439ms\tremaining: 2.43s\n",
            "153:\tlearn: 56869510.1703561\ttotal: 442ms\tremaining: 2.42s\n",
            "154:\tlearn: 56843397.3235199\ttotal: 444ms\tremaining: 2.42s\n",
            "155:\tlearn: 56764529.4937312\ttotal: 446ms\tremaining: 2.41s\n",
            "156:\tlearn: 56699621.2547000\ttotal: 448ms\tremaining: 2.41s\n",
            "157:\tlearn: 56641659.1162947\ttotal: 451ms\tremaining: 2.4s\n",
            "158:\tlearn: 56605417.1827383\ttotal: 453ms\tremaining: 2.4s\n",
            "159:\tlearn: 56582074.0535567\ttotal: 456ms\tremaining: 2.39s\n",
            "160:\tlearn: 56483554.0350017\ttotal: 458ms\tremaining: 2.39s\n",
            "161:\tlearn: 56436935.3105157\ttotal: 461ms\tremaining: 2.38s\n",
            "162:\tlearn: 56434817.5584660\ttotal: 463ms\tremaining: 2.38s\n",
            "163:\tlearn: 56351587.5377255\ttotal: 465ms\tremaining: 2.37s\n",
            "164:\tlearn: 56263849.5130957\ttotal: 467ms\tremaining: 2.37s\n",
            "165:\tlearn: 56201942.5502109\ttotal: 470ms\tremaining: 2.36s\n",
            "166:\tlearn: 56145692.6025336\ttotal: 472ms\tremaining: 2.36s\n",
            "167:\tlearn: 56031541.6751773\ttotal: 475ms\tremaining: 2.35s\n",
            "168:\tlearn: 55973545.4367856\ttotal: 478ms\tremaining: 2.35s\n",
            "169:\tlearn: 55905300.7189963\ttotal: 480ms\tremaining: 2.34s\n",
            "170:\tlearn: 55885065.2061214\ttotal: 482ms\tremaining: 2.34s\n",
            "171:\tlearn: 55773830.7361899\ttotal: 484ms\tremaining: 2.33s\n",
            "172:\tlearn: 55701004.0158197\ttotal: 487ms\tremaining: 2.33s\n",
            "173:\tlearn: 55620061.7256359\ttotal: 489ms\tremaining: 2.32s\n",
            "174:\tlearn: 55545940.1478444\ttotal: 492ms\tremaining: 2.32s\n",
            "175:\tlearn: 55490509.1543221\ttotal: 496ms\tremaining: 2.32s\n",
            "176:\tlearn: 55361301.5196529\ttotal: 499ms\tremaining: 2.32s\n",
            "177:\tlearn: 55302484.9337184\ttotal: 501ms\tremaining: 2.31s\n",
            "178:\tlearn: 55292424.7723027\ttotal: 504ms\tremaining: 2.31s\n",
            "179:\tlearn: 55190643.4970931\ttotal: 506ms\tremaining: 2.31s\n",
            "180:\tlearn: 55113436.5798631\ttotal: 508ms\tremaining: 2.3s\n",
            "181:\tlearn: 55046300.6292121\ttotal: 513ms\tremaining: 2.31s\n",
            "182:\tlearn: 54958429.4496684\ttotal: 520ms\tremaining: 2.32s\n",
            "183:\tlearn: 54927933.8799442\ttotal: 523ms\tremaining: 2.32s\n",
            "184:\tlearn: 54892822.5651999\ttotal: 526ms\tremaining: 2.31s\n",
            "185:\tlearn: 54848176.2585049\ttotal: 529ms\tremaining: 2.32s\n",
            "186:\tlearn: 54781832.9494730\ttotal: 532ms\tremaining: 2.31s\n",
            "187:\tlearn: 54722763.7438379\ttotal: 534ms\tremaining: 2.31s\n",
            "188:\tlearn: 54691609.5585542\ttotal: 537ms\tremaining: 2.3s\n",
            "189:\tlearn: 54602076.0683511\ttotal: 539ms\tremaining: 2.3s\n",
            "190:\tlearn: 54495941.7030382\ttotal: 541ms\tremaining: 2.29s\n",
            "191:\tlearn: 54426098.1080254\ttotal: 544ms\tremaining: 2.29s\n",
            "192:\tlearn: 54355637.5662190\ttotal: 546ms\tremaining: 2.28s\n",
            "193:\tlearn: 54260202.0292623\ttotal: 548ms\tremaining: 2.28s\n",
            "194:\tlearn: 54171293.6370179\ttotal: 551ms\tremaining: 2.28s\n",
            "195:\tlearn: 54065917.4436125\ttotal: 559ms\tremaining: 2.29s\n",
            "196:\tlearn: 54002798.9402105\ttotal: 561ms\tremaining: 2.29s\n",
            "197:\tlearn: 53881830.5970464\ttotal: 564ms\tremaining: 2.28s\n",
            "198:\tlearn: 53805180.2778594\ttotal: 566ms\tremaining: 2.28s\n",
            "199:\tlearn: 53683332.9857972\ttotal: 569ms\tremaining: 2.27s\n",
            "200:\tlearn: 53579083.7248949\ttotal: 571ms\tremaining: 2.27s\n",
            "201:\tlearn: 53523093.3244782\ttotal: 573ms\tremaining: 2.26s\n",
            "202:\tlearn: 53403332.0534731\ttotal: 575ms\tremaining: 2.26s\n",
            "203:\tlearn: 53325380.7820212\ttotal: 577ms\tremaining: 2.25s\n",
            "204:\tlearn: 53255042.8729159\ttotal: 579ms\tremaining: 2.25s\n",
            "205:\tlearn: 53158291.2358124\ttotal: 581ms\tremaining: 2.24s\n",
            "206:\tlearn: 53075637.2098537\ttotal: 584ms\tremaining: 2.23s\n",
            "207:\tlearn: 53055376.8172754\ttotal: 586ms\tremaining: 2.23s\n",
            "208:\tlearn: 52982451.8388580\ttotal: 588ms\tremaining: 2.22s\n",
            "209:\tlearn: 52857410.8137859\ttotal: 590ms\tremaining: 2.22s\n",
            "210:\tlearn: 52779466.5900507\ttotal: 592ms\tremaining: 2.21s\n",
            "211:\tlearn: 52693819.1387491\ttotal: 595ms\tremaining: 2.21s\n",
            "212:\tlearn: 52632618.9968189\ttotal: 597ms\tremaining: 2.21s\n",
            "213:\tlearn: 52552290.5402757\ttotal: 600ms\tremaining: 2.2s\n",
            "214:\tlearn: 52479047.1091796\ttotal: 602ms\tremaining: 2.2s\n",
            "215:\tlearn: 52393056.7711921\ttotal: 604ms\tremaining: 2.19s\n",
            "216:\tlearn: 52330020.3778862\ttotal: 606ms\tremaining: 2.19s\n",
            "217:\tlearn: 52254712.1848997\ttotal: 608ms\tremaining: 2.18s\n",
            "218:\tlearn: 52168599.7705732\ttotal: 611ms\tremaining: 2.18s\n",
            "219:\tlearn: 52127948.7882656\ttotal: 613ms\tremaining: 2.17s\n",
            "220:\tlearn: 52042020.8076175\ttotal: 615ms\tremaining: 2.17s\n",
            "221:\tlearn: 51963526.2435020\ttotal: 617ms\tremaining: 2.16s\n",
            "222:\tlearn: 51889014.5522563\ttotal: 619ms\tremaining: 2.16s\n",
            "223:\tlearn: 51816831.4413847\ttotal: 622ms\tremaining: 2.15s\n",
            "224:\tlearn: 51754517.7657749\ttotal: 625ms\tremaining: 2.15s\n",
            "225:\tlearn: 51707102.4698617\ttotal: 628ms\tremaining: 2.15s\n",
            "226:\tlearn: 51643235.0295520\ttotal: 631ms\tremaining: 2.15s\n",
            "227:\tlearn: 51573944.2254522\ttotal: 633ms\tremaining: 2.14s\n",
            "228:\tlearn: 51548155.4043902\ttotal: 636ms\tremaining: 2.14s\n",
            "229:\tlearn: 51503024.9169456\ttotal: 638ms\tremaining: 2.13s\n",
            "230:\tlearn: 51459241.0916944\ttotal: 640ms\tremaining: 2.13s\n",
            "231:\tlearn: 51398120.6949010\ttotal: 643ms\tremaining: 2.13s\n",
            "232:\tlearn: 51332360.9892778\ttotal: 645ms\tremaining: 2.12s\n",
            "233:\tlearn: 51260164.5526598\ttotal: 648ms\tremaining: 2.12s\n",
            "234:\tlearn: 51212233.9371615\ttotal: 650ms\tremaining: 2.12s\n",
            "235:\tlearn: 51122209.4925422\ttotal: 653ms\tremaining: 2.12s\n",
            "236:\tlearn: 51063837.5428092\ttotal: 656ms\tremaining: 2.11s\n",
            "237:\tlearn: 50992545.0054367\ttotal: 658ms\tremaining: 2.11s\n",
            "238:\tlearn: 50917999.0423661\ttotal: 661ms\tremaining: 2.1s\n",
            "239:\tlearn: 50864100.4377875\ttotal: 663ms\tremaining: 2.1s\n",
            "240:\tlearn: 50807291.2542806\ttotal: 665ms\tremaining: 2.1s\n",
            "241:\tlearn: 50742118.3115203\ttotal: 668ms\tremaining: 2.09s\n",
            "242:\tlearn: 50675279.5062981\ttotal: 670ms\tremaining: 2.09s\n",
            "243:\tlearn: 50603800.3221329\ttotal: 673ms\tremaining: 2.08s\n",
            "244:\tlearn: 50542416.4376661\ttotal: 675ms\tremaining: 2.08s\n",
            "245:\tlearn: 50416704.6621637\ttotal: 677ms\tremaining: 2.07s\n",
            "246:\tlearn: 50384915.5473254\ttotal: 679ms\tremaining: 2.07s\n",
            "247:\tlearn: 50301832.1271987\ttotal: 681ms\tremaining: 2.06s\n",
            "248:\tlearn: 50245544.6668080\ttotal: 683ms\tremaining: 2.06s\n",
            "249:\tlearn: 50145229.2249600\ttotal: 685ms\tremaining: 2.06s\n",
            "250:\tlearn: 50046334.2533876\ttotal: 687ms\tremaining: 2.05s\n",
            "251:\tlearn: 49999152.5802985\ttotal: 690ms\tremaining: 2.05s\n",
            "252:\tlearn: 49936481.0029526\ttotal: 692ms\tremaining: 2.04s\n",
            "253:\tlearn: 49915817.5076885\ttotal: 694ms\tremaining: 2.04s\n",
            "254:\tlearn: 49852578.6197355\ttotal: 697ms\tremaining: 2.04s\n",
            "255:\tlearn: 49786764.8441588\ttotal: 699ms\tremaining: 2.03s\n",
            "256:\tlearn: 49724427.2993740\ttotal: 702ms\tremaining: 2.03s\n",
            "257:\tlearn: 49646715.1917164\ttotal: 704ms\tremaining: 2.02s\n",
            "258:\tlearn: 49585410.3648741\ttotal: 706ms\tremaining: 2.02s\n",
            "259:\tlearn: 49476763.4957562\ttotal: 709ms\tremaining: 2.02s\n",
            "260:\tlearn: 49395759.3664437\ttotal: 711ms\tremaining: 2.01s\n",
            "261:\tlearn: 49283703.7890086\ttotal: 713ms\tremaining: 2.01s\n",
            "262:\tlearn: 49257454.6376999\ttotal: 716ms\tremaining: 2s\n",
            "263:\tlearn: 49173098.0324699\ttotal: 718ms\tremaining: 2s\n",
            "264:\tlearn: 49109167.1829368\ttotal: 720ms\tremaining: 2s\n",
            "265:\tlearn: 49066289.8917307\ttotal: 723ms\tremaining: 1.99s\n",
            "266:\tlearn: 49032176.7923974\ttotal: 725ms\tremaining: 1.99s\n",
            "267:\tlearn: 48977211.4588479\ttotal: 727ms\tremaining: 1.99s\n",
            "268:\tlearn: 48886891.2375334\ttotal: 729ms\tremaining: 1.98s\n",
            "269:\tlearn: 48836333.0508672\ttotal: 732ms\tremaining: 1.98s\n",
            "270:\tlearn: 48778548.6291047\ttotal: 740ms\tremaining: 1.99s\n",
            "271:\tlearn: 48711918.8395536\ttotal: 743ms\tremaining: 1.99s\n",
            "272:\tlearn: 48679950.2809275\ttotal: 745ms\tremaining: 1.98s\n",
            "273:\tlearn: 48601582.6443668\ttotal: 748ms\tremaining: 1.98s\n",
            "274:\tlearn: 48552300.3827112\ttotal: 750ms\tremaining: 1.98s\n",
            "275:\tlearn: 48438106.7932968\ttotal: 752ms\tremaining: 1.97s\n",
            "276:\tlearn: 48351234.9788724\ttotal: 755ms\tremaining: 1.97s\n",
            "277:\tlearn: 48326277.4805210\ttotal: 757ms\tremaining: 1.97s\n",
            "278:\tlearn: 48296769.5051828\ttotal: 759ms\tremaining: 1.96s\n",
            "279:\tlearn: 48254004.3005072\ttotal: 762ms\tremaining: 1.96s\n",
            "280:\tlearn: 48152031.3837866\ttotal: 765ms\tremaining: 1.96s\n",
            "281:\tlearn: 48091476.0959219\ttotal: 767ms\tremaining: 1.95s\n",
            "282:\tlearn: 48045995.7476073\ttotal: 769ms\tremaining: 1.95s\n",
            "283:\tlearn: 47995021.5997832\ttotal: 771ms\tremaining: 1.94s\n",
            "284:\tlearn: 47913910.5706820\ttotal: 774ms\tremaining: 1.94s\n",
            "285:\tlearn: 47819160.6404097\ttotal: 776ms\tremaining: 1.94s\n",
            "286:\tlearn: 47759234.6557448\ttotal: 779ms\tremaining: 1.93s\n",
            "287:\tlearn: 47720329.5201212\ttotal: 781ms\tremaining: 1.93s\n",
            "288:\tlearn: 47650199.9411196\ttotal: 784ms\tremaining: 1.93s\n",
            "289:\tlearn: 47587693.6358801\ttotal: 786ms\tremaining: 1.92s\n",
            "290:\tlearn: 47516586.7946047\ttotal: 788ms\tremaining: 1.92s\n",
            "291:\tlearn: 47448193.5324427\ttotal: 791ms\tremaining: 1.92s\n",
            "292:\tlearn: 47392434.2636057\ttotal: 793ms\tremaining: 1.91s\n",
            "293:\tlearn: 47349697.9085439\ttotal: 795ms\tremaining: 1.91s\n",
            "294:\tlearn: 47276212.7153395\ttotal: 797ms\tremaining: 1.91s\n",
            "295:\tlearn: 47246029.8077342\ttotal: 800ms\tremaining: 1.9s\n",
            "296:\tlearn: 47149749.6498444\ttotal: 802ms\tremaining: 1.9s\n",
            "297:\tlearn: 47081591.7797403\ttotal: 804ms\tremaining: 1.89s\n",
            "298:\tlearn: 47051395.7344578\ttotal: 806ms\tremaining: 1.89s\n",
            "299:\tlearn: 47029390.0224051\ttotal: 809ms\tremaining: 1.89s\n",
            "300:\tlearn: 46989384.5675396\ttotal: 811ms\tremaining: 1.88s\n",
            "301:\tlearn: 46939103.0560745\ttotal: 813ms\tremaining: 1.88s\n",
            "302:\tlearn: 46894006.8439610\ttotal: 815ms\tremaining: 1.88s\n",
            "303:\tlearn: 46866649.1725639\ttotal: 817ms\tremaining: 1.87s\n",
            "304:\tlearn: 46796852.5761083\ttotal: 820ms\tremaining: 1.87s\n",
            "305:\tlearn: 46698787.3811052\ttotal: 823ms\tremaining: 1.86s\n",
            "306:\tlearn: 46668601.3896035\ttotal: 825ms\tremaining: 1.86s\n",
            "307:\tlearn: 46610065.6226921\ttotal: 828ms\tremaining: 1.86s\n",
            "308:\tlearn: 46540188.7841937\ttotal: 830ms\tremaining: 1.86s\n",
            "309:\tlearn: 46515472.6599449\ttotal: 833ms\tremaining: 1.85s\n",
            "310:\tlearn: 46444245.9611456\ttotal: 835ms\tremaining: 1.85s\n",
            "311:\tlearn: 46401323.9048559\ttotal: 837ms\tremaining: 1.84s\n",
            "312:\tlearn: 46307839.0723805\ttotal: 839ms\tremaining: 1.84s\n",
            "313:\tlearn: 46281953.3489977\ttotal: 841ms\tremaining: 1.84s\n",
            "314:\tlearn: 46252633.3211651\ttotal: 844ms\tremaining: 1.83s\n",
            "315:\tlearn: 46229542.6914379\ttotal: 846ms\tremaining: 1.83s\n",
            "316:\tlearn: 46176821.8252867\ttotal: 848ms\tremaining: 1.83s\n",
            "317:\tlearn: 46122169.7573134\ttotal: 850ms\tremaining: 1.82s\n",
            "318:\tlearn: 46083503.1686771\ttotal: 853ms\tremaining: 1.82s\n",
            "319:\tlearn: 45993454.9208370\ttotal: 855ms\tremaining: 1.82s\n",
            "320:\tlearn: 45948811.0695525\ttotal: 858ms\tremaining: 1.81s\n",
            "321:\tlearn: 45909992.2975573\ttotal: 861ms\tremaining: 1.81s\n",
            "322:\tlearn: 45865865.1087628\ttotal: 864ms\tremaining: 1.81s\n",
            "323:\tlearn: 45799134.2370774\ttotal: 867ms\tremaining: 1.81s\n",
            "324:\tlearn: 45717218.8547195\ttotal: 869ms\tremaining: 1.8s\n",
            "325:\tlearn: 45663146.4269749\ttotal: 872ms\tremaining: 1.8s\n",
            "326:\tlearn: 45617666.6620221\ttotal: 874ms\tremaining: 1.8s\n",
            "327:\tlearn: 45585948.0183437\ttotal: 877ms\tremaining: 1.8s\n",
            "328:\tlearn: 45533547.8752185\ttotal: 879ms\tremaining: 1.79s\n",
            "329:\tlearn: 45470913.0871722\ttotal: 881ms\tremaining: 1.79s\n",
            "330:\tlearn: 45447599.0573788\ttotal: 883ms\tremaining: 1.78s\n",
            "331:\tlearn: 45416634.1467916\ttotal: 886ms\tremaining: 1.78s\n",
            "332:\tlearn: 45395265.5994417\ttotal: 888ms\tremaining: 1.78s\n",
            "333:\tlearn: 45337877.9293010\ttotal: 890ms\tremaining: 1.77s\n",
            "334:\tlearn: 45304881.8361663\ttotal: 892ms\tremaining: 1.77s\n",
            "335:\tlearn: 45284422.0732190\ttotal: 895ms\tremaining: 1.77s\n",
            "336:\tlearn: 45253720.3095273\ttotal: 897ms\tremaining: 1.76s\n",
            "337:\tlearn: 45191838.8781065\ttotal: 899ms\tremaining: 1.76s\n",
            "338:\tlearn: 45138289.7756265\ttotal: 902ms\tremaining: 1.76s\n",
            "339:\tlearn: 45117255.3767648\ttotal: 904ms\tremaining: 1.75s\n",
            "340:\tlearn: 45087592.8078647\ttotal: 906ms\tremaining: 1.75s\n",
            "341:\tlearn: 45067709.7650792\ttotal: 908ms\tremaining: 1.75s\n",
            "342:\tlearn: 45016393.4471297\ttotal: 911ms\tremaining: 1.74s\n",
            "343:\tlearn: 45004497.6446962\ttotal: 913ms\tremaining: 1.74s\n",
            "344:\tlearn: 44949093.4363800\ttotal: 916ms\tremaining: 1.74s\n",
            "345:\tlearn: 44916839.4863265\ttotal: 924ms\tremaining: 1.75s\n",
            "346:\tlearn: 44858139.5207182\ttotal: 926ms\tremaining: 1.74s\n",
            "347:\tlearn: 44790303.1303708\ttotal: 928ms\tremaining: 1.74s\n",
            "348:\tlearn: 44717239.2401930\ttotal: 934ms\tremaining: 1.74s\n",
            "349:\tlearn: 44681632.3983629\ttotal: 937ms\tremaining: 1.74s\n",
            "350:\tlearn: 44665793.8380420\ttotal: 940ms\tremaining: 1.74s\n",
            "351:\tlearn: 44629727.9337605\ttotal: 942ms\tremaining: 1.73s\n",
            "352:\tlearn: 44595410.6173779\ttotal: 944ms\tremaining: 1.73s\n",
            "353:\tlearn: 44552169.9913125\ttotal: 947ms\tremaining: 1.73s\n",
            "354:\tlearn: 44524575.7344155\ttotal: 949ms\tremaining: 1.72s\n",
            "355:\tlearn: 44517144.8062737\ttotal: 951ms\tremaining: 1.72s\n",
            "356:\tlearn: 44500853.7101340\ttotal: 953ms\tremaining: 1.72s\n",
            "357:\tlearn: 44474580.3169095\ttotal: 956ms\tremaining: 1.71s\n",
            "358:\tlearn: 44457155.1588583\ttotal: 958ms\tremaining: 1.71s\n",
            "359:\tlearn: 44434893.0325638\ttotal: 960ms\tremaining: 1.71s\n",
            "360:\tlearn: 44407646.2357285\ttotal: 963ms\tremaining: 1.7s\n",
            "361:\tlearn: 44393571.7636197\ttotal: 965ms\tremaining: 1.7s\n",
            "362:\tlearn: 44367733.2558891\ttotal: 968ms\tremaining: 1.7s\n",
            "363:\tlearn: 44343346.8340281\ttotal: 970ms\tremaining: 1.69s\n",
            "364:\tlearn: 44273491.5454448\ttotal: 972ms\tremaining: 1.69s\n",
            "365:\tlearn: 44238827.5844911\ttotal: 975ms\tremaining: 1.69s\n",
            "366:\tlearn: 44180501.1123387\ttotal: 977ms\tremaining: 1.69s\n",
            "367:\tlearn: 44169969.8628174\ttotal: 980ms\tremaining: 1.68s\n",
            "368:\tlearn: 44133212.9086858\ttotal: 982ms\tremaining: 1.68s\n",
            "369:\tlearn: 44091427.9527442\ttotal: 984ms\tremaining: 1.68s\n",
            "370:\tlearn: 44056268.6470027\ttotal: 987ms\tremaining: 1.67s\n",
            "371:\tlearn: 43999935.4972124\ttotal: 989ms\tremaining: 1.67s\n",
            "372:\tlearn: 43974298.5655913\ttotal: 992ms\tremaining: 1.67s\n",
            "373:\tlearn: 43951072.5610647\ttotal: 994ms\tremaining: 1.66s\n",
            "374:\tlearn: 43903185.9118875\ttotal: 996ms\tremaining: 1.66s\n",
            "375:\tlearn: 43845637.4700263\ttotal: 999ms\tremaining: 1.66s\n",
            "376:\tlearn: 43793028.9211882\ttotal: 1s\tremaining: 1.65s\n",
            "377:\tlearn: 43770886.1697701\ttotal: 1s\tremaining: 1.65s\n",
            "378:\tlearn: 43697187.1465397\ttotal: 1s\tremaining: 1.65s\n",
            "379:\tlearn: 43624410.8386932\ttotal: 1.01s\tremaining: 1.64s\n",
            "380:\tlearn: 43590575.3547682\ttotal: 1.01s\tremaining: 1.64s\n",
            "381:\tlearn: 43529428.4016548\ttotal: 1.01s\tremaining: 1.64s\n",
            "382:\tlearn: 43480534.9156216\ttotal: 1.01s\tremaining: 1.64s\n",
            "383:\tlearn: 43427766.6237911\ttotal: 1.02s\tremaining: 1.63s\n",
            "384:\tlearn: 43372821.3332788\ttotal: 1.02s\tremaining: 1.63s\n",
            "385:\tlearn: 43336779.0519103\ttotal: 1.02s\tremaining: 1.63s\n",
            "386:\tlearn: 43285243.3599079\ttotal: 1.02s\tremaining: 1.62s\n",
            "387:\tlearn: 43233886.7322680\ttotal: 1.03s\tremaining: 1.62s\n",
            "388:\tlearn: 43181023.3780126\ttotal: 1.03s\tremaining: 1.62s\n",
            "389:\tlearn: 43145346.7289978\ttotal: 1.03s\tremaining: 1.61s\n",
            "390:\tlearn: 43093287.4014250\ttotal: 1.03s\tremaining: 1.61s\n",
            "391:\tlearn: 43055963.2925172\ttotal: 1.04s\tremaining: 1.61s\n",
            "392:\tlearn: 43012363.2962415\ttotal: 1.04s\tremaining: 1.6s\n",
            "393:\tlearn: 42960996.4758994\ttotal: 1.04s\tremaining: 1.6s\n",
            "394:\tlearn: 42942308.0001783\ttotal: 1.04s\tremaining: 1.6s\n",
            "395:\tlearn: 42893871.2615956\ttotal: 1.04s\tremaining: 1.59s\n",
            "396:\tlearn: 42871062.5157595\ttotal: 1.05s\tremaining: 1.59s\n",
            "397:\tlearn: 42828812.9522877\ttotal: 1.05s\tremaining: 1.59s\n",
            "398:\tlearn: 42749173.0326557\ttotal: 1.05s\tremaining: 1.58s\n",
            "399:\tlearn: 42717068.9661576\ttotal: 1.05s\tremaining: 1.58s\n",
            "400:\tlearn: 42670416.9620332\ttotal: 1.06s\tremaining: 1.58s\n",
            "401:\tlearn: 42605603.6278710\ttotal: 1.06s\tremaining: 1.57s\n",
            "402:\tlearn: 42573091.1243833\ttotal: 1.06s\tremaining: 1.57s\n",
            "403:\tlearn: 42550939.0579653\ttotal: 1.06s\tremaining: 1.57s\n",
            "404:\tlearn: 42469711.1065962\ttotal: 1.07s\tremaining: 1.57s\n",
            "405:\tlearn: 42448660.8305014\ttotal: 1.07s\tremaining: 1.57s\n",
            "406:\tlearn: 42395626.3449477\ttotal: 1.07s\tremaining: 1.57s\n",
            "407:\tlearn: 42326896.0656817\ttotal: 1.08s\tremaining: 1.56s\n",
            "408:\tlearn: 42279703.8672509\ttotal: 1.08s\tremaining: 1.56s\n",
            "409:\tlearn: 42241791.4364390\ttotal: 1.08s\tremaining: 1.56s\n",
            "410:\tlearn: 42199964.0148844\ttotal: 1.08s\tremaining: 1.55s\n",
            "411:\tlearn: 42176425.6074930\ttotal: 1.09s\tremaining: 1.55s\n",
            "412:\tlearn: 42161756.6269205\ttotal: 1.09s\tremaining: 1.55s\n",
            "413:\tlearn: 42129675.5273131\ttotal: 1.09s\tremaining: 1.54s\n",
            "414:\tlearn: 42093391.0168896\ttotal: 1.09s\tremaining: 1.54s\n",
            "415:\tlearn: 42051797.0600699\ttotal: 1.1s\tremaining: 1.54s\n",
            "416:\tlearn: 42016328.5938243\ttotal: 1.1s\tremaining: 1.54s\n",
            "417:\tlearn: 41986065.3368331\ttotal: 1.1s\tremaining: 1.53s\n",
            "418:\tlearn: 41972053.7047843\ttotal: 1.1s\tremaining: 1.53s\n",
            "419:\tlearn: 41925279.7695731\ttotal: 1.11s\tremaining: 1.53s\n",
            "420:\tlearn: 41884760.2059431\ttotal: 1.11s\tremaining: 1.53s\n",
            "421:\tlearn: 41839778.7677881\ttotal: 1.12s\tremaining: 1.53s\n",
            "422:\tlearn: 41824805.4153466\ttotal: 1.13s\tremaining: 1.53s\n",
            "423:\tlearn: 41811388.1860926\ttotal: 1.13s\tremaining: 1.53s\n",
            "424:\tlearn: 41765096.6727570\ttotal: 1.13s\tremaining: 1.53s\n",
            "425:\tlearn: 41685389.0944009\ttotal: 1.13s\tremaining: 1.53s\n",
            "426:\tlearn: 41647318.0132185\ttotal: 1.14s\tremaining: 1.53s\n",
            "427:\tlearn: 41639816.5604839\ttotal: 1.14s\tremaining: 1.52s\n",
            "428:\tlearn: 41631421.3029608\ttotal: 1.14s\tremaining: 1.52s\n",
            "429:\tlearn: 41618603.4017569\ttotal: 1.15s\tremaining: 1.52s\n",
            "430:\tlearn: 41590378.1166835\ttotal: 1.15s\tremaining: 1.51s\n",
            "431:\tlearn: 41552859.8626096\ttotal: 1.15s\tremaining: 1.51s\n",
            "432:\tlearn: 41546037.6538074\ttotal: 1.15s\tremaining: 1.51s\n",
            "433:\tlearn: 41517269.6242180\ttotal: 1.16s\tremaining: 1.51s\n",
            "434:\tlearn: 41470268.1187556\ttotal: 1.16s\tremaining: 1.5s\n",
            "435:\tlearn: 41457026.4879629\ttotal: 1.16s\tremaining: 1.5s\n",
            "436:\tlearn: 41432793.3817770\ttotal: 1.16s\tremaining: 1.5s\n",
            "437:\tlearn: 41426353.7114659\ttotal: 1.17s\tremaining: 1.5s\n",
            "438:\tlearn: 41381831.1336823\ttotal: 1.17s\tremaining: 1.5s\n",
            "439:\tlearn: 41357219.1835131\ttotal: 1.17s\tremaining: 1.49s\n",
            "440:\tlearn: 41316884.9512432\ttotal: 1.18s\tremaining: 1.49s\n",
            "441:\tlearn: 41288550.0673849\ttotal: 1.18s\tremaining: 1.49s\n",
            "442:\tlearn: 41257562.6249591\ttotal: 1.18s\tremaining: 1.48s\n",
            "443:\tlearn: 41246372.4945543\ttotal: 1.18s\tremaining: 1.48s\n",
            "444:\tlearn: 41219361.9555700\ttotal: 1.19s\tremaining: 1.48s\n",
            "445:\tlearn: 41169015.0891422\ttotal: 1.19s\tremaining: 1.48s\n",
            "446:\tlearn: 41104567.7468578\ttotal: 1.19s\tremaining: 1.47s\n",
            "447:\tlearn: 41093122.8025241\ttotal: 1.19s\tremaining: 1.47s\n",
            "448:\tlearn: 41068430.2760504\ttotal: 1.2s\tremaining: 1.47s\n",
            "449:\tlearn: 41013491.5201086\ttotal: 1.2s\tremaining: 1.46s\n",
            "450:\tlearn: 40976888.7204907\ttotal: 1.2s\tremaining: 1.46s\n",
            "451:\tlearn: 40972371.0528428\ttotal: 1.2s\tremaining: 1.46s\n",
            "452:\tlearn: 40935196.4831961\ttotal: 1.2s\tremaining: 1.45s\n",
            "453:\tlearn: 40874490.3196893\ttotal: 1.21s\tremaining: 1.45s\n",
            "454:\tlearn: 40802222.7018238\ttotal: 1.21s\tremaining: 1.45s\n",
            "455:\tlearn: 40781599.2314874\ttotal: 1.21s\tremaining: 1.45s\n",
            "456:\tlearn: 40733437.1683783\ttotal: 1.22s\tremaining: 1.44s\n",
            "457:\tlearn: 40703309.8478778\ttotal: 1.22s\tremaining: 1.44s\n",
            "458:\tlearn: 40659568.6570530\ttotal: 1.22s\tremaining: 1.44s\n",
            "459:\tlearn: 40647129.8547211\ttotal: 1.22s\tremaining: 1.43s\n",
            "460:\tlearn: 40579985.0168596\ttotal: 1.22s\tremaining: 1.43s\n",
            "461:\tlearn: 40540703.4031713\ttotal: 1.23s\tremaining: 1.43s\n",
            "462:\tlearn: 40508875.4174154\ttotal: 1.23s\tremaining: 1.43s\n",
            "463:\tlearn: 40475936.5811263\ttotal: 1.23s\tremaining: 1.42s\n",
            "464:\tlearn: 40454501.4112310\ttotal: 1.23s\tremaining: 1.42s\n",
            "465:\tlearn: 40416120.1146833\ttotal: 1.24s\tremaining: 1.42s\n",
            "466:\tlearn: 40368619.7665581\ttotal: 1.24s\tremaining: 1.42s\n",
            "467:\tlearn: 40355207.5184551\ttotal: 1.24s\tremaining: 1.41s\n",
            "468:\tlearn: 40315409.8068766\ttotal: 1.25s\tremaining: 1.41s\n",
            "469:\tlearn: 40255528.0191882\ttotal: 1.25s\tremaining: 1.41s\n",
            "470:\tlearn: 40221343.0506729\ttotal: 1.25s\tremaining: 1.4s\n",
            "471:\tlearn: 40192583.0021563\ttotal: 1.25s\tremaining: 1.4s\n",
            "472:\tlearn: 40164204.6940771\ttotal: 1.25s\tremaining: 1.4s\n",
            "473:\tlearn: 40136792.9764585\ttotal: 1.26s\tremaining: 1.4s\n",
            "474:\tlearn: 40111359.4306227\ttotal: 1.26s\tremaining: 1.39s\n",
            "475:\tlearn: 40107040.3098938\ttotal: 1.26s\tremaining: 1.39s\n",
            "476:\tlearn: 40084461.8937145\ttotal: 1.26s\tremaining: 1.39s\n",
            "477:\tlearn: 40028886.1758436\ttotal: 1.27s\tremaining: 1.38s\n",
            "478:\tlearn: 39990180.9119661\ttotal: 1.27s\tremaining: 1.38s\n",
            "479:\tlearn: 39955915.1064744\ttotal: 1.27s\tremaining: 1.38s\n",
            "480:\tlearn: 39942074.2763490\ttotal: 1.27s\tremaining: 1.38s\n",
            "481:\tlearn: 39873431.1793349\ttotal: 1.28s\tremaining: 1.37s\n",
            "482:\tlearn: 39858056.1564362\ttotal: 1.28s\tremaining: 1.37s\n",
            "483:\tlearn: 39817565.3642394\ttotal: 1.28s\tremaining: 1.37s\n",
            "484:\tlearn: 39782900.1168094\ttotal: 1.28s\tremaining: 1.36s\n",
            "485:\tlearn: 39753251.6530395\ttotal: 1.29s\tremaining: 1.36s\n",
            "486:\tlearn: 39718848.4013463\ttotal: 1.29s\tremaining: 1.36s\n",
            "487:\tlearn: 39672197.3650322\ttotal: 1.29s\tremaining: 1.35s\n",
            "488:\tlearn: 39619307.6717977\ttotal: 1.29s\tremaining: 1.35s\n",
            "489:\tlearn: 39581238.7012981\ttotal: 1.31s\tremaining: 1.36s\n",
            "490:\tlearn: 39542499.0033577\ttotal: 1.31s\tremaining: 1.36s\n",
            "491:\tlearn: 39510373.8637159\ttotal: 1.31s\tremaining: 1.36s\n",
            "492:\tlearn: 39488400.8692087\ttotal: 1.32s\tremaining: 1.35s\n",
            "493:\tlearn: 39430838.6769443\ttotal: 1.32s\tremaining: 1.35s\n",
            "494:\tlearn: 39394904.7810399\ttotal: 1.32s\tremaining: 1.35s\n",
            "495:\tlearn: 39384511.0554474\ttotal: 1.32s\tremaining: 1.34s\n",
            "496:\tlearn: 39306776.2396298\ttotal: 1.33s\tremaining: 1.34s\n",
            "497:\tlearn: 39276689.5884723\ttotal: 1.33s\tremaining: 1.34s\n",
            "498:\tlearn: 39221578.1749420\ttotal: 1.33s\tremaining: 1.34s\n",
            "499:\tlearn: 39202855.6159206\ttotal: 1.33s\tremaining: 1.33s\n",
            "500:\tlearn: 39172642.0563575\ttotal: 1.33s\tremaining: 1.33s\n",
            "501:\tlearn: 39126340.2208505\ttotal: 1.34s\tremaining: 1.33s\n",
            "502:\tlearn: 39083519.7954249\ttotal: 1.34s\tremaining: 1.32s\n",
            "503:\tlearn: 39037091.3428243\ttotal: 1.34s\tremaining: 1.32s\n",
            "504:\tlearn: 39019287.5484991\ttotal: 1.34s\tremaining: 1.32s\n",
            "505:\tlearn: 39014733.8311824\ttotal: 1.35s\tremaining: 1.31s\n",
            "506:\tlearn: 38951032.3496338\ttotal: 1.35s\tremaining: 1.31s\n",
            "507:\tlearn: 38947677.3978940\ttotal: 1.35s\tremaining: 1.31s\n",
            "508:\tlearn: 38916867.0416405\ttotal: 1.35s\tremaining: 1.3s\n",
            "509:\tlearn: 38872807.0312810\ttotal: 1.35s\tremaining: 1.3s\n",
            "510:\tlearn: 38825120.5139020\ttotal: 1.36s\tremaining: 1.3s\n",
            "511:\tlearn: 38820610.0641661\ttotal: 1.36s\tremaining: 1.3s\n",
            "512:\tlearn: 38816911.8342762\ttotal: 1.36s\tremaining: 1.29s\n",
            "513:\tlearn: 38765268.4479966\ttotal: 1.36s\tremaining: 1.29s\n",
            "514:\tlearn: 38741058.6065681\ttotal: 1.37s\tremaining: 1.29s\n",
            "515:\tlearn: 38687600.1643356\ttotal: 1.37s\tremaining: 1.28s\n",
            "516:\tlearn: 38633110.5637845\ttotal: 1.37s\tremaining: 1.28s\n",
            "517:\tlearn: 38619165.3735995\ttotal: 1.37s\tremaining: 1.28s\n",
            "518:\tlearn: 38576468.8630928\ttotal: 1.38s\tremaining: 1.27s\n",
            "519:\tlearn: 38549564.9301968\ttotal: 1.38s\tremaining: 1.27s\n",
            "520:\tlearn: 38525244.1155380\ttotal: 1.38s\tremaining: 1.27s\n",
            "521:\tlearn: 38482083.0803861\ttotal: 1.38s\tremaining: 1.27s\n",
            "522:\tlearn: 38453966.9465877\ttotal: 1.39s\tremaining: 1.26s\n",
            "523:\tlearn: 38415354.6951133\ttotal: 1.39s\tremaining: 1.26s\n",
            "524:\tlearn: 38386170.5258698\ttotal: 1.39s\tremaining: 1.26s\n",
            "525:\tlearn: 38382853.7944598\ttotal: 1.39s\tremaining: 1.25s\n",
            "526:\tlearn: 38347799.5884410\ttotal: 1.39s\tremaining: 1.25s\n",
            "527:\tlearn: 38334684.7557877\ttotal: 1.4s\tremaining: 1.25s\n",
            "528:\tlearn: 38332505.3821866\ttotal: 1.4s\tremaining: 1.25s\n",
            "529:\tlearn: 38293945.7064799\ttotal: 1.4s\tremaining: 1.24s\n",
            "530:\tlearn: 38252200.2160174\ttotal: 1.4s\tremaining: 1.24s\n",
            "531:\tlearn: 38212856.7742928\ttotal: 1.41s\tremaining: 1.24s\n",
            "532:\tlearn: 38199327.2241073\ttotal: 1.41s\tremaining: 1.23s\n",
            "533:\tlearn: 38153117.4533308\ttotal: 1.41s\tremaining: 1.23s\n",
            "534:\tlearn: 38134658.6281526\ttotal: 1.41s\tremaining: 1.23s\n",
            "535:\tlearn: 38104215.7557606\ttotal: 1.41s\tremaining: 1.22s\n",
            "536:\tlearn: 38067956.7135575\ttotal: 1.42s\tremaining: 1.22s\n",
            "537:\tlearn: 38064832.5607571\ttotal: 1.42s\tremaining: 1.22s\n",
            "538:\tlearn: 38039405.0034470\ttotal: 1.42s\tremaining: 1.22s\n",
            "539:\tlearn: 38005023.3515093\ttotal: 1.42s\tremaining: 1.21s\n",
            "540:\tlearn: 37984794.1601387\ttotal: 1.43s\tremaining: 1.21s\n",
            "541:\tlearn: 37944197.2245291\ttotal: 1.43s\tremaining: 1.21s\n",
            "542:\tlearn: 37910419.8872781\ttotal: 1.43s\tremaining: 1.2s\n",
            "543:\tlearn: 37863332.7017303\ttotal: 1.43s\tremaining: 1.2s\n",
            "544:\tlearn: 37827098.3691887\ttotal: 1.44s\tremaining: 1.2s\n",
            "545:\tlearn: 37793744.0911021\ttotal: 1.44s\tremaining: 1.2s\n",
            "546:\tlearn: 37767795.5935937\ttotal: 1.44s\tremaining: 1.19s\n",
            "547:\tlearn: 37731300.3275314\ttotal: 1.44s\tremaining: 1.19s\n",
            "548:\tlearn: 37715625.0306025\ttotal: 1.45s\tremaining: 1.19s\n",
            "549:\tlearn: 37667398.2827669\ttotal: 1.45s\tremaining: 1.19s\n",
            "550:\tlearn: 37632351.4093960\ttotal: 1.45s\tremaining: 1.18s\n",
            "551:\tlearn: 37600943.2664097\ttotal: 1.45s\tremaining: 1.18s\n",
            "552:\tlearn: 37569392.9273624\ttotal: 1.46s\tremaining: 1.18s\n",
            "553:\tlearn: 37532603.6643174\ttotal: 1.46s\tremaining: 1.17s\n",
            "554:\tlearn: 37510747.8071605\ttotal: 1.46s\tremaining: 1.17s\n",
            "555:\tlearn: 37489823.9444609\ttotal: 1.46s\tremaining: 1.17s\n",
            "556:\tlearn: 37459202.7019752\ttotal: 1.47s\tremaining: 1.17s\n",
            "557:\tlearn: 37456279.2654812\ttotal: 1.47s\tremaining: 1.16s\n",
            "558:\tlearn: 37411131.3473742\ttotal: 1.47s\tremaining: 1.16s\n",
            "559:\tlearn: 37408892.6732358\ttotal: 1.47s\tremaining: 1.16s\n",
            "560:\tlearn: 37381074.5595450\ttotal: 1.48s\tremaining: 1.15s\n",
            "561:\tlearn: 37370845.9939277\ttotal: 1.48s\tremaining: 1.15s\n",
            "562:\tlearn: 37335451.1057128\ttotal: 1.48s\tremaining: 1.15s\n",
            "563:\tlearn: 37307942.4911519\ttotal: 1.48s\tremaining: 1.15s\n",
            "564:\tlearn: 37270025.6019051\ttotal: 1.48s\tremaining: 1.14s\n",
            "565:\tlearn: 37241076.5038610\ttotal: 1.49s\tremaining: 1.14s\n",
            "566:\tlearn: 37208345.3995008\ttotal: 1.49s\tremaining: 1.14s\n",
            "567:\tlearn: 37184650.5415240\ttotal: 1.49s\tremaining: 1.13s\n",
            "568:\tlearn: 37182425.2562296\ttotal: 1.49s\tremaining: 1.13s\n",
            "569:\tlearn: 37130805.2848358\ttotal: 1.5s\tremaining: 1.13s\n",
            "570:\tlearn: 37129123.4528581\ttotal: 1.5s\tremaining: 1.13s\n",
            "571:\tlearn: 37120204.9669548\ttotal: 1.5s\tremaining: 1.13s\n",
            "572:\tlearn: 37117687.8644889\ttotal: 1.51s\tremaining: 1.12s\n",
            "573:\tlearn: 37077634.0742057\ttotal: 1.51s\tremaining: 1.12s\n",
            "574:\tlearn: 37039153.5129427\ttotal: 1.51s\tremaining: 1.12s\n",
            "575:\tlearn: 37018314.6137254\ttotal: 1.51s\tremaining: 1.11s\n",
            "576:\tlearn: 36995157.2317076\ttotal: 1.52s\tremaining: 1.11s\n",
            "577:\tlearn: 36992543.7110503\ttotal: 1.52s\tremaining: 1.11s\n",
            "578:\tlearn: 36962849.3695246\ttotal: 1.52s\tremaining: 1.11s\n",
            "579:\tlearn: 36925571.2194209\ttotal: 1.52s\tremaining: 1.1s\n",
            "580:\tlearn: 36892465.6257492\ttotal: 1.52s\tremaining: 1.1s\n",
            "581:\tlearn: 36881020.0519270\ttotal: 1.53s\tremaining: 1.1s\n",
            "582:\tlearn: 36847126.2812674\ttotal: 1.53s\tremaining: 1.09s\n",
            "583:\tlearn: 36831875.9951083\ttotal: 1.53s\tremaining: 1.09s\n",
            "584:\tlearn: 36830377.0987838\ttotal: 1.54s\tremaining: 1.09s\n",
            "585:\tlearn: 36791506.8388822\ttotal: 1.54s\tremaining: 1.09s\n",
            "586:\tlearn: 36764679.8996263\ttotal: 1.54s\tremaining: 1.08s\n",
            "587:\tlearn: 36744068.3082368\ttotal: 1.54s\tremaining: 1.08s\n",
            "588:\tlearn: 36742240.6193707\ttotal: 1.54s\tremaining: 1.08s\n",
            "589:\tlearn: 36718684.4775270\ttotal: 1.55s\tremaining: 1.07s\n",
            "590:\tlearn: 36674701.1608203\ttotal: 1.55s\tremaining: 1.07s\n",
            "591:\tlearn: 36661445.7958172\ttotal: 1.55s\tremaining: 1.07s\n",
            "592:\tlearn: 36633979.6702233\ttotal: 1.55s\tremaining: 1.07s\n",
            "593:\tlearn: 36599916.6750343\ttotal: 1.56s\tremaining: 1.06s\n",
            "594:\tlearn: 36579405.9687303\ttotal: 1.56s\tremaining: 1.06s\n",
            "595:\tlearn: 36543923.0711571\ttotal: 1.56s\tremaining: 1.06s\n",
            "596:\tlearn: 36534663.3412689\ttotal: 1.56s\tremaining: 1.05s\n",
            "597:\tlearn: 36507116.9844986\ttotal: 1.56s\tremaining: 1.05s\n",
            "598:\tlearn: 36501465.9325884\ttotal: 1.57s\tremaining: 1.05s\n",
            "599:\tlearn: 36470366.2037766\ttotal: 1.57s\tremaining: 1.05s\n",
            "600:\tlearn: 36468644.2218964\ttotal: 1.57s\tremaining: 1.04s\n",
            "601:\tlearn: 36441692.4382297\ttotal: 1.57s\tremaining: 1.04s\n",
            "602:\tlearn: 36431994.5487974\ttotal: 1.58s\tremaining: 1.04s\n",
            "603:\tlearn: 36403425.9622425\ttotal: 1.58s\tremaining: 1.03s\n",
            "604:\tlearn: 36394215.4232315\ttotal: 1.58s\tremaining: 1.03s\n",
            "605:\tlearn: 36363164.4170988\ttotal: 1.58s\tremaining: 1.03s\n",
            "606:\tlearn: 36340500.1742460\ttotal: 1.58s\tremaining: 1.03s\n",
            "607:\tlearn: 36324979.7123944\ttotal: 1.59s\tremaining: 1.02s\n",
            "608:\tlearn: 36300190.4233535\ttotal: 1.59s\tremaining: 1.02s\n",
            "609:\tlearn: 36274552.1349923\ttotal: 1.59s\tremaining: 1.02s\n",
            "610:\tlearn: 36266622.4299131\ttotal: 1.6s\tremaining: 1.02s\n",
            "611:\tlearn: 36261238.2509869\ttotal: 1.6s\tremaining: 1.01s\n",
            "612:\tlearn: 36225265.4147127\ttotal: 1.6s\tremaining: 1.01s\n",
            "613:\tlearn: 36217842.6831237\ttotal: 1.6s\tremaining: 1.01s\n",
            "614:\tlearn: 36185175.4631966\ttotal: 1.6s\tremaining: 1s\n",
            "615:\tlearn: 36143775.1663774\ttotal: 1.61s\tremaining: 1s\n",
            "616:\tlearn: 36113555.1398331\ttotal: 1.61s\tremaining: 999ms\n",
            "617:\tlearn: 36079485.0412867\ttotal: 1.61s\tremaining: 997ms\n",
            "618:\tlearn: 36033392.9216154\ttotal: 1.61s\tremaining: 994ms\n",
            "619:\tlearn: 36032143.7002869\ttotal: 1.62s\tremaining: 991ms\n",
            "620:\tlearn: 36003271.6518479\ttotal: 1.62s\tremaining: 988ms\n",
            "621:\tlearn: 35996424.0344911\ttotal: 1.62s\tremaining: 985ms\n",
            "622:\tlearn: 35965239.7776257\ttotal: 1.62s\tremaining: 982ms\n",
            "623:\tlearn: 35950539.0988152\ttotal: 1.63s\tremaining: 980ms\n",
            "624:\tlearn: 35931350.1981695\ttotal: 1.63s\tremaining: 977ms\n",
            "625:\tlearn: 35910526.4956557\ttotal: 1.63s\tremaining: 974ms\n",
            "626:\tlearn: 35904692.6551914\ttotal: 1.63s\tremaining: 971ms\n",
            "627:\tlearn: 35861316.9782743\ttotal: 1.63s\tremaining: 968ms\n",
            "628:\tlearn: 35824998.7642039\ttotal: 1.64s\tremaining: 965ms\n",
            "629:\tlearn: 35794395.0942872\ttotal: 1.64s\tremaining: 963ms\n",
            "630:\tlearn: 35765293.2159086\ttotal: 1.64s\tremaining: 960ms\n",
            "631:\tlearn: 35758667.2451913\ttotal: 1.64s\tremaining: 957ms\n",
            "632:\tlearn: 35737098.2232130\ttotal: 1.65s\tremaining: 954ms\n",
            "633:\tlearn: 35714065.4342032\ttotal: 1.65s\tremaining: 951ms\n",
            "634:\tlearn: 35690563.0439494\ttotal: 1.65s\tremaining: 948ms\n",
            "635:\tlearn: 35644522.9058207\ttotal: 1.65s\tremaining: 946ms\n",
            "636:\tlearn: 35624432.9875444\ttotal: 1.65s\tremaining: 943ms\n",
            "637:\tlearn: 35576724.2767547\ttotal: 1.66s\tremaining: 940ms\n",
            "638:\tlearn: 35551958.8062909\ttotal: 1.66s\tremaining: 937ms\n",
            "639:\tlearn: 35548145.6073504\ttotal: 1.66s\tremaining: 935ms\n",
            "640:\tlearn: 35520533.5276384\ttotal: 1.66s\tremaining: 932ms\n",
            "641:\tlearn: 35496639.9571625\ttotal: 1.67s\tremaining: 929ms\n",
            "642:\tlearn: 35465093.2336078\ttotal: 1.67s\tremaining: 926ms\n",
            "643:\tlearn: 35435970.8008925\ttotal: 1.67s\tremaining: 924ms\n",
            "644:\tlearn: 35413333.9625393\ttotal: 1.67s\tremaining: 921ms\n",
            "645:\tlearn: 35397094.0844663\ttotal: 1.68s\tremaining: 918ms\n",
            "646:\tlearn: 35351011.3493916\ttotal: 1.68s\tremaining: 915ms\n",
            "647:\tlearn: 35294680.2175555\ttotal: 1.68s\tremaining: 912ms\n",
            "648:\tlearn: 35255685.7012487\ttotal: 1.68s\tremaining: 910ms\n",
            "649:\tlearn: 35227380.1332612\ttotal: 1.69s\tremaining: 909ms\n",
            "650:\tlearn: 35201646.4549806\ttotal: 1.69s\tremaining: 907ms\n",
            "651:\tlearn: 35178824.2434058\ttotal: 1.7s\tremaining: 905ms\n",
            "652:\tlearn: 35172679.9262233\ttotal: 1.7s\tremaining: 902ms\n",
            "653:\tlearn: 35147860.3868445\ttotal: 1.7s\tremaining: 899ms\n",
            "654:\tlearn: 35108637.2474323\ttotal: 1.7s\tremaining: 897ms\n",
            "655:\tlearn: 35085403.4412367\ttotal: 1.7s\tremaining: 894ms\n",
            "656:\tlearn: 35042174.8955769\ttotal: 1.71s\tremaining: 891ms\n",
            "657:\tlearn: 35020578.6082071\ttotal: 1.71s\tremaining: 888ms\n",
            "658:\tlearn: 35001154.7412432\ttotal: 1.71s\tremaining: 885ms\n",
            "659:\tlearn: 34982717.7930464\ttotal: 1.71s\tremaining: 883ms\n",
            "660:\tlearn: 34946747.2406387\ttotal: 1.72s\tremaining: 880ms\n",
            "661:\tlearn: 34943615.0094988\ttotal: 1.72s\tremaining: 877ms\n",
            "662:\tlearn: 34915220.9531927\ttotal: 1.72s\tremaining: 874ms\n",
            "663:\tlearn: 34899405.1324531\ttotal: 1.72s\tremaining: 872ms\n",
            "664:\tlearn: 34874322.7684266\ttotal: 1.72s\tremaining: 869ms\n",
            "665:\tlearn: 34864325.1494810\ttotal: 1.73s\tremaining: 866ms\n",
            "666:\tlearn: 34843934.6528084\ttotal: 1.73s\tremaining: 863ms\n",
            "667:\tlearn: 34831358.9834346\ttotal: 1.73s\tremaining: 860ms\n",
            "668:\tlearn: 34798877.4594570\ttotal: 1.73s\tremaining: 858ms\n",
            "669:\tlearn: 34774249.3614770\ttotal: 1.74s\tremaining: 855ms\n",
            "670:\tlearn: 34750934.1393311\ttotal: 1.74s\tremaining: 852ms\n",
            "671:\tlearn: 34717579.9414891\ttotal: 1.74s\tremaining: 850ms\n",
            "672:\tlearn: 34681523.6641978\ttotal: 1.74s\tremaining: 847ms\n",
            "673:\tlearn: 34675819.5442547\ttotal: 1.75s\tremaining: 844ms\n",
            "674:\tlearn: 34644486.1646016\ttotal: 1.75s\tremaining: 842ms\n",
            "675:\tlearn: 34609771.1741050\ttotal: 1.75s\tremaining: 839ms\n",
            "676:\tlearn: 34606497.3524164\ttotal: 1.75s\tremaining: 837ms\n",
            "677:\tlearn: 34571540.7946617\ttotal: 1.76s\tremaining: 835ms\n",
            "678:\tlearn: 34545400.1663332\ttotal: 1.76s\tremaining: 833ms\n",
            "679:\tlearn: 34533284.9799268\ttotal: 1.76s\tremaining: 830ms\n",
            "680:\tlearn: 34509232.9457602\ttotal: 1.77s\tremaining: 827ms\n",
            "681:\tlearn: 34473272.1343996\ttotal: 1.77s\tremaining: 825ms\n",
            "682:\tlearn: 34465730.5698630\ttotal: 1.77s\tremaining: 822ms\n",
            "683:\tlearn: 34411025.3417062\ttotal: 1.77s\tremaining: 819ms\n",
            "684:\tlearn: 34395585.6527229\ttotal: 1.77s\tremaining: 816ms\n",
            "685:\tlearn: 34386690.9456054\ttotal: 1.78s\tremaining: 813ms\n",
            "686:\tlearn: 34367389.6641682\ttotal: 1.78s\tremaining: 811ms\n",
            "687:\tlearn: 34336351.9689760\ttotal: 1.78s\tremaining: 808ms\n",
            "688:\tlearn: 34301883.6894613\ttotal: 1.78s\tremaining: 805ms\n",
            "689:\tlearn: 34252566.5090733\ttotal: 1.79s\tremaining: 802ms\n",
            "690:\tlearn: 34241907.0482548\ttotal: 1.79s\tremaining: 800ms\n",
            "691:\tlearn: 34213387.0660254\ttotal: 1.79s\tremaining: 797ms\n",
            "692:\tlearn: 34208336.1676277\ttotal: 1.79s\tremaining: 794ms\n",
            "693:\tlearn: 34203177.4746955\ttotal: 1.79s\tremaining: 791ms\n",
            "694:\tlearn: 34195216.2009514\ttotal: 1.8s\tremaining: 789ms\n",
            "695:\tlearn: 34182747.2152948\ttotal: 1.8s\tremaining: 786ms\n",
            "696:\tlearn: 34159365.5190873\ttotal: 1.8s\tremaining: 783ms\n",
            "697:\tlearn: 34128267.8551720\ttotal: 1.8s\tremaining: 780ms\n",
            "698:\tlearn: 34096448.0215146\ttotal: 1.81s\tremaining: 778ms\n",
            "699:\tlearn: 34076094.6338729\ttotal: 1.81s\tremaining: 775ms\n",
            "700:\tlearn: 34036065.6934631\ttotal: 1.81s\tremaining: 773ms\n",
            "701:\tlearn: 34022865.5467452\ttotal: 1.81s\tremaining: 770ms\n",
            "702:\tlearn: 33999604.8279912\ttotal: 1.82s\tremaining: 767ms\n",
            "703:\tlearn: 33969195.8013362\ttotal: 1.82s\tremaining: 765ms\n",
            "704:\tlearn: 33945142.4727621\ttotal: 1.82s\tremaining: 762ms\n",
            "705:\tlearn: 33939905.2802896\ttotal: 1.82s\tremaining: 759ms\n",
            "706:\tlearn: 33924356.9432012\ttotal: 1.83s\tremaining: 757ms\n",
            "707:\tlearn: 33896516.6478522\ttotal: 1.83s\tremaining: 754ms\n",
            "708:\tlearn: 33876405.0366850\ttotal: 1.83s\tremaining: 752ms\n",
            "709:\tlearn: 33857263.5764931\ttotal: 1.83s\tremaining: 749ms\n",
            "710:\tlearn: 33840717.7006740\ttotal: 1.84s\tremaining: 746ms\n",
            "711:\tlearn: 33821459.1239938\ttotal: 1.84s\tremaining: 744ms\n",
            "712:\tlearn: 33801686.6682366\ttotal: 1.84s\tremaining: 741ms\n",
            "713:\tlearn: 33797987.6335747\ttotal: 1.84s\tremaining: 738ms\n",
            "714:\tlearn: 33774514.7597599\ttotal: 1.84s\tremaining: 736ms\n",
            "715:\tlearn: 33754847.9034518\ttotal: 1.85s\tremaining: 733ms\n",
            "716:\tlearn: 33714439.6017287\ttotal: 1.85s\tremaining: 730ms\n",
            "717:\tlearn: 33692856.5069787\ttotal: 1.85s\tremaining: 728ms\n",
            "718:\tlearn: 33671723.4587088\ttotal: 1.86s\tremaining: 726ms\n",
            "719:\tlearn: 33644121.5044963\ttotal: 1.86s\tremaining: 725ms\n",
            "720:\tlearn: 33641711.0125463\ttotal: 1.87s\tremaining: 724ms\n",
            "721:\tlearn: 33640898.8427077\ttotal: 1.87s\tremaining: 722ms\n",
            "722:\tlearn: 33624543.5639841\ttotal: 1.88s\tremaining: 719ms\n",
            "723:\tlearn: 33602713.4794585\ttotal: 1.88s\tremaining: 716ms\n",
            "724:\tlearn: 33582106.9545729\ttotal: 1.88s\tremaining: 713ms\n",
            "725:\tlearn: 33559665.9897117\ttotal: 1.88s\tremaining: 711ms\n",
            "726:\tlearn: 33527640.1080706\ttotal: 1.89s\tremaining: 708ms\n",
            "727:\tlearn: 33518033.8130190\ttotal: 1.89s\tremaining: 705ms\n",
            "728:\tlearn: 33515909.3854628\ttotal: 1.89s\tremaining: 702ms\n",
            "729:\tlearn: 33496786.0152113\ttotal: 1.89s\tremaining: 700ms\n",
            "730:\tlearn: 33474512.5088657\ttotal: 1.9s\tremaining: 698ms\n",
            "731:\tlearn: 33464045.4721034\ttotal: 1.9s\tremaining: 696ms\n",
            "732:\tlearn: 33439318.1739034\ttotal: 1.9s\tremaining: 693ms\n",
            "733:\tlearn: 33433054.0452488\ttotal: 1.91s\tremaining: 691ms\n",
            "734:\tlearn: 33423216.0083314\ttotal: 1.91s\tremaining: 688ms\n",
            "735:\tlearn: 33422277.3709041\ttotal: 1.91s\tremaining: 685ms\n",
            "736:\tlearn: 33404519.2289462\ttotal: 1.91s\tremaining: 683ms\n",
            "737:\tlearn: 33362557.4880930\ttotal: 1.92s\tremaining: 680ms\n",
            "738:\tlearn: 33341693.6105671\ttotal: 1.92s\tremaining: 677ms\n",
            "739:\tlearn: 33324107.4081903\ttotal: 1.92s\tremaining: 675ms\n",
            "740:\tlearn: 33290766.1922695\ttotal: 1.92s\tremaining: 672ms\n",
            "741:\tlearn: 33262429.2245247\ttotal: 1.92s\tremaining: 669ms\n",
            "742:\tlearn: 33232413.8021719\ttotal: 1.93s\tremaining: 666ms\n",
            "743:\tlearn: 33226740.5483654\ttotal: 1.93s\tremaining: 664ms\n",
            "744:\tlearn: 33223241.0067135\ttotal: 1.93s\tremaining: 661ms\n",
            "745:\tlearn: 33211183.1875689\ttotal: 1.93s\tremaining: 658ms\n",
            "746:\tlearn: 33202648.7969330\ttotal: 1.93s\tremaining: 655ms\n",
            "747:\tlearn: 33194841.6775935\ttotal: 1.94s\tremaining: 653ms\n",
            "748:\tlearn: 33178166.7342382\ttotal: 1.94s\tremaining: 650ms\n",
            "749:\tlearn: 33138824.4634278\ttotal: 1.94s\tremaining: 647ms\n",
            "750:\tlearn: 33092693.3894758\ttotal: 1.95s\tremaining: 645ms\n",
            "751:\tlearn: 33075114.3853752\ttotal: 1.95s\tremaining: 642ms\n",
            "752:\tlearn: 33074273.1021444\ttotal: 1.95s\tremaining: 640ms\n",
            "753:\tlearn: 33061553.1557833\ttotal: 1.95s\tremaining: 637ms\n",
            "754:\tlearn: 33057581.4652441\ttotal: 1.95s\tremaining: 634ms\n",
            "755:\tlearn: 33021062.3506644\ttotal: 1.96s\tremaining: 632ms\n",
            "756:\tlearn: 32992601.2334000\ttotal: 1.96s\tremaining: 629ms\n",
            "757:\tlearn: 32970222.1001553\ttotal: 1.96s\tremaining: 626ms\n",
            "758:\tlearn: 32959008.1986770\ttotal: 1.96s\tremaining: 624ms\n",
            "759:\tlearn: 32948928.1136610\ttotal: 1.97s\tremaining: 621ms\n",
            "760:\tlearn: 32927971.2893386\ttotal: 1.97s\tremaining: 618ms\n",
            "761:\tlearn: 32907129.8251172\ttotal: 1.97s\tremaining: 615ms\n",
            "762:\tlearn: 32855899.8541547\ttotal: 1.97s\tremaining: 613ms\n",
            "763:\tlearn: 32821669.9906483\ttotal: 1.97s\tremaining: 610ms\n",
            "764:\tlearn: 32810281.6911357\ttotal: 1.98s\tremaining: 607ms\n",
            "765:\tlearn: 32799465.1894191\ttotal: 1.98s\tremaining: 605ms\n",
            "766:\tlearn: 32776249.9430310\ttotal: 1.98s\tremaining: 602ms\n",
            "767:\tlearn: 32752150.2502812\ttotal: 1.98s\tremaining: 599ms\n",
            "768:\tlearn: 32741570.4440227\ttotal: 1.99s\tremaining: 597ms\n",
            "769:\tlearn: 32733850.2702326\ttotal: 1.99s\tremaining: 594ms\n",
            "770:\tlearn: 32710971.5053325\ttotal: 1.99s\tremaining: 592ms\n",
            "771:\tlearn: 32701922.6977650\ttotal: 1.99s\tremaining: 589ms\n",
            "772:\tlearn: 32674802.5763774\ttotal: 2s\tremaining: 586ms\n",
            "773:\tlearn: 32646950.7096185\ttotal: 2s\tremaining: 584ms\n",
            "774:\tlearn: 32631615.6312542\ttotal: 2s\tremaining: 581ms\n",
            "775:\tlearn: 32626747.7666602\ttotal: 2s\tremaining: 578ms\n",
            "776:\tlearn: 32599432.7574031\ttotal: 2.01s\tremaining: 576ms\n",
            "777:\tlearn: 32566257.0370068\ttotal: 2.01s\tremaining: 574ms\n",
            "778:\tlearn: 32532169.7934905\ttotal: 2.01s\tremaining: 571ms\n",
            "779:\tlearn: 32517491.1937674\ttotal: 2.02s\tremaining: 568ms\n",
            "780:\tlearn: 32515862.5112984\ttotal: 2.02s\tremaining: 566ms\n",
            "781:\tlearn: 32507157.9707504\ttotal: 2.02s\tremaining: 563ms\n",
            "782:\tlearn: 32486171.8841710\ttotal: 2.02s\tremaining: 560ms\n",
            "783:\tlearn: 32463931.6354305\ttotal: 2.02s\tremaining: 558ms\n",
            "784:\tlearn: 32458937.9681828\ttotal: 2.03s\tremaining: 555ms\n",
            "785:\tlearn: 32447682.3648174\ttotal: 2.03s\tremaining: 552ms\n",
            "786:\tlearn: 32430953.5659396\ttotal: 2.03s\tremaining: 550ms\n",
            "787:\tlearn: 32413902.7183420\ttotal: 2.03s\tremaining: 547ms\n",
            "788:\tlearn: 32394458.6214645\ttotal: 2.04s\tremaining: 544ms\n",
            "789:\tlearn: 32370009.4339612\ttotal: 2.04s\tremaining: 542ms\n",
            "790:\tlearn: 32350545.6622211\ttotal: 2.04s\tremaining: 539ms\n",
            "791:\tlearn: 32293527.5858154\ttotal: 2.04s\tremaining: 536ms\n",
            "792:\tlearn: 32274677.1480602\ttotal: 2.04s\tremaining: 534ms\n",
            "793:\tlearn: 32267605.3312298\ttotal: 2.05s\tremaining: 531ms\n",
            "794:\tlearn: 32252618.6745122\ttotal: 2.05s\tremaining: 528ms\n",
            "795:\tlearn: 32238977.2761457\ttotal: 2.05s\tremaining: 526ms\n",
            "796:\tlearn: 32204455.9117226\ttotal: 2.06s\tremaining: 525ms\n",
            "797:\tlearn: 32186660.6970966\ttotal: 2.06s\tremaining: 523ms\n",
            "798:\tlearn: 32172470.3960150\ttotal: 2.07s\tremaining: 520ms\n",
            "799:\tlearn: 32156331.1217305\ttotal: 2.07s\tremaining: 517ms\n",
            "800:\tlearn: 32138280.4905127\ttotal: 2.07s\tremaining: 515ms\n",
            "801:\tlearn: 32117069.8977448\ttotal: 2.07s\tremaining: 512ms\n",
            "802:\tlearn: 32113201.7389868\ttotal: 2.08s\tremaining: 509ms\n",
            "803:\tlearn: 32111542.1383299\ttotal: 2.08s\tremaining: 507ms\n",
            "804:\tlearn: 32102291.7639731\ttotal: 2.08s\tremaining: 504ms\n",
            "805:\tlearn: 32078029.7989180\ttotal: 2.08s\tremaining: 501ms\n",
            "806:\tlearn: 32057024.9162297\ttotal: 2.08s\tremaining: 499ms\n",
            "807:\tlearn: 32041954.9284772\ttotal: 2.09s\tremaining: 496ms\n",
            "808:\tlearn: 32023564.7825816\ttotal: 2.09s\tremaining: 493ms\n",
            "809:\tlearn: 32017090.4269884\ttotal: 2.09s\tremaining: 491ms\n",
            "810:\tlearn: 31993899.9121296\ttotal: 2.09s\tremaining: 488ms\n",
            "811:\tlearn: 31954032.0549678\ttotal: 2.1s\tremaining: 485ms\n",
            "812:\tlearn: 31929379.1561562\ttotal: 2.1s\tremaining: 483ms\n",
            "813:\tlearn: 31902959.6018671\ttotal: 2.1s\tremaining: 480ms\n",
            "814:\tlearn: 31877748.5956532\ttotal: 2.1s\tremaining: 478ms\n",
            "815:\tlearn: 31838750.4572723\ttotal: 2.1s\tremaining: 475ms\n",
            "816:\tlearn: 31813717.5712797\ttotal: 2.11s\tremaining: 472ms\n",
            "817:\tlearn: 31797793.5469066\ttotal: 2.11s\tremaining: 470ms\n",
            "818:\tlearn: 31766947.8743985\ttotal: 2.11s\tremaining: 467ms\n",
            "819:\tlearn: 31756392.0728158\ttotal: 2.12s\tremaining: 465ms\n",
            "820:\tlearn: 31737477.5111462\ttotal: 2.12s\tremaining: 462ms\n",
            "821:\tlearn: 31712267.4146980\ttotal: 2.12s\tremaining: 459ms\n",
            "822:\tlearn: 31708247.3012511\ttotal: 2.12s\tremaining: 457ms\n",
            "823:\tlearn: 31692725.6813465\ttotal: 2.13s\tremaining: 454ms\n",
            "824:\tlearn: 31662207.1257297\ttotal: 2.13s\tremaining: 451ms\n",
            "825:\tlearn: 31659338.2511135\ttotal: 2.13s\tremaining: 449ms\n",
            "826:\tlearn: 31640194.9987715\ttotal: 2.13s\tremaining: 446ms\n",
            "827:\tlearn: 31620812.5646203\ttotal: 2.13s\tremaining: 443ms\n",
            "828:\tlearn: 31607398.4776215\ttotal: 2.14s\tremaining: 441ms\n",
            "829:\tlearn: 31594387.7870494\ttotal: 2.14s\tremaining: 438ms\n",
            "830:\tlearn: 31575704.1675560\ttotal: 2.14s\tremaining: 435ms\n",
            "831:\tlearn: 31555907.6364644\ttotal: 2.14s\tremaining: 433ms\n",
            "832:\tlearn: 31528024.6817901\ttotal: 2.15s\tremaining: 430ms\n",
            "833:\tlearn: 31509148.6189211\ttotal: 2.15s\tremaining: 427ms\n",
            "834:\tlearn: 31483517.5702002\ttotal: 2.15s\tremaining: 425ms\n",
            "835:\tlearn: 31466615.7939836\ttotal: 2.15s\tremaining: 422ms\n",
            "836:\tlearn: 31450009.5706517\ttotal: 2.15s\tremaining: 420ms\n",
            "837:\tlearn: 31445795.7071446\ttotal: 2.16s\tremaining: 417ms\n",
            "838:\tlearn: 31420806.1065971\ttotal: 2.16s\tremaining: 414ms\n",
            "839:\tlearn: 31404345.3928503\ttotal: 2.16s\tremaining: 412ms\n",
            "840:\tlearn: 31382817.0855004\ttotal: 2.16s\tremaining: 409ms\n",
            "841:\tlearn: 31373953.1710561\ttotal: 2.17s\tremaining: 407ms\n",
            "842:\tlearn: 31351148.9256479\ttotal: 2.17s\tremaining: 404ms\n",
            "843:\tlearn: 31334788.3911145\ttotal: 2.17s\tremaining: 401ms\n",
            "844:\tlearn: 31309926.0445267\ttotal: 2.17s\tremaining: 399ms\n",
            "845:\tlearn: 31305670.1816001\ttotal: 2.17s\tremaining: 396ms\n",
            "846:\tlearn: 31284155.7349886\ttotal: 2.18s\tremaining: 393ms\n",
            "847:\tlearn: 31281940.6886394\ttotal: 2.18s\tremaining: 391ms\n",
            "848:\tlearn: 31263382.9694799\ttotal: 2.18s\tremaining: 388ms\n",
            "849:\tlearn: 31248258.0477448\ttotal: 2.18s\tremaining: 385ms\n",
            "850:\tlearn: 31220910.4038374\ttotal: 2.19s\tremaining: 383ms\n",
            "851:\tlearn: 31215282.9803986\ttotal: 2.19s\tremaining: 380ms\n",
            "852:\tlearn: 31212665.4752270\ttotal: 2.19s\tremaining: 378ms\n",
            "853:\tlearn: 31173885.4898866\ttotal: 2.19s\tremaining: 375ms\n",
            "854:\tlearn: 31158872.8735447\ttotal: 2.19s\tremaining: 372ms\n",
            "855:\tlearn: 31135391.8601860\ttotal: 2.2s\tremaining: 370ms\n",
            "856:\tlearn: 31125909.6011522\ttotal: 2.2s\tremaining: 367ms\n",
            "857:\tlearn: 31099530.8668303\ttotal: 2.2s\tremaining: 365ms\n",
            "858:\tlearn: 31081178.8521193\ttotal: 2.2s\tremaining: 362ms\n",
            "859:\tlearn: 31073265.8058192\ttotal: 2.21s\tremaining: 359ms\n",
            "860:\tlearn: 31056676.0150329\ttotal: 2.21s\tremaining: 357ms\n",
            "861:\tlearn: 31032832.3248747\ttotal: 2.21s\tremaining: 354ms\n",
            "862:\tlearn: 31001095.1707003\ttotal: 2.21s\tremaining: 351ms\n",
            "863:\tlearn: 30975483.7069947\ttotal: 2.22s\tremaining: 349ms\n",
            "864:\tlearn: 30938550.7548579\ttotal: 2.22s\tremaining: 347ms\n",
            "865:\tlearn: 30926045.7133848\ttotal: 2.23s\tremaining: 344ms\n",
            "866:\tlearn: 30892997.5154233\ttotal: 2.23s\tremaining: 342ms\n",
            "867:\tlearn: 30849016.5012613\ttotal: 2.23s\tremaining: 340ms\n",
            "868:\tlearn: 30828063.1785932\ttotal: 2.24s\tremaining: 338ms\n",
            "869:\tlearn: 30810009.8513431\ttotal: 2.25s\tremaining: 336ms\n",
            "870:\tlearn: 30789889.2555340\ttotal: 2.25s\tremaining: 333ms\n",
            "871:\tlearn: 30777064.2797886\ttotal: 2.25s\tremaining: 331ms\n",
            "872:\tlearn: 30768785.6227129\ttotal: 2.26s\tremaining: 328ms\n",
            "873:\tlearn: 30759490.1781368\ttotal: 2.26s\tremaining: 326ms\n",
            "874:\tlearn: 30729532.4411267\ttotal: 2.26s\tremaining: 323ms\n",
            "875:\tlearn: 30718907.4408776\ttotal: 2.26s\tremaining: 320ms\n",
            "876:\tlearn: 30686549.8804759\ttotal: 2.27s\tremaining: 318ms\n",
            "877:\tlearn: 30682660.0677361\ttotal: 2.27s\tremaining: 315ms\n",
            "878:\tlearn: 30678812.1430900\ttotal: 2.27s\tremaining: 313ms\n",
            "879:\tlearn: 30659794.0356409\ttotal: 2.27s\tremaining: 310ms\n",
            "880:\tlearn: 30653775.6600390\ttotal: 2.28s\tremaining: 307ms\n",
            "881:\tlearn: 30633856.7140629\ttotal: 2.28s\tremaining: 305ms\n",
            "882:\tlearn: 30598089.1011337\ttotal: 2.28s\tremaining: 302ms\n",
            "883:\tlearn: 30580171.7289886\ttotal: 2.28s\tremaining: 300ms\n",
            "884:\tlearn: 30555632.9566019\ttotal: 2.29s\tremaining: 297ms\n",
            "885:\tlearn: 30535243.9887612\ttotal: 2.29s\tremaining: 295ms\n",
            "886:\tlearn: 30494549.3216371\ttotal: 2.29s\tremaining: 292ms\n",
            "887:\tlearn: 30493957.6036112\ttotal: 2.29s\tremaining: 289ms\n",
            "888:\tlearn: 30485887.7703480\ttotal: 2.3s\tremaining: 287ms\n",
            "889:\tlearn: 30472835.3883276\ttotal: 2.3s\tremaining: 284ms\n",
            "890:\tlearn: 30463503.7728353\ttotal: 2.3s\tremaining: 281ms\n",
            "891:\tlearn: 30448339.8354488\ttotal: 2.3s\tremaining: 279ms\n",
            "892:\tlearn: 30425615.1716574\ttotal: 2.31s\tremaining: 276ms\n",
            "893:\tlearn: 30407879.3514946\ttotal: 2.31s\tremaining: 274ms\n",
            "894:\tlearn: 30391343.1588444\ttotal: 2.31s\tremaining: 271ms\n",
            "895:\tlearn: 30360771.8016656\ttotal: 2.31s\tremaining: 269ms\n",
            "896:\tlearn: 30337244.3169914\ttotal: 2.32s\tremaining: 266ms\n",
            "897:\tlearn: 30320049.7972141\ttotal: 2.32s\tremaining: 263ms\n",
            "898:\tlearn: 30294297.5763955\ttotal: 2.32s\tremaining: 261ms\n",
            "899:\tlearn: 30279263.6711884\ttotal: 2.32s\tremaining: 258ms\n",
            "900:\tlearn: 30261261.7990355\ttotal: 2.33s\tremaining: 256ms\n",
            "901:\tlearn: 30240969.6064157\ttotal: 2.33s\tremaining: 253ms\n",
            "902:\tlearn: 30218997.0022339\ttotal: 2.33s\tremaining: 250ms\n",
            "903:\tlearn: 30197237.5134241\ttotal: 2.33s\tremaining: 248ms\n",
            "904:\tlearn: 30191528.6650147\ttotal: 2.33s\tremaining: 245ms\n",
            "905:\tlearn: 30167499.6539543\ttotal: 2.34s\tremaining: 243ms\n",
            "906:\tlearn: 30145966.6762122\ttotal: 2.34s\tremaining: 240ms\n",
            "907:\tlearn: 30133473.5228463\ttotal: 2.35s\tremaining: 238ms\n",
            "908:\tlearn: 30125057.0938353\ttotal: 2.35s\tremaining: 235ms\n",
            "909:\tlearn: 30116518.3351922\ttotal: 2.35s\tremaining: 233ms\n",
            "910:\tlearn: 30093576.9146262\ttotal: 2.35s\tremaining: 230ms\n",
            "911:\tlearn: 30076752.3174363\ttotal: 2.36s\tremaining: 227ms\n",
            "912:\tlearn: 30067852.0877489\ttotal: 2.36s\tremaining: 225ms\n",
            "913:\tlearn: 30057004.2220594\ttotal: 2.36s\tremaining: 222ms\n",
            "914:\tlearn: 30025107.6864772\ttotal: 2.36s\tremaining: 220ms\n",
            "915:\tlearn: 30020851.8585795\ttotal: 2.37s\tremaining: 217ms\n",
            "916:\tlearn: 29998602.7355426\ttotal: 2.37s\tremaining: 214ms\n",
            "917:\tlearn: 29996080.1947507\ttotal: 2.37s\tremaining: 212ms\n",
            "918:\tlearn: 29968612.1026020\ttotal: 2.37s\tremaining: 209ms\n",
            "919:\tlearn: 29967010.5715010\ttotal: 2.38s\tremaining: 207ms\n",
            "920:\tlearn: 29952300.3315734\ttotal: 2.38s\tremaining: 204ms\n",
            "921:\tlearn: 29934328.2259586\ttotal: 2.38s\tremaining: 201ms\n",
            "922:\tlearn: 29910172.9753264\ttotal: 2.38s\tremaining: 199ms\n",
            "923:\tlearn: 29889606.5195580\ttotal: 2.38s\tremaining: 196ms\n",
            "924:\tlearn: 29878612.6922593\ttotal: 2.39s\tremaining: 194ms\n",
            "925:\tlearn: 29866498.5595118\ttotal: 2.39s\tremaining: 191ms\n",
            "926:\tlearn: 29833116.9753599\ttotal: 2.39s\tremaining: 188ms\n",
            "927:\tlearn: 29818742.2507913\ttotal: 2.39s\tremaining: 186ms\n",
            "928:\tlearn: 29808426.0238281\ttotal: 2.4s\tremaining: 183ms\n",
            "929:\tlearn: 29797126.5997744\ttotal: 2.4s\tremaining: 181ms\n",
            "930:\tlearn: 29794728.1884930\ttotal: 2.4s\tremaining: 178ms\n",
            "931:\tlearn: 29779659.9914982\ttotal: 2.4s\tremaining: 175ms\n",
            "932:\tlearn: 29765311.0533596\ttotal: 2.4s\tremaining: 173ms\n",
            "933:\tlearn: 29744469.7189234\ttotal: 2.41s\tremaining: 170ms\n",
            "934:\tlearn: 29735227.4267250\ttotal: 2.41s\tremaining: 168ms\n",
            "935:\tlearn: 29711353.7574299\ttotal: 2.41s\tremaining: 165ms\n",
            "936:\tlearn: 29693556.5325642\ttotal: 2.42s\tremaining: 163ms\n",
            "937:\tlearn: 29687365.0007626\ttotal: 2.42s\tremaining: 160ms\n",
            "938:\tlearn: 29678494.5646312\ttotal: 2.42s\tremaining: 158ms\n",
            "939:\tlearn: 29671765.3414062\ttotal: 2.43s\tremaining: 155ms\n",
            "940:\tlearn: 29669220.3781179\ttotal: 2.43s\tremaining: 153ms\n",
            "941:\tlearn: 29657801.9867841\ttotal: 2.45s\tremaining: 151ms\n",
            "942:\tlearn: 29640066.9379080\ttotal: 2.45s\tremaining: 148ms\n",
            "943:\tlearn: 29619241.5120612\ttotal: 2.45s\tremaining: 146ms\n",
            "944:\tlearn: 29598981.3116540\ttotal: 2.46s\tremaining: 143ms\n",
            "945:\tlearn: 29589584.3681171\ttotal: 2.46s\tremaining: 140ms\n",
            "946:\tlearn: 29578122.1003033\ttotal: 2.46s\tremaining: 138ms\n",
            "947:\tlearn: 29550650.2164015\ttotal: 2.46s\tremaining: 135ms\n",
            "948:\tlearn: 29529828.6205796\ttotal: 2.46s\tremaining: 133ms\n",
            "949:\tlearn: 29504268.7838982\ttotal: 2.47s\tremaining: 130ms\n",
            "950:\tlearn: 29484414.1533213\ttotal: 2.47s\tremaining: 127ms\n",
            "951:\tlearn: 29474031.8389937\ttotal: 2.47s\tremaining: 125ms\n",
            "952:\tlearn: 29437255.9275862\ttotal: 2.48s\tremaining: 122ms\n",
            "953:\tlearn: 29429237.7219879\ttotal: 2.48s\tremaining: 119ms\n",
            "954:\tlearn: 29402239.3756766\ttotal: 2.48s\tremaining: 117ms\n",
            "955:\tlearn: 29386025.2939552\ttotal: 2.48s\tremaining: 114ms\n",
            "956:\tlearn: 29376388.1840212\ttotal: 2.48s\tremaining: 112ms\n",
            "957:\tlearn: 29360317.8529623\ttotal: 2.49s\tremaining: 109ms\n",
            "958:\tlearn: 29345890.5075793\ttotal: 2.49s\tremaining: 106ms\n",
            "959:\tlearn: 29339465.4399837\ttotal: 2.49s\tremaining: 104ms\n",
            "960:\tlearn: 29317705.9004448\ttotal: 2.5s\tremaining: 101ms\n",
            "961:\tlearn: 29309480.7409446\ttotal: 2.5s\tremaining: 98.7ms\n",
            "962:\tlearn: 29284907.3525252\ttotal: 2.5s\tremaining: 96.1ms\n",
            "963:\tlearn: 29267604.9746924\ttotal: 2.5s\tremaining: 93.5ms\n",
            "964:\tlearn: 29258793.4969326\ttotal: 2.5s\tremaining: 90.8ms\n",
            "965:\tlearn: 29245866.4694655\ttotal: 2.51s\tremaining: 88.2ms\n",
            "966:\tlearn: 29230546.3604293\ttotal: 2.51s\tremaining: 85.6ms\n",
            "967:\tlearn: 29212092.8704442\ttotal: 2.51s\tremaining: 83ms\n",
            "968:\tlearn: 29199001.4027387\ttotal: 2.51s\tremaining: 80.4ms\n",
            "969:\tlearn: 29183604.4970930\ttotal: 2.52s\tremaining: 77.8ms\n",
            "970:\tlearn: 29176852.4343120\ttotal: 2.52s\tremaining: 75.2ms\n",
            "971:\tlearn: 29168095.7256222\ttotal: 2.52s\tremaining: 72.7ms\n",
            "972:\tlearn: 29150035.7742542\ttotal: 2.52s\tremaining: 70.1ms\n",
            "973:\tlearn: 29118375.4262801\ttotal: 2.53s\tremaining: 67.5ms\n",
            "974:\tlearn: 29106069.3060324\ttotal: 2.53s\tremaining: 64.9ms\n",
            "975:\tlearn: 29091949.5919807\ttotal: 2.53s\tremaining: 62.3ms\n",
            "976:\tlearn: 29081947.4721825\ttotal: 2.53s\tremaining: 59.7ms\n",
            "977:\tlearn: 29051221.6314911\ttotal: 2.54s\tremaining: 57.1ms\n",
            "978:\tlearn: 29035586.9173527\ttotal: 2.54s\tremaining: 54.5ms\n",
            "979:\tlearn: 29029607.9670751\ttotal: 2.54s\tremaining: 51.9ms\n",
            "980:\tlearn: 29009453.9047141\ttotal: 2.55s\tremaining: 49.4ms\n",
            "981:\tlearn: 28995812.9523218\ttotal: 2.55s\tremaining: 46.8ms\n",
            "982:\tlearn: 28977556.8228904\ttotal: 2.56s\tremaining: 44.2ms\n",
            "983:\tlearn: 28961699.5846276\ttotal: 2.56s\tremaining: 41.6ms\n",
            "984:\tlearn: 28934008.9291569\ttotal: 2.56s\tremaining: 39ms\n",
            "985:\tlearn: 28907720.4180587\ttotal: 2.56s\tremaining: 36.4ms\n",
            "986:\tlearn: 28897016.0693562\ttotal: 2.57s\tremaining: 33.8ms\n",
            "987:\tlearn: 28875501.0045571\ttotal: 2.57s\tremaining: 31.2ms\n",
            "988:\tlearn: 28848530.2243273\ttotal: 2.57s\tremaining: 28.6ms\n",
            "989:\tlearn: 28821557.0408051\ttotal: 2.57s\tremaining: 26ms\n",
            "990:\tlearn: 28796600.8459117\ttotal: 2.58s\tremaining: 23.4ms\n",
            "991:\tlearn: 28781762.5174804\ttotal: 2.58s\tremaining: 20.8ms\n",
            "992:\tlearn: 28760173.9775162\ttotal: 2.58s\tremaining: 18.2ms\n",
            "993:\tlearn: 28739265.4920594\ttotal: 2.58s\tremaining: 15.6ms\n",
            "994:\tlearn: 28728915.3936601\ttotal: 2.59s\tremaining: 13ms\n",
            "995:\tlearn: 28713145.9549854\ttotal: 2.59s\tremaining: 10.4ms\n",
            "996:\tlearn: 28708796.0838788\ttotal: 2.59s\tremaining: 7.8ms\n",
            "997:\tlearn: 28691577.9976095\ttotal: 2.59s\tremaining: 5.2ms\n",
            "998:\tlearn: 28659798.0003520\ttotal: 2.6s\tremaining: 2.6ms\n",
            "999:\tlearn: 28637724.2187868\ttotal: 2.6s\tremaining: 0us\n"
          ],
          "name": "stdout"
        },
        {
          "output_type": "execute_result",
          "data": {
            "text/plain": [
              "0.96"
            ]
          },
          "metadata": {
            "tags": []
          },
          "execution_count": 87
        }
      ]
    },
    {
      "cell_type": "code",
      "metadata": {
        "id": "ULfoLUbdPpL1"
      },
      "source": [
        "y_pred3=best_grid.predict(testset)\n",
        "result_data3 = pd.read_csv(\"sample_submission.csv\")\n",
        "output = pd.DataFrame({'id': result_data3.id, 'revenue': y_pred3})\n",
        "output.to_csv('my_submissionC.csv', index=False)"
      ],
      "execution_count": null,
      "outputs": []
    },
    {
      "cell_type": "markdown",
      "metadata": {
        "id": "5-AYl8RxxhFA"
      },
      "source": [
        "Trying some feature scaling"
      ]
    },
    {
      "cell_type": "code",
      "metadata": {
        "id": "Np56TB8UxjZo"
      },
      "source": [
        "#feature scaling budget column\n",
        "from sklearn.preprocessing import StandardScaler\n",
        "sc = StandardScaler()\n",
        "X_train.iloc[:,1:2] = sc.fit_transform(X_train.iloc[:,1:2])   \n",
        "testset.iloc[:,1:2] = sc.fit_transform(testset.iloc[:,1:2])"
      ],
      "execution_count": null,
      "outputs": []
    },
    {
      "cell_type": "code",
      "metadata": {
        "colab": {
          "base_uri": "https://localhost:8080/",
          "height": 214
        },
        "id": "hXszDlDsyDyl",
        "outputId": "1f0b831d-8823-44a5-a2c1-26d7628cc720"
      },
      "source": [
        "testset.head()"
      ],
      "execution_count": null,
      "outputs": [
        {
          "output_type": "execute_result",
          "data": {
            "text/html": [
              "<div>\n",
              "<style scoped>\n",
              "    .dataframe tbody tr th:only-of-type {\n",
              "        vertical-align: middle;\n",
              "    }\n",
              "\n",
              "    .dataframe tbody tr th {\n",
              "        vertical-align: top;\n",
              "    }\n",
              "\n",
              "    .dataframe thead th {\n",
              "        text-align: right;\n",
              "    }\n",
              "</style>\n",
              "<table border=\"1\" class=\"dataframe\">\n",
              "  <thead>\n",
              "    <tr style=\"text-align: right;\">\n",
              "      <th></th>\n",
              "      <th>belongs_to_how_many_coll</th>\n",
              "      <th>budget</th>\n",
              "      <th>genres</th>\n",
              "      <th>has_homepage</th>\n",
              "      <th>is_en_original_language</th>\n",
              "      <th>popularity</th>\n",
              "      <th>production_companies</th>\n",
              "      <th>production_countries</th>\n",
              "      <th>runtime</th>\n",
              "      <th>is_en_spoken</th>\n",
              "      <th>status</th>\n",
              "      <th>cast</th>\n",
              "      <th>crew</th>\n",
              "      <th>is_USA_prod_country</th>\n",
              "      <th>release_year</th>\n",
              "      <th>release_month</th>\n",
              "      <th>number_of_spoken_languages</th>\n",
              "    </tr>\n",
              "  </thead>\n",
              "  <tbody>\n",
              "    <tr>\n",
              "      <th>0</th>\n",
              "      <td>1</td>\n",
              "      <td>-0.181465</td>\n",
              "      <td>12</td>\n",
              "      <td>1</td>\n",
              "      <td>0</td>\n",
              "      <td>3.851534</td>\n",
              "      <td>0</td>\n",
              "      <td>2</td>\n",
              "      <td>90.0</td>\n",
              "      <td>1</td>\n",
              "      <td>1</td>\n",
              "      <td>7</td>\n",
              "      <td>2</td>\n",
              "      <td>0</td>\n",
              "      <td>7</td>\n",
              "      <td>7</td>\n",
              "      <td>2</td>\n",
              "    </tr>\n",
              "    <tr>\n",
              "      <th>1</th>\n",
              "      <td>0</td>\n",
              "      <td>-0.837930</td>\n",
              "      <td>27</td>\n",
              "      <td>0</td>\n",
              "      <td>1</td>\n",
              "      <td>3.559789</td>\n",
              "      <td>1</td>\n",
              "      <td>1</td>\n",
              "      <td>65.0</td>\n",
              "      <td>1</td>\n",
              "      <td>1</td>\n",
              "      <td>10</td>\n",
              "      <td>8</td>\n",
              "      <td>1</td>\n",
              "      <td>58</td>\n",
              "      <td>5</td>\n",
              "      <td>1</td>\n",
              "    </tr>\n",
              "    <tr>\n",
              "      <th>2</th>\n",
              "      <td>0</td>\n",
              "      <td>-0.181465</td>\n",
              "      <td>35</td>\n",
              "      <td>0</td>\n",
              "      <td>1</td>\n",
              "      <td>8.085194</td>\n",
              "      <td>3</td>\n",
              "      <td>1</td>\n",
              "      <td>100.0</td>\n",
              "      <td>1</td>\n",
              "      <td>1</td>\n",
              "      <td>9</td>\n",
              "      <td>10</td>\n",
              "      <td>1</td>\n",
              "      <td>97</td>\n",
              "      <td>5</td>\n",
              "      <td>1</td>\n",
              "    </tr>\n",
              "    <tr>\n",
              "      <th>3</th>\n",
              "      <td>0</td>\n",
              "      <td>-0.642631</td>\n",
              "      <td>18</td>\n",
              "      <td>1</td>\n",
              "      <td>0</td>\n",
              "      <td>8.596012</td>\n",
              "      <td>3</td>\n",
              "      <td>2</td>\n",
              "      <td>130.0</td>\n",
              "      <td>0</td>\n",
              "      <td>1</td>\n",
              "      <td>23</td>\n",
              "      <td>69</td>\n",
              "      <td>0</td>\n",
              "      <td>10</td>\n",
              "      <td>9</td>\n",
              "      <td>3</td>\n",
              "    </tr>\n",
              "    <tr>\n",
              "      <th>4</th>\n",
              "      <td>0</td>\n",
              "      <td>-0.782297</td>\n",
              "      <td>36</td>\n",
              "      <td>0</td>\n",
              "      <td>1</td>\n",
              "      <td>3.217680</td>\n",
              "      <td>0</td>\n",
              "      <td>1</td>\n",
              "      <td>92.0</td>\n",
              "      <td>1</td>\n",
              "      <td>1</td>\n",
              "      <td>4</td>\n",
              "      <td>14</td>\n",
              "      <td>1</td>\n",
              "      <td>5</td>\n",
              "      <td>2</td>\n",
              "      <td>1</td>\n",
              "    </tr>\n",
              "  </tbody>\n",
              "</table>\n",
              "</div>"
            ],
            "text/plain": [
              "  belongs_to_how_many_coll    budget  ...  release_month number_of_spoken_languages\n",
              "0                        1 -0.181465  ...              7                          2\n",
              "1                        0 -0.837930  ...              5                          1\n",
              "2                        0 -0.181465  ...              5                          1\n",
              "3                        0 -0.642631  ...              9                          3\n",
              "4                        0 -0.782297  ...              2                          1\n",
              "\n",
              "[5 rows x 17 columns]"
            ]
          },
          "metadata": {
            "tags": []
          },
          "execution_count": 90
        }
      ]
    },
    {
      "cell_type": "code",
      "metadata": {
        "id": "fdvyMc8kyIQH"
      },
      "source": [
        "#feature scaling popularity column\n",
        "from sklearn.preprocessing import StandardScaler\n",
        "sc = StandardScaler()\n",
        "X_train.iloc[:,5:6] = sc.fit_transform(X_train.iloc[:,5:6])   \n",
        "testset.iloc[:,5:6] = sc.fit_transform(testset.iloc[:,5:6])"
      ],
      "execution_count": null,
      "outputs": []
    },
    {
      "cell_type": "code",
      "metadata": {
        "id": "SdmhJwztyUmH"
      },
      "source": [
        "#feature scaling runtime column\n",
        "from sklearn.preprocessing import StandardScaler\n",
        "sc = StandardScaler()\n",
        "X_train.iloc[:,8:9] = sc.fit_transform(X_train.iloc[:,8:9])   \n",
        "testset.iloc[:,8:9] = sc.fit_transform(testset.iloc[:,8:9])"
      ],
      "execution_count": null,
      "outputs": []
    },
    {
      "cell_type": "code",
      "metadata": {
        "colab": {
          "base_uri": "https://localhost:8080/"
        },
        "id": "MVxp9edqRr2P",
        "outputId": "d1f8c5f9-a2a2-484d-ab11-5962c09dbf6a"
      },
      "source": [
        "print(y_train)"
      ],
      "execution_count": null,
      "outputs": [
        {
          "output_type": "stream",
          "text": [
            "0        12314651\n",
            "1        95149435\n",
            "2        13092000\n",
            "3        16000000\n",
            "4         3923970\n",
            "          ...    \n",
            "2995      1596687\n",
            "2996       180590\n",
            "2997     89456761\n",
            "2998    171963386\n",
            "2999     82087155\n",
            "Name: revenue, Length: 3000, dtype: int64\n"
          ],
          "name": "stdout"
        }
      ]
    },
    {
      "cell_type": "code",
      "metadata": {
        "colab": {
          "base_uri": "https://localhost:8080/"
        },
        "id": "z-IOqbrjTeTw",
        "outputId": "12d9a8d9-e51a-4615-da91-3eb10311c1a8"
      },
      "source": [
        "from sklearn.ensemble import RandomForestRegressor\n",
        "regressor4=RandomForestRegressor()\n",
        "                       \n",
        "\n",
        "regressor4.fit(X_train, y_train)"
      ],
      "execution_count": null,
      "outputs": [
        {
          "output_type": "execute_result",
          "data": {
            "text/plain": [
              "RandomForestRegressor(bootstrap=True, ccp_alpha=0.0, criterion='mse',\n",
              "                      max_depth=None, max_features='auto', max_leaf_nodes=None,\n",
              "                      max_samples=None, min_impurity_decrease=0.0,\n",
              "                      min_impurity_split=None, min_samples_leaf=1,\n",
              "                      min_samples_split=2, min_weight_fraction_leaf=0.0,\n",
              "                      n_estimators=100, n_jobs=None, oob_score=False,\n",
              "                      random_state=None, verbose=0, warm_start=False)"
            ]
          },
          "metadata": {
            "tags": []
          },
          "execution_count": 94
        }
      ]
    },
    {
      "cell_type": "code",
      "metadata": {
        "id": "p-IT9fpxTwtQ"
      },
      "source": [
        "y_pred4=regressor4.predict(testset)\n",
        "result_data4 = pd.read_csv(\"sample_submission.csv\")\n",
        "output = pd.DataFrame({'id': result_data4.id, 'revenue': y_pred4})\n",
        "output.to_csv('my_submissionD.csv', index=False)  #1078/1395"
      ],
      "execution_count": null,
      "outputs": []
    },
    {
      "cell_type": "code",
      "metadata": {
        "id": "uL-U0vMn3wSv"
      },
      "source": [
        "testset['has_homepage']=testset['has_homepage'].astype('float')\n",
        "testset['is_en_original_language']=testset['is_en_original_language'].astype('float')\n",
        "testset['production_companies']=testset['production_companies'].astype('float')\n",
        "testset['production_countries']=testset['production_countries'].astype('float')\n",
        "testset['is_en_spoken']=testset['is_en_spoken'].astype('float')\n",
        "testset['cast']=testset['cast'].astype('float')\n",
        "testset['crew']=testset['crew'].astype('float')\n",
        "testset['number_of_spoken_languages']=testset['number_of_spoken_languages'].astype('float')\n",
        "testset['is_USA_prod_country']=testset['is_USA_prod_country'].astype('float')\n",
        "testset['belongs_to_how_many_coll']=testset['belongs_to_how_many_coll'].astype('float')\n",
        "X_train['has_homepage']=X_train['has_homepage'].astype('float')\n",
        "X_train['is_en_original_language']=X_train['is_en_original_language'].astype('float')\n",
        "X_train['production_companies']=X_train['production_companies'].astype('float')\n",
        "X_train['production_countries']=X_train['production_countries'].astype('float')\n",
        "X_train['is_en_spoken']=X_train['is_en_spoken'].astype('float')\n",
        "X_train['cast']=X_train['cast'].astype('float')\n",
        "X_train['crew']=X_train['crew'].astype('float')\n",
        "X_train['number_of_spoken_languages']=X_train['number_of_spoken_languages'].astype('float')\n",
        "X_train['is_USA_prod_country']=X_train['is_USA_prod_country'].astype('float')\n",
        "X_train['belongs_to_how_many_coll']=X_train['belongs_to_how_many_coll'].astype('float')"
      ],
      "execution_count": null,
      "outputs": []
    },
    {
      "cell_type": "markdown",
      "metadata": {
        "id": "aSlwOpNwoIbM"
      },
      "source": [
        "LGBM"
      ]
    },
    {
      "cell_type": "code",
      "metadata": {
        "colab": {
          "base_uri": "https://localhost:8080/"
        },
        "id": "EguRyrnVoJNB",
        "outputId": "21bffa16-c359-4aa7-8579-04d1ba05df0a"
      },
      "source": [
        "from lightgbm import LGBMRegressor\n",
        "regressor5 = LGBMRegressor(n_estimators=10000, \n",
        "                             objective='regression', \n",
        "                             metric='rmse',\n",
        "                             max_depth = 5,\n",
        "                             num_leaves=30, \n",
        "                             min_child_samples=100,\n",
        "                             learning_rate=0.01,\n",
        "                             boosting = 'gbdt',\n",
        "                             min_data_in_leaf= 10,\n",
        "                             feature_fraction = 0.9,\n",
        "                             bagging_freq = 1,\n",
        "                             bagging_fraction = 0.9,\n",
        "                             importance_type='gain',\n",
        "                             lambda_l1 = 0.2,\n",
        "                             \n",
        "                             subsample=.8, \n",
        "                             colsample_bytree=.9,\n",
        "                             use_best_model=True)\n",
        "regressor5.fit(X_train,y_train)"
      ],
      "execution_count": null,
      "outputs": [
        {
          "output_type": "execute_result",
          "data": {
            "text/plain": [
              "LGBMRegressor(bagging_fraction=0.9, bagging_freq=1, boosting='gbdt',\n",
              "              boosting_type='gbdt', class_weight=None, colsample_bytree=0.9,\n",
              "              feature_fraction=0.9, importance_type='gain', lambda_l1=0.2,\n",
              "              learning_rate=0.01, max_depth=5, metric='rmse',\n",
              "              min_child_samples=100, min_child_weight=0.001,\n",
              "              min_data_in_leaf=10, min_split_gain=0.0, n_estimators=10000,\n",
              "              n_jobs=-1, num_leaves=30, objective='regression',\n",
              "              random_state=None, reg_alpha=0.0, reg_lambda=0.0, silent=True,\n",
              "              subsample=0.8, subsample_for_bin=200000, subsample_freq=0,\n",
              "              use_best_model=True)"
            ]
          },
          "metadata": {
            "tags": []
          },
          "execution_count": 106
        }
      ]
    },
    {
      "cell_type": "code",
      "metadata": {
        "id": "4DYPgbTSojXO"
      },
      "source": [
        "y_pred4=regressor5.predict(testset)\n",
        "result_data5 = pd.read_csv(\"sample_submission.csv\")\n",
        "output = pd.DataFrame({'id': result_data5.id, 'revenue': y_pred5})\n",
        "output.to_csv('my_submissionE.csv', index=False) "
      ],
      "execution_count": null,
      "outputs": []
    },
    {
      "cell_type": "markdown",
      "metadata": {
        "id": "KsLd8ERspL3t"
      },
      "source": [
        "XGB"
      ]
    },
    {
      "cell_type": "code",
      "metadata": {
        "id": "Fj0qaFi_pMzl"
      },
      "source": [
        "\n",
        "import xgboost as xgb\n",
        "regressor6 = xgb.XGBRegressor(max_depth=5, \n",
        "                            learning_rate=0.01, \n",
        "                            n_estimators=10000, \n",
        "                            objective='reg:linear', \n",
        "                            gamma=1.45, \n",
        "                            \n",
        "                            silent=True,\n",
        "                            subsample=0.8, \n",
        "                            colsample_bytree=0.7, \n",
        "                            colsample_bylevel=0.5)\n",
        "regressor6.fit(X_train,y_train)\n",
        "y_pred6=regressor6.predict(testset)\n",
        "result_data6 = pd.read_csv(\"sample_submission.csv\")\n",
        "output = pd.DataFrame({'id': result_data6.id, 'revenue': y_pred6})\n",
        "output.to_csv('my_submissionF.csv', index=False) "
      ],
      "execution_count": null,
      "outputs": []
    },
    {
      "cell_type": "code",
      "metadata": {
        "id": "JoXGus3Qqjz3"
      },
      "source": [
        ""
      ],
      "execution_count": null,
      "outputs": []
    }
  ]
}