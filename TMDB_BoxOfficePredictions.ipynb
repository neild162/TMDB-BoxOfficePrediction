{
  "nbformat": 4,
  "nbformat_minor": 0,
  "metadata": {
    "colab": {
      "name": "TMDB-BoxOfficePredictions.ipynb",
      "provenance": [],
      "collapsed_sections": []
    },
    "kernelspec": {
      "name": "python3",
      "display_name": "Python 3"
    },
    "language_info": {
      "name": "python"
    }
  },
  "cells": [
    {
      "cell_type": "code",
      "metadata": {
        "id": "eyEYqfPu3BwB"
      },
      "source": [
        "import numpy as np\n",
        "import matplotlib.pyplot as plt\n",
        "import pandas as pd\n",
        "import seaborn as sns"
      ],
      "execution_count": null,
      "outputs": []
    },
    {
      "cell_type": "code",
      "metadata": {
        "id": "weEkV5JC4E06"
      },
      "source": [
        "import csv\n",
        "trainset=pd.read_csv('train.csv')\n",
        "testset=pd.read_csv('test.csv')\n"
      ],
      "execution_count": null,
      "outputs": []
    },
    {
      "cell_type": "code",
      "metadata": {
        "colab": {
          "base_uri": "https://localhost:8080/",
          "height": 618
        },
        "id": "lsEmGyoM6M_5",
        "outputId": "fd0269f8-33fb-45e2-b7b8-ea09b09e7654"
      },
      "source": [
        "trainset.head()"
      ],
      "execution_count": null,
      "outputs": [
        {
          "output_type": "execute_result",
          "data": {
            "text/html": [
              "<div>\n",
              "<style scoped>\n",
              "    .dataframe tbody tr th:only-of-type {\n",
              "        vertical-align: middle;\n",
              "    }\n",
              "\n",
              "    .dataframe tbody tr th {\n",
              "        vertical-align: top;\n",
              "    }\n",
              "\n",
              "    .dataframe thead th {\n",
              "        text-align: right;\n",
              "    }\n",
              "</style>\n",
              "<table border=\"1\" class=\"dataframe\">\n",
              "  <thead>\n",
              "    <tr style=\"text-align: right;\">\n",
              "      <th></th>\n",
              "      <th>id</th>\n",
              "      <th>belongs_to_collection</th>\n",
              "      <th>budget</th>\n",
              "      <th>genres</th>\n",
              "      <th>homepage</th>\n",
              "      <th>imdb_id</th>\n",
              "      <th>original_language</th>\n",
              "      <th>original_title</th>\n",
              "      <th>overview</th>\n",
              "      <th>popularity</th>\n",
              "      <th>poster_path</th>\n",
              "      <th>production_companies</th>\n",
              "      <th>production_countries</th>\n",
              "      <th>release_date</th>\n",
              "      <th>runtime</th>\n",
              "      <th>spoken_languages</th>\n",
              "      <th>status</th>\n",
              "      <th>tagline</th>\n",
              "      <th>title</th>\n",
              "      <th>Keywords</th>\n",
              "      <th>cast</th>\n",
              "      <th>crew</th>\n",
              "      <th>revenue</th>\n",
              "    </tr>\n",
              "  </thead>\n",
              "  <tbody>\n",
              "    <tr>\n",
              "      <th>0</th>\n",
              "      <td>1</td>\n",
              "      <td>[{'id': 313576, 'name': 'Hot Tub Time Machine ...</td>\n",
              "      <td>14000000</td>\n",
              "      <td>[{'id': 35, 'name': 'Comedy'}]</td>\n",
              "      <td>NaN</td>\n",
              "      <td>tt2637294</td>\n",
              "      <td>en</td>\n",
              "      <td>Hot Tub Time Machine 2</td>\n",
              "      <td>When Lou, who has become the \"father of the In...</td>\n",
              "      <td>6.575393</td>\n",
              "      <td>/tQtWuwvMf0hCc2QR2tkolwl7c3c.jpg</td>\n",
              "      <td>[{'name': 'Paramount Pictures', 'id': 4}, {'na...</td>\n",
              "      <td>[{'iso_3166_1': 'US', 'name': 'United States o...</td>\n",
              "      <td>2/20/15</td>\n",
              "      <td>93.0</td>\n",
              "      <td>[{'iso_639_1': 'en', 'name': 'English'}]</td>\n",
              "      <td>Released</td>\n",
              "      <td>The Laws of Space and Time are About to be Vio...</td>\n",
              "      <td>Hot Tub Time Machine 2</td>\n",
              "      <td>[{'id': 4379, 'name': 'time travel'}, {'id': 9...</td>\n",
              "      <td>[{'cast_id': 4, 'character': 'Lou', 'credit_id...</td>\n",
              "      <td>[{'credit_id': '59ac067c92514107af02c8c8', 'de...</td>\n",
              "      <td>12314651</td>\n",
              "    </tr>\n",
              "    <tr>\n",
              "      <th>1</th>\n",
              "      <td>2</td>\n",
              "      <td>[{'id': 107674, 'name': 'The Princess Diaries ...</td>\n",
              "      <td>40000000</td>\n",
              "      <td>[{'id': 35, 'name': 'Comedy'}, {'id': 18, 'nam...</td>\n",
              "      <td>NaN</td>\n",
              "      <td>tt0368933</td>\n",
              "      <td>en</td>\n",
              "      <td>The Princess Diaries 2: Royal Engagement</td>\n",
              "      <td>Mia Thermopolis is now a college graduate and ...</td>\n",
              "      <td>8.248895</td>\n",
              "      <td>/w9Z7A0GHEhIp7etpj0vyKOeU1Wx.jpg</td>\n",
              "      <td>[{'name': 'Walt Disney Pictures', 'id': 2}]</td>\n",
              "      <td>[{'iso_3166_1': 'US', 'name': 'United States o...</td>\n",
              "      <td>8/6/04</td>\n",
              "      <td>113.0</td>\n",
              "      <td>[{'iso_639_1': 'en', 'name': 'English'}]</td>\n",
              "      <td>Released</td>\n",
              "      <td>It can take a lifetime to find true love; she'...</td>\n",
              "      <td>The Princess Diaries 2: Royal Engagement</td>\n",
              "      <td>[{'id': 2505, 'name': 'coronation'}, {'id': 42...</td>\n",
              "      <td>[{'cast_id': 1, 'character': 'Mia Thermopolis'...</td>\n",
              "      <td>[{'credit_id': '52fe43fe9251416c7502563d', 'de...</td>\n",
              "      <td>95149435</td>\n",
              "    </tr>\n",
              "    <tr>\n",
              "      <th>2</th>\n",
              "      <td>3</td>\n",
              "      <td>NaN</td>\n",
              "      <td>3300000</td>\n",
              "      <td>[{'id': 18, 'name': 'Drama'}]</td>\n",
              "      <td>http://sonyclassics.com/whiplash/</td>\n",
              "      <td>tt2582802</td>\n",
              "      <td>en</td>\n",
              "      <td>Whiplash</td>\n",
              "      <td>Under the direction of a ruthless instructor, ...</td>\n",
              "      <td>64.299990</td>\n",
              "      <td>/lIv1QinFqz4dlp5U4lQ6HaiskOZ.jpg</td>\n",
              "      <td>[{'name': 'Bold Films', 'id': 2266}, {'name': ...</td>\n",
              "      <td>[{'iso_3166_1': 'US', 'name': 'United States o...</td>\n",
              "      <td>10/10/14</td>\n",
              "      <td>105.0</td>\n",
              "      <td>[{'iso_639_1': 'en', 'name': 'English'}]</td>\n",
              "      <td>Released</td>\n",
              "      <td>The road to greatness can take you to the edge.</td>\n",
              "      <td>Whiplash</td>\n",
              "      <td>[{'id': 1416, 'name': 'jazz'}, {'id': 1523, 'n...</td>\n",
              "      <td>[{'cast_id': 5, 'character': 'Andrew Neimann',...</td>\n",
              "      <td>[{'credit_id': '54d5356ec3a3683ba0000039', 'de...</td>\n",
              "      <td>13092000</td>\n",
              "    </tr>\n",
              "    <tr>\n",
              "      <th>3</th>\n",
              "      <td>4</td>\n",
              "      <td>NaN</td>\n",
              "      <td>1200000</td>\n",
              "      <td>[{'id': 53, 'name': 'Thriller'}, {'id': 18, 'n...</td>\n",
              "      <td>http://kahaanithefilm.com/</td>\n",
              "      <td>tt1821480</td>\n",
              "      <td>hi</td>\n",
              "      <td>Kahaani</td>\n",
              "      <td>Vidya Bagchi (Vidya Balan) arrives in Kolkata ...</td>\n",
              "      <td>3.174936</td>\n",
              "      <td>/aTXRaPrWSinhcmCrcfJK17urp3F.jpg</td>\n",
              "      <td>NaN</td>\n",
              "      <td>[{'iso_3166_1': 'IN', 'name': 'India'}]</td>\n",
              "      <td>3/9/12</td>\n",
              "      <td>122.0</td>\n",
              "      <td>[{'iso_639_1': 'en', 'name': 'English'}, {'iso...</td>\n",
              "      <td>Released</td>\n",
              "      <td>NaN</td>\n",
              "      <td>Kahaani</td>\n",
              "      <td>[{'id': 10092, 'name': 'mystery'}, {'id': 1054...</td>\n",
              "      <td>[{'cast_id': 1, 'character': 'Vidya Bagchi', '...</td>\n",
              "      <td>[{'credit_id': '52fe48779251416c9108d6eb', 'de...</td>\n",
              "      <td>16000000</td>\n",
              "    </tr>\n",
              "    <tr>\n",
              "      <th>4</th>\n",
              "      <td>5</td>\n",
              "      <td>NaN</td>\n",
              "      <td>0</td>\n",
              "      <td>[{'id': 28, 'name': 'Action'}, {'id': 53, 'nam...</td>\n",
              "      <td>NaN</td>\n",
              "      <td>tt1380152</td>\n",
              "      <td>ko</td>\n",
              "      <td>마린보이</td>\n",
              "      <td>Marine Boy is the story of a former national s...</td>\n",
              "      <td>1.148070</td>\n",
              "      <td>/m22s7zvkVFDU9ir56PiiqIEWFdT.jpg</td>\n",
              "      <td>NaN</td>\n",
              "      <td>[{'iso_3166_1': 'KR', 'name': 'South Korea'}]</td>\n",
              "      <td>2/5/09</td>\n",
              "      <td>118.0</td>\n",
              "      <td>[{'iso_639_1': 'ko', 'name': '한국어/조선말'}]</td>\n",
              "      <td>Released</td>\n",
              "      <td>NaN</td>\n",
              "      <td>Marine Boy</td>\n",
              "      <td>NaN</td>\n",
              "      <td>[{'cast_id': 3, 'character': 'Chun-soo', 'cred...</td>\n",
              "      <td>[{'credit_id': '52fe464b9251416c75073b43', 'de...</td>\n",
              "      <td>3923970</td>\n",
              "    </tr>\n",
              "  </tbody>\n",
              "</table>\n",
              "</div>"
            ],
            "text/plain": [
              "   id  ...   revenue\n",
              "0   1  ...  12314651\n",
              "1   2  ...  95149435\n",
              "2   3  ...  13092000\n",
              "3   4  ...  16000000\n",
              "4   5  ...   3923970\n",
              "\n",
              "[5 rows x 23 columns]"
            ]
          },
          "metadata": {
            "tags": []
          },
          "execution_count": 3
        }
      ]
    },
    {
      "cell_type": "code",
      "metadata": {
        "colab": {
          "base_uri": "https://localhost:8080/"
        },
        "id": "gsBiiVit6S1e",
        "outputId": "5645f04f-00c9-41a7-a8ce-73d3957d7ec2"
      },
      "source": [
        "trainset.shape"
      ],
      "execution_count": null,
      "outputs": [
        {
          "output_type": "execute_result",
          "data": {
            "text/plain": [
              "(3000, 23)"
            ]
          },
          "metadata": {
            "tags": []
          },
          "execution_count": 4
        }
      ]
    },
    {
      "cell_type": "code",
      "metadata": {
        "colab": {
          "base_uri": "https://localhost:8080/"
        },
        "id": "8EJIm_eK6YwE",
        "outputId": "f6957716-2ad2-4377-9e48-1934c969a2f6"
      },
      "source": [
        "testset.shape"
      ],
      "execution_count": null,
      "outputs": [
        {
          "output_type": "execute_result",
          "data": {
            "text/plain": [
              "(4398, 22)"
            ]
          },
          "metadata": {
            "tags": []
          },
          "execution_count": 5
        }
      ]
    },
    {
      "cell_type": "markdown",
      "metadata": {
        "id": "q6XuSQbo6dga"
      },
      "source": [
        "Removing id, belongs_to_collection,homepage,overview,poster_path,tagline columns"
      ]
    },
    {
      "cell_type": "code",
      "metadata": {
        "id": "24_Y5lvA7a-p"
      },
      "source": [
        "trainset.drop(['id','belongs_to_collection','overview','poster_path','tagline','imdb_id'], axis = 1,inplace=True)\n",
        "testset.drop(['id','belongs_to_collection','overview','poster_path','tagline','imdb_id'], axis = 1,inplace=True)"
      ],
      "execution_count": null,
      "outputs": []
    },
    {
      "cell_type": "code",
      "metadata": {
        "colab": {
          "base_uri": "https://localhost:8080/",
          "height": 517
        },
        "id": "EmvqdB1Z70ku",
        "outputId": "606742af-2676-4f1e-86e5-0ad05bfb22d3"
      },
      "source": [
        "trainset.head()"
      ],
      "execution_count": null,
      "outputs": [
        {
          "output_type": "execute_result",
          "data": {
            "text/html": [
              "<div>\n",
              "<style scoped>\n",
              "    .dataframe tbody tr th:only-of-type {\n",
              "        vertical-align: middle;\n",
              "    }\n",
              "\n",
              "    .dataframe tbody tr th {\n",
              "        vertical-align: top;\n",
              "    }\n",
              "\n",
              "    .dataframe thead th {\n",
              "        text-align: right;\n",
              "    }\n",
              "</style>\n",
              "<table border=\"1\" class=\"dataframe\">\n",
              "  <thead>\n",
              "    <tr style=\"text-align: right;\">\n",
              "      <th></th>\n",
              "      <th>budget</th>\n",
              "      <th>genres</th>\n",
              "      <th>homepage</th>\n",
              "      <th>original_language</th>\n",
              "      <th>original_title</th>\n",
              "      <th>popularity</th>\n",
              "      <th>production_companies</th>\n",
              "      <th>production_countries</th>\n",
              "      <th>release_date</th>\n",
              "      <th>runtime</th>\n",
              "      <th>spoken_languages</th>\n",
              "      <th>status</th>\n",
              "      <th>title</th>\n",
              "      <th>Keywords</th>\n",
              "      <th>cast</th>\n",
              "      <th>crew</th>\n",
              "      <th>revenue</th>\n",
              "    </tr>\n",
              "  </thead>\n",
              "  <tbody>\n",
              "    <tr>\n",
              "      <th>0</th>\n",
              "      <td>14000000</td>\n",
              "      <td>[{'id': 35, 'name': 'Comedy'}]</td>\n",
              "      <td>NaN</td>\n",
              "      <td>en</td>\n",
              "      <td>Hot Tub Time Machine 2</td>\n",
              "      <td>6.575393</td>\n",
              "      <td>[{'name': 'Paramount Pictures', 'id': 4}, {'na...</td>\n",
              "      <td>[{'iso_3166_1': 'US', 'name': 'United States o...</td>\n",
              "      <td>2/20/15</td>\n",
              "      <td>93.0</td>\n",
              "      <td>[{'iso_639_1': 'en', 'name': 'English'}]</td>\n",
              "      <td>Released</td>\n",
              "      <td>Hot Tub Time Machine 2</td>\n",
              "      <td>[{'id': 4379, 'name': 'time travel'}, {'id': 9...</td>\n",
              "      <td>[{'cast_id': 4, 'character': 'Lou', 'credit_id...</td>\n",
              "      <td>[{'credit_id': '59ac067c92514107af02c8c8', 'de...</td>\n",
              "      <td>12314651</td>\n",
              "    </tr>\n",
              "    <tr>\n",
              "      <th>1</th>\n",
              "      <td>40000000</td>\n",
              "      <td>[{'id': 35, 'name': 'Comedy'}, {'id': 18, 'nam...</td>\n",
              "      <td>NaN</td>\n",
              "      <td>en</td>\n",
              "      <td>The Princess Diaries 2: Royal Engagement</td>\n",
              "      <td>8.248895</td>\n",
              "      <td>[{'name': 'Walt Disney Pictures', 'id': 2}]</td>\n",
              "      <td>[{'iso_3166_1': 'US', 'name': 'United States o...</td>\n",
              "      <td>8/6/04</td>\n",
              "      <td>113.0</td>\n",
              "      <td>[{'iso_639_1': 'en', 'name': 'English'}]</td>\n",
              "      <td>Released</td>\n",
              "      <td>The Princess Diaries 2: Royal Engagement</td>\n",
              "      <td>[{'id': 2505, 'name': 'coronation'}, {'id': 42...</td>\n",
              "      <td>[{'cast_id': 1, 'character': 'Mia Thermopolis'...</td>\n",
              "      <td>[{'credit_id': '52fe43fe9251416c7502563d', 'de...</td>\n",
              "      <td>95149435</td>\n",
              "    </tr>\n",
              "    <tr>\n",
              "      <th>2</th>\n",
              "      <td>3300000</td>\n",
              "      <td>[{'id': 18, 'name': 'Drama'}]</td>\n",
              "      <td>http://sonyclassics.com/whiplash/</td>\n",
              "      <td>en</td>\n",
              "      <td>Whiplash</td>\n",
              "      <td>64.299990</td>\n",
              "      <td>[{'name': 'Bold Films', 'id': 2266}, {'name': ...</td>\n",
              "      <td>[{'iso_3166_1': 'US', 'name': 'United States o...</td>\n",
              "      <td>10/10/14</td>\n",
              "      <td>105.0</td>\n",
              "      <td>[{'iso_639_1': 'en', 'name': 'English'}]</td>\n",
              "      <td>Released</td>\n",
              "      <td>Whiplash</td>\n",
              "      <td>[{'id': 1416, 'name': 'jazz'}, {'id': 1523, 'n...</td>\n",
              "      <td>[{'cast_id': 5, 'character': 'Andrew Neimann',...</td>\n",
              "      <td>[{'credit_id': '54d5356ec3a3683ba0000039', 'de...</td>\n",
              "      <td>13092000</td>\n",
              "    </tr>\n",
              "    <tr>\n",
              "      <th>3</th>\n",
              "      <td>1200000</td>\n",
              "      <td>[{'id': 53, 'name': 'Thriller'}, {'id': 18, 'n...</td>\n",
              "      <td>http://kahaanithefilm.com/</td>\n",
              "      <td>hi</td>\n",
              "      <td>Kahaani</td>\n",
              "      <td>3.174936</td>\n",
              "      <td>NaN</td>\n",
              "      <td>[{'iso_3166_1': 'IN', 'name': 'India'}]</td>\n",
              "      <td>3/9/12</td>\n",
              "      <td>122.0</td>\n",
              "      <td>[{'iso_639_1': 'en', 'name': 'English'}, {'iso...</td>\n",
              "      <td>Released</td>\n",
              "      <td>Kahaani</td>\n",
              "      <td>[{'id': 10092, 'name': 'mystery'}, {'id': 1054...</td>\n",
              "      <td>[{'cast_id': 1, 'character': 'Vidya Bagchi', '...</td>\n",
              "      <td>[{'credit_id': '52fe48779251416c9108d6eb', 'de...</td>\n",
              "      <td>16000000</td>\n",
              "    </tr>\n",
              "    <tr>\n",
              "      <th>4</th>\n",
              "      <td>0</td>\n",
              "      <td>[{'id': 28, 'name': 'Action'}, {'id': 53, 'nam...</td>\n",
              "      <td>NaN</td>\n",
              "      <td>ko</td>\n",
              "      <td>마린보이</td>\n",
              "      <td>1.148070</td>\n",
              "      <td>NaN</td>\n",
              "      <td>[{'iso_3166_1': 'KR', 'name': 'South Korea'}]</td>\n",
              "      <td>2/5/09</td>\n",
              "      <td>118.0</td>\n",
              "      <td>[{'iso_639_1': 'ko', 'name': '한국어/조선말'}]</td>\n",
              "      <td>Released</td>\n",
              "      <td>Marine Boy</td>\n",
              "      <td>NaN</td>\n",
              "      <td>[{'cast_id': 3, 'character': 'Chun-soo', 'cred...</td>\n",
              "      <td>[{'credit_id': '52fe464b9251416c75073b43', 'de...</td>\n",
              "      <td>3923970</td>\n",
              "    </tr>\n",
              "  </tbody>\n",
              "</table>\n",
              "</div>"
            ],
            "text/plain": [
              "     budget  ...   revenue\n",
              "0  14000000  ...  12314651\n",
              "1  40000000  ...  95149435\n",
              "2   3300000  ...  13092000\n",
              "3   1200000  ...  16000000\n",
              "4         0  ...   3923970\n",
              "\n",
              "[5 rows x 17 columns]"
            ]
          },
          "metadata": {
            "tags": []
          },
          "execution_count": 7
        }
      ]
    },
    {
      "cell_type": "code",
      "metadata": {
        "colab": {
          "base_uri": "https://localhost:8080/"
        },
        "id": "Seh_xid-8xIt",
        "outputId": "1e8ff011-2ff4-47e1-c44d-8d5e3f773e55"
      },
      "source": [
        "trainset.isnull().sum()"
      ],
      "execution_count": null,
      "outputs": [
        {
          "output_type": "execute_result",
          "data": {
            "text/plain": [
              "budget                     0\n",
              "genres                     7\n",
              "homepage                2054\n",
              "original_language          0\n",
              "original_title             0\n",
              "popularity                 0\n",
              "production_companies     156\n",
              "production_countries      55\n",
              "release_date               0\n",
              "runtime                    2\n",
              "spoken_languages          20\n",
              "status                     0\n",
              "title                      0\n",
              "Keywords                 276\n",
              "cast                      13\n",
              "crew                      16\n",
              "revenue                    0\n",
              "dtype: int64"
            ]
          },
          "metadata": {
            "tags": []
          },
          "execution_count": 8
        }
      ]
    },
    {
      "cell_type": "markdown",
      "metadata": {
        "id": "i-sszoFb9jjv"
      },
      "source": [
        "Budget Column"
      ]
    },
    {
      "cell_type": "code",
      "metadata": {
        "colab": {
          "base_uri": "https://localhost:8080/"
        },
        "id": "1qUOrl3-9iz5",
        "outputId": "36d03427-a7d6-47b9-8463-7efc9c1992f4"
      },
      "source": [
        "trainset['budget']=trainset['budget'].replace(np.NaN,trainset['budget'].mean())\n",
        "testset['budget']=testset['budget'].replace(np.NaN,testset['budget'].mean())\n",
        "trainset.isnull().sum()"
      ],
      "execution_count": null,
      "outputs": [
        {
          "output_type": "execute_result",
          "data": {
            "text/plain": [
              "budget                     0\n",
              "genres                     7\n",
              "homepage                2054\n",
              "original_language          0\n",
              "original_title             0\n",
              "popularity                 0\n",
              "production_companies     156\n",
              "production_countries      55\n",
              "release_date               0\n",
              "runtime                    2\n",
              "spoken_languages          20\n",
              "status                     0\n",
              "title                      0\n",
              "Keywords                 276\n",
              "cast                      13\n",
              "crew                      16\n",
              "revenue                    0\n",
              "dtype: int64"
            ]
          },
          "metadata": {
            "tags": []
          },
          "execution_count": 9
        }
      ]
    },
    {
      "cell_type": "markdown",
      "metadata": {
        "id": "meVGy9Um9_Cm"
      },
      "source": [
        "genres column"
      ]
    },
    {
      "cell_type": "code",
      "metadata": {
        "id": "1Rvl_5FvAAop"
      },
      "source": [
        "def get_dict(s):\n",
        "    try:\n",
        "        d = eval(s)   #Python's eval() allows you to evaluate arbitrary Python expressions from a string-based or compiled-code-based input\n",
        "    except:\n",
        "        d = {}\n",
        "    return d"
      ],
      "execution_count": null,
      "outputs": []
    },
    {
      "cell_type": "code",
      "metadata": {
        "colab": {
          "base_uri": "https://localhost:8080/"
        },
        "id": "60vgzPMc-Af3",
        "outputId": "be9e327c-49ae-4c1b-e207-492c9e5c7523"
      },
      "source": [
        "j = 0\n",
        "for i in trainset['genres']:\n",
        "    d = get_dict(i)\n",
        "    if d != {}:\n",
        "        trainset['genres'][j] = d[0]['id'] \n",
        "    else:\n",
        "         trainset['genres'][j] = np.NaN\n",
        "    j += 1    "
      ],
      "execution_count": null,
      "outputs": [
        {
          "output_type": "stream",
          "text": [
            "/usr/local/lib/python3.7/dist-packages/ipykernel_launcher.py:5: SettingWithCopyWarning: \n",
            "A value is trying to be set on a copy of a slice from a DataFrame\n",
            "\n",
            "See the caveats in the documentation: https://pandas.pydata.org/pandas-docs/stable/user_guide/indexing.html#returning-a-view-versus-a-copy\n",
            "  \"\"\"\n",
            "/usr/local/lib/python3.7/dist-packages/ipykernel_launcher.py:7: SettingWithCopyWarning: \n",
            "A value is trying to be set on a copy of a slice from a DataFrame\n",
            "\n",
            "See the caveats in the documentation: https://pandas.pydata.org/pandas-docs/stable/user_guide/indexing.html#returning-a-view-versus-a-copy\n",
            "  import sys\n"
          ],
          "name": "stderr"
        }
      ]
    },
    {
      "cell_type": "code",
      "metadata": {
        "colab": {
          "base_uri": "https://localhost:8080/",
          "height": 484
        },
        "id": "B8dZlFG0AHat",
        "outputId": "811d83e0-268c-4fb0-86fc-73d439fbfe6c"
      },
      "source": [
        "trainset.head()"
      ],
      "execution_count": null,
      "outputs": [
        {
          "output_type": "execute_result",
          "data": {
            "text/html": [
              "<div>\n",
              "<style scoped>\n",
              "    .dataframe tbody tr th:only-of-type {\n",
              "        vertical-align: middle;\n",
              "    }\n",
              "\n",
              "    .dataframe tbody tr th {\n",
              "        vertical-align: top;\n",
              "    }\n",
              "\n",
              "    .dataframe thead th {\n",
              "        text-align: right;\n",
              "    }\n",
              "</style>\n",
              "<table border=\"1\" class=\"dataframe\">\n",
              "  <thead>\n",
              "    <tr style=\"text-align: right;\">\n",
              "      <th></th>\n",
              "      <th>budget</th>\n",
              "      <th>genres</th>\n",
              "      <th>homepage</th>\n",
              "      <th>original_language</th>\n",
              "      <th>original_title</th>\n",
              "      <th>popularity</th>\n",
              "      <th>production_companies</th>\n",
              "      <th>production_countries</th>\n",
              "      <th>release_date</th>\n",
              "      <th>runtime</th>\n",
              "      <th>spoken_languages</th>\n",
              "      <th>status</th>\n",
              "      <th>title</th>\n",
              "      <th>Keywords</th>\n",
              "      <th>cast</th>\n",
              "      <th>crew</th>\n",
              "      <th>revenue</th>\n",
              "    </tr>\n",
              "  </thead>\n",
              "  <tbody>\n",
              "    <tr>\n",
              "      <th>0</th>\n",
              "      <td>14000000</td>\n",
              "      <td>35</td>\n",
              "      <td>NaN</td>\n",
              "      <td>en</td>\n",
              "      <td>Hot Tub Time Machine 2</td>\n",
              "      <td>6.575393</td>\n",
              "      <td>[{'name': 'Paramount Pictures', 'id': 4}, {'na...</td>\n",
              "      <td>[{'iso_3166_1': 'US', 'name': 'United States o...</td>\n",
              "      <td>2/20/15</td>\n",
              "      <td>93.0</td>\n",
              "      <td>[{'iso_639_1': 'en', 'name': 'English'}]</td>\n",
              "      <td>Released</td>\n",
              "      <td>Hot Tub Time Machine 2</td>\n",
              "      <td>[{'id': 4379, 'name': 'time travel'}, {'id': 9...</td>\n",
              "      <td>[{'cast_id': 4, 'character': 'Lou', 'credit_id...</td>\n",
              "      <td>[{'credit_id': '59ac067c92514107af02c8c8', 'de...</td>\n",
              "      <td>12314651</td>\n",
              "    </tr>\n",
              "    <tr>\n",
              "      <th>1</th>\n",
              "      <td>40000000</td>\n",
              "      <td>35</td>\n",
              "      <td>NaN</td>\n",
              "      <td>en</td>\n",
              "      <td>The Princess Diaries 2: Royal Engagement</td>\n",
              "      <td>8.248895</td>\n",
              "      <td>[{'name': 'Walt Disney Pictures', 'id': 2}]</td>\n",
              "      <td>[{'iso_3166_1': 'US', 'name': 'United States o...</td>\n",
              "      <td>8/6/04</td>\n",
              "      <td>113.0</td>\n",
              "      <td>[{'iso_639_1': 'en', 'name': 'English'}]</td>\n",
              "      <td>Released</td>\n",
              "      <td>The Princess Diaries 2: Royal Engagement</td>\n",
              "      <td>[{'id': 2505, 'name': 'coronation'}, {'id': 42...</td>\n",
              "      <td>[{'cast_id': 1, 'character': 'Mia Thermopolis'...</td>\n",
              "      <td>[{'credit_id': '52fe43fe9251416c7502563d', 'de...</td>\n",
              "      <td>95149435</td>\n",
              "    </tr>\n",
              "    <tr>\n",
              "      <th>2</th>\n",
              "      <td>3300000</td>\n",
              "      <td>18</td>\n",
              "      <td>http://sonyclassics.com/whiplash/</td>\n",
              "      <td>en</td>\n",
              "      <td>Whiplash</td>\n",
              "      <td>64.299990</td>\n",
              "      <td>[{'name': 'Bold Films', 'id': 2266}, {'name': ...</td>\n",
              "      <td>[{'iso_3166_1': 'US', 'name': 'United States o...</td>\n",
              "      <td>10/10/14</td>\n",
              "      <td>105.0</td>\n",
              "      <td>[{'iso_639_1': 'en', 'name': 'English'}]</td>\n",
              "      <td>Released</td>\n",
              "      <td>Whiplash</td>\n",
              "      <td>[{'id': 1416, 'name': 'jazz'}, {'id': 1523, 'n...</td>\n",
              "      <td>[{'cast_id': 5, 'character': 'Andrew Neimann',...</td>\n",
              "      <td>[{'credit_id': '54d5356ec3a3683ba0000039', 'de...</td>\n",
              "      <td>13092000</td>\n",
              "    </tr>\n",
              "    <tr>\n",
              "      <th>3</th>\n",
              "      <td>1200000</td>\n",
              "      <td>53</td>\n",
              "      <td>http://kahaanithefilm.com/</td>\n",
              "      <td>hi</td>\n",
              "      <td>Kahaani</td>\n",
              "      <td>3.174936</td>\n",
              "      <td>NaN</td>\n",
              "      <td>[{'iso_3166_1': 'IN', 'name': 'India'}]</td>\n",
              "      <td>3/9/12</td>\n",
              "      <td>122.0</td>\n",
              "      <td>[{'iso_639_1': 'en', 'name': 'English'}, {'iso...</td>\n",
              "      <td>Released</td>\n",
              "      <td>Kahaani</td>\n",
              "      <td>[{'id': 10092, 'name': 'mystery'}, {'id': 1054...</td>\n",
              "      <td>[{'cast_id': 1, 'character': 'Vidya Bagchi', '...</td>\n",
              "      <td>[{'credit_id': '52fe48779251416c9108d6eb', 'de...</td>\n",
              "      <td>16000000</td>\n",
              "    </tr>\n",
              "    <tr>\n",
              "      <th>4</th>\n",
              "      <td>0</td>\n",
              "      <td>28</td>\n",
              "      <td>NaN</td>\n",
              "      <td>ko</td>\n",
              "      <td>마린보이</td>\n",
              "      <td>1.148070</td>\n",
              "      <td>NaN</td>\n",
              "      <td>[{'iso_3166_1': 'KR', 'name': 'South Korea'}]</td>\n",
              "      <td>2/5/09</td>\n",
              "      <td>118.0</td>\n",
              "      <td>[{'iso_639_1': 'ko', 'name': '한국어/조선말'}]</td>\n",
              "      <td>Released</td>\n",
              "      <td>Marine Boy</td>\n",
              "      <td>NaN</td>\n",
              "      <td>[{'cast_id': 3, 'character': 'Chun-soo', 'cred...</td>\n",
              "      <td>[{'credit_id': '52fe464b9251416c75073b43', 'de...</td>\n",
              "      <td>3923970</td>\n",
              "    </tr>\n",
              "  </tbody>\n",
              "</table>\n",
              "</div>"
            ],
            "text/plain": [
              "     budget genres  ...                                               crew   revenue\n",
              "0  14000000     35  ...  [{'credit_id': '59ac067c92514107af02c8c8', 'de...  12314651\n",
              "1  40000000     35  ...  [{'credit_id': '52fe43fe9251416c7502563d', 'de...  95149435\n",
              "2   3300000     18  ...  [{'credit_id': '54d5356ec3a3683ba0000039', 'de...  13092000\n",
              "3   1200000     53  ...  [{'credit_id': '52fe48779251416c9108d6eb', 'de...  16000000\n",
              "4         0     28  ...  [{'credit_id': '52fe464b9251416c75073b43', 'de...   3923970\n",
              "\n",
              "[5 rows x 17 columns]"
            ]
          },
          "metadata": {
            "tags": []
          },
          "execution_count": 12
        }
      ]
    },
    {
      "cell_type": "code",
      "metadata": {
        "colab": {
          "base_uri": "https://localhost:8080/"
        },
        "id": "R_r35Wk2ANMZ",
        "outputId": "3331cf86-9b43-4766-9e26-eec1c9bd4ca6"
      },
      "source": [
        "j = 0\n",
        "for i in testset['genres']:\n",
        "    d = get_dict(i)\n",
        "    if d != {}:\n",
        "        testset['genres'][j] = d[0]['id'] \n",
        "    else:\n",
        "         testset['genres'][j] = np.NaN\n",
        "    j += 1  "
      ],
      "execution_count": null,
      "outputs": [
        {
          "output_type": "stream",
          "text": [
            "/usr/local/lib/python3.7/dist-packages/ipykernel_launcher.py:5: SettingWithCopyWarning: \n",
            "A value is trying to be set on a copy of a slice from a DataFrame\n",
            "\n",
            "See the caveats in the documentation: https://pandas.pydata.org/pandas-docs/stable/user_guide/indexing.html#returning-a-view-versus-a-copy\n",
            "  \"\"\"\n",
            "/usr/local/lib/python3.7/dist-packages/ipykernel_launcher.py:7: SettingWithCopyWarning: \n",
            "A value is trying to be set on a copy of a slice from a DataFrame\n",
            "\n",
            "See the caveats in the documentation: https://pandas.pydata.org/pandas-docs/stable/user_guide/indexing.html#returning-a-view-versus-a-copy\n",
            "  import sys\n"
          ],
          "name": "stderr"
        }
      ]
    },
    {
      "cell_type": "code",
      "metadata": {
        "colab": {
          "base_uri": "https://localhost:8080/"
        },
        "id": "EukzfUPxAtH8",
        "outputId": "aef3d04f-5d93-40ac-b4d4-50466320fe0c"
      },
      "source": [
        "trainset['genres'] = trainset['genres'].fillna(trainset['genres'].mode()[0])\n",
        "testset['genres'] = testset['genres'].fillna(testset['genres'].mode()[0])\n",
        "trainset.isnull().sum()"
      ],
      "execution_count": null,
      "outputs": [
        {
          "output_type": "execute_result",
          "data": {
            "text/plain": [
              "budget                     0\n",
              "genres                     0\n",
              "homepage                2054\n",
              "original_language          0\n",
              "original_title             0\n",
              "popularity                 0\n",
              "production_companies     156\n",
              "production_countries      55\n",
              "release_date               0\n",
              "runtime                    2\n",
              "spoken_languages          20\n",
              "status                     0\n",
              "title                      0\n",
              "Keywords                 276\n",
              "cast                      13\n",
              "crew                      16\n",
              "revenue                    0\n",
              "dtype: int64"
            ]
          },
          "metadata": {
            "tags": []
          },
          "execution_count": 14
        }
      ]
    },
    {
      "cell_type": "markdown",
      "metadata": {
        "id": "gvxLsutwBROQ"
      },
      "source": [
        "homepage column"
      ]
    },
    {
      "cell_type": "code",
      "metadata": {
        "colab": {
          "base_uri": "https://localhost:8080/"
        },
        "id": "vZrse5NbBS6d",
        "outputId": "39914fc3-b9f8-470d-c658-8480d1a25366"
      },
      "source": [
        "j = 0\n",
        "for i in trainset['homepage']:\n",
        "    \n",
        "    if str(trainset['homepage'][j]) == 'nan':\n",
        "       trainset['homepage'][j]=0\n",
        "    else:\n",
        "       trainset['homepage'][j]=1  \n",
        "    j += 1"
      ],
      "execution_count": null,
      "outputs": [
        {
          "output_type": "stream",
          "text": [
            "/usr/local/lib/python3.7/dist-packages/ipykernel_launcher.py:5: SettingWithCopyWarning: \n",
            "A value is trying to be set on a copy of a slice from a DataFrame\n",
            "\n",
            "See the caveats in the documentation: https://pandas.pydata.org/pandas-docs/stable/user_guide/indexing.html#returning-a-view-versus-a-copy\n",
            "  \"\"\"\n",
            "/usr/local/lib/python3.7/dist-packages/ipykernel_launcher.py:7: SettingWithCopyWarning: \n",
            "A value is trying to be set on a copy of a slice from a DataFrame\n",
            "\n",
            "See the caveats in the documentation: https://pandas.pydata.org/pandas-docs/stable/user_guide/indexing.html#returning-a-view-versus-a-copy\n",
            "  import sys\n"
          ],
          "name": "stderr"
        }
      ]
    },
    {
      "cell_type": "code",
      "metadata": {
        "colab": {
          "base_uri": "https://localhost:8080/",
          "height": 484
        },
        "id": "qW1l901oDUwg",
        "outputId": "c3068e5b-2a90-4a95-f613-f478dbdc0e59"
      },
      "source": [
        "trainset.head()"
      ],
      "execution_count": null,
      "outputs": [
        {
          "output_type": "execute_result",
          "data": {
            "text/html": [
              "<div>\n",
              "<style scoped>\n",
              "    .dataframe tbody tr th:only-of-type {\n",
              "        vertical-align: middle;\n",
              "    }\n",
              "\n",
              "    .dataframe tbody tr th {\n",
              "        vertical-align: top;\n",
              "    }\n",
              "\n",
              "    .dataframe thead th {\n",
              "        text-align: right;\n",
              "    }\n",
              "</style>\n",
              "<table border=\"1\" class=\"dataframe\">\n",
              "  <thead>\n",
              "    <tr style=\"text-align: right;\">\n",
              "      <th></th>\n",
              "      <th>budget</th>\n",
              "      <th>genres</th>\n",
              "      <th>homepage</th>\n",
              "      <th>original_language</th>\n",
              "      <th>original_title</th>\n",
              "      <th>popularity</th>\n",
              "      <th>production_companies</th>\n",
              "      <th>production_countries</th>\n",
              "      <th>release_date</th>\n",
              "      <th>runtime</th>\n",
              "      <th>spoken_languages</th>\n",
              "      <th>status</th>\n",
              "      <th>title</th>\n",
              "      <th>Keywords</th>\n",
              "      <th>cast</th>\n",
              "      <th>crew</th>\n",
              "      <th>revenue</th>\n",
              "    </tr>\n",
              "  </thead>\n",
              "  <tbody>\n",
              "    <tr>\n",
              "      <th>0</th>\n",
              "      <td>14000000</td>\n",
              "      <td>35</td>\n",
              "      <td>0</td>\n",
              "      <td>en</td>\n",
              "      <td>Hot Tub Time Machine 2</td>\n",
              "      <td>6.575393</td>\n",
              "      <td>[{'name': 'Paramount Pictures', 'id': 4}, {'na...</td>\n",
              "      <td>[{'iso_3166_1': 'US', 'name': 'United States o...</td>\n",
              "      <td>2/20/15</td>\n",
              "      <td>93.0</td>\n",
              "      <td>[{'iso_639_1': 'en', 'name': 'English'}]</td>\n",
              "      <td>Released</td>\n",
              "      <td>Hot Tub Time Machine 2</td>\n",
              "      <td>[{'id': 4379, 'name': 'time travel'}, {'id': 9...</td>\n",
              "      <td>[{'cast_id': 4, 'character': 'Lou', 'credit_id...</td>\n",
              "      <td>[{'credit_id': '59ac067c92514107af02c8c8', 'de...</td>\n",
              "      <td>12314651</td>\n",
              "    </tr>\n",
              "    <tr>\n",
              "      <th>1</th>\n",
              "      <td>40000000</td>\n",
              "      <td>35</td>\n",
              "      <td>0</td>\n",
              "      <td>en</td>\n",
              "      <td>The Princess Diaries 2: Royal Engagement</td>\n",
              "      <td>8.248895</td>\n",
              "      <td>[{'name': 'Walt Disney Pictures', 'id': 2}]</td>\n",
              "      <td>[{'iso_3166_1': 'US', 'name': 'United States o...</td>\n",
              "      <td>8/6/04</td>\n",
              "      <td>113.0</td>\n",
              "      <td>[{'iso_639_1': 'en', 'name': 'English'}]</td>\n",
              "      <td>Released</td>\n",
              "      <td>The Princess Diaries 2: Royal Engagement</td>\n",
              "      <td>[{'id': 2505, 'name': 'coronation'}, {'id': 42...</td>\n",
              "      <td>[{'cast_id': 1, 'character': 'Mia Thermopolis'...</td>\n",
              "      <td>[{'credit_id': '52fe43fe9251416c7502563d', 'de...</td>\n",
              "      <td>95149435</td>\n",
              "    </tr>\n",
              "    <tr>\n",
              "      <th>2</th>\n",
              "      <td>3300000</td>\n",
              "      <td>18</td>\n",
              "      <td>1</td>\n",
              "      <td>en</td>\n",
              "      <td>Whiplash</td>\n",
              "      <td>64.299990</td>\n",
              "      <td>[{'name': 'Bold Films', 'id': 2266}, {'name': ...</td>\n",
              "      <td>[{'iso_3166_1': 'US', 'name': 'United States o...</td>\n",
              "      <td>10/10/14</td>\n",
              "      <td>105.0</td>\n",
              "      <td>[{'iso_639_1': 'en', 'name': 'English'}]</td>\n",
              "      <td>Released</td>\n",
              "      <td>Whiplash</td>\n",
              "      <td>[{'id': 1416, 'name': 'jazz'}, {'id': 1523, 'n...</td>\n",
              "      <td>[{'cast_id': 5, 'character': 'Andrew Neimann',...</td>\n",
              "      <td>[{'credit_id': '54d5356ec3a3683ba0000039', 'de...</td>\n",
              "      <td>13092000</td>\n",
              "    </tr>\n",
              "    <tr>\n",
              "      <th>3</th>\n",
              "      <td>1200000</td>\n",
              "      <td>53</td>\n",
              "      <td>1</td>\n",
              "      <td>hi</td>\n",
              "      <td>Kahaani</td>\n",
              "      <td>3.174936</td>\n",
              "      <td>NaN</td>\n",
              "      <td>[{'iso_3166_1': 'IN', 'name': 'India'}]</td>\n",
              "      <td>3/9/12</td>\n",
              "      <td>122.0</td>\n",
              "      <td>[{'iso_639_1': 'en', 'name': 'English'}, {'iso...</td>\n",
              "      <td>Released</td>\n",
              "      <td>Kahaani</td>\n",
              "      <td>[{'id': 10092, 'name': 'mystery'}, {'id': 1054...</td>\n",
              "      <td>[{'cast_id': 1, 'character': 'Vidya Bagchi', '...</td>\n",
              "      <td>[{'credit_id': '52fe48779251416c9108d6eb', 'de...</td>\n",
              "      <td>16000000</td>\n",
              "    </tr>\n",
              "    <tr>\n",
              "      <th>4</th>\n",
              "      <td>0</td>\n",
              "      <td>28</td>\n",
              "      <td>0</td>\n",
              "      <td>ko</td>\n",
              "      <td>마린보이</td>\n",
              "      <td>1.148070</td>\n",
              "      <td>NaN</td>\n",
              "      <td>[{'iso_3166_1': 'KR', 'name': 'South Korea'}]</td>\n",
              "      <td>2/5/09</td>\n",
              "      <td>118.0</td>\n",
              "      <td>[{'iso_639_1': 'ko', 'name': '한국어/조선말'}]</td>\n",
              "      <td>Released</td>\n",
              "      <td>Marine Boy</td>\n",
              "      <td>NaN</td>\n",
              "      <td>[{'cast_id': 3, 'character': 'Chun-soo', 'cred...</td>\n",
              "      <td>[{'credit_id': '52fe464b9251416c75073b43', 'de...</td>\n",
              "      <td>3923970</td>\n",
              "    </tr>\n",
              "  </tbody>\n",
              "</table>\n",
              "</div>"
            ],
            "text/plain": [
              "     budget  ...   revenue\n",
              "0  14000000  ...  12314651\n",
              "1  40000000  ...  95149435\n",
              "2   3300000  ...  13092000\n",
              "3   1200000  ...  16000000\n",
              "4         0  ...   3923970\n",
              "\n",
              "[5 rows x 17 columns]"
            ]
          },
          "metadata": {
            "tags": []
          },
          "execution_count": 16
        }
      ]
    },
    {
      "cell_type": "code",
      "metadata": {
        "colab": {
          "base_uri": "https://localhost:8080/"
        },
        "id": "4vqDS8gMFxOm",
        "outputId": "c1948e16-9ab9-4930-ce5c-45a09955a7b0"
      },
      "source": [
        "j = 0\n",
        "for i in testset['homepage']:\n",
        "    \n",
        "    if str(testset['homepage'][j]) == 'nan':\n",
        "       testset['homepage'][j]=0\n",
        "    else:\n",
        "       testset['homepage'][j]=1  \n",
        "    j += 1"
      ],
      "execution_count": null,
      "outputs": [
        {
          "output_type": "stream",
          "text": [
            "/usr/local/lib/python3.7/dist-packages/ipykernel_launcher.py:7: SettingWithCopyWarning: \n",
            "A value is trying to be set on a copy of a slice from a DataFrame\n",
            "\n",
            "See the caveats in the documentation: https://pandas.pydata.org/pandas-docs/stable/user_guide/indexing.html#returning-a-view-versus-a-copy\n",
            "  import sys\n",
            "/usr/local/lib/python3.7/dist-packages/ipykernel_launcher.py:5: SettingWithCopyWarning: \n",
            "A value is trying to be set on a copy of a slice from a DataFrame\n",
            "\n",
            "See the caveats in the documentation: https://pandas.pydata.org/pandas-docs/stable/user_guide/indexing.html#returning-a-view-versus-a-copy\n",
            "  \"\"\"\n"
          ],
          "name": "stderr"
        }
      ]
    },
    {
      "cell_type": "code",
      "metadata": {
        "colab": {
          "base_uri": "https://localhost:8080/"
        },
        "id": "rl0fgxL1HJdG",
        "outputId": "0b44115a-4534-47ae-99be-870d678da46f"
      },
      "source": [
        "trainset.isnull().sum()"
      ],
      "execution_count": null,
      "outputs": [
        {
          "output_type": "execute_result",
          "data": {
            "text/plain": [
              "budget                    0\n",
              "genres                    0\n",
              "homepage                  0\n",
              "original_language         0\n",
              "original_title            0\n",
              "popularity                0\n",
              "production_companies    156\n",
              "production_countries     55\n",
              "release_date              0\n",
              "runtime                   2\n",
              "spoken_languages         20\n",
              "status                    0\n",
              "title                     0\n",
              "Keywords                276\n",
              "cast                     13\n",
              "crew                     16\n",
              "revenue                   0\n",
              "dtype: int64"
            ]
          },
          "metadata": {
            "tags": []
          },
          "execution_count": 18
        }
      ]
    },
    {
      "cell_type": "code",
      "metadata": {
        "colab": {
          "base_uri": "https://localhost:8080/",
          "height": 401
        },
        "id": "SUim8ETFcq1F",
        "outputId": "3180e90b-d4e8-4f7e-9e8f-ccf714790f3c"
      },
      "source": [
        "sns.catplot(x='homepage', y='revenue', data=trainset)"
      ],
      "execution_count": null,
      "outputs": [
        {
          "output_type": "execute_result",
          "data": {
            "text/plain": [
              "<seaborn.axisgrid.FacetGrid at 0x7f2ad25941d0>"
            ]
          },
          "metadata": {
            "tags": []
          },
          "execution_count": 19
        },
        {
          "output_type": "display_data",
          "data": {
            "image/png": "[encoded data removed]",
            "text/plain": [
              "<Figure size 360x360 with 1 Axes>"
            ]
          },
          "metadata": {
            "tags": [],
            "needs_background": "light"
          }
        }
      ]
    },
    {
      "cell_type": "markdown",
      "metadata": {
        "id": "nrUc91nmGACx"
      },
      "source": [
        "original language column"
      ]
    },
    {
      "cell_type": "code",
      "metadata": {
        "colab": {
          "base_uri": "https://localhost:8080/"
        },
        "id": "C6Wn6mIMGEhV",
        "outputId": "073c360e-ffde-49ff-a2e0-5b50698bd22c"
      },
      "source": [
        "trainset.value_counts('original_language')"
      ],
      "execution_count": null,
      "outputs": [
        {
          "output_type": "execute_result",
          "data": {
            "text/plain": [
              "original_language\n",
              "en    2575\n",
              "fr      78\n",
              "ru      47\n",
              "es      43\n",
              "hi      42\n",
              "ja      37\n",
              "it      24\n",
              "ko      20\n",
              "cn      20\n",
              "zh      19\n",
              "de      18\n",
              "ta      16\n",
              "sv       8\n",
              "pt       6\n",
              "nl       6\n",
              "fa       5\n",
              "da       5\n",
              "ro       4\n",
              "hu       3\n",
              "tr       3\n",
              "ml       2\n",
              "pl       2\n",
              "fi       2\n",
              "no       2\n",
              "te       2\n",
              "cs       1\n",
              "el       1\n",
              "ur       1\n",
              "bn       1\n",
              "he       1\n",
              "id       1\n",
              "sr       1\n",
              "vi       1\n",
              "mr       1\n",
              "nb       1\n",
              "ar       1\n",
              "dtype: int64"
            ]
          },
          "metadata": {
            "tags": []
          },
          "execution_count": 20
        }
      ]
    },
    {
      "cell_type": "code",
      "metadata": {
        "colab": {
          "base_uri": "https://localhost:8080/"
        },
        "id": "5qfZ_JNyGaXS",
        "outputId": "a790c4d5-592b-41df-86e9-dcb480d71298"
      },
      "source": [
        "j = 0\n",
        "for i in trainset['original_language']:\n",
        "    \n",
        "    if str(trainset['original_language'][j]) == 'en':\n",
        "       trainset['original_language'][j]=1\n",
        "    else:\n",
        "       trainset['original_language'][j]=0 \n",
        "    j += 1"
      ],
      "execution_count": null,
      "outputs": [
        {
          "output_type": "stream",
          "text": [
            "/usr/local/lib/python3.7/dist-packages/ipykernel_launcher.py:5: SettingWithCopyWarning: \n",
            "A value is trying to be set on a copy of a slice from a DataFrame\n",
            "\n",
            "See the caveats in the documentation: https://pandas.pydata.org/pandas-docs/stable/user_guide/indexing.html#returning-a-view-versus-a-copy\n",
            "  \"\"\"\n",
            "/usr/local/lib/python3.7/dist-packages/ipykernel_launcher.py:7: SettingWithCopyWarning: \n",
            "A value is trying to be set on a copy of a slice from a DataFrame\n",
            "\n",
            "See the caveats in the documentation: https://pandas.pydata.org/pandas-docs/stable/user_guide/indexing.html#returning-a-view-versus-a-copy\n",
            "  import sys\n"
          ],
          "name": "stderr"
        }
      ]
    },
    {
      "cell_type": "code",
      "metadata": {
        "colab": {
          "base_uri": "https://localhost:8080/"
        },
        "id": "I0f8XnXUGudl",
        "outputId": "0c060ff5-cecb-4ea4-ac54-9db3143e44c8"
      },
      "source": [
        "j = 0\n",
        "for i in testset['original_language']:\n",
        "    \n",
        "    if str(testset['original_language'][j]) == 'en':\n",
        "       testset['original_language'][j]=1\n",
        "    else:\n",
        "       testset['original_language'][j]=0 \n",
        "    j += 1"
      ],
      "execution_count": null,
      "outputs": [
        {
          "output_type": "stream",
          "text": [
            "/usr/local/lib/python3.7/dist-packages/ipykernel_launcher.py:7: SettingWithCopyWarning: \n",
            "A value is trying to be set on a copy of a slice from a DataFrame\n",
            "\n",
            "See the caveats in the documentation: https://pandas.pydata.org/pandas-docs/stable/user_guide/indexing.html#returning-a-view-versus-a-copy\n",
            "  import sys\n",
            "/usr/local/lib/python3.7/dist-packages/ipykernel_launcher.py:5: SettingWithCopyWarning: \n",
            "A value is trying to be set on a copy of a slice from a DataFrame\n",
            "\n",
            "See the caveats in the documentation: https://pandas.pydata.org/pandas-docs/stable/user_guide/indexing.html#returning-a-view-versus-a-copy\n",
            "  \"\"\"\n"
          ],
          "name": "stderr"
        }
      ]
    },
    {
      "cell_type": "code",
      "metadata": {
        "colab": {
          "base_uri": "https://localhost:8080/",
          "height": 484
        },
        "id": "hHLdNKS1G0G_",
        "outputId": "261c7881-5d4b-4da7-cb95-52f140f1fe6b"
      },
      "source": [
        "trainset.head()"
      ],
      "execution_count": null,
      "outputs": [
        {
          "output_type": "execute_result",
          "data": {
            "text/html": [
              "<div>\n",
              "<style scoped>\n",
              "    .dataframe tbody tr th:only-of-type {\n",
              "        vertical-align: middle;\n",
              "    }\n",
              "\n",
              "    .dataframe tbody tr th {\n",
              "        vertical-align: top;\n",
              "    }\n",
              "\n",
              "    .dataframe thead th {\n",
              "        text-align: right;\n",
              "    }\n",
              "</style>\n",
              "<table border=\"1\" class=\"dataframe\">\n",
              "  <thead>\n",
              "    <tr style=\"text-align: right;\">\n",
              "      <th></th>\n",
              "      <th>budget</th>\n",
              "      <th>genres</th>\n",
              "      <th>homepage</th>\n",
              "      <th>original_language</th>\n",
              "      <th>original_title</th>\n",
              "      <th>popularity</th>\n",
              "      <th>production_companies</th>\n",
              "      <th>production_countries</th>\n",
              "      <th>release_date</th>\n",
              "      <th>runtime</th>\n",
              "      <th>spoken_languages</th>\n",
              "      <th>status</th>\n",
              "      <th>title</th>\n",
              "      <th>Keywords</th>\n",
              "      <th>cast</th>\n",
              "      <th>crew</th>\n",
              "      <th>revenue</th>\n",
              "    </tr>\n",
              "  </thead>\n",
              "  <tbody>\n",
              "    <tr>\n",
              "      <th>0</th>\n",
              "      <td>14000000</td>\n",
              "      <td>35</td>\n",
              "      <td>0</td>\n",
              "      <td>1</td>\n",
              "      <td>Hot Tub Time Machine 2</td>\n",
              "      <td>6.575393</td>\n",
              "      <td>[{'name': 'Paramount Pictures', 'id': 4}, {'na...</td>\n",
              "      <td>[{'iso_3166_1': 'US', 'name': 'United States o...</td>\n",
              "      <td>2/20/15</td>\n",
              "      <td>93.0</td>\n",
              "      <td>[{'iso_639_1': 'en', 'name': 'English'}]</td>\n",
              "      <td>Released</td>\n",
              "      <td>Hot Tub Time Machine 2</td>\n",
              "      <td>[{'id': 4379, 'name': 'time travel'}, {'id': 9...</td>\n",
              "      <td>[{'cast_id': 4, 'character': 'Lou', 'credit_id...</td>\n",
              "      <td>[{'credit_id': '59ac067c92514107af02c8c8', 'de...</td>\n",
              "      <td>12314651</td>\n",
              "    </tr>\n",
              "    <tr>\n",
              "      <th>1</th>\n",
              "      <td>40000000</td>\n",
              "      <td>35</td>\n",
              "      <td>0</td>\n",
              "      <td>1</td>\n",
              "      <td>The Princess Diaries 2: Royal Engagement</td>\n",
              "      <td>8.248895</td>\n",
              "      <td>[{'name': 'Walt Disney Pictures', 'id': 2}]</td>\n",
              "      <td>[{'iso_3166_1': 'US', 'name': 'United States o...</td>\n",
              "      <td>8/6/04</td>\n",
              "      <td>113.0</td>\n",
              "      <td>[{'iso_639_1': 'en', 'name': 'English'}]</td>\n",
              "      <td>Released</td>\n",
              "      <td>The Princess Diaries 2: Royal Engagement</td>\n",
              "      <td>[{'id': 2505, 'name': 'coronation'}, {'id': 42...</td>\n",
              "      <td>[{'cast_id': 1, 'character': 'Mia Thermopolis'...</td>\n",
              "      <td>[{'credit_id': '52fe43fe9251416c7502563d', 'de...</td>\n",
              "      <td>95149435</td>\n",
              "    </tr>\n",
              "    <tr>\n",
              "      <th>2</th>\n",
              "      <td>3300000</td>\n",
              "      <td>18</td>\n",
              "      <td>1</td>\n",
              "      <td>1</td>\n",
              "      <td>Whiplash</td>\n",
              "      <td>64.299990</td>\n",
              "      <td>[{'name': 'Bold Films', 'id': 2266}, {'name': ...</td>\n",
              "      <td>[{'iso_3166_1': 'US', 'name': 'United States o...</td>\n",
              "      <td>10/10/14</td>\n",
              "      <td>105.0</td>\n",
              "      <td>[{'iso_639_1': 'en', 'name': 'English'}]</td>\n",
              "      <td>Released</td>\n",
              "      <td>Whiplash</td>\n",
              "      <td>[{'id': 1416, 'name': 'jazz'}, {'id': 1523, 'n...</td>\n",
              "      <td>[{'cast_id': 5, 'character': 'Andrew Neimann',...</td>\n",
              "      <td>[{'credit_id': '54d5356ec3a3683ba0000039', 'de...</td>\n",
              "      <td>13092000</td>\n",
              "    </tr>\n",
              "    <tr>\n",
              "      <th>3</th>\n",
              "      <td>1200000</td>\n",
              "      <td>53</td>\n",
              "      <td>1</td>\n",
              "      <td>0</td>\n",
              "      <td>Kahaani</td>\n",
              "      <td>3.174936</td>\n",
              "      <td>NaN</td>\n",
              "      <td>[{'iso_3166_1': 'IN', 'name': 'India'}]</td>\n",
              "      <td>3/9/12</td>\n",
              "      <td>122.0</td>\n",
              "      <td>[{'iso_639_1': 'en', 'name': 'English'}, {'iso...</td>\n",
              "      <td>Released</td>\n",
              "      <td>Kahaani</td>\n",
              "      <td>[{'id': 10092, 'name': 'mystery'}, {'id': 1054...</td>\n",
              "      <td>[{'cast_id': 1, 'character': 'Vidya Bagchi', '...</td>\n",
              "      <td>[{'credit_id': '52fe48779251416c9108d6eb', 'de...</td>\n",
              "      <td>16000000</td>\n",
              "    </tr>\n",
              "    <tr>\n",
              "      <th>4</th>\n",
              "      <td>0</td>\n",
              "      <td>28</td>\n",
              "      <td>0</td>\n",
              "      <td>0</td>\n",
              "      <td>마린보이</td>\n",
              "      <td>1.148070</td>\n",
              "      <td>NaN</td>\n",
              "      <td>[{'iso_3166_1': 'KR', 'name': 'South Korea'}]</td>\n",
              "      <td>2/5/09</td>\n",
              "      <td>118.0</td>\n",
              "      <td>[{'iso_639_1': 'ko', 'name': '한국어/조선말'}]</td>\n",
              "      <td>Released</td>\n",
              "      <td>Marine Boy</td>\n",
              "      <td>NaN</td>\n",
              "      <td>[{'cast_id': 3, 'character': 'Chun-soo', 'cred...</td>\n",
              "      <td>[{'credit_id': '52fe464b9251416c75073b43', 'de...</td>\n",
              "      <td>3923970</td>\n",
              "    </tr>\n",
              "  </tbody>\n",
              "</table>\n",
              "</div>"
            ],
            "text/plain": [
              "     budget  ...   revenue\n",
              "0  14000000  ...  12314651\n",
              "1  40000000  ...  95149435\n",
              "2   3300000  ...  13092000\n",
              "3   1200000  ...  16000000\n",
              "4         0  ...   3923970\n",
              "\n",
              "[5 rows x 17 columns]"
            ]
          },
          "metadata": {
            "tags": []
          },
          "execution_count": 23
        }
      ]
    },
    {
      "cell_type": "markdown",
      "metadata": {
        "id": "0RdvIQfKHUeX"
      },
      "source": [
        "original title column"
      ]
    },
    {
      "cell_type": "code",
      "metadata": {
        "id": "bYD3g8lYHTjK"
      },
      "source": [
        "trainset.drop(['original_title'], axis=1, inplace=True)\n",
        "testset.drop(['original_title'], axis=1, inplace=True)"
      ],
      "execution_count": null,
      "outputs": []
    },
    {
      "cell_type": "markdown",
      "metadata": {
        "id": "92w_J9PtHZ0N"
      },
      "source": [
        "Production_companies column"
      ]
    },
    {
      "cell_type": "code",
      "metadata": {
        "colab": {
          "base_uri": "https://localhost:8080/"
        },
        "id": "s9aHRNdoHr5u",
        "outputId": "a66b7138-ade3-441a-dc8f-8d738a014654"
      },
      "source": [
        "j = 0\n",
        "for i in trainset['production_companies']:\n",
        "    d = get_dict(i)\n",
        "    if d != {}:\n",
        "        trainset['production_companies'][j] = len(d)\n",
        "    else:\n",
        "         trainset['production_companies'][j] = 0\n",
        "    j += 1  "
      ],
      "execution_count": null,
      "outputs": [
        {
          "output_type": "stream",
          "text": [
            "/usr/local/lib/python3.7/dist-packages/ipykernel_launcher.py:5: SettingWithCopyWarning: \n",
            "A value is trying to be set on a copy of a slice from a DataFrame\n",
            "\n",
            "See the caveats in the documentation: https://pandas.pydata.org/pandas-docs/stable/user_guide/indexing.html#returning-a-view-versus-a-copy\n",
            "  \"\"\"\n",
            "/usr/local/lib/python3.7/dist-packages/ipykernel_launcher.py:7: SettingWithCopyWarning: \n",
            "A value is trying to be set on a copy of a slice from a DataFrame\n",
            "\n",
            "See the caveats in the documentation: https://pandas.pydata.org/pandas-docs/stable/user_guide/indexing.html#returning-a-view-versus-a-copy\n",
            "  import sys\n"
          ],
          "name": "stderr"
        }
      ]
    },
    {
      "cell_type": "code",
      "metadata": {
        "colab": {
          "base_uri": "https://localhost:8080/"
        },
        "id": "JPRD-FC6IzSV",
        "outputId": "30cc52d9-1fc3-48fe-dd79-5b2ee3cf770f"
      },
      "source": [
        "j = 0\n",
        "for i in testset['production_companies']:\n",
        "    d = get_dict(i)\n",
        "    if d != {}:\n",
        "        testset['production_companies'][j] = len(d)\n",
        "    else:\n",
        "         testset['production_companies'][j] = 0\n",
        "    j += 1  "
      ],
      "execution_count": null,
      "outputs": [
        {
          "output_type": "stream",
          "text": [
            "/usr/local/lib/python3.7/dist-packages/ipykernel_launcher.py:7: SettingWithCopyWarning: \n",
            "A value is trying to be set on a copy of a slice from a DataFrame\n",
            "\n",
            "See the caveats in the documentation: https://pandas.pydata.org/pandas-docs/stable/user_guide/indexing.html#returning-a-view-versus-a-copy\n",
            "  import sys\n",
            "/usr/local/lib/python3.7/dist-packages/ipykernel_launcher.py:5: SettingWithCopyWarning: \n",
            "A value is trying to be set on a copy of a slice from a DataFrame\n",
            "\n",
            "See the caveats in the documentation: https://pandas.pydata.org/pandas-docs/stable/user_guide/indexing.html#returning-a-view-versus-a-copy\n",
            "  \"\"\"\n"
          ],
          "name": "stderr"
        }
      ]
    },
    {
      "cell_type": "code",
      "metadata": {
        "colab": {
          "base_uri": "https://localhost:8080/",
          "height": 484
        },
        "id": "BYPZ-miPI4OL",
        "outputId": "855d6c13-97a2-41e7-fa92-f77fb15f4f8c"
      },
      "source": [
        "trainset.head()"
      ],
      "execution_count": null,
      "outputs": [
        {
          "output_type": "execute_result",
          "data": {
            "text/html": [
              "<div>\n",
              "<style scoped>\n",
              "    .dataframe tbody tr th:only-of-type {\n",
              "        vertical-align: middle;\n",
              "    }\n",
              "\n",
              "    .dataframe tbody tr th {\n",
              "        vertical-align: top;\n",
              "    }\n",
              "\n",
              "    .dataframe thead th {\n",
              "        text-align: right;\n",
              "    }\n",
              "</style>\n",
              "<table border=\"1\" class=\"dataframe\">\n",
              "  <thead>\n",
              "    <tr style=\"text-align: right;\">\n",
              "      <th></th>\n",
              "      <th>budget</th>\n",
              "      <th>genres</th>\n",
              "      <th>homepage</th>\n",
              "      <th>original_language</th>\n",
              "      <th>popularity</th>\n",
              "      <th>production_companies</th>\n",
              "      <th>production_countries</th>\n",
              "      <th>release_date</th>\n",
              "      <th>runtime</th>\n",
              "      <th>spoken_languages</th>\n",
              "      <th>status</th>\n",
              "      <th>title</th>\n",
              "      <th>Keywords</th>\n",
              "      <th>cast</th>\n",
              "      <th>crew</th>\n",
              "      <th>revenue</th>\n",
              "    </tr>\n",
              "  </thead>\n",
              "  <tbody>\n",
              "    <tr>\n",
              "      <th>0</th>\n",
              "      <td>14000000</td>\n",
              "      <td>35</td>\n",
              "      <td>0</td>\n",
              "      <td>1</td>\n",
              "      <td>6.575393</td>\n",
              "      <td>3</td>\n",
              "      <td>[{'iso_3166_1': 'US', 'name': 'United States o...</td>\n",
              "      <td>2/20/15</td>\n",
              "      <td>93.0</td>\n",
              "      <td>[{'iso_639_1': 'en', 'name': 'English'}]</td>\n",
              "      <td>Released</td>\n",
              "      <td>Hot Tub Time Machine 2</td>\n",
              "      <td>[{'id': 4379, 'name': 'time travel'}, {'id': 9...</td>\n",
              "      <td>[{'cast_id': 4, 'character': 'Lou', 'credit_id...</td>\n",
              "      <td>[{'credit_id': '59ac067c92514107af02c8c8', 'de...</td>\n",
              "      <td>12314651</td>\n",
              "    </tr>\n",
              "    <tr>\n",
              "      <th>1</th>\n",
              "      <td>40000000</td>\n",
              "      <td>35</td>\n",
              "      <td>0</td>\n",
              "      <td>1</td>\n",
              "      <td>8.248895</td>\n",
              "      <td>1</td>\n",
              "      <td>[{'iso_3166_1': 'US', 'name': 'United States o...</td>\n",
              "      <td>8/6/04</td>\n",
              "      <td>113.0</td>\n",
              "      <td>[{'iso_639_1': 'en', 'name': 'English'}]</td>\n",
              "      <td>Released</td>\n",
              "      <td>The Princess Diaries 2: Royal Engagement</td>\n",
              "      <td>[{'id': 2505, 'name': 'coronation'}, {'id': 42...</td>\n",
              "      <td>[{'cast_id': 1, 'character': 'Mia Thermopolis'...</td>\n",
              "      <td>[{'credit_id': '52fe43fe9251416c7502563d', 'de...</td>\n",
              "      <td>95149435</td>\n",
              "    </tr>\n",
              "    <tr>\n",
              "      <th>2</th>\n",
              "      <td>3300000</td>\n",
              "      <td>18</td>\n",
              "      <td>1</td>\n",
              "      <td>1</td>\n",
              "      <td>64.299990</td>\n",
              "      <td>3</td>\n",
              "      <td>[{'iso_3166_1': 'US', 'name': 'United States o...</td>\n",
              "      <td>10/10/14</td>\n",
              "      <td>105.0</td>\n",
              "      <td>[{'iso_639_1': 'en', 'name': 'English'}]</td>\n",
              "      <td>Released</td>\n",
              "      <td>Whiplash</td>\n",
              "      <td>[{'id': 1416, 'name': 'jazz'}, {'id': 1523, 'n...</td>\n",
              "      <td>[{'cast_id': 5, 'character': 'Andrew Neimann',...</td>\n",
              "      <td>[{'credit_id': '54d5356ec3a3683ba0000039', 'de...</td>\n",
              "      <td>13092000</td>\n",
              "    </tr>\n",
              "    <tr>\n",
              "      <th>3</th>\n",
              "      <td>1200000</td>\n",
              "      <td>53</td>\n",
              "      <td>1</td>\n",
              "      <td>0</td>\n",
              "      <td>3.174936</td>\n",
              "      <td>0</td>\n",
              "      <td>[{'iso_3166_1': 'IN', 'name': 'India'}]</td>\n",
              "      <td>3/9/12</td>\n",
              "      <td>122.0</td>\n",
              "      <td>[{'iso_639_1': 'en', 'name': 'English'}, {'iso...</td>\n",
              "      <td>Released</td>\n",
              "      <td>Kahaani</td>\n",
              "      <td>[{'id': 10092, 'name': 'mystery'}, {'id': 1054...</td>\n",
              "      <td>[{'cast_id': 1, 'character': 'Vidya Bagchi', '...</td>\n",
              "      <td>[{'credit_id': '52fe48779251416c9108d6eb', 'de...</td>\n",
              "      <td>16000000</td>\n",
              "    </tr>\n",
              "    <tr>\n",
              "      <th>4</th>\n",
              "      <td>0</td>\n",
              "      <td>28</td>\n",
              "      <td>0</td>\n",
              "      <td>0</td>\n",
              "      <td>1.148070</td>\n",
              "      <td>0</td>\n",
              "      <td>[{'iso_3166_1': 'KR', 'name': 'South Korea'}]</td>\n",
              "      <td>2/5/09</td>\n",
              "      <td>118.0</td>\n",
              "      <td>[{'iso_639_1': 'ko', 'name': '한국어/조선말'}]</td>\n",
              "      <td>Released</td>\n",
              "      <td>Marine Boy</td>\n",
              "      <td>NaN</td>\n",
              "      <td>[{'cast_id': 3, 'character': 'Chun-soo', 'cred...</td>\n",
              "      <td>[{'credit_id': '52fe464b9251416c75073b43', 'de...</td>\n",
              "      <td>3923970</td>\n",
              "    </tr>\n",
              "  </tbody>\n",
              "</table>\n",
              "</div>"
            ],
            "text/plain": [
              "     budget  ...   revenue\n",
              "0  14000000  ...  12314651\n",
              "1  40000000  ...  95149435\n",
              "2   3300000  ...  13092000\n",
              "3   1200000  ...  16000000\n",
              "4         0  ...   3923970\n",
              "\n",
              "[5 rows x 16 columns]"
            ]
          },
          "metadata": {
            "tags": []
          },
          "execution_count": 27
        }
      ]
    },
    {
      "cell_type": "markdown",
      "metadata": {
        "id": "KuqzLcAHJt4L"
      },
      "source": [
        "production_countries column"
      ]
    },
    {
      "cell_type": "code",
      "metadata": {
        "colab": {
          "base_uri": "https://localhost:8080/"
        },
        "id": "r7c63H1YJwM0",
        "outputId": "16662d11-44e7-468a-ad98-a9c5f73386e9"
      },
      "source": [
        "j = 0\n",
        "for i in trainset['production_countries']:\n",
        "    d = get_dict(i)\n",
        "    if d != {}:\n",
        "        trainset['production_countries'][j] = len(d)\n",
        "    else:\n",
        "         trainset['production_countries'][j] = 0\n",
        "    j += 1  "
      ],
      "execution_count": null,
      "outputs": [
        {
          "output_type": "stream",
          "text": [
            "/usr/local/lib/python3.7/dist-packages/ipykernel_launcher.py:5: SettingWithCopyWarning: \n",
            "A value is trying to be set on a copy of a slice from a DataFrame\n",
            "\n",
            "See the caveats in the documentation: https://pandas.pydata.org/pandas-docs/stable/user_guide/indexing.html#returning-a-view-versus-a-copy\n",
            "  \"\"\"\n",
            "/usr/local/lib/python3.7/dist-packages/ipykernel_launcher.py:7: SettingWithCopyWarning: \n",
            "A value is trying to be set on a copy of a slice from a DataFrame\n",
            "\n",
            "See the caveats in the documentation: https://pandas.pydata.org/pandas-docs/stable/user_guide/indexing.html#returning-a-view-versus-a-copy\n",
            "  import sys\n"
          ],
          "name": "stderr"
        }
      ]
    },
    {
      "cell_type": "code",
      "metadata": {
        "colab": {
          "base_uri": "https://localhost:8080/"
        },
        "id": "tcE9NNd3J3ay",
        "outputId": "8d6427d4-88cc-46e9-f86d-fe4ac6b8a986"
      },
      "source": [
        "j = 0\n",
        "for i in testset['production_countries']:\n",
        "    d = get_dict(i)\n",
        "    if d != {}:\n",
        "        testset['production_countries'][j] = len(d)\n",
        "    else:\n",
        "         testset['production_countries'][j] = 0\n",
        "    j += 1  "
      ],
      "execution_count": null,
      "outputs": [
        {
          "output_type": "stream",
          "text": [
            "/usr/local/lib/python3.7/dist-packages/ipykernel_launcher.py:5: SettingWithCopyWarning: \n",
            "A value is trying to be set on a copy of a slice from a DataFrame\n",
            "\n",
            "See the caveats in the documentation: https://pandas.pydata.org/pandas-docs/stable/user_guide/indexing.html#returning-a-view-versus-a-copy\n",
            "  \"\"\"\n",
            "/usr/local/lib/python3.7/dist-packages/ipykernel_launcher.py:7: SettingWithCopyWarning: \n",
            "A value is trying to be set on a copy of a slice from a DataFrame\n",
            "\n",
            "See the caveats in the documentation: https://pandas.pydata.org/pandas-docs/stable/user_guide/indexing.html#returning-a-view-versus-a-copy\n",
            "  import sys\n"
          ],
          "name": "stderr"
        }
      ]
    },
    {
      "cell_type": "code",
      "metadata": {
        "colab": {
          "base_uri": "https://localhost:8080/",
          "height": 484
        },
        "id": "lJA0bDGHKAaA",
        "outputId": "f34d3c6a-93b5-4647-d1c8-eb08eefc31ce"
      },
      "source": [
        "trainset.head()"
      ],
      "execution_count": null,
      "outputs": [
        {
          "output_type": "execute_result",
          "data": {
            "text/html": [
              "<div>\n",
              "<style scoped>\n",
              "    .dataframe tbody tr th:only-of-type {\n",
              "        vertical-align: middle;\n",
              "    }\n",
              "\n",
              "    .dataframe tbody tr th {\n",
              "        vertical-align: top;\n",
              "    }\n",
              "\n",
              "    .dataframe thead th {\n",
              "        text-align: right;\n",
              "    }\n",
              "</style>\n",
              "<table border=\"1\" class=\"dataframe\">\n",
              "  <thead>\n",
              "    <tr style=\"text-align: right;\">\n",
              "      <th></th>\n",
              "      <th>budget</th>\n",
              "      <th>genres</th>\n",
              "      <th>homepage</th>\n",
              "      <th>original_language</th>\n",
              "      <th>popularity</th>\n",
              "      <th>production_companies</th>\n",
              "      <th>production_countries</th>\n",
              "      <th>release_date</th>\n",
              "      <th>runtime</th>\n",
              "      <th>spoken_languages</th>\n",
              "      <th>status</th>\n",
              "      <th>title</th>\n",
              "      <th>Keywords</th>\n",
              "      <th>cast</th>\n",
              "      <th>crew</th>\n",
              "      <th>revenue</th>\n",
              "    </tr>\n",
              "  </thead>\n",
              "  <tbody>\n",
              "    <tr>\n",
              "      <th>0</th>\n",
              "      <td>14000000</td>\n",
              "      <td>35</td>\n",
              "      <td>0</td>\n",
              "      <td>1</td>\n",
              "      <td>6.575393</td>\n",
              "      <td>3</td>\n",
              "      <td>1</td>\n",
              "      <td>2/20/15</td>\n",
              "      <td>93.0</td>\n",
              "      <td>[{'iso_639_1': 'en', 'name': 'English'}]</td>\n",
              "      <td>Released</td>\n",
              "      <td>Hot Tub Time Machine 2</td>\n",
              "      <td>[{'id': 4379, 'name': 'time travel'}, {'id': 9...</td>\n",
              "      <td>[{'cast_id': 4, 'character': 'Lou', 'credit_id...</td>\n",
              "      <td>[{'credit_id': '59ac067c92514107af02c8c8', 'de...</td>\n",
              "      <td>12314651</td>\n",
              "    </tr>\n",
              "    <tr>\n",
              "      <th>1</th>\n",
              "      <td>40000000</td>\n",
              "      <td>35</td>\n",
              "      <td>0</td>\n",
              "      <td>1</td>\n",
              "      <td>8.248895</td>\n",
              "      <td>1</td>\n",
              "      <td>1</td>\n",
              "      <td>8/6/04</td>\n",
              "      <td>113.0</td>\n",
              "      <td>[{'iso_639_1': 'en', 'name': 'English'}]</td>\n",
              "      <td>Released</td>\n",
              "      <td>The Princess Diaries 2: Royal Engagement</td>\n",
              "      <td>[{'id': 2505, 'name': 'coronation'}, {'id': 42...</td>\n",
              "      <td>[{'cast_id': 1, 'character': 'Mia Thermopolis'...</td>\n",
              "      <td>[{'credit_id': '52fe43fe9251416c7502563d', 'de...</td>\n",
              "      <td>95149435</td>\n",
              "    </tr>\n",
              "    <tr>\n",
              "      <th>2</th>\n",
              "      <td>3300000</td>\n",
              "      <td>18</td>\n",
              "      <td>1</td>\n",
              "      <td>1</td>\n",
              "      <td>64.299990</td>\n",
              "      <td>3</td>\n",
              "      <td>1</td>\n",
              "      <td>10/10/14</td>\n",
              "      <td>105.0</td>\n",
              "      <td>[{'iso_639_1': 'en', 'name': 'English'}]</td>\n",
              "      <td>Released</td>\n",
              "      <td>Whiplash</td>\n",
              "      <td>[{'id': 1416, 'name': 'jazz'}, {'id': 1523, 'n...</td>\n",
              "      <td>[{'cast_id': 5, 'character': 'Andrew Neimann',...</td>\n",
              "      <td>[{'credit_id': '54d5356ec3a3683ba0000039', 'de...</td>\n",
              "      <td>13092000</td>\n",
              "    </tr>\n",
              "    <tr>\n",
              "      <th>3</th>\n",
              "      <td>1200000</td>\n",
              "      <td>53</td>\n",
              "      <td>1</td>\n",
              "      <td>0</td>\n",
              "      <td>3.174936</td>\n",
              "      <td>0</td>\n",
              "      <td>1</td>\n",
              "      <td>3/9/12</td>\n",
              "      <td>122.0</td>\n",
              "      <td>[{'iso_639_1': 'en', 'name': 'English'}, {'iso...</td>\n",
              "      <td>Released</td>\n",
              "      <td>Kahaani</td>\n",
              "      <td>[{'id': 10092, 'name': 'mystery'}, {'id': 1054...</td>\n",
              "      <td>[{'cast_id': 1, 'character': 'Vidya Bagchi', '...</td>\n",
              "      <td>[{'credit_id': '52fe48779251416c9108d6eb', 'de...</td>\n",
              "      <td>16000000</td>\n",
              "    </tr>\n",
              "    <tr>\n",
              "      <th>4</th>\n",
              "      <td>0</td>\n",
              "      <td>28</td>\n",
              "      <td>0</td>\n",
              "      <td>0</td>\n",
              "      <td>1.148070</td>\n",
              "      <td>0</td>\n",
              "      <td>1</td>\n",
              "      <td>2/5/09</td>\n",
              "      <td>118.0</td>\n",
              "      <td>[{'iso_639_1': 'ko', 'name': '한국어/조선말'}]</td>\n",
              "      <td>Released</td>\n",
              "      <td>Marine Boy</td>\n",
              "      <td>NaN</td>\n",
              "      <td>[{'cast_id': 3, 'character': 'Chun-soo', 'cred...</td>\n",
              "      <td>[{'credit_id': '52fe464b9251416c75073b43', 'de...</td>\n",
              "      <td>3923970</td>\n",
              "    </tr>\n",
              "  </tbody>\n",
              "</table>\n",
              "</div>"
            ],
            "text/plain": [
              "     budget  ...   revenue\n",
              "0  14000000  ...  12314651\n",
              "1  40000000  ...  95149435\n",
              "2   3300000  ...  13092000\n",
              "3   1200000  ...  16000000\n",
              "4         0  ...   3923970\n",
              "\n",
              "[5 rows x 16 columns]"
            ]
          },
          "metadata": {
            "tags": []
          },
          "execution_count": 30
        }
      ]
    },
    {
      "cell_type": "markdown",
      "metadata": {
        "id": "Syxc8fnsLM5g"
      },
      "source": [
        "release_date column"
      ]
    },
    {
      "cell_type": "code",
      "metadata": {
        "colab": {
          "base_uri": "https://localhost:8080/"
        },
        "id": "u0RkuFQqYdQc",
        "outputId": "f1488152-4057-497c-c5f6-a35d261c6cb4"
      },
      "source": [
        "testset.isnull().sum()"
      ],
      "execution_count": null,
      "outputs": [
        {
          "output_type": "execute_result",
          "data": {
            "text/plain": [
              "budget                    0\n",
              "genres                    0\n",
              "homepage                  0\n",
              "original_language         0\n",
              "popularity                0\n",
              "production_companies      0\n",
              "production_countries      0\n",
              "release_date              1\n",
              "runtime                   4\n",
              "spoken_languages         42\n",
              "status                    2\n",
              "title                     3\n",
              "Keywords                393\n",
              "cast                     13\n",
              "crew                     22\n",
              "dtype: int64"
            ]
          },
          "metadata": {
            "tags": []
          },
          "execution_count": 31
        }
      ]
    },
    {
      "cell_type": "code",
      "metadata": {
        "colab": {
          "base_uri": "https://localhost:8080/"
        },
        "id": "J3_WYnZTZbbe",
        "outputId": "11741dea-2ba1-4757-a5bc-10f4a77b9e05"
      },
      "source": [
        "testset.value_counts('release_date')"
      ],
      "execution_count": null,
      "outputs": [
        {
          "output_type": "execute_result",
          "data": {
            "text/plain": [
              "release_date\n",
              "9/9/11     7\n",
              "2/6/09     6\n",
              "9/10/14    5\n",
              "9/10/10    5\n",
              "9/9/05     5\n",
              "          ..\n",
              "5/26/13    1\n",
              "5/26/11    1\n",
              "5/26/10    1\n",
              "5/26/00    1\n",
              "1/1/00     1\n",
              "Length: 3289, dtype: int64"
            ]
          },
          "metadata": {
            "tags": []
          },
          "execution_count": 32
        }
      ]
    },
    {
      "cell_type": "code",
      "metadata": {
        "id": "Ced6Osw9Zgiy"
      },
      "source": [
        "testset['release_date'] = testset['release_date'].fillna(testset['release_date'].mode()[0])"
      ],
      "execution_count": null,
      "outputs": []
    },
    {
      "cell_type": "code",
      "metadata": {
        "colab": {
          "base_uri": "https://localhost:8080/",
          "height": 484
        },
        "id": "bSMA8yivLPM9",
        "outputId": "cfe3cf3e-c72a-4396-cd20-3c6af2875cd4"
      },
      "source": [
        "trainset['release_year']=trainset['release_date'].astype('str').transform(lambda x: int(x.split(\"/\")[-1])).astype(int)\n",
        "testset['release_year']=testset['release_date'].astype('str').transform(lambda x: int(x.split(\"/\")[-1])).astype(int)\n",
        "trainset.head()"
      ],
      "execution_count": null,
      "outputs": [
        {
          "output_type": "execute_result",
          "data": {
            "text/html": [
              "<div>\n",
              "<style scoped>\n",
              "    .dataframe tbody tr th:only-of-type {\n",
              "        vertical-align: middle;\n",
              "    }\n",
              "\n",
              "    .dataframe tbody tr th {\n",
              "        vertical-align: top;\n",
              "    }\n",
              "\n",
              "    .dataframe thead th {\n",
              "        text-align: right;\n",
              "    }\n",
              "</style>\n",
              "<table border=\"1\" class=\"dataframe\">\n",
              "  <thead>\n",
              "    <tr style=\"text-align: right;\">\n",
              "      <th></th>\n",
              "      <th>budget</th>\n",
              "      <th>genres</th>\n",
              "      <th>homepage</th>\n",
              "      <th>original_language</th>\n",
              "      <th>popularity</th>\n",
              "      <th>production_companies</th>\n",
              "      <th>production_countries</th>\n",
              "      <th>release_date</th>\n",
              "      <th>runtime</th>\n",
              "      <th>spoken_languages</th>\n",
              "      <th>status</th>\n",
              "      <th>title</th>\n",
              "      <th>Keywords</th>\n",
              "      <th>cast</th>\n",
              "      <th>crew</th>\n",
              "      <th>revenue</th>\n",
              "      <th>release_year</th>\n",
              "    </tr>\n",
              "  </thead>\n",
              "  <tbody>\n",
              "    <tr>\n",
              "      <th>0</th>\n",
              "      <td>14000000</td>\n",
              "      <td>35</td>\n",
              "      <td>0</td>\n",
              "      <td>1</td>\n",
              "      <td>6.575393</td>\n",
              "      <td>3</td>\n",
              "      <td>1</td>\n",
              "      <td>2/20/15</td>\n",
              "      <td>93.0</td>\n",
              "      <td>[{'iso_639_1': 'en', 'name': 'English'}]</td>\n",
              "      <td>Released</td>\n",
              "      <td>Hot Tub Time Machine 2</td>\n",
              "      <td>[{'id': 4379, 'name': 'time travel'}, {'id': 9...</td>\n",
              "      <td>[{'cast_id': 4, 'character': 'Lou', 'credit_id...</td>\n",
              "      <td>[{'credit_id': '59ac067c92514107af02c8c8', 'de...</td>\n",
              "      <td>12314651</td>\n",
              "      <td>15</td>\n",
              "    </tr>\n",
              "    <tr>\n",
              "      <th>1</th>\n",
              "      <td>40000000</td>\n",
              "      <td>35</td>\n",
              "      <td>0</td>\n",
              "      <td>1</td>\n",
              "      <td>8.248895</td>\n",
              "      <td>1</td>\n",
              "      <td>1</td>\n",
              "      <td>8/6/04</td>\n",
              "      <td>113.0</td>\n",
              "      <td>[{'iso_639_1': 'en', 'name': 'English'}]</td>\n",
              "      <td>Released</td>\n",
              "      <td>The Princess Diaries 2: Royal Engagement</td>\n",
              "      <td>[{'id': 2505, 'name': 'coronation'}, {'id': 42...</td>\n",
              "      <td>[{'cast_id': 1, 'character': 'Mia Thermopolis'...</td>\n",
              "      <td>[{'credit_id': '52fe43fe9251416c7502563d', 'de...</td>\n",
              "      <td>95149435</td>\n",
              "      <td>4</td>\n",
              "    </tr>\n",
              "    <tr>\n",
              "      <th>2</th>\n",
              "      <td>3300000</td>\n",
              "      <td>18</td>\n",
              "      <td>1</td>\n",
              "      <td>1</td>\n",
              "      <td>64.299990</td>\n",
              "      <td>3</td>\n",
              "      <td>1</td>\n",
              "      <td>10/10/14</td>\n",
              "      <td>105.0</td>\n",
              "      <td>[{'iso_639_1': 'en', 'name': 'English'}]</td>\n",
              "      <td>Released</td>\n",
              "      <td>Whiplash</td>\n",
              "      <td>[{'id': 1416, 'name': 'jazz'}, {'id': 1523, 'n...</td>\n",
              "      <td>[{'cast_id': 5, 'character': 'Andrew Neimann',...</td>\n",
              "      <td>[{'credit_id': '54d5356ec3a3683ba0000039', 'de...</td>\n",
              "      <td>13092000</td>\n",
              "      <td>14</td>\n",
              "    </tr>\n",
              "    <tr>\n",
              "      <th>3</th>\n",
              "      <td>1200000</td>\n",
              "      <td>53</td>\n",
              "      <td>1</td>\n",
              "      <td>0</td>\n",
              "      <td>3.174936</td>\n",
              "      <td>0</td>\n",
              "      <td>1</td>\n",
              "      <td>3/9/12</td>\n",
              "      <td>122.0</td>\n",
              "      <td>[{'iso_639_1': 'en', 'name': 'English'}, {'iso...</td>\n",
              "      <td>Released</td>\n",
              "      <td>Kahaani</td>\n",
              "      <td>[{'id': 10092, 'name': 'mystery'}, {'id': 1054...</td>\n",
              "      <td>[{'cast_id': 1, 'character': 'Vidya Bagchi', '...</td>\n",
              "      <td>[{'credit_id': '52fe48779251416c9108d6eb', 'de...</td>\n",
              "      <td>16000000</td>\n",
              "      <td>12</td>\n",
              "    </tr>\n",
              "    <tr>\n",
              "      <th>4</th>\n",
              "      <td>0</td>\n",
              "      <td>28</td>\n",
              "      <td>0</td>\n",
              "      <td>0</td>\n",
              "      <td>1.148070</td>\n",
              "      <td>0</td>\n",
              "      <td>1</td>\n",
              "      <td>2/5/09</td>\n",
              "      <td>118.0</td>\n",
              "      <td>[{'iso_639_1': 'ko', 'name': '한국어/조선말'}]</td>\n",
              "      <td>Released</td>\n",
              "      <td>Marine Boy</td>\n",
              "      <td>NaN</td>\n",
              "      <td>[{'cast_id': 3, 'character': 'Chun-soo', 'cred...</td>\n",
              "      <td>[{'credit_id': '52fe464b9251416c75073b43', 'de...</td>\n",
              "      <td>3923970</td>\n",
              "      <td>9</td>\n",
              "    </tr>\n",
              "  </tbody>\n",
              "</table>\n",
              "</div>"
            ],
            "text/plain": [
              "     budget  genres  ...   revenue release_year\n",
              "0  14000000      35  ...  12314651           15\n",
              "1  40000000      35  ...  95149435            4\n",
              "2   3300000      18  ...  13092000           14\n",
              "3   1200000      53  ...  16000000           12\n",
              "4         0      28  ...   3923970            9\n",
              "\n",
              "[5 rows x 17 columns]"
            ]
          },
          "metadata": {
            "tags": []
          },
          "execution_count": 34
        }
      ]
    },
    {
      "cell_type": "code",
      "metadata": {
        "colab": {
          "base_uri": "https://localhost:8080/",
          "height": 484
        },
        "id": "mR24HbgdcWM0",
        "outputId": "01def19e-00b8-48a7-92e2-424204bf6522"
      },
      "source": [
        "trainset.drop(['release_date'], axis = 1,inplace=True)\n",
        "testset.drop(['release_date'], axis = 1,inplace=True)\n",
        "trainset.head()"
      ],
      "execution_count": null,
      "outputs": [
        {
          "output_type": "execute_result",
          "data": {
            "text/html": [
              "<div>\n",
              "<style scoped>\n",
              "    .dataframe tbody tr th:only-of-type {\n",
              "        vertical-align: middle;\n",
              "    }\n",
              "\n",
              "    .dataframe tbody tr th {\n",
              "        vertical-align: top;\n",
              "    }\n",
              "\n",
              "    .dataframe thead th {\n",
              "        text-align: right;\n",
              "    }\n",
              "</style>\n",
              "<table border=\"1\" class=\"dataframe\">\n",
              "  <thead>\n",
              "    <tr style=\"text-align: right;\">\n",
              "      <th></th>\n",
              "      <th>budget</th>\n",
              "      <th>genres</th>\n",
              "      <th>homepage</th>\n",
              "      <th>original_language</th>\n",
              "      <th>popularity</th>\n",
              "      <th>production_companies</th>\n",
              "      <th>production_countries</th>\n",
              "      <th>runtime</th>\n",
              "      <th>spoken_languages</th>\n",
              "      <th>status</th>\n",
              "      <th>title</th>\n",
              "      <th>Keywords</th>\n",
              "      <th>cast</th>\n",
              "      <th>crew</th>\n",
              "      <th>revenue</th>\n",
              "      <th>release_year</th>\n",
              "    </tr>\n",
              "  </thead>\n",
              "  <tbody>\n",
              "    <tr>\n",
              "      <th>0</th>\n",
              "      <td>14000000</td>\n",
              "      <td>35</td>\n",
              "      <td>0</td>\n",
              "      <td>1</td>\n",
              "      <td>6.575393</td>\n",
              "      <td>3</td>\n",
              "      <td>1</td>\n",
              "      <td>93.0</td>\n",
              "      <td>[{'iso_639_1': 'en', 'name': 'English'}]</td>\n",
              "      <td>Released</td>\n",
              "      <td>Hot Tub Time Machine 2</td>\n",
              "      <td>[{'id': 4379, 'name': 'time travel'}, {'id': 9...</td>\n",
              "      <td>[{'cast_id': 4, 'character': 'Lou', 'credit_id...</td>\n",
              "      <td>[{'credit_id': '59ac067c92514107af02c8c8', 'de...</td>\n",
              "      <td>12314651</td>\n",
              "      <td>15</td>\n",
              "    </tr>\n",
              "    <tr>\n",
              "      <th>1</th>\n",
              "      <td>40000000</td>\n",
              "      <td>35</td>\n",
              "      <td>0</td>\n",
              "      <td>1</td>\n",
              "      <td>8.248895</td>\n",
              "      <td>1</td>\n",
              "      <td>1</td>\n",
              "      <td>113.0</td>\n",
              "      <td>[{'iso_639_1': 'en', 'name': 'English'}]</td>\n",
              "      <td>Released</td>\n",
              "      <td>The Princess Diaries 2: Royal Engagement</td>\n",
              "      <td>[{'id': 2505, 'name': 'coronation'}, {'id': 42...</td>\n",
              "      <td>[{'cast_id': 1, 'character': 'Mia Thermopolis'...</td>\n",
              "      <td>[{'credit_id': '52fe43fe9251416c7502563d', 'de...</td>\n",
              "      <td>95149435</td>\n",
              "      <td>4</td>\n",
              "    </tr>\n",
              "    <tr>\n",
              "      <th>2</th>\n",
              "      <td>3300000</td>\n",
              "      <td>18</td>\n",
              "      <td>1</td>\n",
              "      <td>1</td>\n",
              "      <td>64.299990</td>\n",
              "      <td>3</td>\n",
              "      <td>1</td>\n",
              "      <td>105.0</td>\n",
              "      <td>[{'iso_639_1': 'en', 'name': 'English'}]</td>\n",
              "      <td>Released</td>\n",
              "      <td>Whiplash</td>\n",
              "      <td>[{'id': 1416, 'name': 'jazz'}, {'id': 1523, 'n...</td>\n",
              "      <td>[{'cast_id': 5, 'character': 'Andrew Neimann',...</td>\n",
              "      <td>[{'credit_id': '54d5356ec3a3683ba0000039', 'de...</td>\n",
              "      <td>13092000</td>\n",
              "      <td>14</td>\n",
              "    </tr>\n",
              "    <tr>\n",
              "      <th>3</th>\n",
              "      <td>1200000</td>\n",
              "      <td>53</td>\n",
              "      <td>1</td>\n",
              "      <td>0</td>\n",
              "      <td>3.174936</td>\n",
              "      <td>0</td>\n",
              "      <td>1</td>\n",
              "      <td>122.0</td>\n",
              "      <td>[{'iso_639_1': 'en', 'name': 'English'}, {'iso...</td>\n",
              "      <td>Released</td>\n",
              "      <td>Kahaani</td>\n",
              "      <td>[{'id': 10092, 'name': 'mystery'}, {'id': 1054...</td>\n",
              "      <td>[{'cast_id': 1, 'character': 'Vidya Bagchi', '...</td>\n",
              "      <td>[{'credit_id': '52fe48779251416c9108d6eb', 'de...</td>\n",
              "      <td>16000000</td>\n",
              "      <td>12</td>\n",
              "    </tr>\n",
              "    <tr>\n",
              "      <th>4</th>\n",
              "      <td>0</td>\n",
              "      <td>28</td>\n",
              "      <td>0</td>\n",
              "      <td>0</td>\n",
              "      <td>1.148070</td>\n",
              "      <td>0</td>\n",
              "      <td>1</td>\n",
              "      <td>118.0</td>\n",
              "      <td>[{'iso_639_1': 'ko', 'name': '한국어/조선말'}]</td>\n",
              "      <td>Released</td>\n",
              "      <td>Marine Boy</td>\n",
              "      <td>NaN</td>\n",
              "      <td>[{'cast_id': 3, 'character': 'Chun-soo', 'cred...</td>\n",
              "      <td>[{'credit_id': '52fe464b9251416c75073b43', 'de...</td>\n",
              "      <td>3923970</td>\n",
              "      <td>9</td>\n",
              "    </tr>\n",
              "  </tbody>\n",
              "</table>\n",
              "</div>"
            ],
            "text/plain": [
              "     budget  genres  ...   revenue release_year\n",
              "0  14000000      35  ...  12314651           15\n",
              "1  40000000      35  ...  95149435            4\n",
              "2   3300000      18  ...  13092000           14\n",
              "3   1200000      53  ...  16000000           12\n",
              "4         0      28  ...   3923970            9\n",
              "\n",
              "[5 rows x 16 columns]"
            ]
          },
          "metadata": {
            "tags": []
          },
          "execution_count": 35
        }
      ]
    },
    {
      "cell_type": "markdown",
      "metadata": {
        "id": "aYcCDsePdk5h"
      },
      "source": [
        "runtime column"
      ]
    },
    {
      "cell_type": "code",
      "metadata": {
        "id": "D3ZuohUmdmi9"
      },
      "source": [
        "trainset[\"runtime\"].fillna(\"0\", inplace = True) \n",
        "\n",
        "testset[\"runtime\"].fillna(\"0\", inplace = True)"
      ],
      "execution_count": null,
      "outputs": []
    },
    {
      "cell_type": "markdown",
      "metadata": {
        "id": "NlPFQ9GVd7Ox"
      },
      "source": [
        "spoken_languages column"
      ]
    },
    {
      "cell_type": "code",
      "metadata": {
        "id": "EIdYmqZDgj1z"
      },
      "source": [
        "number_of_spoken_languages = pd.DataFrame(columns=['number_of_spoken_languages'])\n",
        "trainset = pd.concat([trainset, number_of_spoken_languages], axis=1)\n",
        "testset = pd.concat([testset, number_of_spoken_languages], axis=1)"
      ],
      "execution_count": null,
      "outputs": []
    },
    {
      "cell_type": "code",
      "metadata": {
        "colab": {
          "base_uri": "https://localhost:8080/"
        },
        "id": "V7PBvxHRe-Ms",
        "outputId": "28c92e06-8149-4dc7-b477-6ff063132e90"
      },
      "source": [
        "j = 0\n",
        "for i in trainset['spoken_languages']:\n",
        "    d = get_dict(i)\n",
        "    if d != {}:\n",
        "        trainset['number_of_spoken_languages'][j] = len(d)\n",
        "    else:\n",
        "         trainset['number_of_spoken_languages'][j] = 0\n",
        "    j += 1  "
      ],
      "execution_count": null,
      "outputs": [
        {
          "output_type": "stream",
          "text": [
            "/usr/local/lib/python3.7/dist-packages/ipykernel_launcher.py:5: SettingWithCopyWarning: \n",
            "A value is trying to be set on a copy of a slice from a DataFrame\n",
            "\n",
            "See the caveats in the documentation: https://pandas.pydata.org/pandas-docs/stable/user_guide/indexing.html#returning-a-view-versus-a-copy\n",
            "  \"\"\"\n",
            "/usr/local/lib/python3.7/dist-packages/ipykernel_launcher.py:7: SettingWithCopyWarning: \n",
            "A value is trying to be set on a copy of a slice from a DataFrame\n",
            "\n",
            "See the caveats in the documentation: https://pandas.pydata.org/pandas-docs/stable/user_guide/indexing.html#returning-a-view-versus-a-copy\n",
            "  import sys\n"
          ],
          "name": "stderr"
        }
      ]
    },
    {
      "cell_type": "code",
      "metadata": {
        "colab": {
          "base_uri": "https://localhost:8080/"
        },
        "id": "R0OyGqGufMPS",
        "outputId": "26eb0a84-f13f-453c-b124-143b78ccfed4"
      },
      "source": [
        "j = 0\n",
        "for i in testset['spoken_languages']:\n",
        "    d = get_dict(i)\n",
        "    if d != {}:\n",
        "        testset['number_of_spoken_languages'][j] = len(d)\n",
        "    else:\n",
        "         testset['number_of_spoken_languages'][j] = 0\n",
        "    j += 1  "
      ],
      "execution_count": null,
      "outputs": [
        {
          "output_type": "stream",
          "text": [
            "/usr/local/lib/python3.7/dist-packages/ipykernel_launcher.py:5: SettingWithCopyWarning: \n",
            "A value is trying to be set on a copy of a slice from a DataFrame\n",
            "\n",
            "See the caveats in the documentation: https://pandas.pydata.org/pandas-docs/stable/user_guide/indexing.html#returning-a-view-versus-a-copy\n",
            "  \"\"\"\n",
            "/usr/local/lib/python3.7/dist-packages/ipykernel_launcher.py:7: SettingWithCopyWarning: \n",
            "A value is trying to be set on a copy of a slice from a DataFrame\n",
            "\n",
            "See the caveats in the documentation: https://pandas.pydata.org/pandas-docs/stable/user_guide/indexing.html#returning-a-view-versus-a-copy\n",
            "  import sys\n"
          ],
          "name": "stderr"
        }
      ]
    },
    {
      "cell_type": "code",
      "metadata": {
        "colab": {
          "base_uri": "https://localhost:8080/",
          "height": 484
        },
        "id": "oQOUIK7wg0Gc",
        "outputId": "f39551e4-85f6-4b81-d891-ffc2303088d9"
      },
      "source": [
        "trainset.head()"
      ],
      "execution_count": null,
      "outputs": [
        {
          "output_type": "execute_result",
          "data": {
            "text/html": [
              "<div>\n",
              "<style scoped>\n",
              "    .dataframe tbody tr th:only-of-type {\n",
              "        vertical-align: middle;\n",
              "    }\n",
              "\n",
              "    .dataframe tbody tr th {\n",
              "        vertical-align: top;\n",
              "    }\n",
              "\n",
              "    .dataframe thead th {\n",
              "        text-align: right;\n",
              "    }\n",
              "</style>\n",
              "<table border=\"1\" class=\"dataframe\">\n",
              "  <thead>\n",
              "    <tr style=\"text-align: right;\">\n",
              "      <th></th>\n",
              "      <th>budget</th>\n",
              "      <th>genres</th>\n",
              "      <th>homepage</th>\n",
              "      <th>original_language</th>\n",
              "      <th>popularity</th>\n",
              "      <th>production_companies</th>\n",
              "      <th>production_countries</th>\n",
              "      <th>runtime</th>\n",
              "      <th>spoken_languages</th>\n",
              "      <th>status</th>\n",
              "      <th>title</th>\n",
              "      <th>Keywords</th>\n",
              "      <th>cast</th>\n",
              "      <th>crew</th>\n",
              "      <th>revenue</th>\n",
              "      <th>release_year</th>\n",
              "      <th>number_of_spoken_languages</th>\n",
              "    </tr>\n",
              "  </thead>\n",
              "  <tbody>\n",
              "    <tr>\n",
              "      <th>0</th>\n",
              "      <td>14000000</td>\n",
              "      <td>35</td>\n",
              "      <td>0</td>\n",
              "      <td>1</td>\n",
              "      <td>6.575393</td>\n",
              "      <td>3</td>\n",
              "      <td>1</td>\n",
              "      <td>93</td>\n",
              "      <td>[{'iso_639_1': 'en', 'name': 'English'}]</td>\n",
              "      <td>Released</td>\n",
              "      <td>Hot Tub Time Machine 2</td>\n",
              "      <td>[{'id': 4379, 'name': 'time travel'}, {'id': 9...</td>\n",
              "      <td>[{'cast_id': 4, 'character': 'Lou', 'credit_id...</td>\n",
              "      <td>[{'credit_id': '59ac067c92514107af02c8c8', 'de...</td>\n",
              "      <td>12314651</td>\n",
              "      <td>15</td>\n",
              "      <td>1</td>\n",
              "    </tr>\n",
              "    <tr>\n",
              "      <th>1</th>\n",
              "      <td>40000000</td>\n",
              "      <td>35</td>\n",
              "      <td>0</td>\n",
              "      <td>1</td>\n",
              "      <td>8.248895</td>\n",
              "      <td>1</td>\n",
              "      <td>1</td>\n",
              "      <td>113</td>\n",
              "      <td>[{'iso_639_1': 'en', 'name': 'English'}]</td>\n",
              "      <td>Released</td>\n",
              "      <td>The Princess Diaries 2: Royal Engagement</td>\n",
              "      <td>[{'id': 2505, 'name': 'coronation'}, {'id': 42...</td>\n",
              "      <td>[{'cast_id': 1, 'character': 'Mia Thermopolis'...</td>\n",
              "      <td>[{'credit_id': '52fe43fe9251416c7502563d', 'de...</td>\n",
              "      <td>95149435</td>\n",
              "      <td>4</td>\n",
              "      <td>1</td>\n",
              "    </tr>\n",
              "    <tr>\n",
              "      <th>2</th>\n",
              "      <td>3300000</td>\n",
              "      <td>18</td>\n",
              "      <td>1</td>\n",
              "      <td>1</td>\n",
              "      <td>64.299990</td>\n",
              "      <td>3</td>\n",
              "      <td>1</td>\n",
              "      <td>105</td>\n",
              "      <td>[{'iso_639_1': 'en', 'name': 'English'}]</td>\n",
              "      <td>Released</td>\n",
              "      <td>Whiplash</td>\n",
              "      <td>[{'id': 1416, 'name': 'jazz'}, {'id': 1523, 'n...</td>\n",
              "      <td>[{'cast_id': 5, 'character': 'Andrew Neimann',...</td>\n",
              "      <td>[{'credit_id': '54d5356ec3a3683ba0000039', 'de...</td>\n",
              "      <td>13092000</td>\n",
              "      <td>14</td>\n",
              "      <td>1</td>\n",
              "    </tr>\n",
              "    <tr>\n",
              "      <th>3</th>\n",
              "      <td>1200000</td>\n",
              "      <td>53</td>\n",
              "      <td>1</td>\n",
              "      <td>0</td>\n",
              "      <td>3.174936</td>\n",
              "      <td>0</td>\n",
              "      <td>1</td>\n",
              "      <td>122</td>\n",
              "      <td>[{'iso_639_1': 'en', 'name': 'English'}, {'iso...</td>\n",
              "      <td>Released</td>\n",
              "      <td>Kahaani</td>\n",
              "      <td>[{'id': 10092, 'name': 'mystery'}, {'id': 1054...</td>\n",
              "      <td>[{'cast_id': 1, 'character': 'Vidya Bagchi', '...</td>\n",
              "      <td>[{'credit_id': '52fe48779251416c9108d6eb', 'de...</td>\n",
              "      <td>16000000</td>\n",
              "      <td>12</td>\n",
              "      <td>2</td>\n",
              "    </tr>\n",
              "    <tr>\n",
              "      <th>4</th>\n",
              "      <td>0</td>\n",
              "      <td>28</td>\n",
              "      <td>0</td>\n",
              "      <td>0</td>\n",
              "      <td>1.148070</td>\n",
              "      <td>0</td>\n",
              "      <td>1</td>\n",
              "      <td>118</td>\n",
              "      <td>[{'iso_639_1': 'ko', 'name': '한국어/조선말'}]</td>\n",
              "      <td>Released</td>\n",
              "      <td>Marine Boy</td>\n",
              "      <td>NaN</td>\n",
              "      <td>[{'cast_id': 3, 'character': 'Chun-soo', 'cred...</td>\n",
              "      <td>[{'credit_id': '52fe464b9251416c75073b43', 'de...</td>\n",
              "      <td>3923970</td>\n",
              "      <td>9</td>\n",
              "      <td>1</td>\n",
              "    </tr>\n",
              "  </tbody>\n",
              "</table>\n",
              "</div>"
            ],
            "text/plain": [
              "     budget  genres homepage  ...   revenue  release_year number_of_spoken_languages\n",
              "0  14000000      35        0  ...  12314651            15                          1\n",
              "1  40000000      35        0  ...  95149435             4                          1\n",
              "2   3300000      18        1  ...  13092000            14                          1\n",
              "3   1200000      53        1  ...  16000000            12                          2\n",
              "4         0      28        0  ...   3923970             9                          1\n",
              "\n",
              "[5 rows x 17 columns]"
            ]
          },
          "metadata": {
            "tags": []
          },
          "execution_count": 40
        }
      ]
    },
    {
      "cell_type": "code",
      "metadata": {
        "colab": {
          "base_uri": "https://localhost:8080/"
        },
        "id": "2b85w8Fag_XT",
        "outputId": "c4098a73-f819-41a4-c72c-faacbed4ee9e"
      },
      "source": [
        "j = 0\n",
        "for i in trainset['spoken_languages']:\n",
        "    d = get_dict(i)\n",
        "    if d != {}:\n",
        "     trainset['spoken_languages'][j] = d[0]['iso_639_1'] \n",
        "       \n",
        "    else:\n",
        "       trainset['spoken_languages'][j]=np.NaN \n",
        "    j += 1\n",
        "\n",
        "\n"
      ],
      "execution_count": null,
      "outputs": [
        {
          "output_type": "stream",
          "text": [
            "/usr/local/lib/python3.7/dist-packages/ipykernel_launcher.py:5: SettingWithCopyWarning: \n",
            "A value is trying to be set on a copy of a slice from a DataFrame\n",
            "\n",
            "See the caveats in the documentation: https://pandas.pydata.org/pandas-docs/stable/user_guide/indexing.html#returning-a-view-versus-a-copy\n",
            "  \"\"\"\n",
            "/usr/local/lib/python3.7/dist-packages/ipykernel_launcher.py:8: SettingWithCopyWarning: \n",
            "A value is trying to be set on a copy of a slice from a DataFrame\n",
            "\n",
            "See the caveats in the documentation: https://pandas.pydata.org/pandas-docs/stable/user_guide/indexing.html#returning-a-view-versus-a-copy\n",
            "  \n"
          ],
          "name": "stderr"
        }
      ]
    },
    {
      "cell_type": "code",
      "metadata": {
        "colab": {
          "base_uri": "https://localhost:8080/"
        },
        "id": "Cs5gXf2BhMuP",
        "outputId": "2f7223d1-3042-453f-bc1d-da43c190b7a9"
      },
      "source": [
        "j = 0\n",
        "for i in testset['spoken_languages']:\n",
        "    d = get_dict(i)\n",
        "    if d != {}:\n",
        "     testset['spoken_languages'][j] = d[0]['iso_639_1'] \n",
        "       \n",
        "    else:\n",
        "       testset['spoken_languages'][j]=np.NaN\n",
        "    j += 1\n",
        "\n",
        "   "
      ],
      "execution_count": null,
      "outputs": [
        {
          "output_type": "stream",
          "text": [
            "/usr/local/lib/python3.7/dist-packages/ipykernel_launcher.py:5: SettingWithCopyWarning: \n",
            "A value is trying to be set on a copy of a slice from a DataFrame\n",
            "\n",
            "See the caveats in the documentation: https://pandas.pydata.org/pandas-docs/stable/user_guide/indexing.html#returning-a-view-versus-a-copy\n",
            "  \"\"\"\n",
            "/usr/local/lib/python3.7/dist-packages/ipykernel_launcher.py:8: SettingWithCopyWarning: \n",
            "A value is trying to be set on a copy of a slice from a DataFrame\n",
            "\n",
            "See the caveats in the documentation: https://pandas.pydata.org/pandas-docs/stable/user_guide/indexing.html#returning-a-view-versus-a-copy\n",
            "  \n"
          ],
          "name": "stderr"
        }
      ]
    },
    {
      "cell_type": "code",
      "metadata": {
        "colab": {
          "base_uri": "https://localhost:8080/",
          "height": 484
        },
        "id": "RtpzGl67hTkz",
        "outputId": "3a550fe6-3399-4027-c61f-975ece844ba6"
      },
      "source": [
        "trainset.head()"
      ],
      "execution_count": null,
      "outputs": [
        {
          "output_type": "execute_result",
          "data": {
            "text/html": [
              "<div>\n",
              "<style scoped>\n",
              "    .dataframe tbody tr th:only-of-type {\n",
              "        vertical-align: middle;\n",
              "    }\n",
              "\n",
              "    .dataframe tbody tr th {\n",
              "        vertical-align: top;\n",
              "    }\n",
              "\n",
              "    .dataframe thead th {\n",
              "        text-align: right;\n",
              "    }\n",
              "</style>\n",
              "<table border=\"1\" class=\"dataframe\">\n",
              "  <thead>\n",
              "    <tr style=\"text-align: right;\">\n",
              "      <th></th>\n",
              "      <th>budget</th>\n",
              "      <th>genres</th>\n",
              "      <th>homepage</th>\n",
              "      <th>original_language</th>\n",
              "      <th>popularity</th>\n",
              "      <th>production_companies</th>\n",
              "      <th>production_countries</th>\n",
              "      <th>runtime</th>\n",
              "      <th>spoken_languages</th>\n",
              "      <th>status</th>\n",
              "      <th>title</th>\n",
              "      <th>Keywords</th>\n",
              "      <th>cast</th>\n",
              "      <th>crew</th>\n",
              "      <th>revenue</th>\n",
              "      <th>release_year</th>\n",
              "      <th>number_of_spoken_languages</th>\n",
              "    </tr>\n",
              "  </thead>\n",
              "  <tbody>\n",
              "    <tr>\n",
              "      <th>0</th>\n",
              "      <td>14000000</td>\n",
              "      <td>35</td>\n",
              "      <td>0</td>\n",
              "      <td>1</td>\n",
              "      <td>6.575393</td>\n",
              "      <td>3</td>\n",
              "      <td>1</td>\n",
              "      <td>93</td>\n",
              "      <td>en</td>\n",
              "      <td>Released</td>\n",
              "      <td>Hot Tub Time Machine 2</td>\n",
              "      <td>[{'id': 4379, 'name': 'time travel'}, {'id': 9...</td>\n",
              "      <td>[{'cast_id': 4, 'character': 'Lou', 'credit_id...</td>\n",
              "      <td>[{'credit_id': '59ac067c92514107af02c8c8', 'de...</td>\n",
              "      <td>12314651</td>\n",
              "      <td>15</td>\n",
              "      <td>1</td>\n",
              "    </tr>\n",
              "    <tr>\n",
              "      <th>1</th>\n",
              "      <td>40000000</td>\n",
              "      <td>35</td>\n",
              "      <td>0</td>\n",
              "      <td>1</td>\n",
              "      <td>8.248895</td>\n",
              "      <td>1</td>\n",
              "      <td>1</td>\n",
              "      <td>113</td>\n",
              "      <td>en</td>\n",
              "      <td>Released</td>\n",
              "      <td>The Princess Diaries 2: Royal Engagement</td>\n",
              "      <td>[{'id': 2505, 'name': 'coronation'}, {'id': 42...</td>\n",
              "      <td>[{'cast_id': 1, 'character': 'Mia Thermopolis'...</td>\n",
              "      <td>[{'credit_id': '52fe43fe9251416c7502563d', 'de...</td>\n",
              "      <td>95149435</td>\n",
              "      <td>4</td>\n",
              "      <td>1</td>\n",
              "    </tr>\n",
              "    <tr>\n",
              "      <th>2</th>\n",
              "      <td>3300000</td>\n",
              "      <td>18</td>\n",
              "      <td>1</td>\n",
              "      <td>1</td>\n",
              "      <td>64.299990</td>\n",
              "      <td>3</td>\n",
              "      <td>1</td>\n",
              "      <td>105</td>\n",
              "      <td>en</td>\n",
              "      <td>Released</td>\n",
              "      <td>Whiplash</td>\n",
              "      <td>[{'id': 1416, 'name': 'jazz'}, {'id': 1523, 'n...</td>\n",
              "      <td>[{'cast_id': 5, 'character': 'Andrew Neimann',...</td>\n",
              "      <td>[{'credit_id': '54d5356ec3a3683ba0000039', 'de...</td>\n",
              "      <td>13092000</td>\n",
              "      <td>14</td>\n",
              "      <td>1</td>\n",
              "    </tr>\n",
              "    <tr>\n",
              "      <th>3</th>\n",
              "      <td>1200000</td>\n",
              "      <td>53</td>\n",
              "      <td>1</td>\n",
              "      <td>0</td>\n",
              "      <td>3.174936</td>\n",
              "      <td>0</td>\n",
              "      <td>1</td>\n",
              "      <td>122</td>\n",
              "      <td>en</td>\n",
              "      <td>Released</td>\n",
              "      <td>Kahaani</td>\n",
              "      <td>[{'id': 10092, 'name': 'mystery'}, {'id': 1054...</td>\n",
              "      <td>[{'cast_id': 1, 'character': 'Vidya Bagchi', '...</td>\n",
              "      <td>[{'credit_id': '52fe48779251416c9108d6eb', 'de...</td>\n",
              "      <td>16000000</td>\n",
              "      <td>12</td>\n",
              "      <td>2</td>\n",
              "    </tr>\n",
              "    <tr>\n",
              "      <th>4</th>\n",
              "      <td>0</td>\n",
              "      <td>28</td>\n",
              "      <td>0</td>\n",
              "      <td>0</td>\n",
              "      <td>1.148070</td>\n",
              "      <td>0</td>\n",
              "      <td>1</td>\n",
              "      <td>118</td>\n",
              "      <td>ko</td>\n",
              "      <td>Released</td>\n",
              "      <td>Marine Boy</td>\n",
              "      <td>NaN</td>\n",
              "      <td>[{'cast_id': 3, 'character': 'Chun-soo', 'cred...</td>\n",
              "      <td>[{'credit_id': '52fe464b9251416c75073b43', 'de...</td>\n",
              "      <td>3923970</td>\n",
              "      <td>9</td>\n",
              "      <td>1</td>\n",
              "    </tr>\n",
              "  </tbody>\n",
              "</table>\n",
              "</div>"
            ],
            "text/plain": [
              "     budget  genres homepage  ...   revenue  release_year number_of_spoken_languages\n",
              "0  14000000      35        0  ...  12314651            15                          1\n",
              "1  40000000      35        0  ...  95149435             4                          1\n",
              "2   3300000      18        1  ...  13092000            14                          1\n",
              "3   1200000      53        1  ...  16000000            12                          2\n",
              "4         0      28        0  ...   3923970             9                          1\n",
              "\n",
              "[5 rows x 17 columns]"
            ]
          },
          "metadata": {
            "tags": []
          },
          "execution_count": 43
        }
      ]
    },
    {
      "cell_type": "code",
      "metadata": {
        "colab": {
          "base_uri": "https://localhost:8080/"
        },
        "id": "TolF00E7lAlD",
        "outputId": "7ce782d6-cccf-4bff-cad7-bb86e8a10142"
      },
      "source": [
        "trainset.value_counts('spoken_languages')"
      ],
      "execution_count": null,
      "outputs": [
        {
          "output_type": "execute_result",
          "data": {
            "text/plain": [
              "spoken_languages\n",
              "en    2375\n",
              "fr      83\n",
              "es      60\n",
              "ru      57\n",
              "de      55\n",
              "ja      42\n",
              "hi      41\n",
              "cn      27\n",
              "it      27\n",
              "zh      21\n",
              "ar      21\n",
              "cs      19\n",
              "ta      17\n",
              "ko      16\n",
              "sv       9\n",
              "pt       9\n",
              "da       8\n",
              "nl       8\n",
              "xx       7\n",
              "la       6\n",
              "fa       5\n",
              "pl       4\n",
              "he       4\n",
              "el       4\n",
              "fi       4\n",
              "hu       3\n",
              "af       3\n",
              "ml       3\n",
              "tr       3\n",
              "ro       3\n",
              "sq       2\n",
              "gd       2\n",
              "tl       2\n",
              "uk       2\n",
              "ca       2\n",
              "bn       2\n",
              "bg       2\n",
              "hr       2\n",
              "no       2\n",
              "hy       2\n",
              "te       2\n",
              "sw       1\n",
              "ur       1\n",
              "am       1\n",
              "kw       1\n",
              "sr       1\n",
              "eo       1\n",
              "mi       1\n",
              "et       1\n",
              "so       1\n",
              "sa       1\n",
              "qu       1\n",
              "pa       1\n",
              "is       1\n",
              "km       1\n",
              "dtype: int64"
            ]
          },
          "metadata": {
            "tags": []
          },
          "execution_count": 44
        }
      ]
    },
    {
      "cell_type": "code",
      "metadata": {
        "colab": {
          "base_uri": "https://localhost:8080/"
        },
        "id": "QyXpxYPDlHFC",
        "outputId": "c0ca65ee-7072-4282-c68d-012d432ecdc8"
      },
      "source": [
        "j = 0\n",
        "for i in trainset['spoken_languages']:\n",
        "    \n",
        "    if str(trainset['spoken_languages'][j]) == 'en':\n",
        "       trainset['spoken_languages'][j]=1\n",
        "    else:\n",
        "       trainset['spoken_languages'][j]=0 \n",
        "    j += 1"
      ],
      "execution_count": null,
      "outputs": [
        {
          "output_type": "stream",
          "text": [
            "/usr/local/lib/python3.7/dist-packages/ipykernel_launcher.py:5: SettingWithCopyWarning: \n",
            "A value is trying to be set on a copy of a slice from a DataFrame\n",
            "\n",
            "See the caveats in the documentation: https://pandas.pydata.org/pandas-docs/stable/user_guide/indexing.html#returning-a-view-versus-a-copy\n",
            "  \"\"\"\n",
            "/usr/local/lib/python3.7/dist-packages/ipykernel_launcher.py:7: SettingWithCopyWarning: \n",
            "A value is trying to be set on a copy of a slice from a DataFrame\n",
            "\n",
            "See the caveats in the documentation: https://pandas.pydata.org/pandas-docs/stable/user_guide/indexing.html#returning-a-view-versus-a-copy\n",
            "  import sys\n"
          ],
          "name": "stderr"
        }
      ]
    },
    {
      "cell_type": "code",
      "metadata": {
        "colab": {
          "base_uri": "https://localhost:8080/"
        },
        "id": "eir8WgC-lZYn",
        "outputId": "9ea9ab74-a1a0-4ef7-970a-d08a928c8d37"
      },
      "source": [
        "j = 0\n",
        "for i in testset['spoken_languages']:\n",
        "    \n",
        "    if str(testset['spoken_languages'][j]) == 'en':\n",
        "       testset['spoken_languages'][j]=1\n",
        "    else:\n",
        "       testset['spoken_languages'][j]=0 \n",
        "    j += 1"
      ],
      "execution_count": null,
      "outputs": [
        {
          "output_type": "stream",
          "text": [
            "/usr/local/lib/python3.7/dist-packages/ipykernel_launcher.py:5: SettingWithCopyWarning: \n",
            "A value is trying to be set on a copy of a slice from a DataFrame\n",
            "\n",
            "See the caveats in the documentation: https://pandas.pydata.org/pandas-docs/stable/user_guide/indexing.html#returning-a-view-versus-a-copy\n",
            "  \"\"\"\n",
            "/usr/local/lib/python3.7/dist-packages/ipykernel_launcher.py:7: SettingWithCopyWarning: \n",
            "A value is trying to be set on a copy of a slice from a DataFrame\n",
            "\n",
            "See the caveats in the documentation: https://pandas.pydata.org/pandas-docs/stable/user_guide/indexing.html#returning-a-view-versus-a-copy\n",
            "  import sys\n"
          ],
          "name": "stderr"
        }
      ]
    },
    {
      "cell_type": "code",
      "metadata": {
        "colab": {
          "base_uri": "https://localhost:8080/",
          "height": 484
        },
        "id": "FknJo-YHlfES",
        "outputId": "74fbcf7c-230e-4a35-80af-6eb16e640829"
      },
      "source": [
        "trainset.head()"
      ],
      "execution_count": null,
      "outputs": [
        {
          "output_type": "execute_result",
          "data": {
            "text/html": [
              "<div>\n",
              "<style scoped>\n",
              "    .dataframe tbody tr th:only-of-type {\n",
              "        vertical-align: middle;\n",
              "    }\n",
              "\n",
              "    .dataframe tbody tr th {\n",
              "        vertical-align: top;\n",
              "    }\n",
              "\n",
              "    .dataframe thead th {\n",
              "        text-align: right;\n",
              "    }\n",
              "</style>\n",
              "<table border=\"1\" class=\"dataframe\">\n",
              "  <thead>\n",
              "    <tr style=\"text-align: right;\">\n",
              "      <th></th>\n",
              "      <th>budget</th>\n",
              "      <th>genres</th>\n",
              "      <th>homepage</th>\n",
              "      <th>original_language</th>\n",
              "      <th>popularity</th>\n",
              "      <th>production_companies</th>\n",
              "      <th>production_countries</th>\n",
              "      <th>runtime</th>\n",
              "      <th>spoken_languages</th>\n",
              "      <th>status</th>\n",
              "      <th>title</th>\n",
              "      <th>Keywords</th>\n",
              "      <th>cast</th>\n",
              "      <th>crew</th>\n",
              "      <th>revenue</th>\n",
              "      <th>release_year</th>\n",
              "      <th>number_of_spoken_languages</th>\n",
              "    </tr>\n",
              "  </thead>\n",
              "  <tbody>\n",
              "    <tr>\n",
              "      <th>0</th>\n",
              "      <td>14000000</td>\n",
              "      <td>35</td>\n",
              "      <td>0</td>\n",
              "      <td>1</td>\n",
              "      <td>6.575393</td>\n",
              "      <td>3</td>\n",
              "      <td>1</td>\n",
              "      <td>93</td>\n",
              "      <td>1</td>\n",
              "      <td>Released</td>\n",
              "      <td>Hot Tub Time Machine 2</td>\n",
              "      <td>[{'id': 4379, 'name': 'time travel'}, {'id': 9...</td>\n",
              "      <td>[{'cast_id': 4, 'character': 'Lou', 'credit_id...</td>\n",
              "      <td>[{'credit_id': '59ac067c92514107af02c8c8', 'de...</td>\n",
              "      <td>12314651</td>\n",
              "      <td>15</td>\n",
              "      <td>1</td>\n",
              "    </tr>\n",
              "    <tr>\n",
              "      <th>1</th>\n",
              "      <td>40000000</td>\n",
              "      <td>35</td>\n",
              "      <td>0</td>\n",
              "      <td>1</td>\n",
              "      <td>8.248895</td>\n",
              "      <td>1</td>\n",
              "      <td>1</td>\n",
              "      <td>113</td>\n",
              "      <td>1</td>\n",
              "      <td>Released</td>\n",
              "      <td>The Princess Diaries 2: Royal Engagement</td>\n",
              "      <td>[{'id': 2505, 'name': 'coronation'}, {'id': 42...</td>\n",
              "      <td>[{'cast_id': 1, 'character': 'Mia Thermopolis'...</td>\n",
              "      <td>[{'credit_id': '52fe43fe9251416c7502563d', 'de...</td>\n",
              "      <td>95149435</td>\n",
              "      <td>4</td>\n",
              "      <td>1</td>\n",
              "    </tr>\n",
              "    <tr>\n",
              "      <th>2</th>\n",
              "      <td>3300000</td>\n",
              "      <td>18</td>\n",
              "      <td>1</td>\n",
              "      <td>1</td>\n",
              "      <td>64.299990</td>\n",
              "      <td>3</td>\n",
              "      <td>1</td>\n",
              "      <td>105</td>\n",
              "      <td>1</td>\n",
              "      <td>Released</td>\n",
              "      <td>Whiplash</td>\n",
              "      <td>[{'id': 1416, 'name': 'jazz'}, {'id': 1523, 'n...</td>\n",
              "      <td>[{'cast_id': 5, 'character': 'Andrew Neimann',...</td>\n",
              "      <td>[{'credit_id': '54d5356ec3a3683ba0000039', 'de...</td>\n",
              "      <td>13092000</td>\n",
              "      <td>14</td>\n",
              "      <td>1</td>\n",
              "    </tr>\n",
              "    <tr>\n",
              "      <th>3</th>\n",
              "      <td>1200000</td>\n",
              "      <td>53</td>\n",
              "      <td>1</td>\n",
              "      <td>0</td>\n",
              "      <td>3.174936</td>\n",
              "      <td>0</td>\n",
              "      <td>1</td>\n",
              "      <td>122</td>\n",
              "      <td>1</td>\n",
              "      <td>Released</td>\n",
              "      <td>Kahaani</td>\n",
              "      <td>[{'id': 10092, 'name': 'mystery'}, {'id': 1054...</td>\n",
              "      <td>[{'cast_id': 1, 'character': 'Vidya Bagchi', '...</td>\n",
              "      <td>[{'credit_id': '52fe48779251416c9108d6eb', 'de...</td>\n",
              "      <td>16000000</td>\n",
              "      <td>12</td>\n",
              "      <td>2</td>\n",
              "    </tr>\n",
              "    <tr>\n",
              "      <th>4</th>\n",
              "      <td>0</td>\n",
              "      <td>28</td>\n",
              "      <td>0</td>\n",
              "      <td>0</td>\n",
              "      <td>1.148070</td>\n",
              "      <td>0</td>\n",
              "      <td>1</td>\n",
              "      <td>118</td>\n",
              "      <td>0</td>\n",
              "      <td>Released</td>\n",
              "      <td>Marine Boy</td>\n",
              "      <td>NaN</td>\n",
              "      <td>[{'cast_id': 3, 'character': 'Chun-soo', 'cred...</td>\n",
              "      <td>[{'credit_id': '52fe464b9251416c75073b43', 'de...</td>\n",
              "      <td>3923970</td>\n",
              "      <td>9</td>\n",
              "      <td>1</td>\n",
              "    </tr>\n",
              "  </tbody>\n",
              "</table>\n",
              "</div>"
            ],
            "text/plain": [
              "     budget  genres homepage  ...   revenue  release_year number_of_spoken_languages\n",
              "0  14000000      35        0  ...  12314651            15                          1\n",
              "1  40000000      35        0  ...  95149435             4                          1\n",
              "2   3300000      18        1  ...  13092000            14                          1\n",
              "3   1200000      53        1  ...  16000000            12                          2\n",
              "4         0      28        0  ...   3923970             9                          1\n",
              "\n",
              "[5 rows x 17 columns]"
            ]
          },
          "metadata": {
            "tags": []
          },
          "execution_count": 47
        }
      ]
    },
    {
      "cell_type": "markdown",
      "metadata": {
        "id": "YNbYy8Hsls2r"
      },
      "source": [
        "status column"
      ]
    },
    {
      "cell_type": "code",
      "metadata": {
        "colab": {
          "base_uri": "https://localhost:8080/"
        },
        "id": "po5az9falubz",
        "outputId": "f0e9967b-d3c1-4549-88cf-47e19d5b58f4"
      },
      "source": [
        "trainset.value_counts('spoken_languages')"
      ],
      "execution_count": null,
      "outputs": [
        {
          "output_type": "execute_result",
          "data": {
            "text/plain": [
              "spoken_languages\n",
              "1    2375\n",
              "0     625\n",
              "dtype: int64"
            ]
          },
          "metadata": {
            "tags": []
          },
          "execution_count": 48
        }
      ]
    },
    {
      "cell_type": "code",
      "metadata": {
        "colab": {
          "base_uri": "https://localhost:8080/"
        },
        "id": "sqQ1ysmPlz0s",
        "outputId": "dd994947-0e7b-41cf-8dca-7034a203ba33"
      },
      "source": [
        "trainset.isnull().sum()"
      ],
      "execution_count": null,
      "outputs": [
        {
          "output_type": "execute_result",
          "data": {
            "text/plain": [
              "budget                          0\n",
              "genres                          0\n",
              "homepage                        0\n",
              "original_language               0\n",
              "popularity                      0\n",
              "production_companies            0\n",
              "production_countries            0\n",
              "runtime                         0\n",
              "spoken_languages                0\n",
              "status                          0\n",
              "title                           0\n",
              "Keywords                      276\n",
              "cast                           13\n",
              "crew                           16\n",
              "revenue                         0\n",
              "release_year                    0\n",
              "number_of_spoken_languages      0\n",
              "dtype: int64"
            ]
          },
          "metadata": {
            "tags": []
          },
          "execution_count": 49
        }
      ]
    },
    {
      "cell_type": "code",
      "metadata": {
        "colab": {
          "base_uri": "https://localhost:8080/"
        },
        "id": "tI1cXMbAl3TH",
        "outputId": "6b4ec07f-a37b-45b6-ee22-dc791a642157"
      },
      "source": [
        "testset.isnull().sum()"
      ],
      "execution_count": null,
      "outputs": [
        {
          "output_type": "execute_result",
          "data": {
            "text/plain": [
              "budget                          0\n",
              "genres                          0\n",
              "homepage                        0\n",
              "original_language               0\n",
              "popularity                      0\n",
              "production_companies            0\n",
              "production_countries            0\n",
              "runtime                         0\n",
              "spoken_languages                0\n",
              "status                          2\n",
              "title                           3\n",
              "Keywords                      393\n",
              "cast                           13\n",
              "crew                           22\n",
              "release_year                    0\n",
              "number_of_spoken_languages      0\n",
              "dtype: int64"
            ]
          },
          "metadata": {
            "tags": []
          },
          "execution_count": 50
        }
      ]
    },
    {
      "cell_type": "code",
      "metadata": {
        "colab": {
          "base_uri": "https://localhost:8080/"
        },
        "id": "vlMNInLel-L3",
        "outputId": "404c4e14-4ada-42d9-b600-7cd7daf847de"
      },
      "source": [
        "testset['status'] = testset['status'].fillna(testset['status'].mode()[0])\n",
        "testset.isnull().sum()"
      ],
      "execution_count": null,
      "outputs": [
        {
          "output_type": "execute_result",
          "data": {
            "text/plain": [
              "budget                          0\n",
              "genres                          0\n",
              "homepage                        0\n",
              "original_language               0\n",
              "popularity                      0\n",
              "production_companies            0\n",
              "production_countries            0\n",
              "runtime                         0\n",
              "spoken_languages                0\n",
              "status                          0\n",
              "title                           3\n",
              "Keywords                      393\n",
              "cast                           13\n",
              "crew                           22\n",
              "release_year                    0\n",
              "number_of_spoken_languages      0\n",
              "dtype: int64"
            ]
          },
          "metadata": {
            "tags": []
          },
          "execution_count": 51
        }
      ]
    },
    {
      "cell_type": "code",
      "metadata": {
        "colab": {
          "base_uri": "https://localhost:8080/",
          "height": 484
        },
        "id": "yakOsumMmSYP",
        "outputId": "17c38105-75e3-4c4f-eee7-7b558d8595d2"
      },
      "source": [
        "from sklearn.preprocessing import LabelEncoder\n",
        "trainset['status'] = LabelEncoder().fit_transform(trainset['status'])\n",
        "testset['status'] = LabelEncoder().fit_transform(testset['status'])\n",
        "trainset.head()"
      ],
      "execution_count": null,
      "outputs": [
        {
          "output_type": "execute_result",
          "data": {
            "text/html": [
              "<div>\n",
              "<style scoped>\n",
              "    .dataframe tbody tr th:only-of-type {\n",
              "        vertical-align: middle;\n",
              "    }\n",
              "\n",
              "    .dataframe tbody tr th {\n",
              "        vertical-align: top;\n",
              "    }\n",
              "\n",
              "    .dataframe thead th {\n",
              "        text-align: right;\n",
              "    }\n",
              "</style>\n",
              "<table border=\"1\" class=\"dataframe\">\n",
              "  <thead>\n",
              "    <tr style=\"text-align: right;\">\n",
              "      <th></th>\n",
              "      <th>budget</th>\n",
              "      <th>genres</th>\n",
              "      <th>homepage</th>\n",
              "      <th>original_language</th>\n",
              "      <th>popularity</th>\n",
              "      <th>production_companies</th>\n",
              "      <th>production_countries</th>\n",
              "      <th>runtime</th>\n",
              "      <th>spoken_languages</th>\n",
              "      <th>status</th>\n",
              "      <th>title</th>\n",
              "      <th>Keywords</th>\n",
              "      <th>cast</th>\n",
              "      <th>crew</th>\n",
              "      <th>revenue</th>\n",
              "      <th>release_year</th>\n",
              "      <th>number_of_spoken_languages</th>\n",
              "    </tr>\n",
              "  </thead>\n",
              "  <tbody>\n",
              "    <tr>\n",
              "      <th>0</th>\n",
              "      <td>14000000</td>\n",
              "      <td>35</td>\n",
              "      <td>0</td>\n",
              "      <td>1</td>\n",
              "      <td>6.575393</td>\n",
              "      <td>3</td>\n",
              "      <td>1</td>\n",
              "      <td>93</td>\n",
              "      <td>1</td>\n",
              "      <td>0</td>\n",
              "      <td>Hot Tub Time Machine 2</td>\n",
              "      <td>[{'id': 4379, 'name': 'time travel'}, {'id': 9...</td>\n",
              "      <td>[{'cast_id': 4, 'character': 'Lou', 'credit_id...</td>\n",
              "      <td>[{'credit_id': '59ac067c92514107af02c8c8', 'de...</td>\n",
              "      <td>12314651</td>\n",
              "      <td>15</td>\n",
              "      <td>1</td>\n",
              "    </tr>\n",
              "    <tr>\n",
              "      <th>1</th>\n",
              "      <td>40000000</td>\n",
              "      <td>35</td>\n",
              "      <td>0</td>\n",
              "      <td>1</td>\n",
              "      <td>8.248895</td>\n",
              "      <td>1</td>\n",
              "      <td>1</td>\n",
              "      <td>113</td>\n",
              "      <td>1</td>\n",
              "      <td>0</td>\n",
              "      <td>The Princess Diaries 2: Royal Engagement</td>\n",
              "      <td>[{'id': 2505, 'name': 'coronation'}, {'id': 42...</td>\n",
              "      <td>[{'cast_id': 1, 'character': 'Mia Thermopolis'...</td>\n",
              "      <td>[{'credit_id': '52fe43fe9251416c7502563d', 'de...</td>\n",
              "      <td>95149435</td>\n",
              "      <td>4</td>\n",
              "      <td>1</td>\n",
              "    </tr>\n",
              "    <tr>\n",
              "      <th>2</th>\n",
              "      <td>3300000</td>\n",
              "      <td>18</td>\n",
              "      <td>1</td>\n",
              "      <td>1</td>\n",
              "      <td>64.299990</td>\n",
              "      <td>3</td>\n",
              "      <td>1</td>\n",
              "      <td>105</td>\n",
              "      <td>1</td>\n",
              "      <td>0</td>\n",
              "      <td>Whiplash</td>\n",
              "      <td>[{'id': 1416, 'name': 'jazz'}, {'id': 1523, 'n...</td>\n",
              "      <td>[{'cast_id': 5, 'character': 'Andrew Neimann',...</td>\n",
              "      <td>[{'credit_id': '54d5356ec3a3683ba0000039', 'de...</td>\n",
              "      <td>13092000</td>\n",
              "      <td>14</td>\n",
              "      <td>1</td>\n",
              "    </tr>\n",
              "    <tr>\n",
              "      <th>3</th>\n",
              "      <td>1200000</td>\n",
              "      <td>53</td>\n",
              "      <td>1</td>\n",
              "      <td>0</td>\n",
              "      <td>3.174936</td>\n",
              "      <td>0</td>\n",
              "      <td>1</td>\n",
              "      <td>122</td>\n",
              "      <td>1</td>\n",
              "      <td>0</td>\n",
              "      <td>Kahaani</td>\n",
              "      <td>[{'id': 10092, 'name': 'mystery'}, {'id': 1054...</td>\n",
              "      <td>[{'cast_id': 1, 'character': 'Vidya Bagchi', '...</td>\n",
              "      <td>[{'credit_id': '52fe48779251416c9108d6eb', 'de...</td>\n",
              "      <td>16000000</td>\n",
              "      <td>12</td>\n",
              "      <td>2</td>\n",
              "    </tr>\n",
              "    <tr>\n",
              "      <th>4</th>\n",
              "      <td>0</td>\n",
              "      <td>28</td>\n",
              "      <td>0</td>\n",
              "      <td>0</td>\n",
              "      <td>1.148070</td>\n",
              "      <td>0</td>\n",
              "      <td>1</td>\n",
              "      <td>118</td>\n",
              "      <td>0</td>\n",
              "      <td>0</td>\n",
              "      <td>Marine Boy</td>\n",
              "      <td>NaN</td>\n",
              "      <td>[{'cast_id': 3, 'character': 'Chun-soo', 'cred...</td>\n",
              "      <td>[{'credit_id': '52fe464b9251416c75073b43', 'de...</td>\n",
              "      <td>3923970</td>\n",
              "      <td>9</td>\n",
              "      <td>1</td>\n",
              "    </tr>\n",
              "  </tbody>\n",
              "</table>\n",
              "</div>"
            ],
            "text/plain": [
              "     budget  genres homepage  ...   revenue  release_year number_of_spoken_languages\n",
              "0  14000000      35        0  ...  12314651            15                          1\n",
              "1  40000000      35        0  ...  95149435             4                          1\n",
              "2   3300000      18        1  ...  13092000            14                          1\n",
              "3   1200000      53        1  ...  16000000            12                          2\n",
              "4         0      28        0  ...   3923970             9                          1\n",
              "\n",
              "[5 rows x 17 columns]"
            ]
          },
          "metadata": {
            "tags": []
          },
          "execution_count": 52
        }
      ]
    },
    {
      "cell_type": "markdown",
      "metadata": {
        "id": "dMnYgyuCmiUF"
      },
      "source": [
        "Dropping title column"
      ]
    },
    {
      "cell_type": "code",
      "metadata": {
        "id": "3CFsPXn_mkgO"
      },
      "source": [
        "trainset.drop(['title'], axis = 1,inplace=True)"
      ],
      "execution_count": null,
      "outputs": []
    },
    {
      "cell_type": "code",
      "metadata": {
        "id": "Kt7MX5Ybm3vH"
      },
      "source": [
        "testset.drop(['title'], axis = 1,inplace=True)"
      ],
      "execution_count": null,
      "outputs": []
    },
    {
      "cell_type": "code",
      "metadata": {
        "colab": {
          "base_uri": "https://localhost:8080/",
          "height": 467
        },
        "id": "AjeL6EJDnsBR",
        "outputId": "7fa97a7c-fbd6-40dd-df00-1553717df7e5"
      },
      "source": [
        "trainset.head()"
      ],
      "execution_count": null,
      "outputs": [
        {
          "output_type": "execute_result",
          "data": {
            "text/html": [
              "<div>\n",
              "<style scoped>\n",
              "    .dataframe tbody tr th:only-of-type {\n",
              "        vertical-align: middle;\n",
              "    }\n",
              "\n",
              "    .dataframe tbody tr th {\n",
              "        vertical-align: top;\n",
              "    }\n",
              "\n",
              "    .dataframe thead th {\n",
              "        text-align: right;\n",
              "    }\n",
              "</style>\n",
              "<table border=\"1\" class=\"dataframe\">\n",
              "  <thead>\n",
              "    <tr style=\"text-align: right;\">\n",
              "      <th></th>\n",
              "      <th>budget</th>\n",
              "      <th>genres</th>\n",
              "      <th>homepage</th>\n",
              "      <th>original_language</th>\n",
              "      <th>popularity</th>\n",
              "      <th>production_companies</th>\n",
              "      <th>production_countries</th>\n",
              "      <th>runtime</th>\n",
              "      <th>spoken_languages</th>\n",
              "      <th>status</th>\n",
              "      <th>Keywords</th>\n",
              "      <th>cast</th>\n",
              "      <th>crew</th>\n",
              "      <th>revenue</th>\n",
              "      <th>release_year</th>\n",
              "      <th>number_of_spoken_languages</th>\n",
              "    </tr>\n",
              "  </thead>\n",
              "  <tbody>\n",
              "    <tr>\n",
              "      <th>0</th>\n",
              "      <td>14000000</td>\n",
              "      <td>35</td>\n",
              "      <td>0</td>\n",
              "      <td>1</td>\n",
              "      <td>6.575393</td>\n",
              "      <td>3</td>\n",
              "      <td>1</td>\n",
              "      <td>93</td>\n",
              "      <td>1</td>\n",
              "      <td>0</td>\n",
              "      <td>[{'id': 4379, 'name': 'time travel'}, {'id': 9...</td>\n",
              "      <td>[{'cast_id': 4, 'character': 'Lou', 'credit_id...</td>\n",
              "      <td>[{'credit_id': '59ac067c92514107af02c8c8', 'de...</td>\n",
              "      <td>12314651</td>\n",
              "      <td>15</td>\n",
              "      <td>1</td>\n",
              "    </tr>\n",
              "    <tr>\n",
              "      <th>1</th>\n",
              "      <td>40000000</td>\n",
              "      <td>35</td>\n",
              "      <td>0</td>\n",
              "      <td>1</td>\n",
              "      <td>8.248895</td>\n",
              "      <td>1</td>\n",
              "      <td>1</td>\n",
              "      <td>113</td>\n",
              "      <td>1</td>\n",
              "      <td>0</td>\n",
              "      <td>[{'id': 2505, 'name': 'coronation'}, {'id': 42...</td>\n",
              "      <td>[{'cast_id': 1, 'character': 'Mia Thermopolis'...</td>\n",
              "      <td>[{'credit_id': '52fe43fe9251416c7502563d', 'de...</td>\n",
              "      <td>95149435</td>\n",
              "      <td>4</td>\n",
              "      <td>1</td>\n",
              "    </tr>\n",
              "    <tr>\n",
              "      <th>2</th>\n",
              "      <td>3300000</td>\n",
              "      <td>18</td>\n",
              "      <td>1</td>\n",
              "      <td>1</td>\n",
              "      <td>64.299990</td>\n",
              "      <td>3</td>\n",
              "      <td>1</td>\n",
              "      <td>105</td>\n",
              "      <td>1</td>\n",
              "      <td>0</td>\n",
              "      <td>[{'id': 1416, 'name': 'jazz'}, {'id': 1523, 'n...</td>\n",
              "      <td>[{'cast_id': 5, 'character': 'Andrew Neimann',...</td>\n",
              "      <td>[{'credit_id': '54d5356ec3a3683ba0000039', 'de...</td>\n",
              "      <td>13092000</td>\n",
              "      <td>14</td>\n",
              "      <td>1</td>\n",
              "    </tr>\n",
              "    <tr>\n",
              "      <th>3</th>\n",
              "      <td>1200000</td>\n",
              "      <td>53</td>\n",
              "      <td>1</td>\n",
              "      <td>0</td>\n",
              "      <td>3.174936</td>\n",
              "      <td>0</td>\n",
              "      <td>1</td>\n",
              "      <td>122</td>\n",
              "      <td>1</td>\n",
              "      <td>0</td>\n",
              "      <td>[{'id': 10092, 'name': 'mystery'}, {'id': 1054...</td>\n",
              "      <td>[{'cast_id': 1, 'character': 'Vidya Bagchi', '...</td>\n",
              "      <td>[{'credit_id': '52fe48779251416c9108d6eb', 'de...</td>\n",
              "      <td>16000000</td>\n",
              "      <td>12</td>\n",
              "      <td>2</td>\n",
              "    </tr>\n",
              "    <tr>\n",
              "      <th>4</th>\n",
              "      <td>0</td>\n",
              "      <td>28</td>\n",
              "      <td>0</td>\n",
              "      <td>0</td>\n",
              "      <td>1.148070</td>\n",
              "      <td>0</td>\n",
              "      <td>1</td>\n",
              "      <td>118</td>\n",
              "      <td>0</td>\n",
              "      <td>0</td>\n",
              "      <td>NaN</td>\n",
              "      <td>[{'cast_id': 3, 'character': 'Chun-soo', 'cred...</td>\n",
              "      <td>[{'credit_id': '52fe464b9251416c75073b43', 'de...</td>\n",
              "      <td>3923970</td>\n",
              "      <td>9</td>\n",
              "      <td>1</td>\n",
              "    </tr>\n",
              "  </tbody>\n",
              "</table>\n",
              "</div>"
            ],
            "text/plain": [
              "     budget  genres homepage  ...   revenue  release_year number_of_spoken_languages\n",
              "0  14000000      35        0  ...  12314651            15                          1\n",
              "1  40000000      35        0  ...  95149435             4                          1\n",
              "2   3300000      18        1  ...  13092000            14                          1\n",
              "3   1200000      53        1  ...  16000000            12                          2\n",
              "4         0      28        0  ...   3923970             9                          1\n",
              "\n",
              "[5 rows x 16 columns]"
            ]
          },
          "metadata": {
            "tags": []
          },
          "execution_count": 55
        }
      ]
    },
    {
      "cell_type": "markdown",
      "metadata": {
        "id": "DTsa-3JaquoJ"
      },
      "source": [
        "Drop Keywords column"
      ]
    },
    {
      "cell_type": "code",
      "metadata": {
        "id": "H5BX66vaqw01"
      },
      "source": [
        "trainset.drop(['Keywords'], axis = 1,inplace=True)\n",
        "testset.drop(['Keywords'], axis = 1,inplace=True)"
      ],
      "execution_count": null,
      "outputs": []
    },
    {
      "cell_type": "markdown",
      "metadata": {
        "id": "Eve-wQV_q-B5"
      },
      "source": [
        "cast column"
      ]
    },
    {
      "cell_type": "code",
      "metadata": {
        "colab": {
          "base_uri": "https://localhost:8080/"
        },
        "id": "mCwFEX3OrCwz",
        "outputId": "2e6b3d23-d332-47b1-d612-2c68b939f376"
      },
      "source": [
        "#getting number of cast members\n",
        "j = 0\n",
        "for i in trainset['cast']:\n",
        "    d = get_dict(i)\n",
        "    if d != {}:\n",
        "        trainset['cast'][j] = len(d)\n",
        "    else:\n",
        "         trainset['cast'][j] = 0\n",
        "    j += 1  "
      ],
      "execution_count": null,
      "outputs": [
        {
          "output_type": "stream",
          "text": [
            "/usr/local/lib/python3.7/dist-packages/ipykernel_launcher.py:6: SettingWithCopyWarning: \n",
            "A value is trying to be set on a copy of a slice from a DataFrame\n",
            "\n",
            "See the caveats in the documentation: https://pandas.pydata.org/pandas-docs/stable/user_guide/indexing.html#returning-a-view-versus-a-copy\n",
            "  \n",
            "/usr/local/lib/python3.7/dist-packages/ipykernel_launcher.py:8: SettingWithCopyWarning: \n",
            "A value is trying to be set on a copy of a slice from a DataFrame\n",
            "\n",
            "See the caveats in the documentation: https://pandas.pydata.org/pandas-docs/stable/user_guide/indexing.html#returning-a-view-versus-a-copy\n",
            "  \n"
          ],
          "name": "stderr"
        }
      ]
    },
    {
      "cell_type": "code",
      "metadata": {
        "colab": {
          "base_uri": "https://localhost:8080/"
        },
        "id": "TegSpipcrZiX",
        "outputId": "799a74ae-3d5d-4bbb-a782-b20487383359"
      },
      "source": [
        "j = 0\n",
        "for i in testset['cast']:\n",
        "    d = get_dict(i)\n",
        "    if d != {}:\n",
        "        testset['cast'][j] = len(d)\n",
        "    else:\n",
        "         testset['cast'][j] = 0\n",
        "    j += 1  "
      ],
      "execution_count": null,
      "outputs": [
        {
          "output_type": "stream",
          "text": [
            "/usr/local/lib/python3.7/dist-packages/ipykernel_launcher.py:5: SettingWithCopyWarning: \n",
            "A value is trying to be set on a copy of a slice from a DataFrame\n",
            "\n",
            "See the caveats in the documentation: https://pandas.pydata.org/pandas-docs/stable/user_guide/indexing.html#returning-a-view-versus-a-copy\n",
            "  \"\"\"\n",
            "/usr/local/lib/python3.7/dist-packages/ipykernel_launcher.py:7: SettingWithCopyWarning: \n",
            "A value is trying to be set on a copy of a slice from a DataFrame\n",
            "\n",
            "See the caveats in the documentation: https://pandas.pydata.org/pandas-docs/stable/user_guide/indexing.html#returning-a-view-versus-a-copy\n",
            "  import sys\n"
          ],
          "name": "stderr"
        }
      ]
    },
    {
      "cell_type": "code",
      "metadata": {
        "colab": {
          "base_uri": "https://localhost:8080/",
          "height": 383
        },
        "id": "Kkb_ZC0jreLK",
        "outputId": "d44ec8b7-f98a-45d0-ba37-46411def3de1"
      },
      "source": [
        "trainset.head()"
      ],
      "execution_count": null,
      "outputs": [
        {
          "output_type": "execute_result",
          "data": {
            "text/html": [
              "<div>\n",
              "<style scoped>\n",
              "    .dataframe tbody tr th:only-of-type {\n",
              "        vertical-align: middle;\n",
              "    }\n",
              "\n",
              "    .dataframe tbody tr th {\n",
              "        vertical-align: top;\n",
              "    }\n",
              "\n",
              "    .dataframe thead th {\n",
              "        text-align: right;\n",
              "    }\n",
              "</style>\n",
              "<table border=\"1\" class=\"dataframe\">\n",
              "  <thead>\n",
              "    <tr style=\"text-align: right;\">\n",
              "      <th></th>\n",
              "      <th>budget</th>\n",
              "      <th>genres</th>\n",
              "      <th>homepage</th>\n",
              "      <th>original_language</th>\n",
              "      <th>popularity</th>\n",
              "      <th>production_companies</th>\n",
              "      <th>production_countries</th>\n",
              "      <th>runtime</th>\n",
              "      <th>spoken_languages</th>\n",
              "      <th>status</th>\n",
              "      <th>cast</th>\n",
              "      <th>crew</th>\n",
              "      <th>revenue</th>\n",
              "      <th>release_year</th>\n",
              "      <th>number_of_spoken_languages</th>\n",
              "    </tr>\n",
              "  </thead>\n",
              "  <tbody>\n",
              "    <tr>\n",
              "      <th>0</th>\n",
              "      <td>14000000</td>\n",
              "      <td>35</td>\n",
              "      <td>0</td>\n",
              "      <td>1</td>\n",
              "      <td>6.575393</td>\n",
              "      <td>3</td>\n",
              "      <td>1</td>\n",
              "      <td>93</td>\n",
              "      <td>1</td>\n",
              "      <td>0</td>\n",
              "      <td>24</td>\n",
              "      <td>[{'credit_id': '59ac067c92514107af02c8c8', 'de...</td>\n",
              "      <td>12314651</td>\n",
              "      <td>15</td>\n",
              "      <td>1</td>\n",
              "    </tr>\n",
              "    <tr>\n",
              "      <th>1</th>\n",
              "      <td>40000000</td>\n",
              "      <td>35</td>\n",
              "      <td>0</td>\n",
              "      <td>1</td>\n",
              "      <td>8.248895</td>\n",
              "      <td>1</td>\n",
              "      <td>1</td>\n",
              "      <td>113</td>\n",
              "      <td>1</td>\n",
              "      <td>0</td>\n",
              "      <td>20</td>\n",
              "      <td>[{'credit_id': '52fe43fe9251416c7502563d', 'de...</td>\n",
              "      <td>95149435</td>\n",
              "      <td>4</td>\n",
              "      <td>1</td>\n",
              "    </tr>\n",
              "    <tr>\n",
              "      <th>2</th>\n",
              "      <td>3300000</td>\n",
              "      <td>18</td>\n",
              "      <td>1</td>\n",
              "      <td>1</td>\n",
              "      <td>64.299990</td>\n",
              "      <td>3</td>\n",
              "      <td>1</td>\n",
              "      <td>105</td>\n",
              "      <td>1</td>\n",
              "      <td>0</td>\n",
              "      <td>51</td>\n",
              "      <td>[{'credit_id': '54d5356ec3a3683ba0000039', 'de...</td>\n",
              "      <td>13092000</td>\n",
              "      <td>14</td>\n",
              "      <td>1</td>\n",
              "    </tr>\n",
              "    <tr>\n",
              "      <th>3</th>\n",
              "      <td>1200000</td>\n",
              "      <td>53</td>\n",
              "      <td>1</td>\n",
              "      <td>0</td>\n",
              "      <td>3.174936</td>\n",
              "      <td>0</td>\n",
              "      <td>1</td>\n",
              "      <td>122</td>\n",
              "      <td>1</td>\n",
              "      <td>0</td>\n",
              "      <td>7</td>\n",
              "      <td>[{'credit_id': '52fe48779251416c9108d6eb', 'de...</td>\n",
              "      <td>16000000</td>\n",
              "      <td>12</td>\n",
              "      <td>2</td>\n",
              "    </tr>\n",
              "    <tr>\n",
              "      <th>4</th>\n",
              "      <td>0</td>\n",
              "      <td>28</td>\n",
              "      <td>0</td>\n",
              "      <td>0</td>\n",
              "      <td>1.148070</td>\n",
              "      <td>0</td>\n",
              "      <td>1</td>\n",
              "      <td>118</td>\n",
              "      <td>0</td>\n",
              "      <td>0</td>\n",
              "      <td>4</td>\n",
              "      <td>[{'credit_id': '52fe464b9251416c75073b43', 'de...</td>\n",
              "      <td>3923970</td>\n",
              "      <td>9</td>\n",
              "      <td>1</td>\n",
              "    </tr>\n",
              "  </tbody>\n",
              "</table>\n",
              "</div>"
            ],
            "text/plain": [
              "     budget  genres homepage  ...   revenue  release_year number_of_spoken_languages\n",
              "0  14000000      35        0  ...  12314651            15                          1\n",
              "1  40000000      35        0  ...  95149435             4                          1\n",
              "2   3300000      18        1  ...  13092000            14                          1\n",
              "3   1200000      53        1  ...  16000000            12                          2\n",
              "4         0      28        0  ...   3923970             9                          1\n",
              "\n",
              "[5 rows x 15 columns]"
            ]
          },
          "metadata": {
            "tags": []
          },
          "execution_count": 59
        }
      ]
    },
    {
      "cell_type": "markdown",
      "metadata": {
        "id": "5USyqAJwroY2"
      },
      "source": [
        "crew column"
      ]
    },
    {
      "cell_type": "code",
      "metadata": {
        "colab": {
          "base_uri": "https://localhost:8080/"
        },
        "id": "VWL7GZIErpZV",
        "outputId": "648f6ecd-a5bc-4410-978b-375a75b61791"
      },
      "source": [
        "#getting number of crew\n",
        "j = 0\n",
        "for i in trainset['crew']:\n",
        "    d = get_dict(i)\n",
        "    if d != {}:\n",
        "        trainset['crew'][j] = len(d)\n",
        "    else:\n",
        "         trainset['crew'][j] = 0\n",
        "    j += 1  "
      ],
      "execution_count": null,
      "outputs": [
        {
          "output_type": "stream",
          "text": [
            "/usr/local/lib/python3.7/dist-packages/ipykernel_launcher.py:6: SettingWithCopyWarning: \n",
            "A value is trying to be set on a copy of a slice from a DataFrame\n",
            "\n",
            "See the caveats in the documentation: https://pandas.pydata.org/pandas-docs/stable/user_guide/indexing.html#returning-a-view-versus-a-copy\n",
            "  \n",
            "/usr/local/lib/python3.7/dist-packages/ipykernel_launcher.py:8: SettingWithCopyWarning: \n",
            "A value is trying to be set on a copy of a slice from a DataFrame\n",
            "\n",
            "See the caveats in the documentation: https://pandas.pydata.org/pandas-docs/stable/user_guide/indexing.html#returning-a-view-versus-a-copy\n",
            "  \n"
          ],
          "name": "stderr"
        }
      ]
    },
    {
      "cell_type": "code",
      "metadata": {
        "colab": {
          "base_uri": "https://localhost:8080/"
        },
        "id": "bWaI1VdYrrei",
        "outputId": "fb3325b3-1218-4309-ad0e-9e72fcfd0a8d"
      },
      "source": [
        "j = 0\n",
        "for i in testset['crew']:\n",
        "    d = get_dict(i)\n",
        "    if d != {}:\n",
        "        testset['crew'][j] = len(d)\n",
        "    else:\n",
        "         testset['crew'][j] = 0\n",
        "    j += 1 "
      ],
      "execution_count": null,
      "outputs": [
        {
          "output_type": "stream",
          "text": [
            "/usr/local/lib/python3.7/dist-packages/ipykernel_launcher.py:5: SettingWithCopyWarning: \n",
            "A value is trying to be set on a copy of a slice from a DataFrame\n",
            "\n",
            "See the caveats in the documentation: https://pandas.pydata.org/pandas-docs/stable/user_guide/indexing.html#returning-a-view-versus-a-copy\n",
            "  \"\"\"\n",
            "/usr/local/lib/python3.7/dist-packages/ipykernel_launcher.py:7: SettingWithCopyWarning: \n",
            "A value is trying to be set on a copy of a slice from a DataFrame\n",
            "\n",
            "See the caveats in the documentation: https://pandas.pydata.org/pandas-docs/stable/user_guide/indexing.html#returning-a-view-versus-a-copy\n",
            "  import sys\n"
          ],
          "name": "stderr"
        }
      ]
    },
    {
      "cell_type": "code",
      "metadata": {
        "colab": {
          "base_uri": "https://localhost:8080/",
          "height": 214
        },
        "id": "9XBB_1jHsM1K",
        "outputId": "0a19fc29-e4c2-415f-c553-dcaa07b6093c"
      },
      "source": [
        "trainset.head()"
      ],
      "execution_count": null,
      "outputs": [
        {
          "output_type": "execute_result",
          "data": {
            "text/html": [
              "<div>\n",
              "<style scoped>\n",
              "    .dataframe tbody tr th:only-of-type {\n",
              "        vertical-align: middle;\n",
              "    }\n",
              "\n",
              "    .dataframe tbody tr th {\n",
              "        vertical-align: top;\n",
              "    }\n",
              "\n",
              "    .dataframe thead th {\n",
              "        text-align: right;\n",
              "    }\n",
              "</style>\n",
              "<table border=\"1\" class=\"dataframe\">\n",
              "  <thead>\n",
              "    <tr style=\"text-align: right;\">\n",
              "      <th></th>\n",
              "      <th>budget</th>\n",
              "      <th>genres</th>\n",
              "      <th>homepage</th>\n",
              "      <th>original_language</th>\n",
              "      <th>popularity</th>\n",
              "      <th>production_companies</th>\n",
              "      <th>production_countries</th>\n",
              "      <th>runtime</th>\n",
              "      <th>spoken_languages</th>\n",
              "      <th>status</th>\n",
              "      <th>cast</th>\n",
              "      <th>crew</th>\n",
              "      <th>revenue</th>\n",
              "      <th>release_year</th>\n",
              "      <th>number_of_spoken_languages</th>\n",
              "    </tr>\n",
              "  </thead>\n",
              "  <tbody>\n",
              "    <tr>\n",
              "      <th>0</th>\n",
              "      <td>14000000</td>\n",
              "      <td>35</td>\n",
              "      <td>0</td>\n",
              "      <td>1</td>\n",
              "      <td>6.575393</td>\n",
              "      <td>3</td>\n",
              "      <td>1</td>\n",
              "      <td>93</td>\n",
              "      <td>1</td>\n",
              "      <td>0</td>\n",
              "      <td>24</td>\n",
              "      <td>72</td>\n",
              "      <td>12314651</td>\n",
              "      <td>15</td>\n",
              "      <td>1</td>\n",
              "    </tr>\n",
              "    <tr>\n",
              "      <th>1</th>\n",
              "      <td>40000000</td>\n",
              "      <td>35</td>\n",
              "      <td>0</td>\n",
              "      <td>1</td>\n",
              "      <td>8.248895</td>\n",
              "      <td>1</td>\n",
              "      <td>1</td>\n",
              "      <td>113</td>\n",
              "      <td>1</td>\n",
              "      <td>0</td>\n",
              "      <td>20</td>\n",
              "      <td>9</td>\n",
              "      <td>95149435</td>\n",
              "      <td>4</td>\n",
              "      <td>1</td>\n",
              "    </tr>\n",
              "    <tr>\n",
              "      <th>2</th>\n",
              "      <td>3300000</td>\n",
              "      <td>18</td>\n",
              "      <td>1</td>\n",
              "      <td>1</td>\n",
              "      <td>64.299990</td>\n",
              "      <td>3</td>\n",
              "      <td>1</td>\n",
              "      <td>105</td>\n",
              "      <td>1</td>\n",
              "      <td>0</td>\n",
              "      <td>51</td>\n",
              "      <td>64</td>\n",
              "      <td>13092000</td>\n",
              "      <td>14</td>\n",
              "      <td>1</td>\n",
              "    </tr>\n",
              "    <tr>\n",
              "      <th>3</th>\n",
              "      <td>1200000</td>\n",
              "      <td>53</td>\n",
              "      <td>1</td>\n",
              "      <td>0</td>\n",
              "      <td>3.174936</td>\n",
              "      <td>0</td>\n",
              "      <td>1</td>\n",
              "      <td>122</td>\n",
              "      <td>1</td>\n",
              "      <td>0</td>\n",
              "      <td>7</td>\n",
              "      <td>3</td>\n",
              "      <td>16000000</td>\n",
              "      <td>12</td>\n",
              "      <td>2</td>\n",
              "    </tr>\n",
              "    <tr>\n",
              "      <th>4</th>\n",
              "      <td>0</td>\n",
              "      <td>28</td>\n",
              "      <td>0</td>\n",
              "      <td>0</td>\n",
              "      <td>1.148070</td>\n",
              "      <td>0</td>\n",
              "      <td>1</td>\n",
              "      <td>118</td>\n",
              "      <td>0</td>\n",
              "      <td>0</td>\n",
              "      <td>4</td>\n",
              "      <td>2</td>\n",
              "      <td>3923970</td>\n",
              "      <td>9</td>\n",
              "      <td>1</td>\n",
              "    </tr>\n",
              "  </tbody>\n",
              "</table>\n",
              "</div>"
            ],
            "text/plain": [
              "     budget  genres homepage  ...   revenue  release_year number_of_spoken_languages\n",
              "0  14000000      35        0  ...  12314651            15                          1\n",
              "1  40000000      35        0  ...  95149435             4                          1\n",
              "2   3300000      18        1  ...  13092000            14                          1\n",
              "3   1200000      53        1  ...  16000000            12                          2\n",
              "4         0      28        0  ...   3923970             9                          1\n",
              "\n",
              "[5 rows x 15 columns]"
            ]
          },
          "metadata": {
            "tags": []
          },
          "execution_count": 62
        }
      ]
    },
    {
      "cell_type": "code",
      "metadata": {
        "colab": {
          "base_uri": "https://localhost:8080/"
        },
        "id": "GSLuGNfStl_X",
        "outputId": "6d4d19fc-fefb-4e0b-c113-d72554fee703"
      },
      "source": [
        "testset.isnull().sum()"
      ],
      "execution_count": null,
      "outputs": [
        {
          "output_type": "execute_result",
          "data": {
            "text/plain": [
              "budget                        0\n",
              "genres                        0\n",
              "homepage                      0\n",
              "original_language             0\n",
              "popularity                    0\n",
              "production_companies          0\n",
              "production_countries          0\n",
              "runtime                       0\n",
              "spoken_languages              0\n",
              "status                        0\n",
              "cast                          0\n",
              "crew                          0\n",
              "release_year                  0\n",
              "number_of_spoken_languages    0\n",
              "dtype: int64"
            ]
          },
          "metadata": {
            "tags": []
          },
          "execution_count": 63
        }
      ]
    },
    {
      "cell_type": "code",
      "metadata": {
        "colab": {
          "base_uri": "https://localhost:8080/"
        },
        "id": "Jeyn5AzgtnWS",
        "outputId": "c32bf450-90a1-4300-b74b-d49e58e5df46"
      },
      "source": [
        "trainset.isnull().sum()"
      ],
      "execution_count": null,
      "outputs": [
        {
          "output_type": "execute_result",
          "data": {
            "text/plain": [
              "budget                        0\n",
              "genres                        0\n",
              "homepage                      0\n",
              "original_language             0\n",
              "popularity                    0\n",
              "production_companies          0\n",
              "production_countries          0\n",
              "runtime                       0\n",
              "spoken_languages              0\n",
              "status                        0\n",
              "cast                          0\n",
              "crew                          0\n",
              "revenue                       0\n",
              "release_year                  0\n",
              "number_of_spoken_languages    0\n",
              "dtype: int64"
            ]
          },
          "metadata": {
            "tags": []
          },
          "execution_count": 64
        }
      ]
    },
    {
      "cell_type": "markdown",
      "metadata": {
        "id": "-NdKJ7a2sTHD"
      },
      "source": [
        "Getting X_train and y_train"
      ]
    },
    {
      "cell_type": "code",
      "metadata": {
        "colab": {
          "base_uri": "https://localhost:8080/"
        },
        "id": "WOwh98lRsR_g",
        "outputId": "f0edcb71-96eb-4b58-cdfc-47b6c352cf44"
      },
      "source": [
        "trainset.columns.get_loc('revenue')"
      ],
      "execution_count": null,
      "outputs": [
        {
          "output_type": "execute_result",
          "data": {
            "text/plain": [
              "12"
            ]
          },
          "metadata": {
            "tags": []
          },
          "execution_count": 65
        }
      ]
    },
    {
      "cell_type": "code",
      "metadata": {
        "colab": {
          "base_uri": "https://localhost:8080/"
        },
        "id": "v4w_lBgpss0Z",
        "outputId": "bbb497b5-bed6-40ff-8f42-13ee0c92d1e2"
      },
      "source": [
        "trainset.shape"
      ],
      "execution_count": null,
      "outputs": [
        {
          "output_type": "execute_result",
          "data": {
            "text/plain": [
              "(3000, 15)"
            ]
          },
          "metadata": {
            "tags": []
          },
          "execution_count": 66
        }
      ]
    },
    {
      "cell_type": "code",
      "metadata": {
        "colab": {
          "base_uri": "https://localhost:8080/"
        },
        "id": "mQHWvk_lsvD-",
        "outputId": "3429c3fc-3f90-4faa-b044-c63152a9b2e3"
      },
      "source": [
        "X = trainset.iloc[:, 0:16]\n",
        "X_train=X.drop(columns=['revenue'])\n",
        "X_train.shape"
      ],
      "execution_count": null,
      "outputs": [
        {
          "output_type": "execute_result",
          "data": {
            "text/plain": [
              "(3000, 14)"
            ]
          },
          "metadata": {
            "tags": []
          },
          "execution_count": 67
        }
      ]
    },
    {
      "cell_type": "code",
      "metadata": {
        "colab": {
          "base_uri": "https://localhost:8080/"
        },
        "id": "M_pjqs7Js9W2",
        "outputId": "f4fd133c-fe0f-4e1d-f664-69dc4409ed66"
      },
      "source": [
        "testset.shape"
      ],
      "execution_count": null,
      "outputs": [
        {
          "output_type": "execute_result",
          "data": {
            "text/plain": [
              "(4398, 14)"
            ]
          },
          "metadata": {
            "tags": []
          },
          "execution_count": 68
        }
      ]
    },
    {
      "cell_type": "code",
      "metadata": {
        "colab": {
          "base_uri": "https://localhost:8080/"
        },
        "id": "Jt5ovyv9tEBX",
        "outputId": "9481cb0b-7b7b-4326-93bc-b45ed6b9ee4a"
      },
      "source": [
        "y_train=trainset.iloc[:, 12]\n",
        "print(y_train)"
      ],
      "execution_count": null,
      "outputs": [
        {
          "output_type": "stream",
          "text": [
            "0        12314651\n",
            "1        95149435\n",
            "2        13092000\n",
            "3        16000000\n",
            "4         3923970\n",
            "          ...    \n",
            "2995      1596687\n",
            "2996       180590\n",
            "2997     89456761\n",
            "2998    171963386\n",
            "2999     82087155\n",
            "Name: revenue, Length: 3000, dtype: int64\n"
          ],
          "name": "stdout"
        }
      ]
    },
    {
      "cell_type": "markdown",
      "metadata": {
        "id": "UoivK0iztH6j"
      },
      "source": [
        "Checking feature importance"
      ]
    },
    {
      "cell_type": "code",
      "metadata": {
        "colab": {
          "base_uri": "https://localhost:8080/",
          "height": 265
        },
        "id": "uWvlR1Y-tNLY",
        "outputId": "8b0b0426-3e79-4c6c-9f42-28b079e43653"
      },
      "source": [
        "from sklearn.ensemble import ExtraTreesRegressor\n",
        "import matplotlib.pyplot as plt\n",
        "model = ExtraTreesRegressor()\n",
        "model.fit(X_train,y_train)\n",
        "feat_importances = pd.Series(model.feature_importances_, index=X_train.columns)\n",
        "feat_importances.nlargest(15).plot(kind='barh')\n",
        "plt.show()"
      ],
      "execution_count": null,
      "outputs": [
        {
          "output_type": "display_data",
          "data": {
            "image/png": "[encoded data removed]",
            "text/plain": [
              "<Figure size 432x288 with 1 Axes>"
            ]
          },
          "metadata": {
            "tags": [],
            "needs_background": "light"
          }
        }
      ]
    },
    {
      "cell_type": "markdown",
      "metadata": {
        "id": "r-0O08hEuP8Q"
      },
      "source": [
        "Using SVR"
      ]
    },
    {
      "cell_type": "code",
      "metadata": {
        "colab": {
          "base_uri": "https://localhost:8080/"
        },
        "id": "JfBpM8EHuVQj",
        "outputId": "b4c53654-154d-46d9-ecb8-750ce8b26327"
      },
      "source": [
        "from sklearn.svm import SVR\n",
        "regressor=SVR(kernel='rbf')\n",
        "regressor.fit(X_train,y_train)"
      ],
      "execution_count": null,
      "outputs": [
        {
          "output_type": "execute_result",
          "data": {
            "text/plain": [
              "SVR(C=1.0, cache_size=200, coef0=0.0, degree=3, epsilon=0.1, gamma='scale',\n",
              "    kernel='rbf', max_iter=-1, shrinking=True, tol=0.001, verbose=False)"
            ]
          },
          "metadata": {
            "tags": []
          },
          "execution_count": 71
        }
      ]
    },
    {
      "cell_type": "code",
      "metadata": {
        "id": "UYaa6yAQuYvr"
      },
      "source": [
        "y_pred=regressor.predict(testset)\n",
        "\n",
        "result_data = pd.read_csv(\"sample_submission.csv\")\n",
        "output = pd.DataFrame({'id': result_data.id, 'revenue': y_pred})\n",
        "output.to_csv('my_submission1.csv', index=False)   #1217/1395"
      ],
      "execution_count": null,
      "outputs": []
    },
    {
      "cell_type": "markdown",
      "metadata": {
        "id": "U0tVflKIvN3l"
      },
      "source": [
        "Catboost"
      ]
    },
    {
      "cell_type": "code",
      "metadata": {
        "colab": {
          "base_uri": "https://localhost:8080/"
        },
        "id": "iH9lxM7RvX4w",
        "outputId": "3ef171ae-3971-473d-966a-8a0c2d1d100c"
      },
      "source": [
        "!pip install catboost"
      ],
      "execution_count": null,
      "outputs": [
        {
          "output_type": "stream",
          "text": [
            "Requirement already satisfied: catboost in /usr/local/lib/python3.7/dist-packages (0.24.4)\n",
            "Requirement already satisfied: graphviz in /usr/local/lib/python3.7/dist-packages (from catboost) (0.10.1)\n",
            "Requirement already satisfied: matplotlib in /usr/local/lib/python3.7/dist-packages (from catboost) (3.2.2)\n",
            "Requirement already satisfied: pandas>=0.24.0 in /usr/local/lib/python3.7/dist-packages (from catboost) (1.1.5)\n",
            "Requirement already satisfied: six in /usr/local/lib/python3.7/dist-packages (from catboost) (1.15.0)\n",
            "Requirement already satisfied: scipy in /usr/local/lib/python3.7/dist-packages (from catboost) (1.4.1)\n",
            "Requirement already satisfied: plotly in /usr/local/lib/python3.7/dist-packages (from catboost) (4.4.1)\n",
            "Requirement already satisfied: numpy>=1.16.0 in /usr/local/lib/python3.7/dist-packages (from catboost) (1.19.5)\n",
            "Requirement already satisfied: kiwisolver>=1.0.1 in /usr/local/lib/python3.7/dist-packages (from matplotlib->catboost) (1.3.1)\n",
            "Requirement already satisfied: python-dateutil>=2.1 in /usr/local/lib/python3.7/dist-packages (from matplotlib->catboost) (2.8.1)\n",
            "Requirement already satisfied: pyparsing!=2.0.4,!=2.1.2,!=2.1.6,>=2.0.1 in /usr/local/lib/python3.7/dist-packages (from matplotlib->catboost) (2.4.7)\n",
            "Requirement already satisfied: cycler>=0.10 in /usr/local/lib/python3.7/dist-packages (from matplotlib->catboost) (0.10.0)\n",
            "Requirement already satisfied: pytz>=2017.2 in /usr/local/lib/python3.7/dist-packages (from pandas>=0.24.0->catboost) (2018.9)\n",
            "Requirement already satisfied: retrying>=1.3.3 in /usr/local/lib/python3.7/dist-packages (from plotly->catboost) (1.3.3)\n"
          ],
          "name": "stdout"
        }
      ]
    },
    {
      "cell_type": "code",
      "metadata": {
        "colab": {
          "base_uri": "https://localhost:8080/"
        },
        "id": "InZ9uNIbvQ5p",
        "outputId": "dfcf3ccc-b0c6-42b1-99b6-566aa6419e16"
      },
      "source": [
        "from numpy import mean\n",
        "from numpy import std\n",
        "from catboost import CatBoostRegressor\n",
        "best_grid = CatBoostRegressor()\n",
        "best_grid.fit(X_train, y_train)\n",
        "round(best_grid.score(X_train, y_train), 2)"
      ],
      "execution_count": null,
      "outputs": [
        {
          "output_type": "stream",
          "text": [
            "Learning rate set to 0.04746\n",
            "0:\tlearn: 134365092.7191756\ttotal: 48.5ms\tremaining: 48.5s\n",
            "1:\tlearn: 131260159.9053970\ttotal: 50.4ms\tremaining: 25.1s\n",
            "2:\tlearn: 128040180.3914517\ttotal: 52.2ms\tremaining: 17.3s\n",
            "3:\tlearn: 125060511.4400181\ttotal: 53.9ms\tremaining: 13.4s\n",
            "4:\tlearn: 122492648.1253933\ttotal: 55.7ms\tremaining: 11.1s\n",
            "5:\tlearn: 119876477.7624786\ttotal: 57.5ms\tremaining: 9.53s\n",
            "6:\tlearn: 117516010.1756465\ttotal: 59.2ms\tremaining: 8.4s\n",
            "7:\tlearn: 115241879.2899272\ttotal: 61ms\tremaining: 7.56s\n",
            "8:\tlearn: 113006022.9817747\ttotal: 62.7ms\tremaining: 6.91s\n",
            "9:\tlearn: 110673710.4724659\ttotal: 64.5ms\tremaining: 6.38s\n",
            "10:\tlearn: 108583368.7440270\ttotal: 66.3ms\tremaining: 5.96s\n",
            "11:\tlearn: 106588878.2477700\ttotal: 68.1ms\tremaining: 5.6s\n",
            "12:\tlearn: 104721899.3998129\ttotal: 69.8ms\tremaining: 5.3s\n",
            "13:\tlearn: 103023493.9464257\ttotal: 71.6ms\tremaining: 5.04s\n",
            "14:\tlearn: 101305974.0113396\ttotal: 73.3ms\tremaining: 4.82s\n",
            "15:\tlearn: 99786727.8872293\ttotal: 75.1ms\tremaining: 4.62s\n",
            "16:\tlearn: 98170937.6102405\ttotal: 77.1ms\tremaining: 4.46s\n",
            "17:\tlearn: 96857778.4960310\ttotal: 78.8ms\tremaining: 4.3s\n",
            "18:\tlearn: 95526613.2470937\ttotal: 80.6ms\tremaining: 4.16s\n",
            "19:\tlearn: 94224063.2148455\ttotal: 82.4ms\tremaining: 4.04s\n",
            "20:\tlearn: 92958031.4285409\ttotal: 84.2ms\tremaining: 3.92s\n",
            "21:\tlearn: 91733766.6490515\ttotal: 85.9ms\tremaining: 3.82s\n",
            "22:\tlearn: 90494386.5314705\ttotal: 87.7ms\tremaining: 3.72s\n",
            "23:\tlearn: 89360366.2432606\ttotal: 89.4ms\tremaining: 3.64s\n",
            "24:\tlearn: 88425415.1739968\ttotal: 91.2ms\tremaining: 3.56s\n",
            "25:\tlearn: 87490100.6368627\ttotal: 93ms\tremaining: 3.48s\n",
            "26:\tlearn: 86403948.1337882\ttotal: 94.8ms\tremaining: 3.41s\n",
            "27:\tlearn: 85530851.3317877\ttotal: 96.5ms\tremaining: 3.35s\n",
            "28:\tlearn: 84735517.3825843\ttotal: 98.3ms\tremaining: 3.29s\n",
            "29:\tlearn: 83950005.9851259\ttotal: 100ms\tremaining: 3.24s\n",
            "30:\tlearn: 83087103.1623864\ttotal: 102ms\tremaining: 3.19s\n",
            "31:\tlearn: 82353586.4784912\ttotal: 104ms\tremaining: 3.14s\n",
            "32:\tlearn: 81711305.5621958\ttotal: 106ms\tremaining: 3.12s\n",
            "33:\tlearn: 81120785.5470941\ttotal: 108ms\tremaining: 3.07s\n",
            "34:\tlearn: 80455432.0237056\ttotal: 110ms\tremaining: 3.03s\n",
            "35:\tlearn: 79834967.1366780\ttotal: 112ms\tremaining: 2.99s\n",
            "36:\tlearn: 79245583.5332711\ttotal: 113ms\tremaining: 2.95s\n",
            "37:\tlearn: 78713740.9477630\ttotal: 115ms\tremaining: 2.92s\n",
            "38:\tlearn: 78155768.1440470\ttotal: 117ms\tremaining: 2.88s\n",
            "39:\tlearn: 77588600.4515663\ttotal: 119ms\tremaining: 2.85s\n",
            "40:\tlearn: 77070645.7432677\ttotal: 121ms\tremaining: 2.82s\n",
            "41:\tlearn: 76578666.0533477\ttotal: 122ms\tremaining: 2.79s\n",
            "42:\tlearn: 76119585.4576483\ttotal: 124ms\tremaining: 2.77s\n",
            "43:\tlearn: 75663467.0756923\ttotal: 126ms\tremaining: 2.74s\n",
            "44:\tlearn: 75242273.1418469\ttotal: 128ms\tremaining: 2.71s\n",
            "45:\tlearn: 74803688.1278021\ttotal: 130ms\tremaining: 2.69s\n",
            "46:\tlearn: 74395925.6457834\ttotal: 132ms\tremaining: 2.67s\n",
            "47:\tlearn: 74032029.0232028\ttotal: 133ms\tremaining: 2.64s\n",
            "48:\tlearn: 73687121.6481808\ttotal: 135ms\tremaining: 2.62s\n",
            "49:\tlearn: 73298167.3828269\ttotal: 137ms\tremaining: 2.6s\n",
            "50:\tlearn: 72937674.4155447\ttotal: 139ms\tremaining: 2.58s\n",
            "51:\tlearn: 72642175.0100620\ttotal: 140ms\tremaining: 2.56s\n",
            "52:\tlearn: 72241233.3088573\ttotal: 142ms\tremaining: 2.54s\n",
            "53:\tlearn: 71787263.7203853\ttotal: 144ms\tremaining: 2.53s\n",
            "54:\tlearn: 71494697.4626935\ttotal: 146ms\tremaining: 2.51s\n",
            "55:\tlearn: 71260930.6729427\ttotal: 148ms\tremaining: 2.49s\n",
            "56:\tlearn: 71010679.8664246\ttotal: 150ms\tremaining: 2.47s\n",
            "57:\tlearn: 70662086.5469331\ttotal: 151ms\tremaining: 2.46s\n",
            "58:\tlearn: 70451380.3138956\ttotal: 153ms\tremaining: 2.44s\n",
            "59:\tlearn: 70247946.6903560\ttotal: 155ms\tremaining: 2.42s\n",
            "60:\tlearn: 69944651.9024702\ttotal: 157ms\tremaining: 2.41s\n",
            "61:\tlearn: 69633741.9279791\ttotal: 159ms\tremaining: 2.4s\n",
            "62:\tlearn: 69426115.4635142\ttotal: 160ms\tremaining: 2.38s\n",
            "63:\tlearn: 69215716.0106104\ttotal: 162ms\tremaining: 2.37s\n",
            "64:\tlearn: 68984606.1333602\ttotal: 164ms\tremaining: 2.36s\n",
            "65:\tlearn: 68790414.8003747\ttotal: 166ms\tremaining: 2.35s\n",
            "66:\tlearn: 68591528.4959355\ttotal: 167ms\tremaining: 2.33s\n",
            "67:\tlearn: 68425887.8972039\ttotal: 169ms\tremaining: 2.32s\n",
            "68:\tlearn: 68249659.1811439\ttotal: 171ms\tremaining: 2.31s\n",
            "69:\tlearn: 68107951.8742462\ttotal: 173ms\tremaining: 2.29s\n",
            "70:\tlearn: 67886990.0028922\ttotal: 174ms\tremaining: 2.28s\n",
            "71:\tlearn: 67687852.5220388\ttotal: 176ms\tremaining: 2.27s\n",
            "72:\tlearn: 67477928.4876416\ttotal: 178ms\tremaining: 2.26s\n",
            "73:\tlearn: 67334254.7080038\ttotal: 180ms\tremaining: 2.25s\n",
            "74:\tlearn: 67171603.7375667\ttotal: 181ms\tremaining: 2.24s\n",
            "75:\tlearn: 67039179.1825266\ttotal: 183ms\tremaining: 2.23s\n",
            "76:\tlearn: 66910544.7174312\ttotal: 187ms\tremaining: 2.24s\n",
            "77:\tlearn: 66794245.9054921\ttotal: 190ms\tremaining: 2.25s\n",
            "78:\tlearn: 66649245.4820570\ttotal: 192ms\tremaining: 2.24s\n",
            "79:\tlearn: 66400223.4408482\ttotal: 194ms\tremaining: 2.23s\n",
            "80:\tlearn: 66225982.2884582\ttotal: 196ms\tremaining: 2.22s\n",
            "81:\tlearn: 66024968.1440727\ttotal: 198ms\tremaining: 2.21s\n",
            "82:\tlearn: 65885169.1355897\ttotal: 200ms\tremaining: 2.21s\n",
            "83:\tlearn: 65815530.1320370\ttotal: 201ms\tremaining: 2.2s\n",
            "84:\tlearn: 65670450.7389284\ttotal: 203ms\tremaining: 2.19s\n",
            "85:\tlearn: 65619513.1415264\ttotal: 205ms\tremaining: 2.18s\n",
            "86:\tlearn: 65370879.5903745\ttotal: 207ms\tremaining: 2.17s\n",
            "87:\tlearn: 65261145.3619379\ttotal: 208ms\tremaining: 2.16s\n",
            "88:\tlearn: 65152248.6708919\ttotal: 210ms\tremaining: 2.15s\n",
            "89:\tlearn: 65072046.0822163\ttotal: 212ms\tremaining: 2.14s\n",
            "90:\tlearn: 64995906.9710902\ttotal: 214ms\tremaining: 2.13s\n",
            "91:\tlearn: 64926617.9086145\ttotal: 215ms\tremaining: 2.13s\n",
            "92:\tlearn: 64893512.9904682\ttotal: 217ms\tremaining: 2.12s\n",
            "93:\tlearn: 64871212.1647175\ttotal: 219ms\tremaining: 2.11s\n",
            "94:\tlearn: 64820917.9465602\ttotal: 220ms\tremaining: 2.1s\n",
            "95:\tlearn: 64748926.3391782\ttotal: 222ms\tremaining: 2.09s\n",
            "96:\tlearn: 64647621.6677317\ttotal: 224ms\tremaining: 2.08s\n",
            "97:\tlearn: 64599378.0897726\ttotal: 226ms\tremaining: 2.08s\n",
            "98:\tlearn: 64511336.9178566\ttotal: 227ms\tremaining: 2.07s\n",
            "99:\tlearn: 64392196.7028966\ttotal: 229ms\tremaining: 2.06s\n",
            "100:\tlearn: 64261434.0884951\ttotal: 231ms\tremaining: 2.06s\n",
            "101:\tlearn: 64178646.7963072\ttotal: 233ms\tremaining: 2.05s\n",
            "102:\tlearn: 64142064.7480444\ttotal: 235ms\tremaining: 2.04s\n",
            "103:\tlearn: 64019583.1519671\ttotal: 237ms\tremaining: 2.04s\n",
            "104:\tlearn: 63939799.1969781\ttotal: 238ms\tremaining: 2.03s\n",
            "105:\tlearn: 63870644.6396783\ttotal: 240ms\tremaining: 2.02s\n",
            "106:\tlearn: 63835514.0115627\ttotal: 242ms\tremaining: 2.02s\n",
            "107:\tlearn: 63748183.9714611\ttotal: 244ms\tremaining: 2.01s\n",
            "108:\tlearn: 63642287.9808270\ttotal: 245ms\tremaining: 2.01s\n",
            "109:\tlearn: 63564178.1991196\ttotal: 247ms\tremaining: 2s\n",
            "110:\tlearn: 63534192.6390676\ttotal: 249ms\tremaining: 1.99s\n",
            "111:\tlearn: 63384837.7207205\ttotal: 251ms\tremaining: 1.99s\n",
            "112:\tlearn: 63248395.2819783\ttotal: 252ms\tremaining: 1.98s\n",
            "113:\tlearn: 63104721.7682946\ttotal: 254ms\tremaining: 1.98s\n",
            "114:\tlearn: 63055041.3786193\ttotal: 257ms\tremaining: 1.98s\n",
            "115:\tlearn: 62949441.6250861\ttotal: 259ms\tremaining: 1.97s\n",
            "116:\tlearn: 62904433.9725699\ttotal: 261ms\tremaining: 1.97s\n",
            "117:\tlearn: 62884241.2594231\ttotal: 262ms\tremaining: 1.96s\n",
            "118:\tlearn: 62796564.2981531\ttotal: 264ms\tremaining: 1.95s\n",
            "119:\tlearn: 62715857.0443155\ttotal: 266ms\tremaining: 1.95s\n",
            "120:\tlearn: 62530983.4686611\ttotal: 267ms\tremaining: 1.94s\n",
            "121:\tlearn: 62414200.0276698\ttotal: 269ms\tremaining: 1.94s\n",
            "122:\tlearn: 62298156.4429931\ttotal: 271ms\tremaining: 1.93s\n",
            "123:\tlearn: 62233930.8114948\ttotal: 273ms\tremaining: 1.93s\n",
            "124:\tlearn: 62164238.6551727\ttotal: 275ms\tremaining: 1.92s\n",
            "125:\tlearn: 62063342.3960801\ttotal: 276ms\tremaining: 1.92s\n",
            "126:\tlearn: 62014318.9468495\ttotal: 278ms\tremaining: 1.91s\n",
            "127:\tlearn: 61976519.1162331\ttotal: 280ms\tremaining: 1.91s\n",
            "128:\tlearn: 61911792.4107172\ttotal: 281ms\tremaining: 1.9s\n",
            "129:\tlearn: 61744700.4988972\ttotal: 283ms\tremaining: 1.9s\n",
            "130:\tlearn: 61677208.5056292\ttotal: 285ms\tremaining: 1.89s\n",
            "131:\tlearn: 61577953.5558482\ttotal: 287ms\tremaining: 1.89s\n",
            "132:\tlearn: 61554467.5110307\ttotal: 289ms\tremaining: 1.88s\n",
            "133:\tlearn: 61518213.0879040\ttotal: 290ms\tremaining: 1.88s\n",
            "134:\tlearn: 61503461.9888949\ttotal: 292ms\tremaining: 1.87s\n",
            "135:\tlearn: 61431748.0933956\ttotal: 294ms\tremaining: 1.87s\n",
            "136:\tlearn: 61397981.7648393\ttotal: 296ms\tremaining: 1.86s\n",
            "137:\tlearn: 61380037.0249552\ttotal: 298ms\tremaining: 1.86s\n",
            "138:\tlearn: 61331590.4804923\ttotal: 299ms\tremaining: 1.85s\n",
            "139:\tlearn: 61211715.0545985\ttotal: 301ms\tremaining: 1.85s\n",
            "140:\tlearn: 61167819.2241029\ttotal: 303ms\tremaining: 1.84s\n",
            "141:\tlearn: 61145424.8722163\ttotal: 305ms\tremaining: 1.84s\n",
            "142:\tlearn: 61072743.1784981\ttotal: 306ms\tremaining: 1.83s\n",
            "143:\tlearn: 61023822.7774115\ttotal: 308ms\tremaining: 1.83s\n",
            "144:\tlearn: 60920830.5593290\ttotal: 310ms\tremaining: 1.83s\n",
            "145:\tlearn: 60872492.1044879\ttotal: 312ms\tremaining: 1.82s\n",
            "146:\tlearn: 60777856.1516806\ttotal: 314ms\tremaining: 1.82s\n",
            "147:\tlearn: 60638819.9765749\ttotal: 316ms\tremaining: 1.82s\n",
            "148:\tlearn: 60610014.2793935\ttotal: 317ms\tremaining: 1.81s\n",
            "149:\tlearn: 60560480.8416284\ttotal: 319ms\tremaining: 1.81s\n",
            "150:\tlearn: 60529279.3952599\ttotal: 321ms\tremaining: 1.8s\n",
            "151:\tlearn: 60443865.4229063\ttotal: 323ms\tremaining: 1.8s\n",
            "152:\tlearn: 60395321.9066612\ttotal: 324ms\tremaining: 1.79s\n",
            "153:\tlearn: 60353584.1224703\ttotal: 326ms\tremaining: 1.79s\n",
            "154:\tlearn: 60317990.2156490\ttotal: 328ms\tremaining: 1.79s\n",
            "155:\tlearn: 60221322.6512845\ttotal: 330ms\tremaining: 1.78s\n",
            "156:\tlearn: 60182385.7760494\ttotal: 331ms\tremaining: 1.78s\n",
            "157:\tlearn: 60118668.2187089\ttotal: 333ms\tremaining: 1.78s\n",
            "158:\tlearn: 59964173.0075120\ttotal: 335ms\tremaining: 1.77s\n",
            "159:\tlearn: 59919681.2699488\ttotal: 337ms\tremaining: 1.77s\n",
            "160:\tlearn: 59892730.0757770\ttotal: 339ms\tremaining: 1.77s\n",
            "161:\tlearn: 59851474.0924661\ttotal: 341ms\tremaining: 1.76s\n",
            "162:\tlearn: 59748159.5271375\ttotal: 343ms\tremaining: 1.76s\n",
            "163:\tlearn: 59727274.2316775\ttotal: 344ms\tremaining: 1.75s\n",
            "164:\tlearn: 59632841.7378048\ttotal: 346ms\tremaining: 1.75s\n",
            "165:\tlearn: 59554044.8942429\ttotal: 348ms\tremaining: 1.75s\n",
            "166:\tlearn: 59538218.0949321\ttotal: 349ms\tremaining: 1.74s\n",
            "167:\tlearn: 59491681.2565467\ttotal: 351ms\tremaining: 1.74s\n",
            "168:\tlearn: 59444709.1817894\ttotal: 353ms\tremaining: 1.74s\n",
            "169:\tlearn: 59417468.1059146\ttotal: 355ms\tremaining: 1.73s\n",
            "170:\tlearn: 59379770.1263863\ttotal: 357ms\tremaining: 1.73s\n",
            "171:\tlearn: 59335872.9509308\ttotal: 359ms\tremaining: 1.73s\n",
            "172:\tlearn: 59254148.1797080\ttotal: 360ms\tremaining: 1.72s\n",
            "173:\tlearn: 59235422.6339426\ttotal: 362ms\tremaining: 1.72s\n",
            "174:\tlearn: 59138816.5750722\ttotal: 364ms\tremaining: 1.72s\n",
            "175:\tlearn: 59095266.2581535\ttotal: 366ms\tremaining: 1.71s\n",
            "176:\tlearn: 59063738.0690370\ttotal: 367ms\tremaining: 1.71s\n",
            "177:\tlearn: 58984004.1511983\ttotal: 369ms\tremaining: 1.7s\n",
            "178:\tlearn: 58838804.6148289\ttotal: 376ms\tremaining: 1.73s\n",
            "179:\tlearn: 58802316.2864089\ttotal: 379ms\tremaining: 1.72s\n",
            "180:\tlearn: 58726343.2651548\ttotal: 381ms\tremaining: 1.72s\n",
            "181:\tlearn: 58708811.0048156\ttotal: 382ms\tremaining: 1.72s\n",
            "182:\tlearn: 58696324.1430250\ttotal: 384ms\tremaining: 1.71s\n",
            "183:\tlearn: 58665771.0607967\ttotal: 386ms\tremaining: 1.71s\n",
            "184:\tlearn: 58607326.3516361\ttotal: 387ms\tremaining: 1.71s\n",
            "185:\tlearn: 58511337.6694008\ttotal: 389ms\tremaining: 1.7s\n",
            "186:\tlearn: 58486667.0323175\ttotal: 391ms\tremaining: 1.7s\n",
            "187:\tlearn: 58392155.0747568\ttotal: 393ms\tremaining: 1.7s\n",
            "188:\tlearn: 58330232.5367319\ttotal: 394ms\tremaining: 1.69s\n",
            "189:\tlearn: 58309337.1780107\ttotal: 396ms\tremaining: 1.69s\n",
            "190:\tlearn: 58288142.4218216\ttotal: 398ms\tremaining: 1.68s\n",
            "191:\tlearn: 58199887.8777829\ttotal: 400ms\tremaining: 1.68s\n",
            "192:\tlearn: 58103084.9858557\ttotal: 401ms\tremaining: 1.68s\n",
            "193:\tlearn: 57981601.1781038\ttotal: 403ms\tremaining: 1.68s\n",
            "194:\tlearn: 57961017.0519089\ttotal: 405ms\tremaining: 1.67s\n",
            "195:\tlearn: 57945109.4030789\ttotal: 407ms\tremaining: 1.67s\n",
            "196:\tlearn: 57888936.0060660\ttotal: 409ms\tremaining: 1.67s\n",
            "197:\tlearn: 57856932.4059663\ttotal: 410ms\tremaining: 1.66s\n",
            "198:\tlearn: 57826396.2102666\ttotal: 412ms\tremaining: 1.66s\n",
            "199:\tlearn: 57724598.9527184\ttotal: 414ms\tremaining: 1.66s\n",
            "200:\tlearn: 57700122.1287792\ttotal: 416ms\tremaining: 1.65s\n",
            "201:\tlearn: 57673311.9274035\ttotal: 417ms\tremaining: 1.65s\n",
            "202:\tlearn: 57648145.1322246\ttotal: 419ms\tremaining: 1.65s\n",
            "203:\tlearn: 57590083.0821057\ttotal: 421ms\tremaining: 1.64s\n",
            "204:\tlearn: 57463376.4849942\ttotal: 423ms\tremaining: 1.64s\n",
            "205:\tlearn: 57371997.1377842\ttotal: 424ms\tremaining: 1.64s\n",
            "206:\tlearn: 57275163.8988841\ttotal: 426ms\tremaining: 1.63s\n",
            "207:\tlearn: 57161142.9023891\ttotal: 428ms\tremaining: 1.63s\n",
            "208:\tlearn: 57140212.7585312\ttotal: 430ms\tremaining: 1.63s\n",
            "209:\tlearn: 57065130.5509078\ttotal: 432ms\tremaining: 1.62s\n",
            "210:\tlearn: 57038353.1150519\ttotal: 433ms\tremaining: 1.62s\n",
            "211:\tlearn: 56983524.1989009\ttotal: 435ms\tremaining: 1.62s\n",
            "212:\tlearn: 56966700.9977232\ttotal: 437ms\tremaining: 1.61s\n",
            "213:\tlearn: 56948790.4033285\ttotal: 438ms\tremaining: 1.61s\n",
            "214:\tlearn: 56928284.4627247\ttotal: 440ms\tremaining: 1.61s\n",
            "215:\tlearn: 56872757.3978394\ttotal: 442ms\tremaining: 1.6s\n",
            "216:\tlearn: 56858183.5973090\ttotal: 444ms\tremaining: 1.6s\n",
            "217:\tlearn: 56781057.1693278\ttotal: 445ms\tremaining: 1.6s\n",
            "218:\tlearn: 56739501.9746443\ttotal: 447ms\tremaining: 1.59s\n",
            "219:\tlearn: 56697714.9770596\ttotal: 449ms\tremaining: 1.59s\n",
            "220:\tlearn: 56660700.9846986\ttotal: 450ms\tremaining: 1.59s\n",
            "221:\tlearn: 56648528.9136712\ttotal: 452ms\tremaining: 1.58s\n",
            "222:\tlearn: 56635232.4631983\ttotal: 454ms\tremaining: 1.58s\n",
            "223:\tlearn: 56625195.6042389\ttotal: 456ms\tremaining: 1.58s\n",
            "224:\tlearn: 56611530.2076768\ttotal: 457ms\tremaining: 1.57s\n",
            "225:\tlearn: 56563415.6759573\ttotal: 459ms\tremaining: 1.57s\n",
            "226:\tlearn: 56424442.5822238\ttotal: 461ms\tremaining: 1.57s\n",
            "227:\tlearn: 56360397.3175092\ttotal: 463ms\tremaining: 1.57s\n",
            "228:\tlearn: 56325657.6178633\ttotal: 464ms\tremaining: 1.56s\n",
            "229:\tlearn: 56306198.4695298\ttotal: 466ms\tremaining: 1.56s\n",
            "230:\tlearn: 56163744.2899726\ttotal: 468ms\tremaining: 1.56s\n",
            "231:\tlearn: 56060014.3280110\ttotal: 470ms\tremaining: 1.55s\n",
            "232:\tlearn: 55974748.5558397\ttotal: 471ms\tremaining: 1.55s\n",
            "233:\tlearn: 55955054.6011972\ttotal: 473ms\tremaining: 1.55s\n",
            "234:\tlearn: 55876908.3995463\ttotal: 475ms\tremaining: 1.55s\n",
            "235:\tlearn: 55836777.4956997\ttotal: 477ms\tremaining: 1.54s\n",
            "236:\tlearn: 55788659.5122137\ttotal: 478ms\tremaining: 1.54s\n",
            "237:\tlearn: 55720142.2807776\ttotal: 480ms\tremaining: 1.54s\n",
            "238:\tlearn: 55687301.8301804\ttotal: 482ms\tremaining: 1.53s\n",
            "239:\tlearn: 55671454.0553190\ttotal: 484ms\tremaining: 1.53s\n",
            "240:\tlearn: 55651977.4035066\ttotal: 485ms\tremaining: 1.53s\n",
            "241:\tlearn: 55528177.4118193\ttotal: 487ms\tremaining: 1.53s\n",
            "242:\tlearn: 55516674.2349499\ttotal: 489ms\tremaining: 1.52s\n",
            "243:\tlearn: 55501578.2799565\ttotal: 491ms\tremaining: 1.52s\n",
            "244:\tlearn: 55474655.7350165\ttotal: 492ms\tremaining: 1.52s\n",
            "245:\tlearn: 55354242.2527885\ttotal: 494ms\tremaining: 1.51s\n",
            "246:\tlearn: 55262410.3833199\ttotal: 496ms\tremaining: 1.51s\n",
            "247:\tlearn: 55189655.5588075\ttotal: 498ms\tremaining: 1.51s\n",
            "248:\tlearn: 55107630.3215442\ttotal: 500ms\tremaining: 1.51s\n",
            "249:\tlearn: 55047899.6422373\ttotal: 502ms\tremaining: 1.5s\n",
            "250:\tlearn: 55020664.0969431\ttotal: 503ms\tremaining: 1.5s\n",
            "251:\tlearn: 54961570.5759093\ttotal: 505ms\tremaining: 1.5s\n",
            "252:\tlearn: 54899752.4405785\ttotal: 507ms\tremaining: 1.5s\n",
            "253:\tlearn: 54827077.3057963\ttotal: 509ms\tremaining: 1.49s\n",
            "254:\tlearn: 54748355.2186833\ttotal: 510ms\tremaining: 1.49s\n",
            "255:\tlearn: 54691897.3825656\ttotal: 512ms\tremaining: 1.49s\n",
            "256:\tlearn: 54630876.4485925\ttotal: 514ms\tremaining: 1.49s\n",
            "257:\tlearn: 54524573.4037142\ttotal: 516ms\tremaining: 1.48s\n",
            "258:\tlearn: 54509107.6481094\ttotal: 517ms\tremaining: 1.48s\n",
            "259:\tlearn: 54432908.5718784\ttotal: 519ms\tremaining: 1.48s\n",
            "260:\tlearn: 54414874.1571565\ttotal: 521ms\tremaining: 1.48s\n",
            "261:\tlearn: 54301711.4464365\ttotal: 523ms\tremaining: 1.47s\n",
            "262:\tlearn: 54248695.6768716\ttotal: 525ms\tremaining: 1.47s\n",
            "263:\tlearn: 54199536.7703349\ttotal: 526ms\tremaining: 1.47s\n",
            "264:\tlearn: 54113570.0912379\ttotal: 529ms\tremaining: 1.47s\n",
            "265:\tlearn: 54080026.5059142\ttotal: 532ms\tremaining: 1.47s\n",
            "266:\tlearn: 54018146.6029261\ttotal: 536ms\tremaining: 1.47s\n",
            "267:\tlearn: 53978852.5244366\ttotal: 538ms\tremaining: 1.47s\n",
            "268:\tlearn: 53925704.0012464\ttotal: 540ms\tremaining: 1.47s\n",
            "269:\tlearn: 53893338.3334657\ttotal: 541ms\tremaining: 1.46s\n",
            "270:\tlearn: 53854771.6932629\ttotal: 543ms\tremaining: 1.46s\n",
            "271:\tlearn: 53809624.4150615\ttotal: 545ms\tremaining: 1.46s\n",
            "272:\tlearn: 53696971.5794512\ttotal: 547ms\tremaining: 1.46s\n",
            "273:\tlearn: 53659679.7909298\ttotal: 548ms\tremaining: 1.45s\n",
            "274:\tlearn: 53609236.8830983\ttotal: 550ms\tremaining: 1.45s\n",
            "275:\tlearn: 53520778.9053616\ttotal: 552ms\tremaining: 1.45s\n",
            "276:\tlearn: 53484096.3718664\ttotal: 554ms\tremaining: 1.45s\n",
            "277:\tlearn: 53447689.0874208\ttotal: 555ms\tremaining: 1.44s\n",
            "278:\tlearn: 53387371.4821245\ttotal: 557ms\tremaining: 1.44s\n",
            "279:\tlearn: 53311249.7707470\ttotal: 559ms\tremaining: 1.44s\n",
            "280:\tlearn: 53276681.7548574\ttotal: 561ms\tremaining: 1.43s\n",
            "281:\tlearn: 53203950.3007590\ttotal: 563ms\tremaining: 1.43s\n",
            "282:\tlearn: 53170224.9133858\ttotal: 564ms\tremaining: 1.43s\n",
            "283:\tlearn: 53137386.5947324\ttotal: 571ms\tremaining: 1.44s\n",
            "284:\tlearn: 53055399.9714008\ttotal: 573ms\tremaining: 1.44s\n",
            "285:\tlearn: 53028073.4752832\ttotal: 575ms\tremaining: 1.44s\n",
            "286:\tlearn: 52942330.1132091\ttotal: 577ms\tremaining: 1.43s\n",
            "287:\tlearn: 52876584.5157996\ttotal: 579ms\tremaining: 1.43s\n",
            "288:\tlearn: 52855681.4483555\ttotal: 580ms\tremaining: 1.43s\n",
            "289:\tlearn: 52824302.1651930\ttotal: 582ms\tremaining: 1.43s\n",
            "290:\tlearn: 52759470.8487922\ttotal: 584ms\tremaining: 1.42s\n",
            "291:\tlearn: 52729009.3838612\ttotal: 586ms\tremaining: 1.42s\n",
            "292:\tlearn: 52680210.4712434\ttotal: 588ms\tremaining: 1.42s\n",
            "293:\tlearn: 52584050.3801439\ttotal: 591ms\tremaining: 1.42s\n",
            "294:\tlearn: 52493322.9973967\ttotal: 593ms\tremaining: 1.42s\n",
            "295:\tlearn: 52449742.2114080\ttotal: 595ms\tremaining: 1.42s\n",
            "296:\tlearn: 52370430.7563426\ttotal: 597ms\tremaining: 1.41s\n",
            "297:\tlearn: 52340672.6441122\ttotal: 599ms\tremaining: 1.41s\n",
            "298:\tlearn: 52311682.8007704\ttotal: 600ms\tremaining: 1.41s\n",
            "299:\tlearn: 52264843.3457823\ttotal: 602ms\tremaining: 1.4s\n",
            "300:\tlearn: 52251548.0992838\ttotal: 604ms\tremaining: 1.4s\n",
            "301:\tlearn: 52222512.0349316\ttotal: 606ms\tremaining: 1.4s\n",
            "302:\tlearn: 52133899.8894610\ttotal: 607ms\tremaining: 1.4s\n",
            "303:\tlearn: 52036254.1699461\ttotal: 609ms\tremaining: 1.39s\n",
            "304:\tlearn: 52005368.2683056\ttotal: 611ms\tremaining: 1.39s\n",
            "305:\tlearn: 51989774.4984157\ttotal: 612ms\tremaining: 1.39s\n",
            "306:\tlearn: 51939704.5054246\ttotal: 614ms\tremaining: 1.39s\n",
            "307:\tlearn: 51870427.1638111\ttotal: 616ms\tremaining: 1.38s\n",
            "308:\tlearn: 51843485.7640182\ttotal: 618ms\tremaining: 1.38s\n",
            "309:\tlearn: 51816447.4837424\ttotal: 620ms\tremaining: 1.38s\n",
            "310:\tlearn: 51773152.4361456\ttotal: 621ms\tremaining: 1.38s\n",
            "311:\tlearn: 51760421.9729055\ttotal: 623ms\tremaining: 1.37s\n",
            "312:\tlearn: 51701734.3490644\ttotal: 625ms\tremaining: 1.37s\n",
            "313:\tlearn: 51620864.6101357\ttotal: 627ms\tremaining: 1.37s\n",
            "314:\tlearn: 51592448.2423898\ttotal: 628ms\tremaining: 1.37s\n",
            "315:\tlearn: 51552992.4640616\ttotal: 630ms\tremaining: 1.36s\n",
            "316:\tlearn: 51527297.8867986\ttotal: 632ms\tremaining: 1.36s\n",
            "317:\tlearn: 51441683.1713253\ttotal: 634ms\tremaining: 1.36s\n",
            "318:\tlearn: 51414649.9513488\ttotal: 636ms\tremaining: 1.36s\n",
            "319:\tlearn: 51373149.3967911\ttotal: 637ms\tremaining: 1.35s\n",
            "320:\tlearn: 51301347.3688219\ttotal: 639ms\tremaining: 1.35s\n",
            "321:\tlearn: 51276809.6673577\ttotal: 641ms\tremaining: 1.35s\n",
            "322:\tlearn: 51220979.3881849\ttotal: 643ms\tremaining: 1.35s\n",
            "323:\tlearn: 51197085.9808906\ttotal: 644ms\tremaining: 1.34s\n",
            "324:\tlearn: 51120343.9093366\ttotal: 646ms\tremaining: 1.34s\n",
            "325:\tlearn: 51020333.1141942\ttotal: 648ms\tremaining: 1.34s\n",
            "326:\tlearn: 50923135.1485429\ttotal: 650ms\tremaining: 1.34s\n",
            "327:\tlearn: 50900422.0342828\ttotal: 652ms\tremaining: 1.33s\n",
            "328:\tlearn: 50855016.8128017\ttotal: 653ms\tremaining: 1.33s\n",
            "329:\tlearn: 50808887.9110757\ttotal: 655ms\tremaining: 1.33s\n",
            "330:\tlearn: 50765346.4568321\ttotal: 657ms\tremaining: 1.33s\n",
            "331:\tlearn: 50718678.6475412\ttotal: 659ms\tremaining: 1.32s\n",
            "332:\tlearn: 50639126.1901721\ttotal: 660ms\tremaining: 1.32s\n",
            "333:\tlearn: 50555179.9121513\ttotal: 662ms\tremaining: 1.32s\n",
            "334:\tlearn: 50487718.1355078\ttotal: 664ms\tremaining: 1.32s\n",
            "335:\tlearn: 50471540.5633433\ttotal: 666ms\tremaining: 1.31s\n",
            "336:\tlearn: 50458002.9840496\ttotal: 667ms\tremaining: 1.31s\n",
            "337:\tlearn: 50446801.7930155\ttotal: 669ms\tremaining: 1.31s\n",
            "338:\tlearn: 50438275.7469908\ttotal: 671ms\tremaining: 1.31s\n",
            "339:\tlearn: 50416420.1603986\ttotal: 673ms\tremaining: 1.3s\n",
            "340:\tlearn: 50395253.2782376\ttotal: 674ms\tremaining: 1.3s\n",
            "341:\tlearn: 50375360.7431753\ttotal: 676ms\tremaining: 1.3s\n",
            "342:\tlearn: 50354881.4474465\ttotal: 678ms\tremaining: 1.3s\n",
            "343:\tlearn: 50279642.9758299\ttotal: 680ms\tremaining: 1.29s\n",
            "344:\tlearn: 50220263.1017534\ttotal: 681ms\tremaining: 1.29s\n",
            "345:\tlearn: 50159999.2255451\ttotal: 683ms\tremaining: 1.29s\n",
            "346:\tlearn: 50120674.5540270\ttotal: 685ms\tremaining: 1.29s\n",
            "347:\tlearn: 50093278.4945578\ttotal: 687ms\tremaining: 1.29s\n",
            "348:\tlearn: 50045076.2448908\ttotal: 689ms\tremaining: 1.28s\n",
            "349:\tlearn: 49991900.3569563\ttotal: 690ms\tremaining: 1.28s\n",
            "350:\tlearn: 49933070.7155392\ttotal: 692ms\tremaining: 1.28s\n",
            "351:\tlearn: 49913187.3710186\ttotal: 694ms\tremaining: 1.28s\n",
            "352:\tlearn: 49893843.4402553\ttotal: 696ms\tremaining: 1.27s\n",
            "353:\tlearn: 49842218.3485323\ttotal: 697ms\tremaining: 1.27s\n",
            "354:\tlearn: 49813363.8096659\ttotal: 699ms\tremaining: 1.27s\n",
            "355:\tlearn: 49794584.5255468\ttotal: 701ms\tremaining: 1.27s\n",
            "356:\tlearn: 49719764.4545802\ttotal: 703ms\tremaining: 1.26s\n",
            "357:\tlearn: 49708972.7617106\ttotal: 704ms\tremaining: 1.26s\n",
            "358:\tlearn: 49688323.9776652\ttotal: 707ms\tremaining: 1.26s\n",
            "359:\tlearn: 49616496.0162068\ttotal: 709ms\tremaining: 1.26s\n",
            "360:\tlearn: 49543306.9020679\ttotal: 711ms\tremaining: 1.26s\n",
            "361:\tlearn: 49525857.1695555\ttotal: 712ms\tremaining: 1.25s\n",
            "362:\tlearn: 49468791.2557798\ttotal: 714ms\tremaining: 1.25s\n",
            "363:\tlearn: 49395460.5165251\ttotal: 716ms\tremaining: 1.25s\n",
            "364:\tlearn: 49282438.5113314\ttotal: 718ms\tremaining: 1.25s\n",
            "365:\tlearn: 49252740.2900473\ttotal: 720ms\tremaining: 1.25s\n",
            "366:\tlearn: 49189087.3138569\ttotal: 722ms\tremaining: 1.24s\n",
            "367:\tlearn: 49129826.6418969\ttotal: 723ms\tremaining: 1.24s\n",
            "368:\tlearn: 49116363.4401461\ttotal: 725ms\tremaining: 1.24s\n",
            "369:\tlearn: 49038027.5271691\ttotal: 727ms\tremaining: 1.24s\n",
            "370:\tlearn: 48975442.0366144\ttotal: 729ms\tremaining: 1.24s\n",
            "371:\tlearn: 48927981.8260773\ttotal: 731ms\tremaining: 1.23s\n",
            "372:\tlearn: 48880522.2970966\ttotal: 732ms\tremaining: 1.23s\n",
            "373:\tlearn: 48868295.4104101\ttotal: 734ms\tremaining: 1.23s\n",
            "374:\tlearn: 48832526.2468326\ttotal: 736ms\tremaining: 1.23s\n",
            "375:\tlearn: 48798226.1854857\ttotal: 738ms\tremaining: 1.22s\n",
            "376:\tlearn: 48759639.7239359\ttotal: 739ms\tremaining: 1.22s\n",
            "377:\tlearn: 48723164.8128091\ttotal: 741ms\tremaining: 1.22s\n",
            "378:\tlearn: 48670984.6433720\ttotal: 743ms\tremaining: 1.22s\n",
            "379:\tlearn: 48608750.6522288\ttotal: 745ms\tremaining: 1.21s\n",
            "380:\tlearn: 48552847.9923374\ttotal: 746ms\tremaining: 1.21s\n",
            "381:\tlearn: 48502614.5024025\ttotal: 752ms\tremaining: 1.22s\n",
            "382:\tlearn: 48468900.4907816\ttotal: 754ms\tremaining: 1.22s\n",
            "383:\tlearn: 48431353.0965810\ttotal: 757ms\tremaining: 1.21s\n",
            "384:\tlearn: 48395860.9065333\ttotal: 758ms\tremaining: 1.21s\n",
            "385:\tlearn: 48351052.0955057\ttotal: 760ms\tremaining: 1.21s\n",
            "386:\tlearn: 48286075.1463330\ttotal: 762ms\tremaining: 1.21s\n",
            "387:\tlearn: 48268013.6657286\ttotal: 764ms\tremaining: 1.2s\n",
            "388:\tlearn: 48256724.7008351\ttotal: 766ms\tremaining: 1.2s\n",
            "389:\tlearn: 48227359.3853355\ttotal: 768ms\tremaining: 1.2s\n",
            "390:\tlearn: 48174748.5344088\ttotal: 770ms\tremaining: 1.2s\n",
            "391:\tlearn: 48148623.0290185\ttotal: 772ms\tremaining: 1.2s\n",
            "392:\tlearn: 48116712.2161294\ttotal: 774ms\tremaining: 1.19s\n",
            "393:\tlearn: 48085894.0715897\ttotal: 775ms\tremaining: 1.19s\n",
            "394:\tlearn: 48037002.5854068\ttotal: 777ms\tremaining: 1.19s\n",
            "395:\tlearn: 47992133.9746416\ttotal: 779ms\tremaining: 1.19s\n",
            "396:\tlearn: 47947822.6317100\ttotal: 781ms\tremaining: 1.19s\n",
            "397:\tlearn: 47905931.4144753\ttotal: 782ms\tremaining: 1.18s\n",
            "398:\tlearn: 47869487.5106363\ttotal: 784ms\tremaining: 1.18s\n",
            "399:\tlearn: 47844302.7154565\ttotal: 786ms\tremaining: 1.18s\n",
            "400:\tlearn: 47803404.6574478\ttotal: 788ms\tremaining: 1.18s\n",
            "401:\tlearn: 47717217.3142742\ttotal: 789ms\tremaining: 1.17s\n",
            "402:\tlearn: 47680912.4176153\ttotal: 791ms\tremaining: 1.17s\n",
            "403:\tlearn: 47674779.6294453\ttotal: 793ms\tremaining: 1.17s\n",
            "404:\tlearn: 47629679.2189474\ttotal: 795ms\tremaining: 1.17s\n",
            "405:\tlearn: 47619867.4618804\ttotal: 796ms\tremaining: 1.16s\n",
            "406:\tlearn: 47601763.3867393\ttotal: 798ms\tremaining: 1.16s\n",
            "407:\tlearn: 47550357.6096445\ttotal: 800ms\tremaining: 1.16s\n",
            "408:\tlearn: 47513247.2367377\ttotal: 803ms\tremaining: 1.16s\n",
            "409:\tlearn: 47441223.4159043\ttotal: 805ms\tremaining: 1.16s\n",
            "410:\tlearn: 47394700.5271831\ttotal: 807ms\tremaining: 1.16s\n",
            "411:\tlearn: 47344319.9339978\ttotal: 809ms\tremaining: 1.15s\n",
            "412:\tlearn: 47304552.0067580\ttotal: 811ms\tremaining: 1.15s\n",
            "413:\tlearn: 47277448.9918385\ttotal: 812ms\tremaining: 1.15s\n",
            "414:\tlearn: 47228874.7191054\ttotal: 814ms\tremaining: 1.15s\n",
            "415:\tlearn: 47205839.5711458\ttotal: 816ms\tremaining: 1.15s\n",
            "416:\tlearn: 47177635.6282286\ttotal: 818ms\tremaining: 1.14s\n",
            "417:\tlearn: 47124912.6961771\ttotal: 819ms\tremaining: 1.14s\n",
            "418:\tlearn: 47078668.5731554\ttotal: 821ms\tremaining: 1.14s\n",
            "419:\tlearn: 47033213.8204822\ttotal: 823ms\tremaining: 1.14s\n",
            "420:\tlearn: 46981686.0874351\ttotal: 825ms\tremaining: 1.13s\n",
            "421:\tlearn: 46928932.9401804\ttotal: 827ms\tremaining: 1.13s\n",
            "422:\tlearn: 46861407.0132563\ttotal: 828ms\tremaining: 1.13s\n",
            "423:\tlearn: 46834965.0279715\ttotal: 830ms\tremaining: 1.13s\n",
            "424:\tlearn: 46784868.5824086\ttotal: 832ms\tremaining: 1.13s\n",
            "425:\tlearn: 46758415.9560652\ttotal: 834ms\tremaining: 1.12s\n",
            "426:\tlearn: 46692767.4204553\ttotal: 835ms\tremaining: 1.12s\n",
            "427:\tlearn: 46653361.0613714\ttotal: 837ms\tremaining: 1.12s\n",
            "428:\tlearn: 46616234.7765082\ttotal: 839ms\tremaining: 1.12s\n",
            "429:\tlearn: 46586215.4390971\ttotal: 841ms\tremaining: 1.11s\n",
            "430:\tlearn: 46546607.8615640\ttotal: 843ms\tremaining: 1.11s\n",
            "431:\tlearn: 46482687.1467872\ttotal: 844ms\tremaining: 1.11s\n",
            "432:\tlearn: 46461482.7397007\ttotal: 846ms\tremaining: 1.11s\n",
            "433:\tlearn: 46410142.0868849\ttotal: 848ms\tremaining: 1.1s\n",
            "434:\tlearn: 46378738.4897841\ttotal: 850ms\tremaining: 1.1s\n",
            "435:\tlearn: 46363562.6144265\ttotal: 851ms\tremaining: 1.1s\n",
            "436:\tlearn: 46333835.5175692\ttotal: 853ms\tremaining: 1.1s\n",
            "437:\tlearn: 46290544.8698500\ttotal: 855ms\tremaining: 1.1s\n",
            "438:\tlearn: 46250124.5672304\ttotal: 857ms\tremaining: 1.09s\n",
            "439:\tlearn: 46228860.2921115\ttotal: 859ms\tremaining: 1.09s\n",
            "440:\tlearn: 46184295.2235675\ttotal: 860ms\tremaining: 1.09s\n",
            "441:\tlearn: 46133613.2146749\ttotal: 862ms\tremaining: 1.09s\n",
            "442:\tlearn: 46131286.0228569\ttotal: 864ms\tremaining: 1.09s\n",
            "443:\tlearn: 46072969.0961808\ttotal: 866ms\tremaining: 1.08s\n",
            "444:\tlearn: 46043476.0974009\ttotal: 868ms\tremaining: 1.08s\n",
            "445:\tlearn: 46041208.5845391\ttotal: 869ms\tremaining: 1.08s\n",
            "446:\tlearn: 46016257.2627684\ttotal: 871ms\tremaining: 1.08s\n",
            "447:\tlearn: 45969052.4158039\ttotal: 873ms\tremaining: 1.07s\n",
            "448:\tlearn: 45954297.8589928\ttotal: 875ms\tremaining: 1.07s\n",
            "449:\tlearn: 45878656.1228411\ttotal: 876ms\tremaining: 1.07s\n",
            "450:\tlearn: 45835996.7931041\ttotal: 878ms\tremaining: 1.07s\n",
            "451:\tlearn: 45817757.5270845\ttotal: 880ms\tremaining: 1.07s\n",
            "452:\tlearn: 45800227.6848907\ttotal: 884ms\tremaining: 1.07s\n",
            "453:\tlearn: 45762350.8654530\ttotal: 888ms\tremaining: 1.07s\n",
            "454:\tlearn: 45707385.4210082\ttotal: 891ms\tremaining: 1.07s\n",
            "455:\tlearn: 45663453.6005195\ttotal: 894ms\tremaining: 1.07s\n",
            "456:\tlearn: 45616666.8021257\ttotal: 898ms\tremaining: 1.07s\n",
            "457:\tlearn: 45581526.1869099\ttotal: 900ms\tremaining: 1.06s\n",
            "458:\tlearn: 45528795.1183545\ttotal: 902ms\tremaining: 1.06s\n",
            "459:\tlearn: 45487986.1770502\ttotal: 903ms\tremaining: 1.06s\n",
            "460:\tlearn: 45439289.3487848\ttotal: 905ms\tremaining: 1.06s\n",
            "461:\tlearn: 45369739.1711298\ttotal: 907ms\tremaining: 1.06s\n",
            "462:\tlearn: 45307102.9779084\ttotal: 909ms\tremaining: 1.05s\n",
            "463:\tlearn: 45248251.3175201\ttotal: 911ms\tremaining: 1.05s\n",
            "464:\tlearn: 45210041.5225764\ttotal: 912ms\tremaining: 1.05s\n",
            "465:\tlearn: 45173741.1368191\ttotal: 914ms\tremaining: 1.05s\n",
            "466:\tlearn: 45147637.3760166\ttotal: 916ms\tremaining: 1.04s\n",
            "467:\tlearn: 45111637.1872860\ttotal: 918ms\tremaining: 1.04s\n",
            "468:\tlearn: 45089981.5192138\ttotal: 919ms\tremaining: 1.04s\n",
            "469:\tlearn: 45052160.8639661\ttotal: 921ms\tremaining: 1.04s\n",
            "470:\tlearn: 45011295.8134644\ttotal: 923ms\tremaining: 1.04s\n",
            "471:\tlearn: 44960098.9725648\ttotal: 925ms\tremaining: 1.03s\n",
            "472:\tlearn: 44923612.8010007\ttotal: 927ms\tremaining: 1.03s\n",
            "473:\tlearn: 44891051.8792320\ttotal: 928ms\tremaining: 1.03s\n",
            "474:\tlearn: 44851363.2895862\ttotal: 930ms\tremaining: 1.03s\n",
            "475:\tlearn: 44765494.2344261\ttotal: 932ms\tremaining: 1.03s\n",
            "476:\tlearn: 44732153.1636590\ttotal: 936ms\tremaining: 1.02s\n",
            "477:\tlearn: 44693355.2182980\ttotal: 940ms\tremaining: 1.03s\n",
            "478:\tlearn: 44630772.4459147\ttotal: 942ms\tremaining: 1.02s\n",
            "479:\tlearn: 44595109.8707315\ttotal: 944ms\tremaining: 1.02s\n",
            "480:\tlearn: 44558151.2463429\ttotal: 946ms\tremaining: 1.02s\n",
            "481:\tlearn: 44534584.2910003\ttotal: 948ms\tremaining: 1.02s\n",
            "482:\tlearn: 44483430.8401553\ttotal: 950ms\tremaining: 1.02s\n",
            "483:\tlearn: 44436979.0612546\ttotal: 952ms\tremaining: 1.01s\n",
            "484:\tlearn: 44387895.7981653\ttotal: 954ms\tremaining: 1.01s\n",
            "485:\tlearn: 44350705.8146118\ttotal: 956ms\tremaining: 1.01s\n",
            "486:\tlearn: 44315113.3232319\ttotal: 958ms\tremaining: 1.01s\n",
            "487:\tlearn: 44292572.5571476\ttotal: 960ms\tremaining: 1.01s\n",
            "488:\tlearn: 44246025.5442813\ttotal: 962ms\tremaining: 1s\n",
            "489:\tlearn: 44210626.9556938\ttotal: 964ms\tremaining: 1s\n",
            "490:\tlearn: 44144102.0763018\ttotal: 966ms\tremaining: 1s\n",
            "491:\tlearn: 44099550.6075139\ttotal: 968ms\tremaining: 999ms\n",
            "492:\tlearn: 44085715.3494005\ttotal: 970ms\tremaining: 997ms\n",
            "493:\tlearn: 44038696.9589578\ttotal: 972ms\tremaining: 995ms\n",
            "494:\tlearn: 43997139.4322560\ttotal: 973ms\tremaining: 993ms\n",
            "495:\tlearn: 43963082.6261434\ttotal: 975ms\tremaining: 991ms\n",
            "496:\tlearn: 43960532.4282321\ttotal: 977ms\tremaining: 989ms\n",
            "497:\tlearn: 43938063.0383578\ttotal: 979ms\tremaining: 987ms\n",
            "498:\tlearn: 43898701.6963011\ttotal: 981ms\tremaining: 985ms\n",
            "499:\tlearn: 43867041.4716021\ttotal: 983ms\tremaining: 983ms\n",
            "500:\tlearn: 43819247.9215784\ttotal: 985ms\tremaining: 981ms\n",
            "501:\tlearn: 43784095.4844960\ttotal: 987ms\tremaining: 979ms\n",
            "502:\tlearn: 43720486.8194430\ttotal: 989ms\tremaining: 977ms\n",
            "503:\tlearn: 43715096.9554964\ttotal: 991ms\tremaining: 975ms\n",
            "504:\tlearn: 43685543.6950989\ttotal: 993ms\tremaining: 973ms\n",
            "505:\tlearn: 43644419.1367248\ttotal: 995ms\tremaining: 971ms\n",
            "506:\tlearn: 43639281.3896990\ttotal: 996ms\tremaining: 969ms\n",
            "507:\tlearn: 43584300.0357456\ttotal: 998ms\tremaining: 967ms\n",
            "508:\tlearn: 43546212.9526820\ttotal: 1s\tremaining: 965ms\n",
            "509:\tlearn: 43505167.7860289\ttotal: 1s\tremaining: 963ms\n",
            "510:\tlearn: 43495213.8248161\ttotal: 1s\tremaining: 961ms\n",
            "511:\tlearn: 43477315.0260893\ttotal: 1s\tremaining: 958ms\n",
            "512:\tlearn: 43457279.1362288\ttotal: 1.01s\tremaining: 957ms\n",
            "513:\tlearn: 43403467.6662547\ttotal: 1.01s\tremaining: 955ms\n",
            "514:\tlearn: 43371802.9983086\ttotal: 1.01s\tremaining: 953ms\n",
            "515:\tlearn: 43369507.6127407\ttotal: 1.01s\tremaining: 950ms\n",
            "516:\tlearn: 43328518.8277812\ttotal: 1.01s\tremaining: 948ms\n",
            "517:\tlearn: 43273369.4600473\ttotal: 1.02s\tremaining: 946ms\n",
            "518:\tlearn: 43211021.9665912\ttotal: 1.02s\tremaining: 944ms\n",
            "519:\tlearn: 43181092.6737585\ttotal: 1.02s\tremaining: 942ms\n",
            "520:\tlearn: 43148840.6803103\ttotal: 1.02s\tremaining: 940ms\n",
            "521:\tlearn: 43092127.1130384\ttotal: 1.02s\tremaining: 938ms\n",
            "522:\tlearn: 43062757.7269953\ttotal: 1.03s\tremaining: 936ms\n",
            "523:\tlearn: 43057751.8954666\ttotal: 1.03s\tremaining: 934ms\n",
            "524:\tlearn: 43036074.3966609\ttotal: 1.03s\tremaining: 932ms\n",
            "525:\tlearn: 43008840.1989999\ttotal: 1.03s\tremaining: 930ms\n",
            "526:\tlearn: 43006506.4433261\ttotal: 1.03s\tremaining: 928ms\n",
            "527:\tlearn: 42932089.9490564\ttotal: 1.03s\tremaining: 926ms\n",
            "528:\tlearn: 42892341.0492250\ttotal: 1.04s\tremaining: 924ms\n",
            "529:\tlearn: 42865684.2697992\ttotal: 1.04s\tremaining: 922ms\n",
            "530:\tlearn: 42860955.9795726\ttotal: 1.04s\tremaining: 920ms\n",
            "531:\tlearn: 42829703.0892415\ttotal: 1.04s\tremaining: 918ms\n",
            "532:\tlearn: 42810662.9988932\ttotal: 1.04s\tremaining: 916ms\n",
            "533:\tlearn: 42774919.8236918\ttotal: 1.05s\tremaining: 914ms\n",
            "534:\tlearn: 42770272.2216365\ttotal: 1.05s\tremaining: 912ms\n",
            "535:\tlearn: 42725222.5970260\ttotal: 1.05s\tremaining: 910ms\n",
            "536:\tlearn: 42702200.1405035\ttotal: 1.05s\tremaining: 908ms\n",
            "537:\tlearn: 42661300.6473984\ttotal: 1.05s\tremaining: 906ms\n",
            "538:\tlearn: 42631103.9847368\ttotal: 1.06s\tremaining: 906ms\n",
            "539:\tlearn: 42595074.7741636\ttotal: 1.06s\tremaining: 905ms\n",
            "540:\tlearn: 42569367.6192746\ttotal: 1.06s\tremaining: 903ms\n",
            "541:\tlearn: 42540821.0985967\ttotal: 1.07s\tremaining: 901ms\n",
            "542:\tlearn: 42474716.2414789\ttotal: 1.07s\tremaining: 899ms\n",
            "543:\tlearn: 42472574.1251282\ttotal: 1.07s\tremaining: 897ms\n",
            "544:\tlearn: 42430057.1262283\ttotal: 1.07s\tremaining: 895ms\n",
            "545:\tlearn: 42425624.7684147\ttotal: 1.07s\tremaining: 893ms\n",
            "546:\tlearn: 42385053.6670060\ttotal: 1.08s\tremaining: 891ms\n",
            "547:\tlearn: 42344077.0080871\ttotal: 1.08s\tremaining: 889ms\n",
            "548:\tlearn: 42287426.0021792\ttotal: 1.08s\tremaining: 887ms\n",
            "549:\tlearn: 42244316.1282965\ttotal: 1.08s\tremaining: 885ms\n",
            "550:\tlearn: 42217706.3503780\ttotal: 1.08s\tremaining: 883ms\n",
            "551:\tlearn: 42188010.6245611\ttotal: 1.08s\tremaining: 881ms\n",
            "552:\tlearn: 42136141.1265902\ttotal: 1.09s\tremaining: 879ms\n",
            "553:\tlearn: 42131787.3300047\ttotal: 1.09s\tremaining: 877ms\n",
            "554:\tlearn: 42099284.1967569\ttotal: 1.09s\tremaining: 875ms\n",
            "555:\tlearn: 42070154.3316549\ttotal: 1.09s\tremaining: 873ms\n",
            "556:\tlearn: 42048842.0183492\ttotal: 1.09s\tremaining: 871ms\n",
            "557:\tlearn: 42017542.8364207\ttotal: 1.1s\tremaining: 869ms\n",
            "558:\tlearn: 41988871.4265035\ttotal: 1.1s\tremaining: 867ms\n",
            "559:\tlearn: 41958328.5526474\ttotal: 1.1s\tremaining: 864ms\n",
            "560:\tlearn: 41933194.3739954\ttotal: 1.1s\tremaining: 862ms\n",
            "561:\tlearn: 41905823.6010984\ttotal: 1.1s\tremaining: 860ms\n",
            "562:\tlearn: 41902336.2861616\ttotal: 1.1s\tremaining: 858ms\n",
            "563:\tlearn: 41887201.6414257\ttotal: 1.11s\tremaining: 856ms\n",
            "564:\tlearn: 41883845.5910833\ttotal: 1.11s\tremaining: 854ms\n",
            "565:\tlearn: 41855509.9498106\ttotal: 1.11s\tremaining: 852ms\n",
            "566:\tlearn: 41851557.2043087\ttotal: 1.11s\tremaining: 850ms\n",
            "567:\tlearn: 41806093.1548496\ttotal: 1.11s\tremaining: 848ms\n",
            "568:\tlearn: 41762549.2765230\ttotal: 1.12s\tremaining: 846ms\n",
            "569:\tlearn: 41758720.9576393\ttotal: 1.12s\tremaining: 844ms\n",
            "570:\tlearn: 41716763.7175188\ttotal: 1.12s\tremaining: 842ms\n",
            "571:\tlearn: 41674633.2723464\ttotal: 1.12s\tremaining: 840ms\n",
            "572:\tlearn: 41655223.9177419\ttotal: 1.13s\tremaining: 842ms\n",
            "573:\tlearn: 41618311.7210974\ttotal: 1.13s\tremaining: 840ms\n",
            "574:\tlearn: 41595636.3810192\ttotal: 1.13s\tremaining: 838ms\n",
            "575:\tlearn: 41560597.9955413\ttotal: 1.14s\tremaining: 836ms\n",
            "576:\tlearn: 41527541.9591146\ttotal: 1.14s\tremaining: 834ms\n",
            "577:\tlearn: 41507733.5981990\ttotal: 1.14s\tremaining: 832ms\n",
            "578:\tlearn: 41466758.9807322\ttotal: 1.14s\tremaining: 830ms\n",
            "579:\tlearn: 41395640.0100605\ttotal: 1.14s\tremaining: 828ms\n",
            "580:\tlearn: 41339192.6217516\ttotal: 1.14s\tremaining: 826ms\n",
            "581:\tlearn: 41290807.4911250\ttotal: 1.15s\tremaining: 823ms\n",
            "582:\tlearn: 41264607.3351423\ttotal: 1.15s\tremaining: 821ms\n",
            "583:\tlearn: 41219269.0577946\ttotal: 1.15s\tremaining: 819ms\n",
            "584:\tlearn: 41215265.4284939\ttotal: 1.15s\tremaining: 817ms\n",
            "585:\tlearn: 41211853.6721131\ttotal: 1.15s\tremaining: 815ms\n",
            "586:\tlearn: 41177107.8201033\ttotal: 1.16s\tremaining: 813ms\n",
            "587:\tlearn: 41159643.8645840\ttotal: 1.16s\tremaining: 811ms\n",
            "588:\tlearn: 41110319.5323623\ttotal: 1.16s\tremaining: 809ms\n",
            "589:\tlearn: 41096947.0183768\ttotal: 1.16s\tremaining: 806ms\n",
            "590:\tlearn: 41074782.5016496\ttotal: 1.16s\tremaining: 804ms\n",
            "591:\tlearn: 41039836.9025288\ttotal: 1.16s\tremaining: 802ms\n",
            "592:\tlearn: 40989624.7260036\ttotal: 1.17s\tremaining: 800ms\n",
            "593:\tlearn: 40986313.2301622\ttotal: 1.17s\tremaining: 798ms\n",
            "594:\tlearn: 40951953.2624651\ttotal: 1.17s\tremaining: 796ms\n",
            "595:\tlearn: 40919666.9013954\ttotal: 1.17s\tremaining: 794ms\n",
            "596:\tlearn: 40905848.6931493\ttotal: 1.17s\tremaining: 792ms\n",
            "597:\tlearn: 40889164.0168399\ttotal: 1.17s\tremaining: 790ms\n",
            "598:\tlearn: 40862975.1539186\ttotal: 1.18s\tremaining: 788ms\n",
            "599:\tlearn: 40860927.8206425\ttotal: 1.18s\tremaining: 786ms\n",
            "600:\tlearn: 40840574.1444451\ttotal: 1.18s\tremaining: 784ms\n",
            "601:\tlearn: 40838420.0422856\ttotal: 1.18s\tremaining: 781ms\n",
            "602:\tlearn: 40793686.9902270\ttotal: 1.18s\tremaining: 779ms\n",
            "603:\tlearn: 40774325.2626707\ttotal: 1.19s\tremaining: 777ms\n",
            "604:\tlearn: 40754723.0468814\ttotal: 1.19s\tremaining: 775ms\n",
            "605:\tlearn: 40750875.7392349\ttotal: 1.19s\tremaining: 773ms\n",
            "606:\tlearn: 40723808.5361334\ttotal: 1.19s\tremaining: 771ms\n",
            "607:\tlearn: 40692467.3922413\ttotal: 1.19s\tremaining: 769ms\n",
            "608:\tlearn: 40668098.3551378\ttotal: 1.19s\tremaining: 767ms\n",
            "609:\tlearn: 40666679.2198284\ttotal: 1.2s\tremaining: 765ms\n",
            "610:\tlearn: 40636391.6675316\ttotal: 1.2s\tremaining: 763ms\n",
            "611:\tlearn: 40602790.8410137\ttotal: 1.2s\tremaining: 760ms\n",
            "612:\tlearn: 40558537.2623661\ttotal: 1.2s\tremaining: 758ms\n",
            "613:\tlearn: 40523213.6299495\ttotal: 1.2s\tremaining: 756ms\n",
            "614:\tlearn: 40489072.0574863\ttotal: 1.2s\tremaining: 754ms\n",
            "615:\tlearn: 40465030.7057227\ttotal: 1.21s\tremaining: 752ms\n",
            "616:\tlearn: 40441613.4854453\ttotal: 1.21s\tremaining: 750ms\n",
            "617:\tlearn: 40413089.4019268\ttotal: 1.21s\tremaining: 748ms\n",
            "618:\tlearn: 40352368.6165024\ttotal: 1.21s\tremaining: 746ms\n",
            "619:\tlearn: 40338320.8631980\ttotal: 1.21s\tremaining: 744ms\n",
            "620:\tlearn: 40329142.1417377\ttotal: 1.22s\tremaining: 742ms\n",
            "621:\tlearn: 40295381.4108500\ttotal: 1.22s\tremaining: 740ms\n",
            "622:\tlearn: 40272483.8841619\ttotal: 1.22s\tremaining: 738ms\n",
            "623:\tlearn: 40245866.6624919\ttotal: 1.22s\tremaining: 736ms\n",
            "624:\tlearn: 40225594.9460916\ttotal: 1.22s\tremaining: 734ms\n",
            "625:\tlearn: 40218626.0311484\ttotal: 1.22s\tremaining: 732ms\n",
            "626:\tlearn: 40191667.4505444\ttotal: 1.23s\tremaining: 730ms\n",
            "627:\tlearn: 40179475.1596865\ttotal: 1.23s\tremaining: 727ms\n",
            "628:\tlearn: 40176387.2245198\ttotal: 1.23s\tremaining: 725ms\n",
            "629:\tlearn: 40135340.2236228\ttotal: 1.23s\tremaining: 723ms\n",
            "630:\tlearn: 40090991.6202088\ttotal: 1.23s\tremaining: 721ms\n",
            "631:\tlearn: 40088042.4837348\ttotal: 1.24s\tremaining: 719ms\n",
            "632:\tlearn: 40049922.7974464\ttotal: 1.24s\tremaining: 717ms\n",
            "633:\tlearn: 40017120.3974694\ttotal: 1.24s\tremaining: 715ms\n",
            "634:\tlearn: 39974140.3071346\ttotal: 1.24s\tremaining: 713ms\n",
            "635:\tlearn: 39950996.9688220\ttotal: 1.24s\tremaining: 711ms\n",
            "636:\tlearn: 39897822.6998752\ttotal: 1.24s\tremaining: 709ms\n",
            "637:\tlearn: 39865434.9402621\ttotal: 1.25s\tremaining: 707ms\n",
            "638:\tlearn: 39845358.7251201\ttotal: 1.25s\tremaining: 705ms\n",
            "639:\tlearn: 39817487.6119170\ttotal: 1.25s\tremaining: 703ms\n",
            "640:\tlearn: 39795844.7736520\ttotal: 1.25s\tremaining: 701ms\n",
            "641:\tlearn: 39766184.5008392\ttotal: 1.25s\tremaining: 699ms\n",
            "642:\tlearn: 39721466.9501574\ttotal: 1.25s\tremaining: 697ms\n",
            "643:\tlearn: 39674694.2110110\ttotal: 1.26s\tremaining: 695ms\n",
            "644:\tlearn: 39672210.7562645\ttotal: 1.26s\tremaining: 693ms\n",
            "645:\tlearn: 39655096.4454688\ttotal: 1.26s\tremaining: 691ms\n",
            "646:\tlearn: 39615059.2910692\ttotal: 1.26s\tremaining: 689ms\n",
            "647:\tlearn: 39583120.7308637\ttotal: 1.26s\tremaining: 686ms\n",
            "648:\tlearn: 39567111.3090261\ttotal: 1.26s\tremaining: 684ms\n",
            "649:\tlearn: 39538034.7156959\ttotal: 1.27s\tremaining: 682ms\n",
            "650:\tlearn: 39507492.6268225\ttotal: 1.27s\tremaining: 680ms\n",
            "651:\tlearn: 39487409.2992836\ttotal: 1.27s\tremaining: 678ms\n",
            "652:\tlearn: 39484887.5392921\ttotal: 1.27s\tremaining: 676ms\n",
            "653:\tlearn: 39463317.7682976\ttotal: 1.27s\tremaining: 674ms\n",
            "654:\tlearn: 39419776.6983374\ttotal: 1.27s\tremaining: 672ms\n",
            "655:\tlearn: 39411841.6695077\ttotal: 1.28s\tremaining: 670ms\n",
            "656:\tlearn: 39395853.3622654\ttotal: 1.28s\tremaining: 668ms\n",
            "657:\tlearn: 39394614.2977663\ttotal: 1.28s\tremaining: 666ms\n",
            "658:\tlearn: 39371479.8947029\ttotal: 1.28s\tremaining: 664ms\n",
            "659:\tlearn: 39353183.7509624\ttotal: 1.28s\tremaining: 662ms\n",
            "660:\tlearn: 39311095.9925131\ttotal: 1.29s\tremaining: 660ms\n",
            "661:\tlearn: 39308373.3196564\ttotal: 1.29s\tremaining: 658ms\n",
            "662:\tlearn: 39305572.5568360\ttotal: 1.29s\tremaining: 656ms\n",
            "663:\tlearn: 39300575.3894423\ttotal: 1.29s\tremaining: 653ms\n",
            "664:\tlearn: 39262665.9596009\ttotal: 1.29s\tremaining: 651ms\n",
            "665:\tlearn: 39235304.7015955\ttotal: 1.29s\tremaining: 649ms\n",
            "666:\tlearn: 39220234.0854602\ttotal: 1.3s\tremaining: 647ms\n",
            "667:\tlearn: 39176637.0807206\ttotal: 1.3s\tremaining: 649ms\n",
            "668:\tlearn: 39152639.5152305\ttotal: 1.31s\tremaining: 647ms\n",
            "669:\tlearn: 39113890.7738432\ttotal: 1.31s\tremaining: 646ms\n",
            "670:\tlearn: 39074355.1684110\ttotal: 1.31s\tremaining: 644ms\n",
            "671:\tlearn: 39020973.8945429\ttotal: 1.32s\tremaining: 642ms\n",
            "672:\tlearn: 39014785.8162889\ttotal: 1.34s\tremaining: 649ms\n",
            "673:\tlearn: 39009891.8039957\ttotal: 1.34s\tremaining: 647ms\n",
            "674:\tlearn: 38978862.6070149\ttotal: 1.34s\tremaining: 645ms\n",
            "675:\tlearn: 38935013.5635713\ttotal: 1.34s\tremaining: 643ms\n",
            "676:\tlearn: 38932945.3318475\ttotal: 1.34s\tremaining: 642ms\n",
            "677:\tlearn: 38906471.2742632\ttotal: 1.35s\tremaining: 641ms\n",
            "678:\tlearn: 38873755.5215099\ttotal: 1.35s\tremaining: 639ms\n",
            "679:\tlearn: 38856214.3186257\ttotal: 1.35s\tremaining: 637ms\n",
            "680:\tlearn: 38855002.7174039\ttotal: 1.36s\tremaining: 635ms\n",
            "681:\tlearn: 38829487.2307028\ttotal: 1.36s\tremaining: 633ms\n",
            "682:\tlearn: 38823406.3405413\ttotal: 1.36s\tremaining: 631ms\n",
            "683:\tlearn: 38821613.9915649\ttotal: 1.36s\tremaining: 629ms\n",
            "684:\tlearn: 38785980.9975311\ttotal: 1.36s\tremaining: 627ms\n",
            "685:\tlearn: 38784805.8156834\ttotal: 1.36s\tremaining: 625ms\n",
            "686:\tlearn: 38763897.7836197\ttotal: 1.37s\tremaining: 623ms\n",
            "687:\tlearn: 38742907.1445385\ttotal: 1.37s\tremaining: 622ms\n",
            "688:\tlearn: 38725646.3758719\ttotal: 1.37s\tremaining: 620ms\n",
            "689:\tlearn: 38719600.3515271\ttotal: 1.38s\tremaining: 618ms\n",
            "690:\tlearn: 38708660.6551548\ttotal: 1.38s\tremaining: 617ms\n",
            "691:\tlearn: 38706958.1514856\ttotal: 1.38s\tremaining: 615ms\n",
            "692:\tlearn: 38680105.3635865\ttotal: 1.38s\tremaining: 613ms\n",
            "693:\tlearn: 38674789.4439339\ttotal: 1.39s\tremaining: 611ms\n",
            "694:\tlearn: 38649901.4240786\ttotal: 1.39s\tremaining: 609ms\n",
            "695:\tlearn: 38648249.6676744\ttotal: 1.39s\tremaining: 607ms\n",
            "696:\tlearn: 38643577.2417244\ttotal: 1.39s\tremaining: 605ms\n",
            "697:\tlearn: 38626909.1456169\ttotal: 1.39s\tremaining: 603ms\n",
            "698:\tlearn: 38626247.7906222\ttotal: 1.39s\tremaining: 601ms\n",
            "699:\tlearn: 38602825.4020144\ttotal: 1.4s\tremaining: 599ms\n",
            "700:\tlearn: 38565722.5459796\ttotal: 1.4s\tremaining: 596ms\n",
            "701:\tlearn: 38564267.5884632\ttotal: 1.4s\tremaining: 594ms\n",
            "702:\tlearn: 38543376.8214510\ttotal: 1.4s\tremaining: 592ms\n",
            "703:\tlearn: 38525727.3861719\ttotal: 1.4s\tremaining: 590ms\n",
            "704:\tlearn: 38486397.9128397\ttotal: 1.41s\tremaining: 588ms\n",
            "705:\tlearn: 38478637.8118144\ttotal: 1.41s\tremaining: 586ms\n",
            "706:\tlearn: 38450009.0383590\ttotal: 1.41s\tremaining: 584ms\n",
            "707:\tlearn: 38447895.7313149\ttotal: 1.41s\tremaining: 582ms\n",
            "708:\tlearn: 38414149.2640002\ttotal: 1.41s\tremaining: 580ms\n",
            "709:\tlearn: 38401166.7841501\ttotal: 1.42s\tremaining: 578ms\n",
            "710:\tlearn: 38386626.5600542\ttotal: 1.42s\tremaining: 576ms\n",
            "711:\tlearn: 38361935.8735612\ttotal: 1.42s\tremaining: 574ms\n",
            "712:\tlearn: 38345446.1139047\ttotal: 1.42s\tremaining: 572ms\n",
            "713:\tlearn: 38305324.0990790\ttotal: 1.42s\tremaining: 570ms\n",
            "714:\tlearn: 38252452.8781840\ttotal: 1.43s\tremaining: 568ms\n",
            "715:\tlearn: 38249551.3822084\ttotal: 1.43s\tremaining: 566ms\n",
            "716:\tlearn: 38233290.2673082\ttotal: 1.43s\tremaining: 564ms\n",
            "717:\tlearn: 38210509.5687170\ttotal: 1.43s\tremaining: 562ms\n",
            "718:\tlearn: 38175788.1977159\ttotal: 1.43s\tremaining: 560ms\n",
            "719:\tlearn: 38169059.6689187\ttotal: 1.43s\tremaining: 558ms\n",
            "720:\tlearn: 38168221.0074397\ttotal: 1.44s\tremaining: 556ms\n",
            "721:\tlearn: 38139798.2364583\ttotal: 1.44s\tremaining: 554ms\n",
            "722:\tlearn: 38134123.2243226\ttotal: 1.44s\tremaining: 552ms\n",
            "723:\tlearn: 38098338.2901945\ttotal: 1.44s\tremaining: 550ms\n",
            "724:\tlearn: 38075247.4582161\ttotal: 1.44s\tremaining: 548ms\n",
            "725:\tlearn: 38074266.2739576\ttotal: 1.45s\tremaining: 546ms\n",
            "726:\tlearn: 38067652.2765664\ttotal: 1.45s\tremaining: 543ms\n",
            "727:\tlearn: 38052021.3523811\ttotal: 1.45s\tremaining: 541ms\n",
            "728:\tlearn: 38031926.9905980\ttotal: 1.45s\tremaining: 539ms\n",
            "729:\tlearn: 37993083.1542566\ttotal: 1.45s\tremaining: 537ms\n",
            "730:\tlearn: 37983745.4106303\ttotal: 1.45s\tremaining: 535ms\n",
            "731:\tlearn: 37965059.4616624\ttotal: 1.46s\tremaining: 533ms\n",
            "732:\tlearn: 37952336.1736266\ttotal: 1.46s\tremaining: 531ms\n",
            "733:\tlearn: 37951592.8967392\ttotal: 1.46s\tremaining: 529ms\n",
            "734:\tlearn: 37928121.1365671\ttotal: 1.46s\tremaining: 527ms\n",
            "735:\tlearn: 37923603.2337952\ttotal: 1.46s\tremaining: 525ms\n",
            "736:\tlearn: 37905696.1966574\ttotal: 1.47s\tremaining: 523ms\n",
            "737:\tlearn: 37884453.7284098\ttotal: 1.47s\tremaining: 521ms\n",
            "738:\tlearn: 37863604.6595164\ttotal: 1.47s\tremaining: 519ms\n",
            "739:\tlearn: 37862734.5066051\ttotal: 1.47s\tremaining: 517ms\n",
            "740:\tlearn: 37842694.0429576\ttotal: 1.47s\tremaining: 515ms\n",
            "741:\tlearn: 37790219.9916686\ttotal: 1.47s\tremaining: 513ms\n",
            "742:\tlearn: 37784373.8576854\ttotal: 1.48s\tremaining: 511ms\n",
            "743:\tlearn: 37735830.2818713\ttotal: 1.48s\tremaining: 509ms\n",
            "744:\tlearn: 37714025.5592605\ttotal: 1.48s\tremaining: 507ms\n",
            "745:\tlearn: 37713210.8699045\ttotal: 1.48s\tremaining: 505ms\n",
            "746:\tlearn: 37712535.8187647\ttotal: 1.48s\tremaining: 502ms\n",
            "747:\tlearn: 37695911.6707674\ttotal: 1.49s\tremaining: 500ms\n",
            "748:\tlearn: 37690301.3511984\ttotal: 1.49s\tremaining: 498ms\n",
            "749:\tlearn: 37674213.0930422\ttotal: 1.49s\tremaining: 496ms\n",
            "750:\tlearn: 37673566.9185611\ttotal: 1.49s\tremaining: 494ms\n",
            "751:\tlearn: 37669033.1019135\ttotal: 1.49s\tremaining: 492ms\n",
            "752:\tlearn: 37623217.2322353\ttotal: 1.49s\tremaining: 490ms\n",
            "753:\tlearn: 37610321.6272229\ttotal: 1.5s\tremaining: 488ms\n",
            "754:\tlearn: 37588069.9533872\ttotal: 1.5s\tremaining: 486ms\n",
            "755:\tlearn: 37558789.1277564\ttotal: 1.5s\tremaining: 484ms\n",
            "756:\tlearn: 37535920.4870114\ttotal: 1.5s\tremaining: 482ms\n",
            "757:\tlearn: 37515854.1240173\ttotal: 1.5s\tremaining: 480ms\n",
            "758:\tlearn: 37486542.5658575\ttotal: 1.5s\tremaining: 478ms\n",
            "759:\tlearn: 37471754.8280479\ttotal: 1.51s\tremaining: 476ms\n",
            "760:\tlearn: 37435465.3521134\ttotal: 1.51s\tremaining: 474ms\n",
            "761:\tlearn: 37404090.8692566\ttotal: 1.51s\tremaining: 472ms\n",
            "762:\tlearn: 37363047.6085286\ttotal: 1.51s\tremaining: 470ms\n",
            "763:\tlearn: 37335711.8534165\ttotal: 1.51s\tremaining: 468ms\n",
            "764:\tlearn: 37335001.5250252\ttotal: 1.51s\tremaining: 465ms\n",
            "765:\tlearn: 37321243.5845008\ttotal: 1.52s\tremaining: 463ms\n",
            "766:\tlearn: 37291542.1682786\ttotal: 1.52s\tremaining: 461ms\n",
            "767:\tlearn: 37249851.4243277\ttotal: 1.52s\tremaining: 459ms\n",
            "768:\tlearn: 37235940.2148931\ttotal: 1.52s\tremaining: 457ms\n",
            "769:\tlearn: 37227909.3915800\ttotal: 1.52s\tremaining: 455ms\n",
            "770:\tlearn: 37211869.2397506\ttotal: 1.53s\tremaining: 454ms\n",
            "771:\tlearn: 37172524.3097223\ttotal: 1.53s\tremaining: 452ms\n",
            "772:\tlearn: 37151016.9341599\ttotal: 1.53s\tremaining: 451ms\n",
            "773:\tlearn: 37138858.0898246\ttotal: 1.54s\tremaining: 450ms\n",
            "774:\tlearn: 37114394.3006530\ttotal: 1.54s\tremaining: 448ms\n",
            "775:\tlearn: 37088309.5014757\ttotal: 1.54s\tremaining: 446ms\n",
            "776:\tlearn: 37062496.1683015\ttotal: 1.54s\tremaining: 444ms\n",
            "777:\tlearn: 37062016.1449317\ttotal: 1.55s\tremaining: 442ms\n",
            "778:\tlearn: 37026784.1040542\ttotal: 1.55s\tremaining: 439ms\n",
            "779:\tlearn: 37026315.9795826\ttotal: 1.55s\tremaining: 437ms\n",
            "780:\tlearn: 37014501.2702467\ttotal: 1.55s\tremaining: 435ms\n",
            "781:\tlearn: 36998254.5023108\ttotal: 1.55s\tremaining: 433ms\n",
            "782:\tlearn: 36969028.8963548\ttotal: 1.56s\tremaining: 431ms\n",
            "783:\tlearn: 36940884.6744018\ttotal: 1.56s\tremaining: 429ms\n",
            "784:\tlearn: 36930108.0641215\ttotal: 1.56s\tremaining: 427ms\n",
            "785:\tlearn: 36925516.1219475\ttotal: 1.56s\tremaining: 425ms\n",
            "786:\tlearn: 36882831.7546229\ttotal: 1.56s\tremaining: 423ms\n",
            "787:\tlearn: 36837271.7160963\ttotal: 1.56s\tremaining: 421ms\n",
            "788:\tlearn: 36810657.2043676\ttotal: 1.57s\tremaining: 419ms\n",
            "789:\tlearn: 36768101.2047626\ttotal: 1.57s\tremaining: 417ms\n",
            "790:\tlearn: 36753178.2990051\ttotal: 1.57s\tremaining: 415ms\n",
            "791:\tlearn: 36752769.4757978\ttotal: 1.57s\tremaining: 413ms\n",
            "792:\tlearn: 36730410.9531380\ttotal: 1.57s\tremaining: 411ms\n",
            "793:\tlearn: 36691100.0441824\ttotal: 1.57s\tremaining: 409ms\n",
            "794:\tlearn: 36662011.1331192\ttotal: 1.58s\tremaining: 407ms\n",
            "795:\tlearn: 36638858.5518885\ttotal: 1.58s\tremaining: 405ms\n",
            "796:\tlearn: 36628762.9935653\ttotal: 1.58s\tremaining: 403ms\n",
            "797:\tlearn: 36613886.3984796\ttotal: 1.58s\tremaining: 401ms\n",
            "798:\tlearn: 36589618.5842607\ttotal: 1.58s\tremaining: 399ms\n",
            "799:\tlearn: 36563261.7203199\ttotal: 1.59s\tremaining: 397ms\n",
            "800:\tlearn: 36539469.5588541\ttotal: 1.59s\tremaining: 395ms\n",
            "801:\tlearn: 36538724.0121376\ttotal: 1.59s\tremaining: 392ms\n",
            "802:\tlearn: 36520534.3907780\ttotal: 1.59s\tremaining: 390ms\n",
            "803:\tlearn: 36514586.1763140\ttotal: 1.59s\tremaining: 388ms\n",
            "804:\tlearn: 36503071.3668547\ttotal: 1.59s\tremaining: 386ms\n",
            "805:\tlearn: 36445471.0243067\ttotal: 1.6s\tremaining: 384ms\n",
            "806:\tlearn: 36420720.4161559\ttotal: 1.6s\tremaining: 382ms\n",
            "807:\tlearn: 36411180.8071564\ttotal: 1.6s\tremaining: 380ms\n",
            "808:\tlearn: 36372632.6651545\ttotal: 1.6s\tremaining: 378ms\n",
            "809:\tlearn: 36367787.7040458\ttotal: 1.6s\tremaining: 376ms\n",
            "810:\tlearn: 36348552.8805943\ttotal: 1.61s\tremaining: 374ms\n",
            "811:\tlearn: 36343806.5922404\ttotal: 1.61s\tremaining: 372ms\n",
            "812:\tlearn: 36328346.1061331\ttotal: 1.61s\tremaining: 370ms\n",
            "813:\tlearn: 36319953.3341351\ttotal: 1.61s\tremaining: 368ms\n",
            "814:\tlearn: 36294486.1864359\ttotal: 1.61s\tremaining: 366ms\n",
            "815:\tlearn: 36270262.0169729\ttotal: 1.61s\tremaining: 364ms\n",
            "816:\tlearn: 36247480.0098265\ttotal: 1.62s\tremaining: 362ms\n",
            "817:\tlearn: 36221363.3305635\ttotal: 1.62s\tremaining: 360ms\n",
            "818:\tlearn: 36197536.0891478\ttotal: 1.62s\tremaining: 358ms\n",
            "819:\tlearn: 36192190.2299198\ttotal: 1.62s\tremaining: 356ms\n",
            "820:\tlearn: 36188544.7014561\ttotal: 1.63s\tremaining: 354ms\n",
            "821:\tlearn: 36149969.7497400\ttotal: 1.63s\tremaining: 352ms\n",
            "822:\tlearn: 36131418.6393417\ttotal: 1.63s\tremaining: 350ms\n",
            "823:\tlearn: 36086501.5849397\ttotal: 1.63s\tremaining: 348ms\n",
            "824:\tlearn: 36075869.8166643\ttotal: 1.63s\tremaining: 346ms\n",
            "825:\tlearn: 36046101.9166334\ttotal: 1.63s\tremaining: 344ms\n",
            "826:\tlearn: 36015321.0010556\ttotal: 1.64s\tremaining: 342ms\n",
            "827:\tlearn: 36009190.0040715\ttotal: 1.64s\tremaining: 341ms\n",
            "828:\tlearn: 35991653.2283894\ttotal: 1.64s\tremaining: 339ms\n",
            "829:\tlearn: 35985780.3609186\ttotal: 1.64s\tremaining: 337ms\n",
            "830:\tlearn: 35951166.5268236\ttotal: 1.65s\tremaining: 335ms\n",
            "831:\tlearn: 35915850.8413523\ttotal: 1.65s\tremaining: 333ms\n",
            "832:\tlearn: 35888171.4939792\ttotal: 1.65s\tremaining: 331ms\n",
            "833:\tlearn: 35876469.3414913\ttotal: 1.65s\tremaining: 329ms\n",
            "834:\tlearn: 35837943.4516179\ttotal: 1.65s\tremaining: 327ms\n",
            "835:\tlearn: 35816682.5144275\ttotal: 1.66s\tremaining: 325ms\n",
            "836:\tlearn: 35808746.5417426\ttotal: 1.66s\tremaining: 323ms\n",
            "837:\tlearn: 35803531.9014327\ttotal: 1.66s\tremaining: 321ms\n",
            "838:\tlearn: 35772057.9841139\ttotal: 1.66s\tremaining: 319ms\n",
            "839:\tlearn: 35767802.8031748\ttotal: 1.66s\tremaining: 317ms\n",
            "840:\tlearn: 35750188.7919586\ttotal: 1.67s\tremaining: 315ms\n",
            "841:\tlearn: 35709629.6163816\ttotal: 1.67s\tremaining: 313ms\n",
            "842:\tlearn: 35681588.5451110\ttotal: 1.67s\tremaining: 311ms\n",
            "843:\tlearn: 35667539.1660852\ttotal: 1.67s\tremaining: 309ms\n",
            "844:\tlearn: 35646171.5908225\ttotal: 1.67s\tremaining: 307ms\n",
            "845:\tlearn: 35613630.0883236\ttotal: 1.68s\tremaining: 305ms\n",
            "846:\tlearn: 35601803.5781129\ttotal: 1.68s\tremaining: 303ms\n",
            "847:\tlearn: 35582502.9267649\ttotal: 1.68s\tremaining: 301ms\n",
            "848:\tlearn: 35551887.7829856\ttotal: 1.68s\tremaining: 299ms\n",
            "849:\tlearn: 35548802.6167823\ttotal: 1.68s\tremaining: 297ms\n",
            "850:\tlearn: 35526775.8782111\ttotal: 1.69s\tremaining: 295ms\n",
            "851:\tlearn: 35493824.6345856\ttotal: 1.69s\tremaining: 293ms\n",
            "852:\tlearn: 35484185.3081963\ttotal: 1.69s\tremaining: 291ms\n",
            "853:\tlearn: 35474327.5025755\ttotal: 1.69s\tremaining: 289ms\n",
            "854:\tlearn: 35445993.9807989\ttotal: 1.69s\tremaining: 287ms\n",
            "855:\tlearn: 35406270.5258457\ttotal: 1.7s\tremaining: 285ms\n",
            "856:\tlearn: 35404199.2449292\ttotal: 1.7s\tremaining: 283ms\n",
            "857:\tlearn: 35381310.4318161\ttotal: 1.7s\tremaining: 281ms\n",
            "858:\tlearn: 35376989.3950105\ttotal: 1.7s\tremaining: 279ms\n",
            "859:\tlearn: 35358656.4854074\ttotal: 1.7s\tremaining: 277ms\n",
            "860:\tlearn: 35339426.5852185\ttotal: 1.71s\tremaining: 276ms\n",
            "861:\tlearn: 35313463.0317835\ttotal: 1.71s\tremaining: 274ms\n",
            "862:\tlearn: 35287967.7205930\ttotal: 1.71s\tremaining: 272ms\n",
            "863:\tlearn: 35265857.8909477\ttotal: 1.71s\tremaining: 270ms\n",
            "864:\tlearn: 35244810.7534961\ttotal: 1.71s\tremaining: 268ms\n",
            "865:\tlearn: 35242122.6053569\ttotal: 1.72s\tremaining: 266ms\n",
            "866:\tlearn: 35221592.7842941\ttotal: 1.73s\tremaining: 265ms\n",
            "867:\tlearn: 35205709.7113415\ttotal: 1.73s\tremaining: 263ms\n",
            "868:\tlearn: 35182527.1929657\ttotal: 1.73s\tremaining: 261ms\n",
            "869:\tlearn: 35126633.1367821\ttotal: 1.73s\tremaining: 259ms\n",
            "870:\tlearn: 35124102.9910781\ttotal: 1.73s\tremaining: 257ms\n",
            "871:\tlearn: 35109339.5159911\ttotal: 1.74s\tremaining: 255ms\n",
            "872:\tlearn: 35078324.1906117\ttotal: 1.74s\tremaining: 253ms\n",
            "873:\tlearn: 35060006.3444742\ttotal: 1.74s\tremaining: 251ms\n",
            "874:\tlearn: 35038220.8566338\ttotal: 1.74s\tremaining: 249ms\n",
            "875:\tlearn: 35020259.7860298\ttotal: 1.74s\tremaining: 247ms\n",
            "876:\tlearn: 34992836.0974531\ttotal: 1.74s\tremaining: 245ms\n",
            "877:\tlearn: 34964473.8572614\ttotal: 1.75s\tremaining: 243ms\n",
            "878:\tlearn: 34932890.5942379\ttotal: 1.75s\tremaining: 241ms\n",
            "879:\tlearn: 34919966.8551853\ttotal: 1.75s\tremaining: 239ms\n",
            "880:\tlearn: 34902277.4286454\ttotal: 1.75s\tremaining: 237ms\n",
            "881:\tlearn: 34890372.9793182\ttotal: 1.75s\tremaining: 235ms\n",
            "882:\tlearn: 34875551.7512915\ttotal: 1.75s\tremaining: 233ms\n",
            "883:\tlearn: 34846431.9189694\ttotal: 1.76s\tremaining: 231ms\n",
            "884:\tlearn: 34833510.1467439\ttotal: 1.76s\tremaining: 229ms\n",
            "885:\tlearn: 34827679.2820982\ttotal: 1.76s\tremaining: 227ms\n",
            "886:\tlearn: 34808492.2909272\ttotal: 1.76s\tremaining: 225ms\n",
            "887:\tlearn: 34801676.5804986\ttotal: 1.76s\tremaining: 223ms\n",
            "888:\tlearn: 34797401.4304662\ttotal: 1.77s\tremaining: 221ms\n",
            "889:\tlearn: 34780716.1824237\ttotal: 1.77s\tremaining: 218ms\n",
            "890:\tlearn: 34767395.9652517\ttotal: 1.77s\tremaining: 216ms\n",
            "891:\tlearn: 34743870.5658690\ttotal: 1.77s\tremaining: 214ms\n",
            "892:\tlearn: 34707836.3147953\ttotal: 1.77s\tremaining: 212ms\n",
            "893:\tlearn: 34694378.5041808\ttotal: 1.77s\tremaining: 210ms\n",
            "894:\tlearn: 34671744.4536414\ttotal: 1.78s\tremaining: 208ms\n",
            "895:\tlearn: 34654004.5284244\ttotal: 1.78s\tremaining: 206ms\n",
            "896:\tlearn: 34629924.8316491\ttotal: 1.78s\tremaining: 204ms\n",
            "897:\tlearn: 34614066.4996818\ttotal: 1.78s\tremaining: 202ms\n",
            "898:\tlearn: 34604935.9394583\ttotal: 1.78s\tremaining: 200ms\n",
            "899:\tlearn: 34592983.6205639\ttotal: 1.78s\tremaining: 198ms\n",
            "900:\tlearn: 34583955.7786093\ttotal: 1.79s\tremaining: 196ms\n",
            "901:\tlearn: 34563924.9078355\ttotal: 1.79s\tremaining: 194ms\n",
            "902:\tlearn: 34549112.0913583\ttotal: 1.79s\tremaining: 192ms\n",
            "903:\tlearn: 34516366.1010725\ttotal: 1.79s\tremaining: 190ms\n",
            "904:\tlearn: 34484216.7844669\ttotal: 1.79s\tremaining: 188ms\n",
            "905:\tlearn: 34468062.3530681\ttotal: 1.8s\tremaining: 186ms\n",
            "906:\tlearn: 34443200.5901489\ttotal: 1.8s\tremaining: 184ms\n",
            "907:\tlearn: 34429051.0842599\ttotal: 1.8s\tremaining: 182ms\n",
            "908:\tlearn: 34418635.6278887\ttotal: 1.8s\tremaining: 180ms\n",
            "909:\tlearn: 34396184.3116272\ttotal: 1.8s\tremaining: 178ms\n",
            "910:\tlearn: 34374309.4185167\ttotal: 1.8s\tremaining: 176ms\n",
            "911:\tlearn: 34352150.9046953\ttotal: 1.81s\tremaining: 174ms\n",
            "912:\tlearn: 34342977.5331052\ttotal: 1.81s\tremaining: 172ms\n",
            "913:\tlearn: 34336333.3729574\ttotal: 1.81s\tremaining: 170ms\n",
            "914:\tlearn: 34318750.8369213\ttotal: 1.81s\tremaining: 168ms\n",
            "915:\tlearn: 34292029.8570196\ttotal: 1.81s\tremaining: 166ms\n",
            "916:\tlearn: 34271480.7821129\ttotal: 1.82s\tremaining: 164ms\n",
            "917:\tlearn: 34249261.3809163\ttotal: 1.82s\tremaining: 162ms\n",
            "918:\tlearn: 34239984.3353155\ttotal: 1.82s\tremaining: 160ms\n",
            "919:\tlearn: 34226895.0376792\ttotal: 1.82s\tremaining: 158ms\n",
            "920:\tlearn: 34192581.8950022\ttotal: 1.82s\tremaining: 156ms\n",
            "921:\tlearn: 34155669.2263263\ttotal: 1.82s\tremaining: 154ms\n",
            "922:\tlearn: 34132994.0757256\ttotal: 1.83s\tremaining: 152ms\n",
            "923:\tlearn: 34113234.7460529\ttotal: 1.83s\tremaining: 150ms\n",
            "924:\tlearn: 34094062.6210264\ttotal: 1.83s\tremaining: 148ms\n",
            "925:\tlearn: 34064095.2343355\ttotal: 1.83s\tremaining: 146ms\n",
            "926:\tlearn: 34046875.6232994\ttotal: 1.84s\tremaining: 145ms\n",
            "927:\tlearn: 34042735.6088619\ttotal: 1.84s\tremaining: 143ms\n",
            "928:\tlearn: 34035076.1152787\ttotal: 1.84s\tremaining: 141ms\n",
            "929:\tlearn: 34028164.4853436\ttotal: 1.85s\tremaining: 139ms\n",
            "930:\tlearn: 34000256.6834639\ttotal: 1.85s\tremaining: 137ms\n",
            "931:\tlearn: 33966848.0011745\ttotal: 1.85s\tremaining: 135ms\n",
            "932:\tlearn: 33945472.6067945\ttotal: 1.85s\tremaining: 133ms\n",
            "933:\tlearn: 33930184.1101985\ttotal: 1.85s\tremaining: 131ms\n",
            "934:\tlearn: 33894461.3336358\ttotal: 1.86s\tremaining: 129ms\n",
            "935:\tlearn: 33879234.2992012\ttotal: 1.86s\tremaining: 127ms\n",
            "936:\tlearn: 33862568.8653147\ttotal: 1.86s\tremaining: 125ms\n",
            "937:\tlearn: 33828984.5867482\ttotal: 1.86s\tremaining: 123ms\n",
            "938:\tlearn: 33802011.0863718\ttotal: 1.86s\tremaining: 121ms\n",
            "939:\tlearn: 33791558.6094215\ttotal: 1.86s\tremaining: 119ms\n",
            "940:\tlearn: 33756892.9893042\ttotal: 1.87s\tremaining: 117ms\n",
            "941:\tlearn: 33739147.0892774\ttotal: 1.87s\tremaining: 115ms\n",
            "942:\tlearn: 33723508.7676009\ttotal: 1.87s\tremaining: 113ms\n",
            "943:\tlearn: 33711452.7014127\ttotal: 1.87s\tremaining: 111ms\n",
            "944:\tlearn: 33688724.1584896\ttotal: 1.87s\tremaining: 109ms\n",
            "945:\tlearn: 33677933.3681314\ttotal: 1.88s\tremaining: 107ms\n",
            "946:\tlearn: 33662579.8262393\ttotal: 1.88s\tremaining: 105ms\n",
            "947:\tlearn: 33634455.5922232\ttotal: 1.88s\tremaining: 103ms\n",
            "948:\tlearn: 33607679.5209142\ttotal: 1.88s\tremaining: 101ms\n",
            "949:\tlearn: 33595997.2309769\ttotal: 1.88s\tremaining: 99.1ms\n",
            "950:\tlearn: 33575288.3087826\ttotal: 1.89s\tremaining: 97.1ms\n",
            "951:\tlearn: 33536489.5205820\ttotal: 1.89s\tremaining: 95.2ms\n",
            "952:\tlearn: 33510583.2968554\ttotal: 1.89s\tremaining: 93.2ms\n",
            "953:\tlearn: 33497055.3709987\ttotal: 1.89s\tremaining: 91.2ms\n",
            "954:\tlearn: 33487835.8488206\ttotal: 1.89s\tremaining: 89.2ms\n",
            "955:\tlearn: 33478917.7676691\ttotal: 1.9s\tremaining: 87.2ms\n",
            "956:\tlearn: 33456639.7329445\ttotal: 1.9s\tremaining: 85.2ms\n",
            "957:\tlearn: 33446767.3757188\ttotal: 1.9s\tremaining: 83.3ms\n",
            "958:\tlearn: 33419779.7247921\ttotal: 1.9s\tremaining: 81.3ms\n",
            "959:\tlearn: 33406189.7923650\ttotal: 1.9s\tremaining: 79.3ms\n",
            "960:\tlearn: 33374547.6417937\ttotal: 1.9s\tremaining: 77.3ms\n",
            "961:\tlearn: 33357845.9072955\ttotal: 1.91s\tremaining: 75.3ms\n",
            "962:\tlearn: 33338401.1518380\ttotal: 1.91s\tremaining: 73.4ms\n",
            "963:\tlearn: 33325309.7843753\ttotal: 1.92s\tremaining: 71.6ms\n",
            "964:\tlearn: 33309950.7037404\ttotal: 1.92s\tremaining: 69.7ms\n",
            "965:\tlearn: 33292913.9935231\ttotal: 1.92s\tremaining: 67.7ms\n",
            "966:\tlearn: 33275855.8720095\ttotal: 1.92s\tremaining: 65.7ms\n",
            "967:\tlearn: 33264142.2262093\ttotal: 1.93s\tremaining: 63.7ms\n",
            "968:\tlearn: 33250224.1543220\ttotal: 1.93s\tremaining: 61.7ms\n",
            "969:\tlearn: 33226546.7335927\ttotal: 1.93s\tremaining: 59.7ms\n",
            "970:\tlearn: 33207811.8869453\ttotal: 1.93s\tremaining: 57.7ms\n",
            "971:\tlearn: 33173920.7672699\ttotal: 1.94s\tremaining: 55.8ms\n",
            "972:\tlearn: 33138065.1928796\ttotal: 1.94s\tremaining: 53.8ms\n",
            "973:\tlearn: 33121830.1438631\ttotal: 1.94s\tremaining: 51.8ms\n",
            "974:\tlearn: 33112982.6107993\ttotal: 1.94s\tremaining: 49.8ms\n",
            "975:\tlearn: 33089720.7218061\ttotal: 1.94s\tremaining: 47.8ms\n",
            "976:\tlearn: 33085445.8424674\ttotal: 1.94s\tremaining: 45.8ms\n",
            "977:\tlearn: 33064325.5450731\ttotal: 1.95s\tremaining: 43.8ms\n",
            "978:\tlearn: 33062140.3556351\ttotal: 1.95s\tremaining: 41.8ms\n",
            "979:\tlearn: 33042928.4634287\ttotal: 1.95s\tremaining: 39.8ms\n",
            "980:\tlearn: 33039064.8162002\ttotal: 1.95s\tremaining: 37.8ms\n",
            "981:\tlearn: 33014205.6223425\ttotal: 1.95s\tremaining: 35.8ms\n",
            "982:\tlearn: 32994213.8391073\ttotal: 1.96s\tremaining: 33.8ms\n",
            "983:\tlearn: 32970702.5450182\ttotal: 1.96s\tremaining: 31.8ms\n",
            "984:\tlearn: 32964188.0563020\ttotal: 1.96s\tremaining: 29.8ms\n",
            "985:\tlearn: 32953716.5969486\ttotal: 1.96s\tremaining: 27.8ms\n",
            "986:\tlearn: 32933981.5358939\ttotal: 1.96s\tremaining: 25.9ms\n",
            "987:\tlearn: 32918067.1255025\ttotal: 1.96s\tremaining: 23.9ms\n",
            "988:\tlearn: 32910145.6644109\ttotal: 1.97s\tremaining: 21.9ms\n",
            "989:\tlearn: 32891502.9400398\ttotal: 1.97s\tremaining: 19.9ms\n",
            "990:\tlearn: 32875645.1278562\ttotal: 1.97s\tremaining: 17.9ms\n",
            "991:\tlearn: 32853449.2362370\ttotal: 1.97s\tremaining: 15.9ms\n",
            "992:\tlearn: 32828881.6610476\ttotal: 1.97s\tremaining: 13.9ms\n",
            "993:\tlearn: 32805999.6391430\ttotal: 1.98s\tremaining: 11.9ms\n",
            "994:\tlearn: 32793660.7482727\ttotal: 1.98s\tremaining: 9.94ms\n",
            "995:\tlearn: 32773039.3273475\ttotal: 1.98s\tremaining: 7.95ms\n",
            "996:\tlearn: 32751816.8457418\ttotal: 1.98s\tremaining: 5.96ms\n",
            "997:\tlearn: 32741236.7904511\ttotal: 1.98s\tremaining: 3.97ms\n",
            "998:\tlearn: 32705904.6841077\ttotal: 1.98s\tremaining: 1.99ms\n",
            "999:\tlearn: 32675780.7420378\ttotal: 1.99s\tremaining: 0us\n"
          ],
          "name": "stdout"
        },
        {
          "output_type": "execute_result",
          "data": {
            "text/plain": [
              "0.94"
            ]
          },
          "metadata": {
            "tags": []
          },
          "execution_count": 74
        }
      ]
    },
    {
      "cell_type": "code",
      "metadata": {
        "id": "cpFpwOupvfB-"
      },
      "source": [
        "y_pred1=best_grid.predict(testset)\n",
        "result_data1 = pd.read_csv(\"sample_submission.csv\")\n",
        "output = pd.DataFrame({'id': result_data.id, 'revenue': y_pred1})\n",
        "output.to_csv('my_submission2.csv', index=False)   #1268/1395"
      ],
      "execution_count": null,
      "outputs": []
    },
    {
      "cell_type": "markdown",
      "metadata": {
        "id": "V4sZFyZgwLwo"
      },
      "source": [
        "RandomForest Regressor"
      ]
    },
    {
      "cell_type": "code",
      "metadata": {
        "colab": {
          "base_uri": "https://localhost:8080/"
        },
        "id": "cwfN0TQLwPIw",
        "outputId": "e3c3b39f-a60d-419a-84d3-20629c66edf1"
      },
      "source": [
        "from sklearn.ensemble import RandomForestRegressor\n",
        "regressor2=RandomForestRegressor(max_depth=80, max_features=2, min_samples_leaf=4,\n",
        "                        min_samples_split=8, n_estimators= 1000)\n",
        "\n",
        "regressor2.fit(X_train, y_train)"
      ],
      "execution_count": null,
      "outputs": [
        {
          "output_type": "execute_result",
          "data": {
            "text/plain": [
              "RandomForestRegressor(bootstrap=True, ccp_alpha=0.0, criterion='mse',\n",
              "                      max_depth=80, max_features=2, max_leaf_nodes=None,\n",
              "                      max_samples=None, min_impurity_decrease=0.0,\n",
              "                      min_impurity_split=None, min_samples_leaf=4,\n",
              "                      min_samples_split=8, min_weight_fraction_leaf=0.0,\n",
              "                      n_estimators=1000, n_jobs=None, oob_score=False,\n",
              "                      random_state=None, verbose=0, warm_start=False)"
            ]
          },
          "metadata": {
            "tags": []
          },
          "execution_count": 76
        }
      ]
    },
    {
      "cell_type": "code",
      "metadata": {
        "id": "iHoRa-ymwTL8"
      },
      "source": [
        "y_pred3=regressor2.predict(testset)\n",
        "\n",
        "result_data2 = pd.read_csv(\"sample_submission.csv\")\n",
        "output = pd.DataFrame({'id': result_data.id, 'revenue': y_pred3})\n",
        "output.to_csv('my_submission3.csv', index=False)    #1162/1395"
      ],
      "execution_count": null,
      "outputs": []
    },
    {
      "cell_type": "markdown",
      "metadata": {
        "id": "4TDCPbz1w-xr"
      },
      "source": [
        "Linear Regression"
      ]
    },
    {
      "cell_type": "code",
      "metadata": {
        "colab": {
          "base_uri": "https://localhost:8080/"
        },
        "id": "MPqqFJZvxAZ_",
        "outputId": "f17db025-a08f-4c4d-8f35-bac6d274bda5"
      },
      "source": [
        "from sklearn.linear_model import LinearRegression\n",
        "regressor3 = LinearRegression()\n",
        "regressor3.fit(X_train,y_train)"
      ],
      "execution_count": null,
      "outputs": [
        {
          "output_type": "execute_result",
          "data": {
            "text/plain": [
              "LinearRegression(copy_X=True, fit_intercept=True, n_jobs=None, normalize=False)"
            ]
          },
          "metadata": {
            "tags": []
          },
          "execution_count": 78
        }
      ]
    },
    {
      "cell_type": "code",
      "metadata": {
        "id": "svtD3plpxDQi"
      },
      "source": [
        "y_pred4=regressor3.predict(testset)"
      ],
      "execution_count": null,
      "outputs": []
    },
    {
      "cell_type": "code",
      "metadata": {
        "id": "PXczlePrxGAy"
      },
      "source": [
        "result_data4 = pd.read_csv(\"sample_submission.csv\")\n",
        "output = pd.DataFrame({'id': result_data.id, 'revenue': y_pred4})\n",
        "output.to_csv('my_submission4.csv', index=False)"
      ],
      "execution_count": null,
      "outputs": []
    },
    {
      "cell_type": "markdown",
      "metadata": {
        "id": "5-AYl8RxxhFA"
      },
      "source": [
        "Trying some feature scaling"
      ]
    },
    {
      "cell_type": "code",
      "metadata": {
        "id": "Np56TB8UxjZo"
      },
      "source": [
        "#feature scaling budget column\n",
        "from sklearn.preprocessing import StandardScaler\n",
        "sc = StandardScaler()\n",
        "X_train.iloc[:,0:1] = sc.fit_transform(X_train.iloc[:,0:1])   \n",
        "testset.iloc[:,0:1] = sc.fit_transform(testset.iloc[:,0:1])"
      ],
      "execution_count": null,
      "outputs": []
    },
    {
      "cell_type": "code",
      "metadata": {
        "colab": {
          "base_uri": "https://localhost:8080/",
          "height": 214
        },
        "id": "hXszDlDsyDyl",
        "outputId": "fcd509e9-a37d-4db9-bc48-ac26c03eeb7c"
      },
      "source": [
        "testset.head()"
      ],
      "execution_count": null,
      "outputs": [
        {
          "output_type": "execute_result",
          "data": {
            "text/html": [
              "<div>\n",
              "<style scoped>\n",
              "    .dataframe tbody tr th:only-of-type {\n",
              "        vertical-align: middle;\n",
              "    }\n",
              "\n",
              "    .dataframe tbody tr th {\n",
              "        vertical-align: top;\n",
              "    }\n",
              "\n",
              "    .dataframe thead th {\n",
              "        text-align: right;\n",
              "    }\n",
              "</style>\n",
              "<table border=\"1\" class=\"dataframe\">\n",
              "  <thead>\n",
              "    <tr style=\"text-align: right;\">\n",
              "      <th></th>\n",
              "      <th>budget</th>\n",
              "      <th>genres</th>\n",
              "      <th>homepage</th>\n",
              "      <th>original_language</th>\n",
              "      <th>popularity</th>\n",
              "      <th>production_companies</th>\n",
              "      <th>production_countries</th>\n",
              "      <th>runtime</th>\n",
              "      <th>spoken_languages</th>\n",
              "      <th>status</th>\n",
              "      <th>cast</th>\n",
              "      <th>crew</th>\n",
              "      <th>release_year</th>\n",
              "      <th>number_of_spoken_languages</th>\n",
              "    </tr>\n",
              "  </thead>\n",
              "  <tbody>\n",
              "    <tr>\n",
              "      <th>0</th>\n",
              "      <td>-0.613873</td>\n",
              "      <td>12</td>\n",
              "      <td>1</td>\n",
              "      <td>0</td>\n",
              "      <td>3.851534</td>\n",
              "      <td>0</td>\n",
              "      <td>2</td>\n",
              "      <td>90</td>\n",
              "      <td>1</td>\n",
              "      <td>1</td>\n",
              "      <td>7</td>\n",
              "      <td>2</td>\n",
              "      <td>7</td>\n",
              "      <td>2</td>\n",
              "    </tr>\n",
              "    <tr>\n",
              "      <th>1</th>\n",
              "      <td>-0.611488</td>\n",
              "      <td>27</td>\n",
              "      <td>0</td>\n",
              "      <td>1</td>\n",
              "      <td>3.559789</td>\n",
              "      <td>1</td>\n",
              "      <td>1</td>\n",
              "      <td>65</td>\n",
              "      <td>1</td>\n",
              "      <td>1</td>\n",
              "      <td>10</td>\n",
              "      <td>8</td>\n",
              "      <td>58</td>\n",
              "      <td>1</td>\n",
              "    </tr>\n",
              "    <tr>\n",
              "      <th>2</th>\n",
              "      <td>-0.613873</td>\n",
              "      <td>35</td>\n",
              "      <td>0</td>\n",
              "      <td>1</td>\n",
              "      <td>8.085194</td>\n",
              "      <td>3</td>\n",
              "      <td>1</td>\n",
              "      <td>100</td>\n",
              "      <td>1</td>\n",
              "      <td>1</td>\n",
              "      <td>9</td>\n",
              "      <td>10</td>\n",
              "      <td>97</td>\n",
              "      <td>1</td>\n",
              "    </tr>\n",
              "    <tr>\n",
              "      <th>3</th>\n",
              "      <td>-0.429570</td>\n",
              "      <td>18</td>\n",
              "      <td>1</td>\n",
              "      <td>0</td>\n",
              "      <td>8.596012</td>\n",
              "      <td>3</td>\n",
              "      <td>2</td>\n",
              "      <td>130</td>\n",
              "      <td>0</td>\n",
              "      <td>1</td>\n",
              "      <td>23</td>\n",
              "      <td>69</td>\n",
              "      <td>10</td>\n",
              "      <td>3</td>\n",
              "    </tr>\n",
              "    <tr>\n",
              "      <th>4</th>\n",
              "      <td>-0.559666</td>\n",
              "      <td>36</td>\n",
              "      <td>0</td>\n",
              "      <td>1</td>\n",
              "      <td>3.217680</td>\n",
              "      <td>0</td>\n",
              "      <td>1</td>\n",
              "      <td>92</td>\n",
              "      <td>1</td>\n",
              "      <td>1</td>\n",
              "      <td>4</td>\n",
              "      <td>14</td>\n",
              "      <td>5</td>\n",
              "      <td>1</td>\n",
              "    </tr>\n",
              "  </tbody>\n",
              "</table>\n",
              "</div>"
            ],
            "text/plain": [
              "     budget  genres homepage  ... crew  release_year number_of_spoken_languages\n",
              "0 -0.613873      12        1  ...    2             7                          2\n",
              "1 -0.611488      27        0  ...    8            58                          1\n",
              "2 -0.613873      35        0  ...   10            97                          1\n",
              "3 -0.429570      18        1  ...   69            10                          3\n",
              "4 -0.559666      36        0  ...   14             5                          1\n",
              "\n",
              "[5 rows x 14 columns]"
            ]
          },
          "metadata": {
            "tags": []
          },
          "execution_count": 82
        }
      ]
    },
    {
      "cell_type": "code",
      "metadata": {
        "id": "fdvyMc8kyIQH"
      },
      "source": [
        "#feature scaling popularity column\n",
        "from sklearn.preprocessing import StandardScaler\n",
        "sc = StandardScaler()\n",
        "X_train.iloc[:,4:5] = sc.fit_transform(X_train.iloc[:,4:5])   \n",
        "testset.iloc[:,4:5] = sc.fit_transform(testset.iloc[:,4:5])"
      ],
      "execution_count": null,
      "outputs": []
    },
    {
      "cell_type": "code",
      "metadata": {
        "id": "SdmhJwztyUmH"
      },
      "source": [
        "#feature scaling runtime column\n",
        "from sklearn.preprocessing import StandardScaler\n",
        "sc = StandardScaler()\n",
        "X_train.iloc[:,7:8] = sc.fit_transform(X_train.iloc[:,7:8])   \n",
        "testset.iloc[:,7:8] = sc.fit_transform(testset.iloc[:,7:8])"
      ],
      "execution_count": null,
      "outputs": []
    },
    {
      "cell_type": "markdown",
      "metadata": {
        "id": "-bw5ovbOyea_"
      },
      "source": [
        "Now using RFR again"
      ]
    },
    {
      "cell_type": "code",
      "metadata": {
        "colab": {
          "base_uri": "https://localhost:8080/"
        },
        "id": "zbVAOSuRyf4m",
        "outputId": "a0062470-2311-4581-e50f-72387647f5b4"
      },
      "source": [
        "from sklearn.ensemble import RandomForestRegressor\n",
        "regressor4=RandomForestRegressor(max_depth=80, max_features=2, min_samples_leaf=4,\n",
        "                        min_samples_split=8, n_estimators= 1000)\n",
        "\n",
        "regressor4.fit(X_train, y_train)"
      ],
      "execution_count": null,
      "outputs": [
        {
          "output_type": "execute_result",
          "data": {
            "text/plain": [
              "RandomForestRegressor(bootstrap=True, ccp_alpha=0.0, criterion='mse',\n",
              "                      max_depth=80, max_features=2, max_leaf_nodes=None,\n",
              "                      max_samples=None, min_impurity_decrease=0.0,\n",
              "                      min_impurity_split=None, min_samples_leaf=4,\n",
              "                      min_samples_split=8, min_weight_fraction_leaf=0.0,\n",
              "                      n_estimators=1000, n_jobs=None, oob_score=False,\n",
              "                      random_state=None, verbose=0, warm_start=False)"
            ]
          },
          "metadata": {
            "tags": []
          },
          "execution_count": 85
        }
      ]
    },
    {
      "cell_type": "code",
      "metadata": {
        "id": "3CzW0O3Pyr9a"
      },
      "source": [
        "y_pred5=regressor4.predict(testset)\n",
        "\n",
        "result_data5 = pd.read_csv(\"sample_submission.csv\")\n",
        "output = pd.DataFrame({'id': result_data5.id, 'revenue': y_pred5})\n",
        "output.to_csv('my_submission5.csv', index=False)    #1161/1395"
      ],
      "execution_count": null,
      "outputs": []
    },
    {
      "cell_type": "markdown",
      "metadata": {
        "id": "BbuihUdQz4YD"
      },
      "source": [
        "Using SVR again"
      ]
    },
    {
      "cell_type": "code",
      "metadata": {
        "colab": {
          "base_uri": "https://localhost:8080/"
        },
        "id": "EihOpK1Gz6ps",
        "outputId": "95592a6d-c9ba-49f0-c7e0-f5c6f8beabd1"
      },
      "source": [
        "from sklearn.svm import SVR\n",
        "regressor5=SVR(kernel='rbf')\n",
        "regressor5.fit(X_train,y_train)"
      ],
      "execution_count": null,
      "outputs": [
        {
          "output_type": "execute_result",
          "data": {
            "text/plain": [
              "SVR(C=1.0, cache_size=200, coef0=0.0, degree=3, epsilon=0.1, gamma='scale',\n",
              "    kernel='rbf', max_iter=-1, shrinking=True, tol=0.001, verbose=False)"
            ]
          },
          "metadata": {
            "tags": []
          },
          "execution_count": 87
        }
      ]
    },
    {
      "cell_type": "code",
      "metadata": {
        "id": "FjgUd2ug0BhI"
      },
      "source": [
        "y_pred6=regressor5.predict(testset)\n",
        "\n",
        "result_data6 = pd.read_csv(\"sample_submission.csv\")\n",
        "output = pd.DataFrame({'id': result_data6.id, 'revenue': y_pred6})\n",
        "output.to_csv('my_submission6.csv', index=False) "
      ],
      "execution_count": null,
      "outputs": []
    },
    {
      "cell_type": "markdown",
      "metadata": {
        "id": "VOi3Mto_1Nxh"
      },
      "source": [
        "XGBoost"
      ]
    },
    {
      "cell_type": "code",
      "metadata": {
        "id": "uL-U0vMn3wSv"
      },
      "source": [
        "testset['homepage']=testset['homepage'].astype('int')\n",
        "testset['original_language']=testset['original_language'].astype('int')\n",
        "testset['production_companies']=testset['production_companies'].astype('int')\n",
        "testset['production_countries']=testset['production_countries'].astype('int')\n",
        "testset['spoken_languages']=testset['spoken_languages'].astype('int')\n",
        "testset['cast']=testset['cast'].astype('int')\n",
        "testset['crew']=testset['crew'].astype('int')\n",
        "testset['number_of_spoken_languages']=testset['number_of_spoken_languages'].astype('int')\n",
        "X_train['homepage']=X_train['homepage'].astype('int')\n",
        "X_train['original_language']=X_train['original_language'].astype('int')\n",
        "X_train['production_companies']=X_train['production_companies'].astype('int')\n",
        "X_train['production_countries']=X_train['production_countries'].astype('int')\n",
        "X_train['spoken_languages']=X_train['spoken_languages'].astype('int')\n",
        "X_train['cast']=X_train['cast'].astype('int')\n",
        "X_train['crew']=X_train['crew'].astype('int')\n",
        "X_train['number_of_spoken_languages']=X_train['number_of_spoken_languages'].astype('int')"
      ],
      "execution_count": null,
      "outputs": []
    },
    {
      "cell_type": "code",
      "metadata": {
        "id": "AT1OsGDN4r56"
      },
      "source": [
        "import xgboost as xgb\n",
        "regressor6 = xgb.XGBRegressor(max_depth=6, \n",
        "                            min_child_weight=3,\n",
        "                            alpha = 0.5,\n",
        "                            learning_rate=0.05, \n",
        "                            n_estimators=150, \n",
        "                            objective='reg:linear', \n",
        "                            gamma=0.01,  \n",
        "                            silent=1,\n",
        "                            subsample=0.8, \n",
        "                            colsample_bytree=0.8)\n",
        "regressor6.fit(X_train,y_train)\n",
        "y_pred7 = regressor6.predict(testset)\n",
        "result_data7 = pd.read_csv(\"sample_submission.csv\")\n",
        "output = pd.DataFrame({'id': result_data7.id, 'revenue': y_pred7})\n",
        "output.to_csv('my_submission7.csv', index=False)"
      ],
      "execution_count": null,
      "outputs": []
    },
    {
      "cell_type": "code",
      "metadata": {
        "colab": {
          "base_uri": "https://localhost:8080/",
          "height": 265
        },
        "id": "hy2i_jfI5sYe",
        "outputId": "7a5995c3-c419-4ff3-f955-9e4daada03ff"
      },
      "source": [
        "from sklearn.ensemble import ExtraTreesRegressor\n",
        "import matplotlib.pyplot as plt\n",
        "model = ExtraTreesRegressor()\n",
        "model.fit(X_train,y_train)\n",
        "feat_importances = pd.Series(model.feature_importances_, index=X_train.columns)\n",
        "feat_importances.nlargest(15).plot(kind='barh')\n",
        "plt.show()"
      ],
      "execution_count": null,
      "outputs": [
        {
          "output_type": "display_data",
          "data": {
            "image/png": "[encoded data removed]",
            "text/plain": [
              "<Figure size 432x288 with 1 Axes>"
            ]
          },
          "metadata": {
            "tags": [],
            "needs_background": "light"
          }
        }
      ]
    },
    {
      "cell_type": "code",
      "metadata": {
        "id": "l-SKVoeM7IPD"
      },
      "source": [
        "from sklearn.preprocessing import StandardScaler\n",
        "sc=StandardScaler()\n",
        "X_train1=sc.fit_transform(X_train)\n",
        "testset1=sc.fit_transform(testset)"
      ],
      "execution_count": null,
      "outputs": []
    },
    {
      "cell_type": "markdown",
      "metadata": {
        "id": "fhXQo8PD7aoj"
      },
      "source": [
        "RFR again"
      ]
    },
    {
      "cell_type": "code",
      "metadata": {
        "colab": {
          "base_uri": "https://localhost:8080/"
        },
        "id": "wyM8N6WO7cJb",
        "outputId": "e87b99ef-fa56-462d-e8c5-a165f8a06657"
      },
      "source": [
        "from sklearn.ensemble import RandomForestRegressor\n",
        "regressor7=RandomForestRegressor(max_depth=80, max_features=2, min_samples_leaf=4,\n",
        "                        min_samples_split=8, n_estimators= 1000)\n",
        "\n",
        "regressor7.fit(X_train1, y_train)"
      ],
      "execution_count": null,
      "outputs": [
        {
          "output_type": "execute_result",
          "data": {
            "text/plain": [
              "RandomForestRegressor(bootstrap=True, ccp_alpha=0.0, criterion='mse',\n",
              "                      max_depth=80, max_features=2, max_leaf_nodes=None,\n",
              "                      max_samples=None, min_impurity_decrease=0.0,\n",
              "                      min_impurity_split=None, min_samples_leaf=4,\n",
              "                      min_samples_split=8, min_weight_fraction_leaf=0.0,\n",
              "                      n_estimators=1000, n_jobs=None, oob_score=False,\n",
              "                      random_state=None, verbose=0, warm_start=False)"
            ]
          },
          "metadata": {
            "tags": []
          },
          "execution_count": 97
        }
      ]
    },
    {
      "cell_type": "code",
      "metadata": {
        "id": "rJ75ulrh7vKE"
      },
      "source": [
        "y_pred8 = regressor7.predict(testset1)\n",
        "result_data8 = pd.read_csv(\"sample_submission.csv\")\n",
        "output = pd.DataFrame({'id': result_data8.id, 'revenue': y_pred8})\n",
        "output.to_csv('my_submission8.csv', index=False)"
      ],
      "execution_count": null,
      "outputs": []
    },
    {
      "cell_type": "markdown",
      "metadata": {
        "id": "7KMSax0z8JgV"
      },
      "source": [
        "Linear Regression Again"
      ]
    },
    {
      "cell_type": "code",
      "metadata": {
        "colab": {
          "base_uri": "https://localhost:8080/"
        },
        "id": "m4i2_vpu8LDj",
        "outputId": "b53ed363-507c-44be-ba25-483fee1eac4e"
      },
      "source": [
        "from sklearn.linear_model import LinearRegression\n",
        "regressor9 = LinearRegression()\n",
        "regressor9.fit(X_train1,y_train)"
      ],
      "execution_count": null,
      "outputs": [
        {
          "output_type": "execute_result",
          "data": {
            "text/plain": [
              "LinearRegression(copy_X=True, fit_intercept=True, n_jobs=None, normalize=False)"
            ]
          },
          "metadata": {
            "tags": []
          },
          "execution_count": 99
        }
      ]
    },
    {
      "cell_type": "code",
      "metadata": {
        "id": "TQlGqZlu8UFc"
      },
      "source": [
        "y_pred9 = regressor9.predict(testset1)\n",
        "result_data9 = pd.read_csv(\"sample_submission.csv\")\n",
        "output = pd.DataFrame({'id': result_data9.id, 'revenue': y_pred9})\n",
        "output.to_csv('my_submission9.csv', index=False)"
      ],
      "execution_count": null,
      "outputs": []
    }
  ]
}